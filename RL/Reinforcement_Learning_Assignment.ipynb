{
  "nbformat": 4,
  "nbformat_minor": 0,
  "metadata": {
    "colab": {
      "provenance": [],
      "authorship_tag": "ABX9TyOzVDG+fEy6WwKIexuh/Ppb",
      "include_colab_link": true
    },
    "kernelspec": {
      "name": "python3",
      "display_name": "Python 3"
    },
    "language_info": {
      "name": "python"
    }
  },
  "cells": [
    {
      "cell_type": "markdown",
      "metadata": {
        "id": "view-in-github",
        "colab_type": "text"
      },
      "source": [
        "<a href=\"https://colab.research.google.com/github/shaunak-badani/XAI/blob/main/RL/Reinforcement_Learning_Assignment.ipynb\" target=\"_parent\"><img src=\"https://colab.research.google.com/assets/colab-badge.svg\" alt=\"Open In Colab\"/></a>"
      ]
    },
    {
      "cell_type": "code",
      "execution_count": null,
      "metadata": {
        "id": "kThY9qUakrRN"
      },
      "outputs": [],
      "source": [
        "%%bash\n",
        "pip install -q gym-super-mario-bros==7.4.0 tensordict==0.7.2 torchrl==0.7.0\n",
        "pip install -q 'numpy<2.0.0'"
      ]
    },
    {
      "cell_type": "code",
      "source": [
        "import torch\n",
        "from torch import nn\n",
        "from torchvision import transforms as T\n",
        "from PIL import Image\n",
        "import numpy as np\n",
        "from pathlib import Path\n",
        "from collections import deque\n",
        "import random, datetime, os\n",
        "\n",
        "# Gym is an OpenAI toolkit for RL\n",
        "import gym\n",
        "from gym.spaces import Box\n",
        "from gym.wrappers import FrameStack\n",
        "\n",
        "# NES Emulator for OpenAI Gym\n",
        "from nes_py.wrappers import JoypadSpace\n",
        "\n",
        "from gym import spaces\n",
        "\n",
        "from tensordict import TensorDict\n",
        "from torchrl.data import TensorDictReplayBuffer, LazyMemmapStorage"
      ],
      "metadata": {
        "id": "gla-SdSgkyg-"
      },
      "execution_count": 5,
      "outputs": []
    },
    {
      "cell_type": "code",
      "source": [
        "class SimpleEnv(gym.Env):\n",
        "    def __init__(self):\n",
        "        super(SimpleEnv, self).__init__()\n",
        "\n",
        "        # Action space: Space with 4 actions\n",
        "        self.action_space = spaces.Discrete(4)\n",
        "        print(self.action_space)\n",
        "\n",
        "        # Observation space: 2D box of dimensions 8x8\n",
        "        self.observation_space = spaces.Box(low=-4, high=4, shape = (8, 8), dtype=np.uint8)\n",
        "        print(self.observation_space)\n",
        "\n",
        "        # Initial state\n",
        "        self.state = self.get_initial_random_state()\n",
        "\n",
        "    def get_initial_random_state(self, number_of_dirt_pieces = 15):\n",
        "        board = np.zeros(shape = (8, 8))\n",
        "        x_indices = np.random.randint(0, 8, size = number_of_dirt_pieces)\n",
        "        y_indices = np.random.randint(0, 8, size = number_of_dirt_pieces)\n",
        "        board[x_indices, y_indices] = 1\n",
        "        starting_position = np.random.randint(0, 8, size = 2)\n",
        "        board[starting_position[0], starting_position[1]] = 2\n",
        "        return board\n",
        "\n",
        "    def reset(self):\n",
        "        \"\"\"Reset the environment to an initial state.\"\"\"\n",
        "        self.state = self.get_initial_random_state()\n",
        "        return np.array(self.state, dtype=np.float32)\n",
        "\n",
        "    def step(self, action):\n",
        "        \"\"\"Apply the action and return the next state, reward, done, and info.\"\"\"\n",
        "        # Simple logic for the environment:\n",
        "        if action == 0:  # Move left\n",
        "            self.state -= 1\n",
        "        else:  # Move right\n",
        "            self.state += 1\n",
        "\n",
        "        # Reward function\n",
        "        reward = -abs(self.state)  # Negative reward for being far from the center (0)\n",
        "\n",
        "        # Check if the episode is done\n",
        "        done = abs(self.state) > 10  # Terminate if the state goes out of bounds\n",
        "\n",
        "        return np.array(self.state, dtype=np.float32), reward, done, {}\n",
        "\n",
        "    def render(self, mode=\"human\"):\n",
        "        \"\"\"Render the environment state.\"\"\"\n",
        "        print(f\"Current state: {self.state}\")\n",
        "\n",
        "SimpleEnv()"
      ],
      "metadata": {
        "id": "2ZWHhhHFlZHm",
        "colab": {
          "base_uri": "https://localhost:8080/"
        },
        "outputId": "ccbf2450-f479-4c4b-a85e-7988a78a3f62"
      },
      "execution_count": 24,
      "outputs": [
        {
          "output_type": "stream",
          "name": "stdout",
          "text": [
            "Discrete(4)\n",
            "Box(252, 4, (8, 8), uint8)\n"
          ]
        },
        {
          "output_type": "execute_result",
          "data": {
            "text/plain": [
              "<__main__.SimpleEnv at 0x7eff1f03b0d0>"
            ]
          },
          "metadata": {},
          "execution_count": 24
        }
      ]
    },
    {
      "cell_type": "code",
      "source": [],
      "metadata": {
        "id": "5Cr6UQLGmG91"
      },
      "execution_count": null,
      "outputs": []
    }
  ]
}