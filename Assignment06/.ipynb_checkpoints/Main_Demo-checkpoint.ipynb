{
 "cells": [
  {
   "cell_type": "markdown",
   "metadata": {
    "id": "PsDeWG1-nJTo"
   },
   "source": [
    "<a target=\"_blank\" href=\"https://colab.research.google.com/github/TransformerLensOrg/TransformerLens/blob/main/demos/Main_Demo.ipynb\">\n",
    "  <img src=\"https://colab.research.google.com/assets/colab-badge.svg\" alt=\"Open In Colab\"/>\n",
    "</a>"
   ]
  },
  {
   "cell_type": "markdown",
   "metadata": {
    "id": "F7S9YlUUnJTp"
   },
   "source": [
    "# Transformer Lens Main Demo Notebook\n",
    "\n",
    "<b style=\"color: red\">To use this notebook, go to Runtime > Change Runtime Type and select GPU as the hardware accelerator.</b>\n",
    "\n",
    "This is a reference notebook covering the main features of the [TransformerLens](https://github.com/TransformerLensOrg/TransformerLens) library for mechanistic interpretability. See [Callum McDougall's tutorial](https://transformerlens-intro.streamlit.app/TransformerLens_&_induction_circuits) for a more structured and gentler introduction to the library"
   ]
  },
  {
   "cell_type": "markdown",
   "metadata": {
    "id": "X-d9YDAAnJTp"
   },
   "source": [
    "**Tips for reading this Colab:**\n",
    "* You can run all this code for yourself!\n",
    "* The graphs are interactive!\n",
    "* Use the table of contents pane in the sidebar to navigate\n",
    "* Collapse irrelevant sections with the dropdown arrows\n",
    "* Search the page using the search in the sidebar, not CTRL+F"
   ]
  },
  {
   "cell_type": "markdown",
   "metadata": {
    "id": "N_FBOsCHnJTp"
   },
   "source": [
    "# Setup\n",
    "(No need to read)"
   ]
  },
  {
   "cell_type": "code",
   "execution_count": 1,
   "metadata": {
    "id": "7Ou2mBf9nJTq"
   },
   "outputs": [],
   "source": [
    "import os\n",
    "DEVELOPMENT_MODE = False\n",
    "# Detect if we're running in Google Colab\n",
    "try:\n",
    "    import google.colab\n",
    "    IN_COLAB = True\n",
    "    print(\"Running as a Colab notebook\")\n",
    "except:\n",
    "    IN_COLAB = False\n",
    "\n",
    "# Install if in Colab\n",
    "if IN_COLAB:\n",
    "    %pip install transformer_lens\n",
    "    %pip install circuitsvis\n",
    "    # Install a faster Node version\n",
    "    !curl -fsSL https://deb.nodesource.com/setup_16.x | sudo -E bash -; sudo apt-get install -y nodejs  # noqa\n",
    "\n",
    "# Hot reload in development mode & not running on the CD\n",
    "if not IN_COLAB:\n",
    "    from IPython import get_ipython\n",
    "    ip = get_ipython()\n",
    "    if not ip.extension_manager.loaded:\n",
    "        ip.extension_manager.load('autoreload')\n",
    "        %autoreload 2\n",
    "#     import plotly.io as pio\n",
    "#     pio.renderers.default = 'iframe'\n",
    "\n",
    "\n",
    "IN_GITHUB = os.getenv(\"GITHUB_ACTIONS\") == \"true\"\n"
   ]
  },
  {
   "cell_type": "code",
   "execution_count": 2,
   "metadata": {
    "id": "p982gRF1nJTq",
    "outputId": "a28ae3d6-0671-43a3-cad8-666153d5c4bd"
   },
   "outputs": [
    {
     "name": "stdout",
     "output_type": "stream",
     "text": [
      "Using renderer: colab\n"
     ]
    }
   ],
   "source": [
    "# Plotly needs a different renderer for VSCode/Notebooks vs Colab argh\n",
    "import plotly.io as pio\n",
    "if IN_COLAB or not DEVELOPMENT_MODE:\n",
    "    pio.renderers.default = \"colab\"\n",
    "else:\n",
    "    pio.renderers.default = \"notebook_connected\"\n",
    "print(f\"Using renderer: {pio.renderers.default}\")"
   ]
  },
  {
   "cell_type": "code",
   "execution_count": 3,
   "metadata": {
    "id": "X66zvvsxnJTq",
    "outputId": "119ff102-06ec-47b5-9ce7-4442af500ba7"
   },
   "outputs": [
    {
     "data": {
      "text/html": [
       "<div id=\"circuits-vis-6e05cc0d-15c7\" style=\"margin: 15px 0;\"/>\n",
       "    <script crossorigin type=\"module\">\n",
       "    import { render, Hello } from \"https://unpkg.com/circuitsvis@1.43.3/dist/cdn/esm.js\";\n",
       "    render(\n",
       "      \"circuits-vis-6e05cc0d-15c7\",\n",
       "      Hello,\n",
       "      {\"name\": \"Neel\"}\n",
       "    )\n",
       "    </script>"
      ],
      "text/plain": [
       "<circuitsvis.utils.render.RenderedHTML at 0x739c46d2f370>"
      ]
     },
     "execution_count": 3,
     "metadata": {},
     "output_type": "execute_result"
    }
   ],
   "source": [
    "import circuitsvis as cv\n",
    "# Testing that the library works\n",
    "cv.examples.hello(\"Neel\")"
   ]
  },
  {
   "cell_type": "code",
   "execution_count": 4,
   "metadata": {
    "id": "uGsNY831nJTq"
   },
   "outputs": [
    {
     "name": "stderr",
     "output_type": "stream",
     "text": [
      "/home/shaunak/.virtualenvs/mech_interp/lib/python3.10/site-packages/tqdm/auto.py:21: TqdmWarning:\n",
      "\n",
      "IProgress not found. Please update jupyter and ipywidgets. See https://ipywidgets.readthedocs.io/en/stable/user_install.html\n",
      "\n"
     ]
    }
   ],
   "source": [
    "# Import stuff\n",
    "import torch\n",
    "import torch.nn as nn\n",
    "import einops\n",
    "from fancy_einsum import einsum\n",
    "import tqdm.auto as tqdm\n",
    "import plotly.express as px\n",
    "\n",
    "from jaxtyping import Float\n",
    "from functools import partial"
   ]
  },
  {
   "cell_type": "code",
   "execution_count": 5,
   "metadata": {
    "id": "4OQ5CDSznJTr"
   },
   "outputs": [],
   "source": [
    "# import transformer_lens\n",
    "import transformer_lens.utils as utils\n",
    "from transformer_lens.hook_points import (\n",
    "    HookPoint,\n",
    ")  # Hooking utilities\n",
    "from transformer_lens import HookedTransformer, FactoredMatrix"
   ]
  },
  {
   "cell_type": "markdown",
   "metadata": {
    "id": "iG34OlOlnJTs"
   },
   "source": [
    "We turn automatic differentiation off, to save GPU memory, as this notebook focuses on model inference not model training."
   ]
  },
  {
   "cell_type": "code",
   "execution_count": 6,
   "metadata": {
    "id": "g6UrQ8rpnJTs",
    "outputId": "3515d9b1-1fd8-4d4e-a308-096e1a2566a1"
   },
   "outputs": [
    {
     "data": {
      "text/plain": [
       "<torch.autograd.grad_mode.set_grad_enabled at 0x7399e37b31c0>"
      ]
     },
     "execution_count": 6,
     "metadata": {},
     "output_type": "execute_result"
    }
   ],
   "source": [
    "torch.set_grad_enabled(False)"
   ]
  },
  {
   "cell_type": "markdown",
   "metadata": {
    "id": "1owRx8MgnJTs"
   },
   "source": [
    "Plotting helper functions:"
   ]
  },
  {
   "cell_type": "code",
   "execution_count": 7,
   "metadata": {
    "id": "SkwhIAnlnJTt"
   },
   "outputs": [],
   "source": [
    "def imshow(tensor, renderer=None, xaxis=\"\", yaxis=\"\", **kwargs):\n",
    "    px.imshow(utils.to_numpy(tensor), color_continuous_midpoint=0.0, color_continuous_scale=\"RdBu\", labels={\"x\":xaxis, \"y\":yaxis}, **kwargs).show(renderer)\n",
    "\n",
    "def line(tensor, renderer=None, xaxis=\"\", yaxis=\"\", **kwargs):\n",
    "    px.line(utils.to_numpy(tensor), labels={\"x\":xaxis, \"y\":yaxis}, **kwargs).show(renderer)\n",
    "\n",
    "def scatter(x, y, xaxis=\"\", yaxis=\"\", caxis=\"\", renderer=None, **kwargs):\n",
    "    x = utils.to_numpy(x)\n",
    "    y = utils.to_numpy(y)\n",
    "    px.scatter(y=y, x=x, labels={\"x\":xaxis, \"y\":yaxis, \"color\":caxis}, **kwargs).show(renderer)"
   ]
  },
  {
   "cell_type": "markdown",
   "metadata": {
    "id": "GZeOZFxXnJTt"
   },
   "source": [
    "# Introduction"
   ]
  },
  {
   "cell_type": "markdown",
   "metadata": {
    "id": "FQIK-D9MnJTt"
   },
   "source": [
    "This is a demo notebook for [TransformerLens](https://github.com/TransformerLensOrg/TransformerLens), **a library I ([Neel Nanda](https://neelnanda.io)) wrote for doing [mechanistic interpretability](https://distill.pub/2020/circuits/zoom-in/) of GPT-2 Style language models.** The goal of mechanistic interpretability is to take a trained model and reverse engineer the algorithms the model learned during training from its weights. It is a fact about the world today that we have computer programs that can essentially speak English at a human level (GPT-3, PaLM, etc), yet we have no idea how they work nor how to write one ourselves. This offends me greatly, and I would like to solve this! Mechanistic interpretability is a very young and small field, and there are a *lot* of open problems - if you would like to help, please try working on one! **If you want to skill up, check out [my guide to getting started](https://neelnanda.io/getting-started), and if you want to jump into an open problem check out my sequence [200 Concrete Open Problems in Mechanistic Interpretability](https://neelnanda.io/concrete-open-problems).**\n",
    "\n",
    "I wrote this library because after I left the Anthropic interpretability team and started doing independent research, I got extremely frustrated by the state of open source tooling. There's a lot of excellent infrastructure like HuggingFace and DeepSpeed to *use* or *train* models, but very little to dig into their internals and reverse engineer how they work. **This library tries to solve that**, and to make it easy to get into the field even if you don't work at an industry org with real infrastructure! The core features were heavily inspired by [Anthropic's excellent Garcon tool](https://transformer-circuits.pub/2021/garcon/index.html). Credit to Nelson Elhage and Chris Olah for building Garcon and showing me the value of good infrastructure for accelerating exploratory research!\n",
    "\n",
    "The core design principle I've followed is to enable exploratory analysis - one of the most fun parts of mechanistic interpretability compared to normal ML is the extremely short feedback loops! The point of this library is to keep the gap between having an experiment idea and seeing the results as small as possible, to make it easy for **research to feel like play** and to enter a flow state. This notebook demonstrates how the library works and how to use it, but if you want to see how well it works for exploratory research, check out [my notebook analysing Indirect Objection Identification](https://neelnanda.io/exploratory-analysis-demo) or [my recording of myself doing research](https://www.youtube.com/watch?v=yo4QvDn-vsU)!"
   ]
  },
  {
   "cell_type": "markdown",
   "metadata": {
    "id": "E5pjQBRbnJTt"
   },
   "source": [
    "## Loading and Running Models\n",
    "\n",
    "TransformerLens comes loaded with >40 open source GPT-style models. You can load any of them in with `HookedTransformer.from_pretrained(MODEL_NAME)`. For this demo notebook we'll look at GPT-2 Small, an 80M parameter model, see the Available Models section for info on the rest."
   ]
  },
  {
   "cell_type": "code",
   "execution_count": 8,
   "metadata": {
    "id": "28WPz3xInJTt"
   },
   "outputs": [],
   "source": [
    "device = utils.get_device()"
   ]
  },
  {
   "cell_type": "code",
   "execution_count": 9,
   "metadata": {
    "id": "Sf_2yO66nJTu",
    "outputId": "517b5bf4-8ea2-488a-9294-cb46f7436d6a"
   },
   "outputs": [
    {
     "name": "stdout",
     "output_type": "stream",
     "text": [
      "Loaded pretrained model gpt2-small into HookedTransformer\n"
     ]
    }
   ],
   "source": [
    "# NBVAL_IGNORE_OUTPUT\n",
    "model = HookedTransformer.from_pretrained(\"gpt2-small\", device=device)"
   ]
  },
  {
   "cell_type": "markdown",
   "metadata": {
    "id": "uQKLmS7inJTu"
   },
   "source": [
    "To try the model out, let's find the loss on this text! Models can be run on a single string or a tensor of tokens (shape: [batch, position], all integers), and the possible return types are:\n",
    "* \"logits\" (shape [batch, position, d_vocab], floats),\n",
    "* \"loss\" (the cross-entropy loss when predicting the next token),\n",
    "* \"both\" (a tuple of (logits, loss))\n",
    "* None (run the model, but don't calculate the logits - this is faster when we only want to use intermediate activations)"
   ]
  },
  {
   "cell_type": "code",
   "execution_count": 10,
   "metadata": {
    "id": "2gfDDj0VnJTu",
    "outputId": "edd88861-c940-4044-a54a-642d4c2b7cce"
   },
   "outputs": [
    {
     "name": "stdout",
     "output_type": "stream",
     "text": [
      "Model loss: tensor(4.1307, device='cuda:0')\n"
     ]
    },
    {
     "name": "stderr",
     "output_type": "stream",
     "text": [
      "/home/shaunak/.virtualenvs/mech_interp/lib/python3.10/site-packages/transformer_lens/utilities/attention.py:27: UserWarning:\n",
      "\n",
      "Attempting to use hipBLASLt on an unsupported architecture! Overriding blas backend to hipblas (Triggered internally at /pytorch/aten/src/ATen/Context.cpp:310.)\n",
      "\n"
     ]
    }
   ],
   "source": [
    "model_description_text = \"\"\"## Loading Models\n",
    "\n",
    "HookedTransformer comes loaded with >40 open source GPT-style models. You can load any of them in with `HookedTransformer.from_pretrained(MODEL_NAME)`. See my explainer for documentation of all supported models, and this table for hyper-parameters and the name used to load them. Each model is loaded into the consistent HookedTransformer architecture, designed to be clean, consistent and interpretability-friendly.\n",
    "\n",
    "For this demo notebook we'll look at GPT-2 Small, an 80M parameter model. To try the model the model out, let's find the loss on this paragraph!\"\"\"\n",
    "loss = model(model_description_text, return_type=\"loss\")\n",
    "print(\"Model loss:\", loss)"
   ]
  },
  {
   "cell_type": "markdown",
   "metadata": {
    "id": "1ognlOspnJTu"
   },
   "source": [
    "## Caching all Activations\n",
    "\n",
    "The first basic operation when doing mechanistic interpretability is to break open the black box of the model and look at all of the internal activations of a model. This can be done with `logits, cache = model.run_with_cache(tokens)`. Let's try this out on the first line of the abstract of the GPT-2 paper.\n",
    "\n",
    "<details><summary>On `remove_batch_dim`</summary>\n",
    "\n",
    "Every activation inside the model begins with a batch dimension. Here, because we only entered a single batch dimension, that dimension is always length 1 and kinda annoying, so passing in the `remove_batch_dim=True` keyword removes it. `gpt2_cache_no_batch_dim = gpt2_cache.remove_batch_dim()` would have achieved the same effect.\n",
    "</details?>"
   ]
  },
  {
   "cell_type": "code",
   "execution_count": 11,
   "metadata": {
    "id": "ZzVUwvjJnJTv",
    "outputId": "e7bbc152-68f3-4e20-ef21-0e8fa9116f6c"
   },
   "outputs": [
    {
     "name": "stdout",
     "output_type": "stream",
     "text": [
      "cuda:0\n",
      "tensor([[50256, 35364,  3303,  7587,  8861,    11,   884,   355,  1808, 18877,\n",
      "            11,  4572, 11059,    11,  3555, 35915,    11,   290, 15676,  1634,\n",
      "            11,   389,  6032, 10448,   351, 28679,  4673,   319,  8861,   431,\n",
      "          7790, 40522,    13]], device='cuda:0')\n",
      "tensor([[[ 7.5261, 11.1214,  7.8919,  ..., -3.1299, -3.3873,  8.5934],\n",
      "         [ 4.4261,  5.2600,  2.1652,  ...,  0.4973, -2.2385,  4.2680],\n",
      "         [ 8.7212,  7.1920,  3.2337,  ...,  2.7380,  0.2224,  7.2776],\n",
      "         ...,\n",
      "         [ 4.8818,  6.6848,  2.6623,  ...,  4.4694, -1.5021,  5.2525],\n",
      "         [ 7.4928,  8.2157,  3.5746,  ...,  1.5305, -0.2660,  7.6360],\n",
      "         [ 4.6322,  5.0510,  5.8710,  ..., -1.5175, -6.7258, 13.3053]]],\n",
      "       device='cuda:0')\n",
      "torch.Size([1, 33, 50257])\n"
     ]
    }
   ],
   "source": [
    "gpt2_text = \"Natural language processing tasks, such as question answering, machine translation, reading comprehension, and summarization, are typically approached with supervised learning on taskspecific datasets.\"\n",
    "gpt2_tokens = model.to_tokens(gpt2_text)\n",
    "print(gpt2_tokens.device)\n",
    "print(gpt2_tokens)\n",
    "gpt2_logits, gpt2_cache = model.run_with_cache(gpt2_tokens, remove_batch_dim=True)\n",
    "print(gpt2_logits)\n",
    "print(gpt2_logits.shape)"
   ]
  },
  {
   "cell_type": "markdown",
   "metadata": {
    "id": "Fx4RucelnJTv"
   },
   "source": [
    "Let's visualize the attention pattern of all the heads in layer 0, using [Alan Cooney's CircuitsVis library](https://github.com/alan-cooney/CircuitsVis) (based on [Anthropic's PySvelte library](https://github.com/anthropics/PySvelte)).\n",
    "\n",
    "We look this the attention pattern in `gpt2_cache`, an `ActivationCache` object, by entering in the name of the activation, followed by the layer index (here, the activation is called \"attn\" and the layer index is 0). This has shape [head_index, destination_position, source_position], and we use the `model.to_str_tokens` method to convert the text to a list of tokens as strings, since there is an attention weight between each pair of tokens.\n",
    "\n",
    "This visualization is interactive! Try hovering over a token or head, and click to lock. The grid on the top left and for each head is the attention pattern as a destination position by source position grid. It's lower triangular because GPT-2 has **causal attention**, attention can only look backwards, so information can only move forwards in the network.\n",
    "\n",
    "See the ActivationCache section for more on what `gpt2_cache` can do."
   ]
  },
  {
   "cell_type": "code",
   "execution_count": 12,
   "metadata": {
    "id": "gd19_2q8nJTv",
    "outputId": "55a48484-687c-4cf2-be1e-4725f644fb6b"
   },
   "outputs": [
    {
     "name": "stdout",
     "output_type": "stream",
     "text": [
      "<class 'transformer_lens.ActivationCache.ActivationCache'>\n",
      "torch.Size([12, 33, 33])\n",
      "['<|endoftext|>', 'Natural', ' language', ' processing', ' tasks', ',', ' such', ' as', ' question', ' answering', ',', ' machine', ' translation', ',', ' reading', ' comprehension', ',', ' and', ' summar', 'ization', ',', ' are', ' typically', ' approached', ' with', ' supervised', ' learning', ' on', ' tasks', 'pe', 'cific', ' datasets', '.']\n"
     ]
    }
   ],
   "source": [
    "print(type(gpt2_cache))\n",
    "attention_pattern = gpt2_cache[\"pattern\", 0, \"attn\"]\n",
    "print(attention_pattern.shape)\n",
    "gpt2_str_tokens = model.to_str_tokens(gpt2_text)\n",
    "print(gpt2_str_tokens)"
   ]
  },
  {
   "cell_type": "code",
   "execution_count": 13,
   "metadata": {},
   "outputs": [
    {
     "name": "stdout",
     "output_type": "stream",
     "text": [
      "33\n"
     ]
    }
   ],
   "source": [
    "print(len(gpt2_str_tokens))"
   ]
  },
  {
   "cell_type": "code",
   "execution_count": 14,
   "metadata": {
    "id": "RwdOvWHqnJTv",
    "outputId": "193d2773-1333-4a80-ab7a-6e372652d7ab"
   },
   "outputs": [
    {
     "name": "stdout",
     "output_type": "stream",
     "text": [
      "Layer 0 Head Attention Patterns:\n"
     ]
    },
    {
     "data": {
      "text/html": [
       "<div id=\"circuits-vis-fcf5d9c8-da2e\" style=\"margin: 15px 0;\"/>\n",
       "    <script crossorigin type=\"module\">\n",
       "    import { render, AttentionPatterns } from \"https://unpkg.com/circuitsvis@1.43.3/dist/cdn/esm.js\";\n",
       "    render(\n",
       "      \"circuits-vis-fcf5d9c8-da2e\",\n",
       "      AttentionPatterns,\n",
       "      {\"tokens\": [\"<|endoftext|>\", \"Natural\", \" language\", \" processing\", \" tasks\", \",\", \" such\", \" as\", \" question\", \" answering\", \",\", \" machine\", \" translation\", \",\", \" reading\", \" comprehension\", \",\", \" and\", \" summar\", \"ization\", \",\", \" are\", \" typically\", \" approached\", \" with\", \" supervised\", \" learning\", \" on\", \" tasks\", \"pe\", \"cific\", \" datasets\", \".\"], \"attention\": [[[1.0, 0.0, 0.0, 0.0, 0.0, 0.0, 0.0, 0.0, 0.0, 0.0, 0.0, 0.0, 0.0, 0.0, 0.0, 0.0, 0.0, 0.0, 0.0, 0.0, 0.0, 0.0, 0.0, 0.0, 0.0, 0.0, 0.0, 0.0, 0.0, 0.0, 0.0, 0.0, 0.0], [0.9639418125152588, 0.036058176308870316, 0.0, 0.0, 0.0, 0.0, 0.0, 0.0, 0.0, 0.0, 0.0, 0.0, 0.0, 0.0, 0.0, 0.0, 0.0, 0.0, 0.0, 0.0, 0.0, 0.0, 0.0, 0.0, 0.0, 0.0, 0.0, 0.0, 0.0, 0.0, 0.0, 0.0, 0.0], [0.8389372229576111, 0.11828789860010147, 0.042774882167577744, 0.0, 0.0, 0.0, 0.0, 0.0, 0.0, 0.0, 0.0, 0.0, 0.0, 0.0, 0.0, 0.0, 0.0, 0.0, 0.0, 0.0, 0.0, 0.0, 0.0, 0.0, 0.0, 0.0, 0.0, 0.0, 0.0, 0.0, 0.0, 0.0, 0.0], [0.47436103224754333, 0.13382017612457275, 0.2737177610397339, 0.11810102313756943, 0.0, 0.0, 0.0, 0.0, 0.0, 0.0, 0.0, 0.0, 0.0, 0.0, 0.0, 0.0, 0.0, 0.0, 0.0, 0.0, 0.0, 0.0, 0.0, 0.0, 0.0, 0.0, 0.0, 0.0, 0.0, 0.0, 0.0, 0.0, 0.0], [0.35606449842453003, 0.10184913128614426, 0.2305421382188797, 0.20397396385669708, 0.10757026821374893, 0.0, 0.0, 0.0, 0.0, 0.0, 0.0, 0.0, 0.0, 0.0, 0.0, 0.0, 0.0, 0.0, 0.0, 0.0, 0.0, 0.0, 0.0, 0.0, 0.0, 0.0, 0.0, 0.0, 0.0, 0.0, 0.0, 0.0, 0.0], [0.6660143733024597, 0.16866378486156464, 0.04535674676299095, 0.03885500505566597, 0.06775479763746262, 0.013355258852243423, 0.0, 0.0, 0.0, 0.0, 0.0, 0.0, 0.0, 0.0, 0.0, 0.0, 0.0, 0.0, 0.0, 0.0, 0.0, 0.0, 0.0, 0.0, 0.0, 0.0, 0.0, 0.0, 0.0, 0.0, 0.0, 0.0, 0.0], [0.3862695097923279, 0.28510940074920654, 0.07609014213085175, 0.05908383056521416, 0.07223346084356308, 0.03979630023241043, 0.08141730725765228, 0.0, 0.0, 0.0, 0.0, 0.0, 0.0, 0.0, 0.0, 0.0, 0.0, 0.0, 0.0, 0.0, 0.0, 0.0, 0.0, 0.0, 0.0, 0.0, 0.0, 0.0, 0.0, 0.0, 0.0, 0.0, 0.0], [0.3775395154953003, 0.18838810920715332, 0.11723995208740234, 0.08685595542192459, 0.0666918158531189, 0.03500017523765564, 0.09693000465631485, 0.03135443106293678, 0.0, 0.0, 0.0, 0.0, 0.0, 0.0, 0.0, 0.0, 0.0, 0.0, 0.0, 0.0, 0.0, 0.0, 0.0, 0.0, 0.0, 0.0, 0.0, 0.0, 0.0, 0.0, 0.0, 0.0, 0.0], [0.4869755208492279, 0.0678132027387619, 0.07952868938446045, 0.08480783551931381, 0.15902607142925262, 0.029577795416116714, 0.02568592131137848, 0.016474615782499313, 0.05011039227247238, 0.0, 0.0, 0.0, 0.0, 0.0, 0.0, 0.0, 0.0, 0.0, 0.0, 0.0, 0.0, 0.0, 0.0, 0.0, 0.0, 0.0, 0.0, 0.0, 0.0, 0.0, 0.0, 0.0, 0.0], [0.29065510630607605, 0.040135011076927185, 0.14614856243133545, 0.09940600395202637, 0.15389175713062286, 0.03900161013007164, 0.024988962337374687, 0.03184128925204277, 0.10222822427749634, 0.0717034563422203, 0.0, 0.0, 0.0, 0.0, 0.0, 0.0, 0.0, 0.0, 0.0, 0.0, 0.0, 0.0, 0.0, 0.0, 0.0, 0.0, 0.0, 0.0, 0.0, 0.0, 0.0, 0.0, 0.0], [0.39624103903770447, 0.09694167971611023, 0.02727065607905388, 0.0235513336956501, 0.03723447397351265, 0.006502412259578705, 0.08118756860494614, 0.013088466599583626, 0.06990587711334229, 0.24043112993240356, 0.007645331788808107, 0.0, 0.0, 0.0, 0.0, 0.0, 0.0, 0.0, 0.0, 0.0, 0.0, 0.0, 0.0, 0.0, 0.0, 0.0, 0.0, 0.0, 0.0, 0.0, 0.0, 0.0, 0.0], [0.2486477792263031, 0.13802066445350647, 0.09235328435897827, 0.08676132559776306, 0.1381969004869461, 0.05914202332496643, 0.03223859891295433, 0.03158240392804146, 0.030489398166537285, 0.0387347973883152, 0.06671840697526932, 0.037114467471838, 0.0, 0.0, 0.0, 0.0, 0.0, 0.0, 0.0, 0.0, 0.0, 0.0, 0.0, 0.0, 0.0, 0.0, 0.0, 0.0, 0.0, 0.0, 0.0, 0.0, 0.0], [0.19148440659046173, 0.16172608733177185, 0.07445946335792542, 0.07740936428308487, 0.021961089223623276, 0.033921271562576294, 0.051250215619802475, 0.019519230350852013, 0.031324438750743866, 0.040201522409915924, 0.038742661476135254, 0.21578866243362427, 0.042211659252643585, 0.0, 0.0, 0.0, 0.0, 0.0, 0.0, 0.0, 0.0, 0.0, 0.0, 0.0, 0.0, 0.0, 0.0, 0.0, 0.0, 0.0, 0.0, 0.0, 0.0], [0.37043190002441406, 0.08681409806013107, 0.024584658443927765, 0.021616308018565178, 0.032388705760240555, 0.005422725807875395, 0.07275222986936569, 0.011272790841758251, 0.063296839594841, 0.21726827323436737, 0.006367165129631758, 0.029603810980916023, 0.05099843814969063, 0.007182063534855843, 0.0, 0.0, 0.0, 0.0, 0.0, 0.0, 0.0, 0.0, 0.0, 0.0, 0.0, 0.0, 0.0, 0.0, 0.0, 0.0, 0.0, 0.0, 0.0], [0.19737666845321655, 0.04604003205895424, 0.04399982467293739, 0.13373441994190216, 0.054248176515102386, 0.025475742295384407, 0.027563489973545074, 0.02157093957066536, 0.05171820893883705, 0.06458093971014023, 0.028064630925655365, 0.23551595211029053, 0.019129842519760132, 0.029963508248329163, 0.02101769670844078, 0.0, 0.0, 0.0, 0.0, 0.0, 0.0, 0.0, 0.0, 0.0, 0.0, 0.0, 0.0, 0.0, 0.0, 0.0, 0.0, 0.0, 0.0], [0.0890723466873169, 0.019288349896669388, 0.1665353924036026, 0.0728125348687172, 0.04738636687397957, 0.024487916380167007, 0.028987355530261993, 0.019370367750525475, 0.02667299285531044, 0.07316635549068451, 0.025704605504870415, 0.0424235574901104, 0.05869460850954056, 0.02893269807100296, 0.18119080364704132, 0.0952736884355545, 0.0, 0.0, 0.0, 0.0, 0.0, 0.0, 0.0, 0.0, 0.0, 0.0, 0.0, 0.0, 0.0, 0.0, 0.0, 0.0, 0.0], [0.2816729247570038, 0.06441289931535721, 0.018008559942245483, 0.016169631853699684, 0.023183878511190414, 0.0037532933056354523, 0.05472242087125778, 0.007909771986305714, 0.04616459459066391, 0.16947288811206818, 0.004361642990261316, 0.021011371165513992, 0.035490721464157104, 0.004932576324790716, 0.09555211663246155, 0.14726322889328003, 0.005917454604059458, 0.0, 0.0, 0.0, 0.0, 0.0, 0.0, 0.0, 0.0, 0.0, 0.0, 0.0, 0.0, 0.0, 0.0, 0.0, 0.0], [0.21305496990680695, 0.059123694896698, 0.03382087126374245, 0.027476850897073746, 0.028393566608428955, 0.008422903716564178, 0.040085263550281525, 0.011629261076450348, 0.05295182392001152, 0.15404655039310455, 0.00983181782066822, 0.03610194846987724, 0.04737281799316406, 0.011069206520915031, 0.09972472488880157, 0.13971343636512756, 0.013185340911149979, 0.013994943350553513, 0.0, 0.0, 0.0, 0.0, 0.0, 0.0, 0.0, 0.0, 0.0, 0.0, 0.0, 0.0, 0.0, 0.0, 0.0], [0.15871696174144745, 0.04387890174984932, 0.08712154626846313, 0.08998443186283112, 0.030738551169633865, 0.03414897248148918, 0.02491724118590355, 0.03139191493391991, 0.02482384815812111, 0.01979033648967743, 0.0362548753619194, 0.020694386214017868, 0.042840730398893356, 0.0382089838385582, 0.06234661117196083, 0.10919709503650665, 0.0413760282099247, 0.049167558550834656, 0.0544009730219841, 0.0, 0.0, 0.0, 0.0, 0.0, 0.0, 0.0, 0.0, 0.0, 0.0, 0.0, 0.0, 0.0, 0.0], [0.10485509783029556, 0.1212230771780014, 0.06487488001585007, 0.0876871794462204, 0.034340519458055496, 0.017483944073319435, 0.03415176272392273, 0.01528913527727127, 0.023312067613005638, 0.028306514024734497, 0.018720468506217003, 0.02811192348599434, 0.04190531000494957, 0.02098955772817135, 0.04678511619567871, 0.0865963026881218, 0.023631831631064415, 0.024273158982396126, 0.16702400147914886, 0.010438208468258381, 0.0, 0.0, 0.0, 0.0, 0.0, 0.0, 0.0, 0.0, 0.0, 0.0, 0.0, 0.0, 0.0], [0.22901977598667145, 0.0518437996506691, 0.013585186563432217, 0.01233724132180214, 0.018005413934588432, 0.0027703559026122093, 0.042381249368190765, 0.005856252741068602, 0.03614482283592224, 0.13039232790470123, 0.003153424710035324, 0.015672579407691956, 0.027800405398011208, 0.003554329974576831, 0.07460809499025345, 0.11298275738954544, 0.0042722648940980434, 0.00683219637721777, 0.18569746613502502, 0.018073618412017822, 0.005016353912651539, 0.0, 0.0, 0.0, 0.0, 0.0, 0.0, 0.0, 0.0, 0.0, 0.0, 0.0, 0.0], [0.1886991411447525, 0.034387122839689255, 0.022344762459397316, 0.019972721114754677, 0.016354024410247803, 0.006856546271592379, 0.0208590105175972, 0.0056960005313158035, 0.034159157425165176, 0.07260990142822266, 0.007857212796807289, 0.01804027147591114, 0.026904471218585968, 0.009020413272082806, 0.06876450777053833, 0.17578734457492828, 0.01072006393224001, 0.009284540079534054, 0.1925639808177948, 0.02518034167587757, 0.012639082968235016, 0.021299349144101143, 0.0, 0.0, 0.0, 0.0, 0.0, 0.0, 0.0, 0.0, 0.0, 0.0, 0.0], [0.11958319693803787, 0.022259417921304703, 0.03294717147946358, 0.02017022855579853, 0.03565327823162079, 0.013459899462759495, 0.01751646213233471, 0.010057860985398293, 0.02585645206272602, 0.05955958738923073, 0.015084510669112206, 0.015008753165602684, 0.05317467823624611, 0.016597608104348183, 0.041555214673280716, 0.13129331171512604, 0.019296659156680107, 0.01585504040122032, 0.17925100028514862, 0.016183827072381973, 0.02229553461074829, 0.015463377349078655, 0.10187691450119019, 0.0, 0.0, 0.0, 0.0, 0.0, 0.0, 0.0, 0.0, 0.0, 0.0], [0.14615535736083984, 0.026727519929409027, 0.016624564304947853, 0.01898765005171299, 0.06278637796640396, 0.015317165292799473, 0.01979225128889084, 0.014227766543626785, 0.025458157062530518, 0.045303549617528915, 0.016364358365535736, 0.037493083626031876, 0.013288664631545544, 0.017496556043624878, 0.03994584456086159, 0.058817584067583084, 0.019260970875620842, 0.024616017937660217, 0.03821973130106926, 0.021577831357717514, 0.02094987779855728, 0.07973220199346542, 0.050175990909338, 0.1706809401512146, 0.0, 0.0, 0.0, 0.0, 0.0, 0.0, 0.0, 0.0, 0.0], [0.11321673542261124, 0.03674636408686638, 0.01178657915443182, 0.010274860076606274, 0.020370645448565483, 0.0052438825368881226, 0.01591881364583969, 0.005266789346933365, 0.024891721084713936, 0.06593266874551773, 0.005933657288551331, 0.018209058791399002, 0.021020201966166496, 0.006667506881058216, 0.034828778356313705, 0.1374211460351944, 0.007927059195935726, 0.008618663996458054, 0.11377201974391937, 0.013557433150708675, 0.00927784014493227, 0.026121390983462334, 0.08499334752559662, 0.19073906540870667, 0.011263740248978138, 0.0, 0.0, 0.0, 0.0, 0.0, 0.0, 0.0, 0.0], [0.13337713479995728, 0.026216629892587662, 0.03827153891324997, 0.07152565568685532, 0.05317771062254906, 0.013925837352871895, 0.007084186188876629, 0.013450141064822674, 0.009841442108154297, 0.01178978756070137, 0.013537608087062836, 0.03815494477748871, 0.04193311184644699, 0.013882292434573174, 0.03707149252295494, 0.13838469982147217, 0.014846316538751125, 0.03156949207186699, 0.055981747806072235, 0.015536664985120296, 0.015956373885273933, 0.045455530285835266, 0.01669962890446186, 0.02532576583325863, 0.03671891614794731, 0.08028540015220642, 0.0, 0.0, 0.0, 0.0, 0.0, 0.0, 0.0], [0.10608960688114166, 0.019107738509774208, 0.024468638002872467, 0.0274963416159153, 0.01636577770113945, 0.0050114174373447895, 0.010413098149001598, 0.006081134080886841, 0.005301057826727629, 0.01114315539598465, 0.004565389361232519, 0.01896987482905388, 0.004321113228797913, 0.004814977291971445, 0.029409395530819893, 0.028682034462690353, 0.005097250919789076, 0.007234346587210894, 0.03412590175867081, 0.010370568372309208, 0.005643261596560478, 0.007283573504537344, 0.029389454051852226, 0.01003878004848957, 0.009134503081440926, 0.5466636419296265, 0.01277791429311037, 0.0, 0.0, 0.0, 0.0, 0.0, 0.0], [0.10467313975095749, 0.03321940824389458, 0.015341250225901604, 0.009373553097248077, 0.026595447212457657, 0.005787801928818226, 0.013571343384683132, 0.004554883111268282, 0.02805887721478939, 0.026107236742973328, 0.006353434175252914, 0.013315849006175995, 0.026628226041793823, 0.006888878997415304, 0.06204751506447792, 0.05890703201293945, 0.008068044669926167, 0.007557094097137451, 0.08522789925336838, 0.017075754702091217, 0.009256879799067974, 0.019695769995450974, 0.12617796659469604, 0.13061511516571045, 0.011351034976541996, 0.08984379470348358, 0.04638151451945305, 0.007325290236622095, 0.0, 0.0, 0.0, 0.0, 0.0], [0.0856190174818039, 0.021438950672745705, 0.05641249567270279, 0.057066574692726135, 0.019802192226052284, 0.006727492902427912, 0.0058091552928090096, 0.004516256507486105, 0.0031647447030991316, 0.017615197226405144, 0.006174593698233366, 0.08767969906330109, 0.012299872934818268, 0.00635045301169157, 0.01752212457358837, 0.14295215904712677, 0.006585482973605394, 0.007875676266849041, 0.030078953132033348, 0.013907494023442268, 0.007376695517450571, 0.007684777956455946, 0.022160785272717476, 0.012385033071041107, 0.011890045367181301, 0.08669780939817429, 0.19902554154396057, 0.0135944914072752, 0.029586229473352432, 0.0, 0.0, 0.0, 0.0], [0.14064589142799377, 0.01329871453344822, 0.015702974051237106, 0.01735784113407135, 0.02233150415122509, 0.029672298580408096, 0.04172082617878914, 0.018995409831404686, 0.03827714920043945, 0.048635609447956085, 0.030946901068091393, 0.016023892909288406, 0.020880920812487602, 0.032438233494758606, 0.030558155849575996, 0.022808382287621498, 0.03537757694721222, 0.03145160898566246, 0.03497115895152092, 0.018679093569517136, 0.038219112902879715, 0.02257884293794632, 0.06819550693035126, 0.042140983045101166, 0.02862085960805416, 0.03775005415081978, 0.018578054383397102, 0.033768679946660995, 0.03641696646809578, 0.0129568325355649, 0.0, 0.0, 0.0], [0.07168621569871902, 0.06924453377723694, 0.019306864589452744, 0.014161966741085052, 0.0168231800198555, 0.019380610436201096, 0.0192574393004179, 0.022003648802638054, 0.013706532306969166, 0.03578381985425949, 0.018465178087353706, 0.05207163468003273, 0.020085154101252556, 0.019862130284309387, 0.02066212333738804, 0.04725170135498047, 0.021076735109090805, 0.03678722307085991, 0.024324126541614532, 0.0038275490514934063, 0.02392067015171051, 0.008533221669495106, 0.026241611689329147, 0.02738007716834545, 0.03461195155978203, 0.022884156554937363, 0.10047916322946548, 0.06913498044013977, 0.025474565103650093, 0.06495591253042221, 0.030615348368883133, 0.0, 0.0], [0.06910775601863861, 0.037012290209531784, 0.03862113878130913, 0.05933317542076111, 0.01592356711626053, 0.007918566465377808, 0.01037104707211256, 0.00661566574126482, 0.0025200771633535624, 0.0260193832218647, 0.007905237376689911, 0.02965201996266842, 0.04000628739595413, 0.008451350964605808, 0.01074115838855505, 0.050275638699531555, 0.009428865276277065, 0.013601026497781277, 0.050369251519441605, 0.03176715224981308, 0.010793039575219154, 0.007216812577098608, 0.006478429771959782, 0.014800610020756721, 0.0215859767049551, 0.15769490599632263, 0.08884749561548233, 0.01901693269610405, 0.029729360714554787, 0.033161334693431854, 0.05088358372449875, 0.034150827676057816, 0.0], [0.14375512301921844, 0.016811028122901917, 0.009386664256453514, 0.006830308120697737, 0.01165685337036848, 0.0015672253211960196, 0.019711462780833244, 0.0023980375844985247, 0.02123587764799595, 0.046836815774440765, 0.0016905175289139152, 0.005827195476740599, 0.011979986913502216, 0.0018251452129334211, 0.04231332615017891, 0.054913684725761414, 0.002178656170144677, 0.0024170081596821547, 0.09604070335626602, 0.0057528698816895485, 0.0025577920023351908, 0.007121231406927109, 0.08889927715063095, 0.1085207387804985, 0.005179047584533691, 0.03657734394073486, 0.024719931185245514, 0.0037347686011344194, 0.031077051535248756, 0.01688794232904911, 0.09450867772102356, 0.071715347468853, 0.003372324164956808]], [[1.0, 0.0, 0.0, 0.0, 0.0, 0.0, 0.0, 0.0, 0.0, 0.0, 0.0, 0.0, 0.0, 0.0, 0.0, 0.0, 0.0, 0.0, 0.0, 0.0, 0.0, 0.0, 0.0, 0.0, 0.0, 0.0, 0.0, 0.0, 0.0, 0.0, 0.0, 0.0, 0.0], [0.0004246649332344532, 0.9995753169059753, 0.0, 0.0, 0.0, 0.0, 0.0, 0.0, 0.0, 0.0, 0.0, 0.0, 0.0, 0.0, 0.0, 0.0, 0.0, 0.0, 0.0, 0.0, 0.0, 0.0, 0.0, 0.0, 0.0, 0.0, 0.0, 0.0, 0.0, 0.0, 0.0, 0.0, 0.0], [0.0005621900199912488, 0.016407227143645287, 0.9830306172370911, 0.0, 0.0, 0.0, 0.0, 0.0, 0.0, 0.0, 0.0, 0.0, 0.0, 0.0, 0.0, 0.0, 0.0, 0.0, 0.0, 0.0, 0.0, 0.0, 0.0, 0.0, 0.0, 0.0, 0.0, 0.0, 0.0, 0.0, 0.0, 0.0, 0.0], [0.001162757514975965, 0.02168198488652706, 0.0037620370276272297, 0.9733933210372925, 0.0, 0.0, 0.0, 0.0, 0.0, 0.0, 0.0, 0.0, 0.0, 0.0, 0.0, 0.0, 0.0, 0.0, 0.0, 0.0, 0.0, 0.0, 0.0, 0.0, 0.0, 0.0, 0.0, 0.0, 0.0, 0.0, 0.0, 0.0, 0.0], [3.7244368286337703e-05, 0.00017202219169121236, 0.0002814393083099276, 0.0027421435806900263, 0.9967671632766724, 0.0, 0.0, 0.0, 0.0, 0.0, 0.0, 0.0, 0.0, 0.0, 0.0, 0.0, 0.0, 0.0, 0.0, 0.0, 0.0, 0.0, 0.0, 0.0, 0.0, 0.0, 0.0, 0.0, 0.0, 0.0, 0.0, 0.0, 0.0], [0.008268454112112522, 0.00023985579900909215, 7.361917960224673e-05, 6.437722186092287e-05, 0.000175663924892433, 0.9911779761314392, 0.0, 0.0, 0.0, 0.0, 0.0, 0.0, 0.0, 0.0, 0.0, 0.0, 0.0, 0.0, 0.0, 0.0, 0.0, 0.0, 0.0, 0.0, 0.0, 0.0, 0.0, 0.0, 0.0, 0.0, 0.0, 0.0, 0.0], [0.0012215034803375602, 0.00540045415982604, 0.0016716326354071498, 0.00040775691741146147, 0.0006163678481243551, 0.0010931175202131271, 0.9895892143249512, 0.0, 0.0, 0.0, 0.0, 0.0, 0.0, 0.0, 0.0, 0.0, 0.0, 0.0, 0.0, 0.0, 0.0, 0.0, 0.0, 0.0, 0.0, 0.0, 0.0, 0.0, 0.0, 0.0, 0.0, 0.0, 0.0], [0.001245975960046053, 0.0009121203329414129, 0.0005976716056466103, 0.00013656872033607215, 0.0003304107813164592, 0.0015722765820100904, 0.003880815114825964, 0.9913241863250732, 0.0, 0.0, 0.0, 0.0, 0.0, 0.0, 0.0, 0.0, 0.0, 0.0, 0.0, 0.0, 0.0, 0.0, 0.0, 0.0, 0.0, 0.0, 0.0, 0.0, 0.0, 0.0, 0.0, 0.0, 0.0], [0.00028217461658641696, 0.004068166948854923, 0.0026605171151459217, 0.0013093125307932496, 0.008030473254621029, 0.00028790938085876405, 0.00022922920470591635, 0.0003948427038267255, 0.9827372431755066, 0.0, 0.0, 0.0, 0.0, 0.0, 0.0, 0.0, 0.0, 0.0, 0.0, 0.0, 0.0, 0.0, 0.0, 0.0, 0.0, 0.0, 0.0, 0.0, 0.0, 0.0, 0.0, 0.0, 0.0], [3.4739499824354425e-05, 0.000395385519368574, 0.0001327274803770706, 0.0002585243491921574, 0.0010855633299797773, 9.198096813634038e-05, 0.0003267084830440581, 0.0005427474970929325, 0.0061059389263391495, 0.9910256266593933, 0.0, 0.0, 0.0, 0.0, 0.0, 0.0, 0.0, 0.0, 0.0, 0.0, 0.0, 0.0, 0.0, 0.0, 0.0, 0.0, 0.0, 0.0, 0.0, 0.0, 0.0, 0.0, 0.0], [0.003378506051376462, 5.0908744015032426e-05, 1.645208612899296e-05, 1.69261602422921e-05, 4.181417534709908e-05, 0.49394020438194275, 0.00012981283362023532, 0.0008837355417199433, 3.221205042791553e-05, 2.725216472754255e-05, 0.5014821887016296, 0.0, 0.0, 0.0, 0.0, 0.0, 0.0, 0.0, 0.0, 0.0, 0.0, 0.0, 0.0, 0.0, 0.0, 0.0, 0.0, 0.0, 0.0, 0.0, 0.0, 0.0, 0.0], [8.416063792537898e-05, 0.0013417248846963048, 0.0012613632716238499, 0.0021450805943459272, 0.004042373970150948, 0.0004830536199733615, 0.00011582666775211692, 0.00015203638758976012, 2.6925383281195536e-05, 0.00012675185280386358, 0.0003128990647383034, 0.9899077415466309, 0.0, 0.0, 0.0, 0.0, 0.0, 0.0, 0.0, 0.0, 0.0, 0.0, 0.0, 0.0, 0.0, 0.0, 0.0, 0.0, 0.0, 0.0, 0.0, 0.0, 0.0], [0.0003782235726248473, 0.0009837555699050426, 0.03934122249484062, 0.002732253400608897, 0.003668026300147176, 0.00011039190576411784, 0.0001293104432988912, 0.00021743499382864684, 0.00010623294656397775, 0.000774820102378726, 6.647672125836834e-05, 0.0003148667747154832, 0.9511768817901611, 0.0, 0.0, 0.0, 0.0, 0.0, 0.0, 0.0, 0.0, 0.0, 0.0, 0.0, 0.0, 0.0, 0.0, 0.0, 0.0, 0.0, 0.0, 0.0, 0.0], [0.00210172263905406, 2.443689118081238e-05, 7.788779839756899e-06, 8.65160473040305e-06, 2.0140058040851727e-05, 0.29971349239349365, 7.525283581344411e-05, 0.0004898325423710048, 1.8459502825862728e-05, 1.5344603525591083e-05, 0.3283388614654541, 4.175812136963941e-05, 6.469206255133031e-06, 0.36913782358169556, 0.0, 0.0, 0.0, 0.0, 0.0, 0.0, 0.0, 0.0, 0.0, 0.0, 0.0, 0.0, 0.0, 0.0, 0.0, 0.0, 0.0, 0.0, 0.0], [0.0001496832846896723, 0.00011296597222099081, 0.0003629484854172915, 0.0001859124022303149, 0.00016460890765301883, 4.1432293073739856e-05, 2.8764663511537947e-05, 7.786950300214812e-05, 0.0009200983913615346, 0.010340185835957527, 2.7572392355068587e-05, 1.783318839443382e-05, 0.00033054465893656015, 2.4375727662118152e-05, 0.9872152805328369, 0.0, 0.0, 0.0, 0.0, 0.0, 0.0, 0.0, 0.0, 0.0, 0.0, 0.0, 0.0, 0.0, 0.0, 0.0, 0.0, 0.0, 0.0], [0.00010753883543657139, 0.002178194234147668, 0.0020426211412996054, 0.004251956008374691, 0.006989939138293266, 2.5118883058894426e-05, 0.0007779048173688352, 0.0005783571978099644, 0.002937854500487447, 0.03322547301650047, 1.7199339708895423e-05, 0.0008936516824178398, 0.001523863524198532, 1.465685636503622e-05, 0.006222677417099476, 0.9382129311561584, 0.0, 0.0, 0.0, 0.0, 0.0, 0.0, 0.0, 0.0, 0.0, 0.0, 0.0, 0.0, 0.0, 0.0, 0.0, 0.0, 0.0], [0.001363485585898161, 1.3226008377387188e-05, 4.013930265500676e-06, 4.803033334610518e-06, 1.0257431313220877e-05, 0.19665934145450592, 4.5272587158251554e-05, 0.00027762577519752085, 1.1714387255779002e-05, 9.473292266193312e-06, 0.22919589281082153, 2.643059633555822e-05, 4.101847480342258e-06, 0.2657609283924103, 8.515346962667536e-06, 4.536012056632899e-06, 0.30660033226013184, 0.0, 0.0, 0.0, 0.0, 0.0, 0.0, 0.0, 0.0, 0.0, 0.0, 0.0, 0.0, 0.0, 0.0, 0.0, 0.0], [0.0008924753637984395, 0.00013490782293956727, 4.7798355808481574e-05, 5.803690874017775e-05, 0.0001048017293214798, 0.012799087911844254, 0.0007168242591433227, 0.03257959708571434, 2.6449928554939106e-05, 0.00011185073526576161, 0.011884276755154133, 4.0102735511027277e-05, 5.555403549806215e-05, 0.012377855367958546, 0.00010783500329125673, 5.404359762906097e-05, 0.013122130185365677, 0.9148862957954407, 0.0, 0.0, 0.0, 0.0, 0.0, 0.0, 0.0, 0.0, 0.0, 0.0, 0.0, 0.0, 0.0, 0.0, 0.0], [5.075339231552789e-06, 4.396155782160349e-05, 3.398521585040726e-05, 7.940362411318347e-05, 5.4779382480774075e-05, 7.9215743653549e-07, 9.313369446317665e-06, 7.72712428442901e-06, 8.597295527579263e-05, 0.00012274102482479066, 5.14151395236695e-07, 1.7028020238285535e-06, 3.834190283669159e-05, 4.4509846475193626e-07, 0.0001392830308759585, 0.00032758075394667685, 3.9948128005562467e-07, 3.948153334931703e-06, 0.9990440011024475, 0.0, 0.0, 0.0, 0.0, 0.0, 0.0, 0.0, 0.0, 0.0, 0.0, 0.0, 0.0, 0.0, 0.0], [9.346215665573254e-05, 0.0018395754741504788, 0.002523318398743868, 0.018087290227413177, 0.002936385804787278, 0.0002733591536525637, 4.872974386671558e-05, 0.00042127881897613406, 0.00015624404477421194, 0.0009748365846462548, 0.00020533663337118924, 0.0010228848550468683, 0.0019548051059246063, 0.00019470402912702411, 0.001129424781538546, 0.0016656148945912719, 0.0001873407600214705, 0.0009503461769782007, 0.00044551832252182066, 0.9648895859718323, 0.0, 0.0, 0.0, 0.0, 0.0, 0.0, 0.0, 0.0, 0.0, 0.0, 0.0, 0.0, 0.0], [0.0010859690373763442, 8.51231743581593e-06, 2.5307213036285248e-06, 3.062502855755156e-06, 5.975123258394888e-06, 0.1329260915517807, 3.345326331327669e-05, 0.00018891283252742141, 8.477747542201541e-06, 6.540426966239465e-06, 0.16445912420749664, 1.813005110307131e-05, 3.062742507609073e-06, 0.19719170033931732, 6.429853783629369e-06, 3.4447423331585014e-06, 0.2331715226173401, 0.0022796292323619127, 3.7134434478502953e-06, 3.5288056096760556e-05, 0.2685583233833313, 0.0, 0.0, 0.0, 0.0, 0.0, 0.0, 0.0, 0.0, 0.0, 0.0, 0.0, 0.0], [0.00041979565867222846, 0.00011805002577602863, 0.0001424052898073569, 3.796795499511063e-05, 0.0001904323580674827, 0.0017651226371526718, 0.0005709838587790728, 0.0005008869920857251, 8.840754890115932e-05, 0.00014208705397322774, 0.0016639858949929476, 3.3481144782854244e-05, 2.4414028302999213e-05, 0.00175465305801481, 6.520324677694589e-05, 2.4142645997926593e-05, 0.0018299167277291417, 0.0015691040316596627, 3.9748843846609816e-05, 0.00015712414460722357, 0.0018554501002654433, 0.9870065450668335, 0.0, 0.0, 0.0, 0.0, 0.0, 0.0, 0.0, 0.0, 0.0, 0.0, 0.0], [7.501756044803187e-05, 0.0014379785861819983, 6.345127621898428e-05, 0.0001086482880054973, 0.0001563313853694126, 3.2101108899951214e-06, 0.0022032682318240404, 0.00022076514142099768, 5.240272366791032e-05, 4.881560380454175e-05, 2.264454906253377e-06, 1.532719034003094e-05, 4.157124749326613e-06, 2.0228276298439596e-06, 6.2967787926027086e-06, 4.8486461309948936e-05, 1.992891384361428e-06, 3.246985943405889e-05, 0.0012695054756477475, 1.9632550902315415e-05, 1.8090898947775713e-06, 0.000581027939915657, 0.9936450719833374, 0.0, 0.0, 0.0, 0.0, 0.0, 0.0, 0.0, 0.0, 0.0, 0.0], [7.450165139744058e-05, 0.000613939540926367, 0.0009361227275803685, 0.0008487831219099462, 0.002850639633834362, 1.0365061825723387e-05, 0.00021614297293126583, 0.00017397581541445106, 0.0020508442539721727, 0.005805302411317825, 8.055229955061805e-06, 8.086599700618535e-05, 0.0007702462025918067, 7.2881916821643244e-06, 0.00105761899612844, 0.0022755961399525404, 6.663267868134426e-06, 0.00011621062003541738, 0.0005972459330223501, 8.73631433933042e-05, 6.332344128168188e-06, 6.096452852943912e-05, 6.090577517170459e-05, 0.9812840819358826, 0.0, 0.0, 0.0, 0.0, 0.0, 0.0, 0.0, 0.0, 0.0], [0.0005848734872415662, 0.000159091578098014, 1.0836471119546331e-05, 7.365470082731918e-05, 0.00011349536362104118, 0.0008256640867330134, 0.00031911046244204044, 0.018529996275901794, 1.0226580343442038e-05, 4.9587131798034534e-05, 0.0007716421969234943, 4.454824374988675e-05, 9.86502618616214e-06, 0.0008067156886681914, 2.2673864805256017e-05, 1.2464163773984183e-05, 0.0008449104498140514, 0.008790086954832077, 3.579244366846979e-05, 3.662862945930101e-05, 0.0008917507948353887, 0.001079175970517099, 0.0003708459553308785, 0.00010837137961061671, 0.9654980301856995, 0.0, 0.0, 0.0, 0.0, 0.0, 0.0, 0.0, 0.0], [1.6459911421407014e-05, 0.00017152423970401287, 3.208318230463192e-05, 0.00010234174260403961, 0.00263187731616199, 9.886194675345905e-06, 3.25084911310114e-05, 3.741750697372481e-05, 0.00012631528079509735, 4.991206878912635e-05, 8.302549758809619e-06, 8.443414844805375e-05, 3.127960371784866e-05, 7.633364475623239e-06, 1.0101363841386046e-05, 5.6673758081160486e-05, 7.4421441240701824e-06, 2.768965896393638e-05, 1.841834091464989e-05, 2.879437715819222e-06, 6.840428341092775e-06, 4.279867425793782e-06, 0.0004317645507398993, 0.00017617503181099892, 8.995574899017811e-05, 0.9958258867263794, 0.0, 0.0, 0.0, 0.0, 0.0, 0.0, 0.0], [2.636787758092396e-05, 0.00018008591723628342, 0.0001808285160223022, 0.0003046455094590783, 0.0003939064918085933, 4.6748096792725846e-05, 2.7231515559833497e-05, 4.87347315356601e-05, 0.00029131449991837144, 0.0004206137382425368, 3.804618609137833e-05, 0.00025244971038773656, 5.606717604678124e-05, 3.820344136329368e-05, 0.001536503084935248, 0.001253716298379004, 3.5934084735345095e-05, 2.303653491253499e-05, 0.0001803614286473021, 0.00012266043631825596, 3.517764343996532e-05, 6.924639455974102e-05, 0.00011267232184763998, 0.0008507337770424783, 0.000143618366564624, 0.00023527804296463728, 0.9930959343910217, 0.0, 0.0, 0.0, 0.0, 0.0, 0.0], [0.0007048267289064825, 5.675398278981447e-05, 3.3513010748720262e-06, 7.472670404240489e-06, 1.7859540093922988e-05, 0.0008156549301929772, 4.95296590088401e-05, 0.0013531014556065202, 3.741773252841085e-05, 0.00014378057676367462, 0.0007639356190338731, 9.99173971649725e-06, 2.88444607576821e-06, 0.00075522530823946, 0.00010159628436667845, 3.120555447821971e-06, 0.0008060980471782386, 0.0011406759731471539, 1.434318346582586e-05, 9.910202606988605e-06, 0.0008649221854284406, 8.663280459586531e-05, 3.469556395430118e-05, 0.00010265847959090024, 0.007663487922400236, 4.1878902266034856e-05, 3.490865537969512e-06, 0.9844046235084534, 0.0, 0.0, 0.0, 0.0, 0.0], [2.0288291125325486e-05, 2.9542638003476895e-05, 5.037501978222281e-05, 0.000977831776253879, 0.3728248178958893, 6.661304723820649e-06, 1.573363806528505e-05, 3.9812428440200165e-05, 0.00022353215899784118, 0.00012674306344706565, 5.118439275975106e-06, 0.0002411619498161599, 1.297382368647959e-05, 4.800685928785242e-06, 2.3321679691434838e-05, 7.723510498180985e-05, 4.59343664260814e-06, 1.9647102817543782e-05, 0.00021129939705133438, 1.1453497791080736e-05, 4.38048436990357e-06, 1.4442612155107781e-05, 3.6767247365787625e-05, 0.00011845318658743054, 3.797707904595882e-05, 0.0007802738109603524, 0.00040483567863702774, 1.0429523172206245e-05, 0.6236653923988342, 0.0, 0.0, 0.0, 0.0], [2.0582927390933037e-05, 8.831277227727696e-05, 0.00020454861805774271, 0.00030189042445272207, 8.223895565606654e-05, 1.9704359146999195e-05, 0.00014085113070905209, 2.896320256695617e-05, 7.669370461371727e-06, 3.724623820744455e-05, 1.673675433266908e-05, 6.404696614481509e-05, 0.0006910588126629591, 1.6027568563004024e-05, 0.00015603694191668183, 0.0001482591324020177, 1.5700054063927382e-05, 9.155390580417588e-05, 8.525107114110142e-05, 4.904517481918447e-06, 1.5784380593686365e-05, 5.293111826176755e-05, 0.0005298362229950726, 0.0005658413865603507, 6.167319224914536e-05, 6.729510641889647e-05, 0.00030774486367590725, 1.0369188203185331e-05, 6.799336551921442e-05, 0.9960988759994507, 0.0, 0.0, 0.0], [1.33713447212358e-05, 0.0009821545099839568, 0.0004154818889219314, 0.00011442370305303484, 0.0003873086243402213, 5.660871011059498e-06, 0.0012746305437758565, 0.0005708076059818268, 0.0006383624859154224, 0.0005776658072136343, 4.127741249249084e-06, 9.16175213205861e-06, 9.14285919861868e-05, 3.7748750401078723e-06, 1.3575347111327574e-05, 0.00029161825659684837, 3.447495828368119e-06, 7.899192860350013e-05, 0.003189128590747714, 4.885083853878314e-06, 3.165289626849699e-06, 1.4087469025980681e-05, 0.0001567144354339689, 0.00035449006827548146, 0.00017265455971937627, 0.0013050679117441177, 0.00021867688337806612, 2.6776744562084787e-05, 0.00026460259687155485, 1.3334554751054384e-05, 0.9888005256652832, 0.0, 0.0], [2.7455111194285564e-05, 0.00016438275633845478, 7.996452768566087e-05, 0.0011914987117052078, 0.0007883636862970889, 2.658424136825488e-06, 3.0057704861974344e-05, 7.457996616722085e-06, 0.00014941050903871655, 2.8857237339252606e-05, 1.8738343214863562e-06, 0.000332881259964779, 5.160874570719898e-05, 1.7577530115886475e-06, 0.00012656649050768465, 0.00014267064398154616, 1.695453420325066e-06, 2.1952675524516962e-05, 0.00023040866653900594, 4.429350883583538e-05, 1.610336539670243e-06, 2.7008072720491327e-05, 0.0002388490829616785, 0.00019046070519834757, 9.496162419964094e-06, 0.00044664565939456224, 0.0002209580852650106, 5.379190952226054e-06, 0.0006956426077522337, 0.0001547082356410101, 0.00025485531659796834, 0.9943285584449768, 0.0], [0.006231015082448721, 9.722761751618236e-05, 6.871571258670883e-06, 2.1151015971554443e-05, 5.8280267694499344e-05, 0.007238868623971939, 2.0987899915780872e-05, 0.0002545900351833552, 6.243836105568334e-05, 2.092460636049509e-05, 0.007872122339904308, 5.585314647760242e-05, 9.868749657471199e-06, 0.009169364348053932, 7.20299722161144e-05, 7.068688319122884e-06, 0.010345958173274994, 0.0013096501352265477, 3.8036774640204385e-05, 8.022682595765218e-05, 0.01205319445580244, 4.07198749599047e-05, 3.6860617456113687e-06, 3.471332820481621e-05, 0.0005061821429990232, 8.918891398934647e-05, 2.9111955882399343e-05, 0.0012772780610248446, 8.489609172102064e-05, 0.00018447375623509288, 0.00013425693032331765, 6.813043000875041e-05, 0.9425215721130371]], [[1.0, 0.0, 0.0, 0.0, 0.0, 0.0, 0.0, 0.0, 0.0, 0.0, 0.0, 0.0, 0.0, 0.0, 0.0, 0.0, 0.0, 0.0, 0.0, 0.0, 0.0, 0.0, 0.0, 0.0, 0.0, 0.0, 0.0, 0.0, 0.0, 0.0, 0.0, 0.0, 0.0], [0.9430296421051025, 0.05697040632367134, 0.0, 0.0, 0.0, 0.0, 0.0, 0.0, 0.0, 0.0, 0.0, 0.0, 0.0, 0.0, 0.0, 0.0, 0.0, 0.0, 0.0, 0.0, 0.0, 0.0, 0.0, 0.0, 0.0, 0.0, 0.0, 0.0, 0.0, 0.0, 0.0, 0.0, 0.0], [0.9185556173324585, 0.032800041139125824, 0.048644304275512695, 0.0, 0.0, 0.0, 0.0, 0.0, 0.0, 0.0, 0.0, 0.0, 0.0, 0.0, 0.0, 0.0, 0.0, 0.0, 0.0, 0.0, 0.0, 0.0, 0.0, 0.0, 0.0, 0.0, 0.0, 0.0, 0.0, 0.0, 0.0, 0.0, 0.0], [0.8779287934303284, 0.056434281170368195, 0.042711906135082245, 0.02292502485215664, 0.0, 0.0, 0.0, 0.0, 0.0, 0.0, 0.0, 0.0, 0.0, 0.0, 0.0, 0.0, 0.0, 0.0, 0.0, 0.0, 0.0, 0.0, 0.0, 0.0, 0.0, 0.0, 0.0, 0.0, 0.0, 0.0, 0.0, 0.0, 0.0], [0.804131805896759, 0.02909817360341549, 0.07556723803281784, 0.056435927748680115, 0.03476680442690849, 0.0, 0.0, 0.0, 0.0, 0.0, 0.0, 0.0, 0.0, 0.0, 0.0, 0.0, 0.0, 0.0, 0.0, 0.0, 0.0, 0.0, 0.0, 0.0, 0.0, 0.0, 0.0, 0.0, 0.0, 0.0, 0.0, 0.0, 0.0], [0.4943104088306427, 0.020183544605970383, 0.027966545894742012, 0.01831909269094467, 0.03144208714365959, 0.40777838230133057, 0.0, 0.0, 0.0, 0.0, 0.0, 0.0, 0.0, 0.0, 0.0, 0.0, 0.0, 0.0, 0.0, 0.0, 0.0, 0.0, 0.0, 0.0, 0.0, 0.0, 0.0, 0.0, 0.0, 0.0, 0.0, 0.0, 0.0], [0.6057474613189697, 0.029242433607578278, 0.09491521120071411, 0.0760936439037323, 0.06614667922258377, 0.08705798536539078, 0.040796633809804916, 0.0, 0.0, 0.0, 0.0, 0.0, 0.0, 0.0, 0.0, 0.0, 0.0, 0.0, 0.0, 0.0, 0.0, 0.0, 0.0, 0.0, 0.0, 0.0, 0.0, 0.0, 0.0, 0.0, 0.0, 0.0, 0.0], [0.44838210940361023, 0.045424286276102066, 0.07401476800441742, 0.0686485543847084, 0.09376633912324905, 0.08774270862340927, 0.06534260511398315, 0.11667858064174652, 0.0, 0.0, 0.0, 0.0, 0.0, 0.0, 0.0, 0.0, 0.0, 0.0, 0.0, 0.0, 0.0, 0.0, 0.0, 0.0, 0.0, 0.0, 0.0, 0.0, 0.0, 0.0, 0.0, 0.0, 0.0], [0.4916928708553314, 0.137820765376091, 0.039550136774778366, 0.06153310462832451, 0.04539967700839043, 0.04073144122958183, 0.06228692829608917, 0.05861860141158104, 0.06236642599105835, 0.0, 0.0, 0.0, 0.0, 0.0, 0.0, 0.0, 0.0, 0.0, 0.0, 0.0, 0.0, 0.0, 0.0, 0.0, 0.0, 0.0, 0.0, 0.0, 0.0, 0.0, 0.0, 0.0, 0.0], [0.5404125452041626, 0.044426653534173965, 0.03957850858569145, 0.04188811033964157, 0.07529853284358978, 0.04669501632452011, 0.048475220799446106, 0.055005211383104324, 0.08293064683675766, 0.025289518758654594, 0.0, 0.0, 0.0, 0.0, 0.0, 0.0, 0.0, 0.0, 0.0, 0.0, 0.0, 0.0, 0.0, 0.0, 0.0, 0.0, 0.0, 0.0, 0.0, 0.0, 0.0, 0.0, 0.0], [0.28273507952690125, 0.014234153553843498, 0.01764770597219467, 0.011433075182139874, 0.02174169011414051, 0.2666541337966919, 0.015403498895466328, 0.04734930023550987, 0.0177675299346447, 0.01392604410648346, 0.29110777378082275, 0.0, 0.0, 0.0, 0.0, 0.0, 0.0, 0.0, 0.0, 0.0, 0.0, 0.0, 0.0, 0.0, 0.0, 0.0, 0.0, 0.0, 0.0, 0.0, 0.0, 0.0, 0.0], [0.3449662923812866, 0.04611686244606972, 0.05771538242697716, 0.11131852865219116, 0.11289370059967041, 0.027930350974202156, 0.0385918952524662, 0.0565652959048748, 0.058640558272600174, 0.06648588925600052, 0.026114381849765778, 0.052660830318927765, 0.0, 0.0, 0.0, 0.0, 0.0, 0.0, 0.0, 0.0, 0.0, 0.0, 0.0, 0.0, 0.0, 0.0, 0.0, 0.0, 0.0, 0.0, 0.0, 0.0, 0.0], [0.4699217677116394, 0.032015666365623474, 0.1077290028333664, 0.02700679376721382, 0.04465879872441292, 0.022773563861846924, 0.023117048665881157, 0.025491509586572647, 0.04950273409485817, 0.02657395415008068, 0.019708866253495216, 0.06337960809469223, 0.0881207287311554, 0.0, 0.0, 0.0, 0.0, 0.0, 0.0, 0.0, 0.0, 0.0, 0.0, 0.0, 0.0, 0.0, 0.0, 0.0, 0.0, 0.0, 0.0, 0.0, 0.0], [0.20661775767803192, 0.010379293002188206, 0.012261917814612389, 0.008319104090332985, 0.016007104888558388, 0.19527749717235565, 0.011453269980847836, 0.034756746143102646, 0.013073588721454144, 0.010938974097371101, 0.21602492034435272, 0.005866479128599167, 0.02364227920770645, 0.23538105189800262, 0.0, 0.0, 0.0, 0.0, 0.0, 0.0, 0.0, 0.0, 0.0, 0.0, 0.0, 0.0, 0.0, 0.0, 0.0, 0.0, 0.0, 0.0, 0.0], [0.33993497490882874, 0.029161633923649788, 0.09540710598230362, 0.033951882272958755, 0.08440462499856949, 0.012559554539620876, 0.02935863845050335, 0.024564139544963837, 0.10622440278530121, 0.04689211770892143, 0.011469594202935696, 0.006369180977344513, 0.11145269870758057, 0.011318005621433258, 0.056931521743535995, 0.0, 0.0, 0.0, 0.0, 0.0, 0.0, 0.0, 0.0, 0.0, 0.0, 0.0, 0.0, 0.0, 0.0, 0.0, 0.0, 0.0, 0.0], [0.4040882885456085, 0.02419569343328476, 0.03891006484627724, 0.014727444387972355, 0.024456577375531197, 0.038450051099061966, 0.03923026844859123, 0.03717132285237312, 0.06030000373721123, 0.041985489428043365, 0.03716716170310974, 0.0163912083953619, 0.03928964212536812, 0.037729792296886444, 0.13448566198349, 0.011421284638345242, 0.0, 0.0, 0.0, 0.0, 0.0, 0.0, 0.0, 0.0, 0.0, 0.0, 0.0, 0.0, 0.0, 0.0, 0.0, 0.0, 0.0], [0.1587643176317215, 0.008203898556530476, 0.009295247495174408, 0.006221720017492771, 0.011793209239840508, 0.1506979912519455, 0.008851944468915462, 0.026313554495573044, 0.01018691249191761, 0.00843372754752636, 0.1676224321126938, 0.004420022014528513, 0.01821178011596203, 0.1835080236196518, 0.02092733606696129, 0.006447788327932358, 0.2001000940799713, 0.0, 0.0, 0.0, 0.0, 0.0, 0.0, 0.0, 0.0, 0.0, 0.0, 0.0, 0.0, 0.0, 0.0, 0.0, 0.0], [0.1753920018672943, 0.02056965045630932, 0.01829141192138195, 0.009298022836446762, 0.01737789995968342, 0.04253478720784187, 0.020701559260487556, 0.050443947315216064, 0.025438060984015465, 0.017218217253684998, 0.043115388602018356, 0.013349777087569237, 0.028528591617941856, 0.045972563326358795, 0.03408820182085037, 0.019834188744425774, 0.04992839694023132, 0.36791732907295227, 0.0, 0.0, 0.0, 0.0, 0.0, 0.0, 0.0, 0.0, 0.0, 0.0, 0.0, 0.0, 0.0, 0.0, 0.0], [0.26033350825309753, 0.017148377373814583, 0.037452779710292816, 0.0759480819106102, 0.04674704000353813, 0.01806853711605072, 0.03134644031524658, 0.03741510212421417, 0.07175806909799576, 0.05872535705566406, 0.017078697681427002, 0.04030589386820793, 0.057063568383455276, 0.017113571986556053, 0.10491330921649933, 0.04670536518096924, 0.0172302033752203, 0.024682162329554558, 0.0199639443308115, 0.0, 0.0, 0.0, 0.0, 0.0, 0.0, 0.0, 0.0, 0.0, 0.0, 0.0, 0.0, 0.0, 0.0], [0.30547061562538147, 0.051904961466789246, 0.04346894100308418, 0.021846843883395195, 0.021017223596572876, 0.033904798328876495, 0.041904695332050323, 0.03909287974238396, 0.028871983289718628, 0.023003408685326576, 0.032058022916316986, 0.023334456607699394, 0.07110597938299179, 0.03290090337395668, 0.06164199858903885, 0.03183261305093765, 0.033767618238925934, 0.04571494087576866, 0.03501523286104202, 0.022141916677355766, 0.0, 0.0, 0.0, 0.0, 0.0, 0.0, 0.0, 0.0, 0.0, 0.0, 0.0, 0.0, 0.0], [0.12242959439754486, 0.006105309817939997, 0.00667028920724988, 0.004581784829497337, 0.009337794966995716, 0.11381806433200836, 0.006783357821404934, 0.019719919189810753, 0.007580867502838373, 0.0066136447712779045, 0.12765932083129883, 0.0035026459954679012, 0.014002319425344467, 0.140009805560112, 0.015684878453612328, 0.0050926124677062035, 0.15336212515830994, 0.03527424484491348, 0.022465594112873077, 0.006954456213861704, 0.1723514199256897, 0.0, 0.0, 0.0, 0.0, 0.0, 0.0, 0.0, 0.0, 0.0, 0.0, 0.0, 0.0], [0.20538467168807983, 0.03477850928902626, 0.014682904817163944, 0.03118334338068962, 0.03093128278851509, 0.0219527967274189, 0.03290862217545509, 0.05740528926253319, 0.05587520822882652, 0.04864276200532913, 0.023520758375525475, 0.015108519233763218, 0.027386318892240524, 0.02451845072209835, 0.06060456484556198, 0.034776173532009125, 0.026137802749872208, 0.05168444663286209, 0.06281403452157974, 0.02029149979352951, 0.028601765632629395, 0.09081029891967773, 0.0, 0.0, 0.0, 0.0, 0.0, 0.0, 0.0, 0.0, 0.0, 0.0, 0.0], [0.2397860735654831, 0.03132354095578194, 0.05037751421332359, 0.015869442373514175, 0.03901461139321327, 0.022805556654930115, 0.042853500694036484, 0.028882291167974472, 0.040462676435709, 0.03410723805427551, 0.02264454960823059, 0.03923068195581436, 0.07238563895225525, 0.022345494478940964, 0.04958103224635124, 0.03193330764770508, 0.023325566202402115, 0.04521363601088524, 0.03055432252585888, 0.022876538336277008, 0.024732302874326706, 0.05549488589167595, 0.014199563302099705, 0.0, 0.0, 0.0, 0.0, 0.0, 0.0, 0.0, 0.0, 0.0, 0.0], [0.23581676185131073, 0.020558306947350502, 0.04375004768371582, 0.029704902321100235, 0.03703877702355385, 0.01495345588773489, 0.04004307836294174, 0.027184374630451202, 0.04576187580823898, 0.03809264674782753, 0.014181883074343204, 0.03789146989583969, 0.06518242508172989, 0.014182928018271923, 0.05489491671323776, 0.023720968514680862, 0.014592766761779785, 0.025570034980773926, 0.07356191426515579, 0.03918235003948212, 0.014925522729754448, 0.04628866910934448, 0.027801040560007095, 0.015118872746825218, 0.0, 0.0, 0.0, 0.0, 0.0, 0.0, 0.0, 0.0, 0.0], [0.1425495594739914, 0.012010151520371437, 0.01688128150999546, 0.02074255794286728, 0.03245176002383232, 0.029626041650772095, 0.030295155942440033, 0.05620867758989334, 0.02960876375436783, 0.029481828212738037, 0.03263989835977554, 0.010038207285106182, 0.04078618809580803, 0.03462780639529228, 0.03391636535525322, 0.02015574276447296, 0.036843158304691315, 0.060647010803222656, 0.0474470779299736, 0.03252529352903366, 0.040400389581918716, 0.05947765335440636, 0.031293999403715134, 0.04792550206184387, 0.0714198648929596, 0.0, 0.0, 0.0, 0.0, 0.0, 0.0, 0.0, 0.0], [0.22229065001010895, 0.05911137908697128, 0.03702676296234131, 0.040590133517980576, 0.027254508808255196, 0.01917477697134018, 0.03171537071466446, 0.02046213112771511, 0.03811328113079071, 0.01992788538336754, 0.018538927659392357, 0.015436683781445026, 0.04536491259932518, 0.01935577765107155, 0.050358325242996216, 0.0332813635468483, 0.020179761573672295, 0.03679442033171654, 0.043313831090927124, 0.028476424515247345, 0.02131732366979122, 0.04771290719509125, 0.013107024133205414, 0.026336029171943665, 0.03021138720214367, 0.03454802185297012, 0.0, 0.0, 0.0, 0.0, 0.0, 0.0, 0.0], [0.2843813896179199, 0.02387011982500553, 0.046418797224760056, 0.010260088369250298, 0.033909913152456284, 0.01830148883163929, 0.02370886318385601, 0.024766841903328896, 0.025767771527171135, 0.022968802601099014, 0.016735460609197617, 0.013406923972070217, 0.04598658159375191, 0.01667323336005211, 0.08106391131877899, 0.05033258721232414, 0.016726147383451462, 0.019904831424355507, 0.03032529167830944, 0.010146323591470718, 0.017318248748779297, 0.019040975719690323, 0.011081119067966938, 0.05204640328884125, 0.0333535261452198, 0.038808878511190414, 0.012695521116256714, 0.0, 0.0, 0.0, 0.0, 0.0, 0.0], [0.11854362487792969, 0.01335094589740038, 0.013422008603811264, 0.030273238196969032, 0.026162946596741676, 0.02077622152864933, 0.021280208602547646, 0.03798934444785118, 0.035364437848329544, 0.03665177896618843, 0.0220040250569582, 0.015379995107650757, 0.030023107305169106, 0.02329966239631176, 0.03000756911933422, 0.01486137229949236, 0.02452191337943077, 0.03999806195497513, 0.039001550525426865, 0.03600769117474556, 0.026851190254092216, 0.0679587572813034, 0.03893130645155907, 0.057258039712905884, 0.06659828871488571, 0.03075685352087021, 0.023343222215771675, 0.05938271805644035, 0.0, 0.0, 0.0, 0.0, 0.0], [0.2509184777736664, 0.011351875960826874, 0.02303394116461277, 0.018849756568670273, 0.013208834454417229, 0.016430411487817764, 0.037636999040842056, 0.02151942253112793, 0.038231492042541504, 0.03122311644256115, 0.016081087291240692, 0.017178980633616447, 0.08239644765853882, 0.015775414183735847, 0.04969312250614166, 0.03397902473807335, 0.016469139605760574, 0.025656145066022873, 0.05326930806040764, 0.024380983784794807, 0.017032906413078308, 0.03106258064508438, 0.014834246598184109, 0.04310784116387367, 0.02781834453344345, 0.015127965249121189, 0.012749847956001759, 0.026852698996663094, 0.014129594899713993, 0.0, 0.0, 0.0, 0.0], [0.1925695538520813, 0.022833649069070816, 0.01449586357921362, 0.02805499918758869, 0.03290427103638649, 0.018577096983790398, 0.02377672865986824, 0.014988919720053673, 0.027755483984947205, 0.01995214819908142, 0.018426887691020966, 0.02680842950940132, 0.04026195779442787, 0.01895732805132866, 0.019980235025286674, 0.03905029967427254, 0.019494326785206795, 0.0307143684476614, 0.07932324707508087, 0.03619769588112831, 0.020379580557346344, 0.023319339379668236, 0.01872381754219532, 0.05692775547504425, 0.02392756938934326, 0.039243221282958984, 0.02178352139890194, 0.020374242216348648, 0.04178828001022339, 0.008409218862652779, 0.0, 0.0, 0.0], [0.1891939342021942, 0.014352072961628437, 0.02782936953008175, 0.0189360324293375, 0.05455239117145538, 0.0243024080991745, 0.020752539858222008, 0.030501779168844223, 0.016900410875678062, 0.029904033988714218, 0.023111775517463684, 0.021664828062057495, 0.033359844237565994, 0.02305050566792488, 0.027927014976739883, 0.026253480464220047, 0.024257931858301163, 0.024395005777478218, 0.01766665279865265, 0.02208109013736248, 0.025441495701670647, 0.023996734991669655, 0.01594139263033867, 0.021863464266061783, 0.0487627275288105, 0.010234061628580093, 0.02576299011707306, 0.0619233064353466, 0.06737112253904343, 0.01818411983549595, 0.00952550582587719, 0.0, 0.0], [0.271119624376297, 0.054605767130851746, 0.03970596566796303, 0.03512893617153168, 0.020313788205385208, 0.008183871395885944, 0.0225566104054451, 0.014036431908607483, 0.02619846723973751, 0.03235533833503723, 0.007185019552707672, 0.010813486762344837, 0.051626056432724, 0.007057533599436283, 0.04232776165008545, 0.018505971878767014, 0.006952990777790546, 0.012550857849419117, 0.037855155766010284, 0.014787400141358376, 0.007130764424800873, 0.018956724554300308, 0.010758962482213974, 0.023540519177913666, 0.01625620387494564, 0.007915417663753033, 0.03652311488986015, 0.014562288299202919, 0.019251467660069466, 0.010911807417869568, 0.03439667448401451, 0.06592903286218643, 0.0], [0.14836545288562775, 0.014506898820400238, 0.00764628779143095, 0.01103875134140253, 0.026302490383386612, 0.013194819912314415, 0.02718483656644821, 0.01739216409623623, 0.016122130677103996, 0.032880764454603195, 0.014050276950001717, 0.00716732582077384, 0.01612005941569805, 0.014647016301751137, 0.018450886011123657, 0.013102119788527489, 0.015283208340406418, 0.014543038792908192, 0.05961206927895546, 0.022383900359272957, 0.016796978190541267, 0.1092827320098877, 0.07263991981744766, 0.08393717557191849, 0.025248995050787926, 0.03774844855070114, 0.016226937994360924, 0.024953901767730713, 0.0421658456325531, 0.00452579976990819, 0.014491360634565353, 0.01914573647081852, 0.022841650992631912]], [[1.0, 0.0, 0.0, 0.0, 0.0, 0.0, 0.0, 0.0, 0.0, 0.0, 0.0, 0.0, 0.0, 0.0, 0.0, 0.0, 0.0, 0.0, 0.0, 0.0, 0.0, 0.0, 0.0, 0.0, 0.0, 0.0, 0.0, 0.0, 0.0, 0.0, 0.0, 0.0, 0.0], [0.09646998345851898, 0.9035300612449646, 0.0, 0.0, 0.0, 0.0, 0.0, 0.0, 0.0, 0.0, 0.0, 0.0, 0.0, 0.0, 0.0, 0.0, 0.0, 0.0, 0.0, 0.0, 0.0, 0.0, 0.0, 0.0, 0.0, 0.0, 0.0, 0.0, 0.0, 0.0, 0.0, 0.0, 0.0], [0.043252523988485336, 0.08177754282951355, 0.8749699592590332, 0.0, 0.0, 0.0, 0.0, 0.0, 0.0, 0.0, 0.0, 0.0, 0.0, 0.0, 0.0, 0.0, 0.0, 0.0, 0.0, 0.0, 0.0, 0.0, 0.0, 0.0, 0.0, 0.0, 0.0, 0.0, 0.0, 0.0, 0.0, 0.0, 0.0], [0.09995416551828384, 0.02531280368566513, 0.020108040422201157, 0.8546249270439148, 0.0, 0.0, 0.0, 0.0, 0.0, 0.0, 0.0, 0.0, 0.0, 0.0, 0.0, 0.0, 0.0, 0.0, 0.0, 0.0, 0.0, 0.0, 0.0, 0.0, 0.0, 0.0, 0.0, 0.0, 0.0, 0.0, 0.0, 0.0, 0.0], [0.02488929033279419, 0.0032073489855974913, 0.0018421628046780825, 0.022361477836966515, 0.9476996660232544, 0.0, 0.0, 0.0, 0.0, 0.0, 0.0, 0.0, 0.0, 0.0, 0.0, 0.0, 0.0, 0.0, 0.0, 0.0, 0.0, 0.0, 0.0, 0.0, 0.0, 0.0, 0.0, 0.0, 0.0, 0.0, 0.0, 0.0, 0.0], [0.10732387751340866, 0.017841670662164688, 0.01955336146056652, 0.04333321005105972, 0.10211528837680817, 0.7098326086997986, 0.0, 0.0, 0.0, 0.0, 0.0, 0.0, 0.0, 0.0, 0.0, 0.0, 0.0, 0.0, 0.0, 0.0, 0.0, 0.0, 0.0, 0.0, 0.0, 0.0, 0.0, 0.0, 0.0, 0.0, 0.0, 0.0, 0.0], [0.006426392588764429, 0.0004479786439333111, 0.00014756603923160583, 0.00046936815488152206, 0.0014411943266168237, 0.0038596929516643286, 0.98720782995224, 0.0, 0.0, 0.0, 0.0, 0.0, 0.0, 0.0, 0.0, 0.0, 0.0, 0.0, 0.0, 0.0, 0.0, 0.0, 0.0, 0.0, 0.0, 0.0, 0.0, 0.0, 0.0, 0.0, 0.0, 0.0, 0.0], [0.0010354634141549468, 0.00019901896303053945, 0.00016020442126318812, 6.937271973583847e-05, 0.0003867429040838033, 0.005171583034098148, 0.8964057564735413, 0.09657185524702072, 0.0, 0.0, 0.0, 0.0, 0.0, 0.0, 0.0, 0.0, 0.0, 0.0, 0.0, 0.0, 0.0, 0.0, 0.0, 0.0, 0.0, 0.0, 0.0, 0.0, 0.0, 0.0, 0.0, 0.0, 0.0], [0.0012883358867838979, 0.0003233465540688485, 0.0002652726252563298, 0.0002549078781157732, 0.00020129921904299408, 0.00010049044794868678, 0.0005700889159925282, 0.00040913131670095026, 0.9965871572494507, 0.0, 0.0, 0.0, 0.0, 0.0, 0.0, 0.0, 0.0, 0.0, 0.0, 0.0, 0.0, 0.0, 0.0, 0.0, 0.0, 0.0, 0.0, 0.0, 0.0, 0.0, 0.0, 0.0, 0.0], [0.0001874165900517255, 1.6196592696360312e-05, 4.2281039895897266e-06, 0.0002875896461773664, 1.1125758646812756e-05, 9.80569348030258e-06, 0.00015567253285553306, 7.632972119608894e-05, 0.00348690920509398, 0.9957647323608398, 0.0, 0.0, 0.0, 0.0, 0.0, 0.0, 0.0, 0.0, 0.0, 0.0, 0.0, 0.0, 0.0, 0.0, 0.0, 0.0, 0.0, 0.0, 0.0, 0.0, 0.0, 0.0, 0.0], [0.01574154756963253, 0.0006393609219230711, 0.00045715406304225326, 0.0009912517853081226, 0.002114036353304982, 0.01808972842991352, 0.0471203438937664, 0.07010909169912338, 0.0615282766520977, 0.27690383791923523, 0.5063053369522095, 0.0, 0.0, 0.0, 0.0, 0.0, 0.0, 0.0, 0.0, 0.0, 0.0, 0.0, 0.0, 0.0, 0.0, 0.0, 0.0, 0.0, 0.0, 0.0, 0.0, 0.0, 0.0], [0.000616659817751497, 0.0005207067588344216, 4.611506301444024e-05, 0.0014612972736358643, 0.0005623737815767527, 4.447595347301103e-05, 0.0003653953899629414, 0.0002860163222067058, 0.004506122786551714, 0.005816526710987091, 0.0007244526641443372, 0.9850499033927917, 0.0, 0.0, 0.0, 0.0, 0.0, 0.0, 0.0, 0.0, 0.0, 0.0, 0.0, 0.0, 0.0, 0.0, 0.0, 0.0, 0.0, 0.0, 0.0, 0.0, 0.0], [0.0010478602489456534, 3.062820542254485e-05, 0.00017345046217087656, 5.423124093795195e-05, 6.388423207681626e-05, 1.12611596705392e-05, 1.716904080240056e-05, 1.3931321518612094e-05, 0.0020760430488735437, 0.0002692688431125134, 0.00015268575225491077, 0.003684435738250613, 0.992405116558075, 0.0, 0.0, 0.0, 0.0, 0.0, 0.0, 0.0, 0.0, 0.0, 0.0, 0.0, 0.0, 0.0, 0.0, 0.0, 0.0, 0.0, 0.0, 0.0, 0.0], [0.010746297426521778, 0.00025354319950565696, 0.00015322930994443595, 0.00029286928474903107, 0.0005376798217184842, 0.004423531703650951, 0.009884330444037914, 0.012843024916946888, 0.012738607823848724, 0.059668585658073425, 0.1077299565076828, 0.024745799601078033, 0.07808718085289001, 0.6778953075408936, 0.0, 0.0, 0.0, 0.0, 0.0, 0.0, 0.0, 0.0, 0.0, 0.0, 0.0, 0.0, 0.0, 0.0, 0.0, 0.0, 0.0, 0.0, 0.0], [0.00041218000114895403, 2.6218713173875585e-05, 1.77558704308467e-05, 0.00019181919924449176, 3.297939656476956e-06, 3.912667125405278e-06, 1.0438098797749262e-05, 4.906835783913266e-06, 0.0005868550506420434, 0.0030381425749510527, 3.693107282742858e-05, 0.0007724319002591074, 0.009622618556022644, 0.00016094364400487393, 0.9851114153862, 0.0, 0.0, 0.0, 0.0, 0.0, 0.0, 0.0, 0.0, 0.0, 0.0, 0.0, 0.0, 0.0, 0.0, 0.0, 0.0, 0.0, 0.0], [0.00010886612290050834, 3.5845548609358957e-06, 5.191676791582722e-06, 3.0838338716421276e-05, 1.8408776668366045e-05, 7.954756711114896e-07, 3.353200554556679e-06, 6.574364306288771e-06, 0.0007270938949659467, 0.001823247061111033, 7.853273018554319e-06, 0.0003062756441067904, 0.0069750710390508175, 3.485099659883417e-05, 0.02829279564321041, 0.9616551399230957, 0.0, 0.0, 0.0, 0.0, 0.0, 0.0, 0.0, 0.0, 0.0, 0.0, 0.0, 0.0, 0.0, 0.0, 0.0, 0.0, 0.0], [0.006073985248804092, 8.81519154063426e-05, 4.583775807986967e-05, 8.250457904068753e-05, 0.00012720428640022874, 0.0009312496986240149, 0.0016700010746717453, 0.0019381894962862134, 0.0021016940008848906, 0.010131647810339928, 0.01604728400707245, 0.0038353982381522655, 0.01224216166883707, 0.100370392203331, 0.07853124290704727, 0.10997346043586731, 0.6558096408843994, 0.0, 0.0, 0.0, 0.0, 0.0, 0.0, 0.0, 0.0, 0.0, 0.0, 0.0, 0.0, 0.0, 0.0, 0.0, 0.0], [0.0021862981375306845, 1.1892892871401273e-05, 1.6735924873501062e-05, 2.0815326934098266e-05, 2.1162548364372924e-05, 0.0007714919047430158, 0.0008652103133499622, 0.0005560288554988801, 0.00015655881725251675, 0.001949987025000155, 0.01089118979871273, 0.0003954325511585921, 0.00151447590906173, 0.069163016974926, 0.004308115690946579, 0.004035172518342733, 0.4939703345298767, 0.40916600823402405, 0.0, 0.0, 0.0, 0.0, 0.0, 0.0, 0.0, 0.0, 0.0, 0.0, 0.0, 0.0, 0.0, 0.0, 0.0], [1.9797969798673876e-05, 4.972383749191067e-07, 9.165660230792128e-09, 1.323032847722061e-07, 5.601811281508162e-08, 1.190380860549567e-08, 6.153105118755775e-07, 4.068534664725121e-08, 4.517424713412765e-06, 1.4017710782354698e-05, 1.6456867513170437e-07, 1.0863813031392056e-06, 7.444025868608151e-06, 1.0056626251753187e-06, 2.7594969651545398e-05, 0.0003137785824947059, 6.201101314218249e-06, 8.21334651845973e-06, 0.9995948672294617, 0.0, 0.0, 0.0, 0.0, 0.0, 0.0, 0.0, 0.0, 0.0, 0.0, 0.0, 0.0, 0.0, 0.0], [6.497109552583424e-06, 8.691982884556637e-07, 1.4051306607143488e-06, 3.7704526789639203e-07, 3.3291553336312063e-07, 6.104941263629371e-08, 2.5429969241486106e-08, 1.1067744054571449e-07, 3.670861406135373e-05, 5.704789600713411e-07, 6.172290909489675e-07, 0.00015627853281330317, 0.0001473783777328208, 3.010357431776356e-06, 6.130633846623823e-05, 0.0017769734840840101, 1.854578840720933e-05, 3.426298644626513e-05, 0.923352062702179, 0.07440261542797089, 0.0, 0.0, 0.0, 0.0, 0.0, 0.0, 0.0, 0.0, 0.0, 0.0, 0.0, 0.0, 0.0], [0.003649003803730011, 3.749426468857564e-05, 1.7470774764660746e-05, 2.844904338417109e-05, 3.312425178592093e-05, 0.0001956914784386754, 0.0002647588262334466, 0.00024690382997505367, 0.0002803307434078306, 0.0013949156273156404, 0.0017910251626744866, 0.00042468076571822166, 0.0014623721363022923, 0.009717726148664951, 0.008053915575146675, 0.013200543820858002, 0.06315967440605164, 0.07152802497148514, 0.07523093372583389, 0.024205027148127556, 0.7250778675079346, 0.0, 0.0, 0.0, 0.0, 0.0, 0.0, 0.0, 0.0, 0.0, 0.0, 0.0, 0.0], [0.0006410909118130803, 3.925701093976386e-06, 1.1607349961195723e-06, 1.5375464954558993e-06, 9.072658144759771e-07, 8.058180355874356e-06, 1.3223969290265813e-05, 4.6198924792406615e-06, 3.6788362194783986e-05, 4.5651835534954444e-05, 7.577822543680668e-05, 2.2741860448149964e-05, 5.6684843002585694e-05, 0.000473750609671697, 0.0003640775103121996, 0.0004240036359988153, 0.0037573417648673058, 0.004363153129816055, 0.007395224180072546, 0.0050226314924657345, 0.05575628951191902, 0.9215313792228699, 0.0, 0.0, 0.0, 0.0, 0.0, 0.0, 0.0, 0.0, 0.0, 0.0, 0.0], [0.0005377708585001528, 8.122598273985204e-07, 2.301864697074052e-06, 1.4700455039928784e-06, 1.8703768773775664e-06, 6.024533831805456e-07, 4.127860847802367e-06, 1.6705811276551685e-06, 2.0472018604777986e-06, 7.43004638934508e-05, 3.5942534850619268e-06, 7.171556262619561e-06, 3.052849569940008e-05, 1.8927772543975152e-05, 0.0002543894515838474, 0.00019496439199429005, 0.00012626597890630364, 0.0001823065831558779, 0.003735243109986186, 0.0006727160653099418, 0.0015798391541466117, 0.011177717708051205, 0.9813894629478455, 0.0, 0.0, 0.0, 0.0, 0.0, 0.0, 0.0, 0.0, 0.0, 0.0], [8.512802014593035e-05, 4.870852876592835e-07, 1.2458947367122164e-06, 2.0811164347378508e-07, 1.9242885684889188e-07, 3.704018070038728e-08, 4.555261909899855e-07, 5.5045472180381694e-08, 1.5320354123105062e-06, 5.083281848783372e-06, 2.1400863658982416e-07, 1.4595324273614096e-06, 1.4768363143957686e-05, 1.0635017133608926e-06, 2.9461401936714537e-05, 5.72880198888015e-05, 6.615675829380052e-06, 7.844226274755783e-06, 0.0001506381668150425, 0.0002263692149426788, 7.973582250997424e-05, 0.00013040874910075217, 0.010868380777537823, 0.9883314967155457, 0.0, 0.0, 0.0, 0.0, 0.0, 0.0, 0.0, 0.0, 0.0], [0.0004166326252743602, 2.2503782020066865e-06, 5.2705681810039096e-06, 2.754909473878797e-05, 3.9630573155591264e-05, 7.514757726312382e-06, 8.101003004412632e-06, 1.15812654257752e-05, 1.3206003131926991e-05, 6.750722968718037e-05, 2.5212766558979638e-05, 1.4860813280392904e-05, 7.521745283156633e-05, 0.00011457440996309742, 0.00025745289167389274, 0.0003666879201773554, 0.0006904748152010143, 0.0014518509851768613, 0.0032460212241858244, 0.0006353397620841861, 0.00874561257660389, 0.015190787613391876, 0.018150079995393753, 0.13303302228450775, 0.8174033761024475, 0.0, 0.0, 0.0, 0.0, 0.0, 0.0, 0.0, 0.0], [1.673928454692941e-05, 8.24531767307235e-08, 3.257392222622002e-08, 2.8737231261288798e-08, 1.6217680354202457e-07, 1.5275354314780998e-09, 2.3278644789570535e-08, 5.5767177542520585e-09, 1.2825790918213897e-07, 1.342942255178059e-07, 6.160572496582972e-09, 2.523257194297912e-07, 3.2057537282526027e-06, 2.6277076514702458e-08, 7.619940447511908e-07, 7.901937351562083e-06, 1.3940359622210963e-07, 1.9552705055048136e-07, 0.00032022647792473435, 8.173701075975259e-07, 1.5630048437742516e-06, 3.763166887438274e-06, 0.0007450495613738894, 0.0037152215372771025, 3.9344129618257284e-05, 0.995144248008728, 0.0, 0.0, 0.0, 0.0, 0.0, 0.0, 0.0], [0.00023842287191655487, 5.040100859332597e-06, 1.3208576774559333e-06, 8.599810826126486e-06, 5.166078153706621e-06, 1.347093672166011e-07, 6.710815796395764e-07, 2.69969518740254e-07, 6.345736892399145e-06, 4.4178308598930016e-05, 2.7444932015896484e-07, 2.017125007114373e-05, 1.652669016038999e-05, 8.122790404740954e-07, 0.00010771011147880927, 0.00012397428508847952, 3.5075984214927303e-06, 8.505911864631344e-06, 6.980261241551489e-05, 0.00026813684962689877, 2.8792945158784278e-05, 0.00011957916285609826, 0.0001296163973165676, 0.007425965275615454, 0.0007109742145985365, 0.0058150263503193855, 0.984840452671051, 0.0, 0.0, 0.0, 0.0, 0.0, 0.0], [0.00040899799205362797, 6.095408480177866e-07, 1.9963958948210347e-06, 9.310361747338902e-06, 3.7690840599680087e-06, 1.9876570149790496e-06, 4.5765798972752236e-07, 1.0690717999750632e-06, 3.0871872240822995e-06, 9.211419637722429e-06, 4.724389782495564e-06, 1.2070106549799675e-06, 5.0956518862221856e-06, 1.804712701414246e-05, 4.85786258650478e-05, 4.169420208199881e-05, 0.00010537578782532364, 0.00022466943482868373, 0.00011528684990480542, 0.00024929025676101446, 0.0013673162320628762, 0.0016190381720662117, 0.0013275174424052238, 0.003491790732368827, 0.06305666267871857, 0.006469094660133123, 0.09512685984373093, 0.8262873291969299, 0.0, 0.0, 0.0, 0.0, 0.0], [0.00031804668833501637, 1.4181841834215447e-06, 3.185506898262247e-07, 2.7823052732856013e-06, 5.3885887609794736e-05, 4.3005861982692295e-08, 5.386270913732005e-07, 8.497808323681966e-08, 5.99971485826245e-07, 4.110326244699536e-06, 7.099385612718834e-08, 8.454308044747449e-07, 2.526620164644555e-06, 2.1983801445912832e-07, 6.0982110881013796e-06, 2.1130046661710367e-05, 9.411757559973921e-07, 9.950396133717732e-07, 3.041345735255163e-05, 2.97698943541036e-06, 8.453868758806493e-06, 2.6007139240391552e-05, 0.00023055743076838553, 0.00133833650033921, 0.0002175826084567234, 0.007014401722699404, 0.0179239884018898, 0.0005302671925164759, 0.9722622632980347, 0.0, 0.0, 0.0, 0.0], [1.8505367904708692e-07, 5.565692351439111e-09, 7.262697665488815e-10, 7.745968311212437e-09, 1.507951097323712e-08, 8.228537295984495e-10, 1.7915484651354063e-09, 1.7345481717612188e-09, 1.0962557084326363e-08, 5.003294134553471e-08, 3.9228162940219136e-09, 1.0013981466272526e-07, 2.3337701549053236e-08, 1.6555381066041264e-08, 5.171339623188942e-08, 1.6145995118677092e-07, 9.827901692460728e-08, 2.707459714201832e-07, 5.4119923333928455e-06, 2.508390934963245e-07, 1.180602453132451e-06, 2.8004417345073307e-06, 4.61038098364952e-06, 0.00022679274843540043, 5.794286335003562e-05, 0.0004519571957644075, 0.00011976501991739497, 0.00023980921832844615, 0.0018740136874839664, 0.9970145225524902, 0.0, 0.0, 0.0], [4.3474701669765636e-05, 2.968874923681142e-06, 3.919387552286935e-07, 9.117065360442211e-07, 4.3644939751175116e-07, 4.686617760540912e-09, 9.240431353418899e-08, 1.2419302031219104e-08, 7.188964445958845e-08, 6.30455531336338e-07, 6.10892358920978e-09, 1.9987179200597893e-07, 1.4578786249330733e-06, 1.4727398855995943e-08, 1.7957428610770876e-07, 2.64227364823455e-05, 5.1126761491104844e-08, 4.710710044264488e-08, 0.0015761180547997355, 2.1989474134898046e-06, 3.3339949823130155e-07, 2.181483296226361e-06, 0.00016240407421719283, 0.0017777611501514912, 1.1749262739613187e-05, 0.003616100875660777, 6.199459312483668e-05, 3.5168097383575514e-05, 0.0011488711461424828, 0.01608557440340519, 0.9754422307014465, 0.0, 0.0], [0.001156292506493628, 6.199052222655155e-06, 6.137793775451428e-07, 3.10265659209108e-06, 8.228390697695431e-07, 4.36603464493146e-08, 9.36327069211984e-08, 2.7735485019775297e-08, 5.10950883381156e-07, 1.2355317267065402e-06, 3.825296346349205e-08, 1.1272346682744683e-06, 1.900903953355737e-06, 8.714088295391775e-08, 5.398181201599073e-06, 7.393427949864417e-06, 3.1288715263144695e-07, 3.014650360455562e-07, 0.0001359533634968102, 1.3343869795789942e-05, 2.3996562958927825e-06, 3.871275839628652e-05, 0.0008219611481763422, 0.0006131291156634688, 2.151853550458327e-05, 0.004140736069530249, 0.0008760868804529309, 0.00011684611672535539, 0.0021590760443359613, 0.02752535790205002, 0.04434982314705849, 0.9179995059967041, 0.0], [0.0031942923087626696, 4.681679274654016e-05, 3.499150261632167e-05, 2.704312646528706e-05, 1.4000317605677992e-05, 1.7085189028875902e-05, 8.051936674746685e-06, 3.9098413253668696e-06, 1.0716975339164492e-05, 1.7930809917743318e-05, 1.4207505955710076e-05, 2.691134977794718e-05, 2.641211358422879e-05, 3.1100189517019317e-05, 1.1198587344551925e-05, 5.485497968038544e-05, 0.00011474518396425992, 0.00010493732406757772, 0.0002806310949381441, 0.000208390862098895, 0.0009329291642643511, 0.0018990072421729565, 0.001126758987084031, 0.0019257270032539964, 0.003917177207767963, 0.007499453611671925, 0.010695925913751125, 0.02319987677037716, 0.030398203060030937, 0.1272936910390854, 0.04325330629944801, 0.1766810268163681, 0.5669286251068115]], [[1.0, 0.0, 0.0, 0.0, 0.0, 0.0, 0.0, 0.0, 0.0, 0.0, 0.0, 0.0, 0.0, 0.0, 0.0, 0.0, 0.0, 0.0, 0.0, 0.0, 0.0, 0.0, 0.0, 0.0, 0.0, 0.0, 0.0, 0.0, 0.0, 0.0, 0.0, 0.0, 0.0], [0.2530861496925354, 0.7469138503074646, 0.0, 0.0, 0.0, 0.0, 0.0, 0.0, 0.0, 0.0, 0.0, 0.0, 0.0, 0.0, 0.0, 0.0, 0.0, 0.0, 0.0, 0.0, 0.0, 0.0, 0.0, 0.0, 0.0, 0.0, 0.0, 0.0, 0.0, 0.0, 0.0, 0.0, 0.0], [0.30671587586402893, 0.3290638327598572, 0.3642202317714691, 0.0, 0.0, 0.0, 0.0, 0.0, 0.0, 0.0, 0.0, 0.0, 0.0, 0.0, 0.0, 0.0, 0.0, 0.0, 0.0, 0.0, 0.0, 0.0, 0.0, 0.0, 0.0, 0.0, 0.0, 0.0, 0.0, 0.0, 0.0, 0.0, 0.0], [0.07416970282793045, 0.16189666092395782, 0.0543258897960186, 0.709607720375061, 0.0, 0.0, 0.0, 0.0, 0.0, 0.0, 0.0, 0.0, 0.0, 0.0, 0.0, 0.0, 0.0, 0.0, 0.0, 0.0, 0.0, 0.0, 0.0, 0.0, 0.0, 0.0, 0.0, 0.0, 0.0, 0.0, 0.0, 0.0, 0.0], [0.16688254475593567, 0.039017900824546814, 0.038224611431360245, 0.21398355066776276, 0.5418913960456848, 0.0, 0.0, 0.0, 0.0, 0.0, 0.0, 0.0, 0.0, 0.0, 0.0, 0.0, 0.0, 0.0, 0.0, 0.0, 0.0, 0.0, 0.0, 0.0, 0.0, 0.0, 0.0, 0.0, 0.0, 0.0, 0.0, 0.0, 0.0], [0.1948365718126297, 0.21119238436222076, 0.051505669951438904, 0.08703844249248505, 0.22999541461467743, 0.22543145716190338, 0.0, 0.0, 0.0, 0.0, 0.0, 0.0, 0.0, 0.0, 0.0, 0.0, 0.0, 0.0, 0.0, 0.0, 0.0, 0.0, 0.0, 0.0, 0.0, 0.0, 0.0, 0.0, 0.0, 0.0, 0.0, 0.0, 0.0], [0.13900132477283478, 0.02974858507514, 0.03860694542527199, 0.05133265629410744, 0.19284234941005707, 0.08012362569570541, 0.46834447979927063, 0.0, 0.0, 0.0, 0.0, 0.0, 0.0, 0.0, 0.0, 0.0, 0.0, 0.0, 0.0, 0.0, 0.0, 0.0, 0.0, 0.0, 0.0, 0.0, 0.0, 0.0, 0.0, 0.0, 0.0, 0.0, 0.0], [0.08969783782958984, 0.04080595448613167, 0.03473310545086861, 0.08414536714553833, 0.09911053627729416, 0.07059439271688461, 0.1361657977104187, 0.4447470009326935, 0.0, 0.0, 0.0, 0.0, 0.0, 0.0, 0.0, 0.0, 0.0, 0.0, 0.0, 0.0, 0.0, 0.0, 0.0, 0.0, 0.0, 0.0, 0.0, 0.0, 0.0, 0.0, 0.0, 0.0, 0.0], [0.05986509099602699, 0.02019045129418373, 0.018785320222377777, 0.10584714263677597, 0.057948678731918335, 0.027517640963196754, 0.05666311830282211, 0.08226755261421204, 0.5709149837493896, 0.0, 0.0, 0.0, 0.0, 0.0, 0.0, 0.0, 0.0, 0.0, 0.0, 0.0, 0.0, 0.0, 0.0, 0.0, 0.0, 0.0, 0.0, 0.0, 0.0, 0.0, 0.0, 0.0, 0.0], [0.010379263199865818, 0.004698245786130428, 0.004143977537751198, 0.007291408255696297, 0.006256681866943836, 0.003318038070574403, 0.009175006300210953, 0.018754400312900543, 0.03393148258328438, 0.902051568031311, 0.0, 0.0, 0.0, 0.0, 0.0, 0.0, 0.0, 0.0, 0.0, 0.0, 0.0, 0.0, 0.0, 0.0, 0.0, 0.0, 0.0, 0.0, 0.0, 0.0, 0.0, 0.0, 0.0], [0.07270112633705139, 0.047764793038368225, 0.010500323958694935, 0.0161594171077013, 0.04617811366915703, 0.05249454453587532, 0.051845673471689224, 0.2118949443101883, 0.03515821695327759, 0.17267203330993652, 0.2826308012008667, 0.0, 0.0, 0.0, 0.0, 0.0, 0.0, 0.0, 0.0, 0.0, 0.0, 0.0, 0.0, 0.0, 0.0, 0.0, 0.0, 0.0, 0.0, 0.0, 0.0, 0.0, 0.0], [0.015126889571547508, 0.004731182940304279, 0.0023226316552609205, 0.006575742270797491, 0.018362421542406082, 0.003339654067531228, 0.008784218691289425, 0.007409737911075354, 0.0062898071482777596, 0.07638952881097794, 0.01200349535793066, 0.8386646509170532, 0.0, 0.0, 0.0, 0.0, 0.0, 0.0, 0.0, 0.0, 0.0, 0.0, 0.0, 0.0, 0.0, 0.0, 0.0, 0.0, 0.0, 0.0, 0.0, 0.0, 0.0], [0.03233189135789871, 0.010628935880959034, 0.0026151607744395733, 0.0011762910289689898, 0.0030932750087231398, 0.0015055525582283735, 0.007079709321260452, 0.002834470709785819, 0.005003875587135553, 0.0120325842872262, 0.003987777046859264, 0.051872361451387405, 0.8658381700515747, 0.0, 0.0, 0.0, 0.0, 0.0, 0.0, 0.0, 0.0, 0.0, 0.0, 0.0, 0.0, 0.0, 0.0, 0.0, 0.0, 0.0, 0.0, 0.0, 0.0], [0.05045595020055771, 0.02653881534934044, 0.005783270578831434, 0.008087306283414364, 0.021799396723508835, 0.025670325383543968, 0.022779053077101707, 0.09139908105134964, 0.015017381869256496, 0.07093942165374756, 0.12448635697364807, 0.12668338418006897, 0.061021361500024796, 0.34933894872665405, 0.0, 0.0, 0.0, 0.0, 0.0, 0.0, 0.0, 0.0, 0.0, 0.0, 0.0, 0.0, 0.0, 0.0, 0.0, 0.0, 0.0, 0.0, 0.0], [0.05474106967449188, 0.0529683418571949, 0.003988116513937712, 0.012351611629128456, 0.004415605217218399, 0.0035962744150310755, 0.01138569787144661, 0.009828067384660244, 0.014749744907021523, 0.07078829407691956, 0.011209211312234402, 0.0516405925154686, 0.19734402000904083, 0.027129294350743294, 0.47386401891708374, 0.0, 0.0, 0.0, 0.0, 0.0, 0.0, 0.0, 0.0, 0.0, 0.0, 0.0, 0.0, 0.0, 0.0, 0.0, 0.0, 0.0, 0.0], [0.007163063157349825, 0.004963852930814028, 0.002769228769466281, 0.001942445756867528, 0.01054471731185913, 0.0014144874876365066, 0.0036636602599173784, 0.0031499508768320084, 0.0054812952876091, 0.021614087745547295, 0.0039222100749611855, 0.07935094833374023, 0.22477932274341583, 0.0091669587418437, 0.027402663603425026, 0.5926710963249207, 0.0, 0.0, 0.0, 0.0, 0.0, 0.0, 0.0, 0.0, 0.0, 0.0, 0.0, 0.0, 0.0, 0.0, 0.0, 0.0, 0.0], [0.0346110463142395, 0.015296311117708683, 0.0030951229855418205, 0.003899090224877, 0.009989380836486816, 0.011446855030953884, 0.009189351461827755, 0.03356511518359184, 0.005761212203651667, 0.02558104135096073, 0.04384688660502434, 0.04521361365914345, 0.0205533504486084, 0.11962323635816574, 0.1567324995994568, 0.1317342221736908, 0.3298616409301758, 0.0, 0.0, 0.0, 0.0, 0.0, 0.0, 0.0, 0.0, 0.0, 0.0, 0.0, 0.0, 0.0, 0.0, 0.0, 0.0], [0.017253892496228218, 0.004397525452077389, 0.004968689288944006, 0.007064324337989092, 0.00663490267470479, 0.0069109550677239895, 0.011386917904019356, 0.016178548336029053, 0.020317770540714264, 0.020396867766976357, 0.023422129452228546, 0.018909165635704994, 0.040242068469524384, 0.06200677528977394, 0.11645374447107315, 0.07975111156702042, 0.16864490509033203, 0.3750597834587097, 0.0, 0.0, 0.0, 0.0, 0.0, 0.0, 0.0, 0.0, 0.0, 0.0, 0.0, 0.0, 0.0, 0.0, 0.0], [0.002459117444232106, 0.00024919764837250113, 3.40046281053219e-05, 0.00021132981055416167, 0.00020066740398760885, 0.00012589257676154375, 0.0003650687576737255, 0.00037359833368100226, 0.00013798575673718005, 0.00047022211947478354, 0.000271518510999158, 0.003417078172788024, 0.0006049817893654108, 0.0005454622441902757, 0.0008937687962315977, 0.0015852125361561775, 0.001215076306834817, 0.0028212680481374264, 0.9840186238288879, 0.0, 0.0, 0.0, 0.0, 0.0, 0.0, 0.0, 0.0, 0.0, 0.0, 0.0, 0.0, 0.0, 0.0], [0.000152824170072563, 0.03892355412244797, 0.00047151968465186656, 0.00037318156682886183, 3.271787136327475e-05, 1.0635581929818727e-05, 3.824587111012079e-06, 1.3244706678960938e-05, 6.418935663532466e-05, 2.7344316549715586e-05, 2.832000973285176e-05, 0.0022295708768069744, 0.0013866395456716418, 7.163490226957947e-05, 0.00014025553537067026, 0.00824643298983574, 0.00019678653916344047, 0.0002054668584605679, 0.8976380228996277, 0.0497838631272316, 0.0, 0.0, 0.0, 0.0, 0.0, 0.0, 0.0, 0.0, 0.0, 0.0, 0.0, 0.0, 0.0], [0.02645811066031456, 0.01041086670011282, 0.0021332562901079655, 0.0024560140445828438, 0.005542591214179993, 0.0059545692056417465, 0.004195832647383213, 0.013451534323394299, 0.002351950155571103, 0.009471988305449486, 0.01543343160301447, 0.014805004931986332, 0.006865763571113348, 0.03787313401699066, 0.04744943603873253, 0.04547279700636864, 0.10199186950922012, 0.08666370064020157, 0.06470177322626114, 0.10160751640796661, 0.3947087526321411, 0.0, 0.0, 0.0, 0.0, 0.0, 0.0, 0.0, 0.0, 0.0, 0.0, 0.0, 0.0], [0.021157924085855484, 0.003548440057784319, 0.0017441131640225649, 0.0035093077458441257, 0.004201900213956833, 0.002577780978754163, 0.004015865735709667, 0.004599012900143862, 0.003955161664634943, 0.0064558605663478374, 0.005907908082008362, 0.003733177436515689, 0.009013417176902294, 0.013927984982728958, 0.029895825311541557, 0.02008231356739998, 0.03804445266723633, 0.06883086264133453, 0.08152905851602554, 0.03834029659628868, 0.15160270035266876, 0.48332661390304565, 0.0, 0.0, 0.0, 0.0, 0.0, 0.0, 0.0, 0.0, 0.0, 0.0, 0.0], [0.0014211722882464528, 0.00040690190508030355, 0.0002714431320782751, 0.0014869297156110406, 0.000647515757009387, 0.00025671522598713636, 0.00027297710767015815, 0.000505986565258354, 0.00017537540406920016, 0.0012059635482728481, 0.0005902908160351217, 0.0004307399794925004, 0.00036999688018113375, 0.0013322854647412896, 0.0007594273192808032, 0.0025183074176311493, 0.0035999866668134928, 0.004756714217364788, 0.011892947368323803, 0.0034102213103324175, 0.013851134106516838, 0.059073347598314285, 0.8907636404037476, 0.0, 0.0, 0.0, 0.0, 0.0, 0.0, 0.0, 0.0, 0.0, 0.0], [0.005058865994215012, 0.0008823542739264667, 0.0015358292730525136, 0.0016909886617213488, 0.0013438734458759427, 0.0004949700669385493, 0.0006572256679646671, 0.0005521586863324046, 0.0005812100134789944, 0.0020545630250126123, 0.000838086532894522, 0.0010067488765344024, 0.0011300846235826612, 0.0016139913350343704, 0.005022878292948008, 0.014576857909560204, 0.003714323975145817, 0.004681473597884178, 0.007913804613053799, 0.006778387352824211, 0.012291344814002514, 0.027733031660318375, 0.10214635729789734, 0.7957006692886353, 0.0, 0.0, 0.0, 0.0, 0.0, 0.0, 0.0, 0.0, 0.0], [0.004004703834652901, 0.00045769839198328555, 0.0015645269304513931, 0.0031372110825031996, 0.0019937476608902216, 0.00037892654654569924, 0.000495779444463551, 0.0005698036402463913, 0.0010052098659798503, 0.002343233674764633, 0.0005772167933173478, 0.0016756190452724695, 0.003078741952776909, 0.0012285284465178847, 0.005278342869132757, 0.006328057963401079, 0.003151735756546259, 0.00531931035220623, 0.021383142098784447, 0.006147729232907295, 0.012332247570157051, 0.07402177155017853, 0.1211402639746666, 0.5611115097999573, 0.16127493977546692, 0.0, 0.0, 0.0, 0.0, 0.0, 0.0, 0.0, 0.0], [0.0011286536464467645, 4.9889058573171496e-05, 4.129126318730414e-05, 9.249602589989081e-05, 5.513600990525447e-05, 3.86171777790878e-05, 5.592027082457207e-05, 0.00014896252832841128, 5.509193670150125e-06, 6.817433313699439e-05, 3.620435018092394e-05, 4.623952190740965e-05, 0.001065499265678227, 5.919858085690066e-05, 7.787244976498187e-05, 0.00038421183126047254, 0.0001169242532341741, 0.00022428174270316958, 0.0005083976429887116, 0.00015628105029463768, 0.0003233145398553461, 0.0007086815312504768, 0.0009207389084622264, 0.0008559694979339838, 0.004414436873048544, 0.9884169697761536, 0.0, 0.0, 0.0, 0.0, 0.0, 0.0, 0.0], [0.0024299644865095615, 0.003659626469016075, 0.0006344965077005327, 0.0006202650256454945, 0.0029876648914068937, 0.0003476359706837684, 0.0005059153772890568, 0.00041149696335196495, 0.00021321569511201233, 0.0006509341183118522, 0.00039556919364258647, 0.16986438632011414, 0.002188893035054207, 0.0006812372012063861, 0.0008683752967044711, 0.008905117399990559, 0.0014638518914580345, 0.0013394580455496907, 0.006495125591754913, 0.00763870170339942, 0.00461939861997962, 0.003161804052069783, 0.01420091837644577, 0.046396639198064804, 0.02278604730963707, 0.21939244866371155, 0.47714075446128845, 0.0, 0.0, 0.0, 0.0, 0.0, 0.0], [0.015610363334417343, 0.0009648081613704562, 0.001028185011819005, 0.007148523349314928, 0.005316657014191151, 0.000543267757166177, 0.0007839908357709646, 0.0004708303022198379, 0.0022980347275733948, 0.00546311168000102, 0.0005483088316395879, 0.000866152171511203, 0.000903555890545249, 0.0009251974988728762, 0.008375945501029491, 0.0014478113735094666, 0.002061493694782257, 0.0036933787632733583, 0.017008867114782333, 0.006138688884675503, 0.00704190693795681, 0.04128711670637131, 0.06922487169504166, 0.26617205142974854, 0.05024215951561928, 0.11445178836584091, 0.1376487910747528, 0.23233410716056824, 0.0, 0.0, 0.0, 0.0, 0.0], [0.021895309910178185, 0.0013514539459720254, 0.001372796599753201, 0.005157722160220146, 0.0109328031539917, 0.00044522216194309294, 0.0016178288497030735, 0.0005713266436941922, 0.0007700265268795192, 0.0030935415998101234, 0.0003616345638874918, 0.0009329022141173482, 0.0019032401032745838, 0.0005254382849670947, 0.0007036188617348671, 0.0015780612593516707, 0.0010200453689321876, 0.0009346716688014567, 0.005167563911527395, 0.0007855411968193948, 0.002879681997001171, 0.006337156053632498, 0.049514200538396835, 0.021886911243200302, 0.030046779662370682, 0.0694160908460617, 0.029953783378005028, 0.06111612915992737, 0.6677285432815552, 0.0, 0.0, 0.0, 0.0], [0.00029466464184224606, 8.085064473561943e-05, 0.00011992584040854126, 0.00017153944645542651, 0.00038989901077002287, 8.630218508187681e-05, 5.2537066949298605e-05, 6.616355676669627e-05, 0.00011378381896065548, 6.200056668603793e-05, 0.00011238058505114168, 0.0005867322906851768, 9.784972644411027e-05, 0.00021334855409804732, 0.0004044431552756578, 0.0004726219631265849, 0.0004730731307063252, 0.0005199498846195638, 0.0008571158978156745, 0.00022720149718225002, 0.0015976766590029001, 0.0014780688798055053, 0.001650146208703518, 0.009339625015854836, 0.012792687863111496, 0.012606949545443058, 0.02165953442454338, 0.028867434710264206, 0.07784787565469742, 0.826757550239563, 0.0, 0.0, 0.0], [0.0006396513199433684, 0.00019920158956665546, 0.0003378448018338531, 0.00032286017085425556, 0.00038839614717289805, 2.2511347196996212e-05, 0.00011559619451873004, 1.9683679056470282e-05, 8.749774133320898e-05, 0.00016675691585987806, 2.1353149350034073e-05, 0.00018257673946209252, 0.002879621461033821, 3.270827073720284e-05, 6.355957157211378e-05, 0.0009078464936465025, 6.314185884548351e-05, 4.954511678079143e-05, 0.0050101750530302525, 0.00021555759303737432, 0.00018923284369520843, 0.0002357991470489651, 0.00211917283013463, 0.0034752427600324154, 0.0004957503406330943, 0.012673011980950832, 0.00262746075168252, 0.0011926396982744336, 0.02801145799458027, 0.14214612543582916, 0.7951080203056335, 0.0, 0.0], [0.005492146592587233, 0.001417962252162397, 6.310055323410779e-05, 0.0009282383834943175, 0.00046758740791119635, 9.701210365165025e-05, 5.6787004723446444e-05, 6.824052252341062e-05, 4.054824967170134e-05, 0.00021011504577472806, 6.534710701089352e-05, 0.00011957822425756603, 9.082329779630527e-05, 9.077359572984278e-05, 0.00013827493239659816, 0.00041228352347388864, 0.00016900584159884602, 0.00013570705777965486, 0.002428322797641158, 0.0002065480366582051, 0.0004959604702889919, 0.0001656198874115944, 0.0018254034221172333, 0.0016808169893920422, 0.0010187351144850254, 0.015071497298777103, 0.003408379154279828, 0.003384194104000926, 0.018865512683987617, 0.010037454776465893, 0.008259573951363564, 0.9230883717536926, 0.0], [0.009386115707457066, 0.001738054328598082, 0.0018091666279360652, 0.0014350269921123981, 0.0016812803223729134, 0.001979126827791333, 0.0014143440639600158, 0.002112782560288906, 0.0012016977416351438, 0.0010467673419043422, 0.00125325086992234, 0.0012125709326937795, 0.0006952419062145054, 0.0016850186511874199, 0.0012904980685561895, 0.0014949424657970667, 0.0030524656176567078, 0.006176399067044258, 0.0039931489154696465, 0.002994520589709282, 0.008827624842524529, 0.009542389772832394, 0.010477346368134022, 0.021451447159051895, 0.06221354380249977, 0.026861075311899185, 0.033906444907188416, 0.11987614631652832, 0.05027468502521515, 0.026796847581863403, 0.03116571716964245, 0.1072864904999733, 0.44366779923439026]], [[1.0, 0.0, 0.0, 0.0, 0.0, 0.0, 0.0, 0.0, 0.0, 0.0, 0.0, 0.0, 0.0, 0.0, 0.0, 0.0, 0.0, 0.0, 0.0, 0.0, 0.0, 0.0, 0.0, 0.0, 0.0, 0.0, 0.0, 0.0, 0.0, 0.0, 0.0, 0.0, 0.0], [0.10520532727241516, 0.8947947025299072, 0.0, 0.0, 0.0, 0.0, 0.0, 0.0, 0.0, 0.0, 0.0, 0.0, 0.0, 0.0, 0.0, 0.0, 0.0, 0.0, 0.0, 0.0, 0.0, 0.0, 0.0, 0.0, 0.0, 0.0, 0.0, 0.0, 0.0, 0.0, 0.0, 0.0, 0.0], [0.03907211124897003, 0.0020172225777059793, 0.9589106440544128, 0.0, 0.0, 0.0, 0.0, 0.0, 0.0, 0.0, 0.0, 0.0, 0.0, 0.0, 0.0, 0.0, 0.0, 0.0, 0.0, 0.0, 0.0, 0.0, 0.0, 0.0, 0.0, 0.0, 0.0, 0.0, 0.0, 0.0, 0.0, 0.0, 0.0], [0.015578641556203365, 0.0008392524905502796, 0.0006979758618399501, 0.9828841090202332, 0.0, 0.0, 0.0, 0.0, 0.0, 0.0, 0.0, 0.0, 0.0, 0.0, 0.0, 0.0, 0.0, 0.0, 0.0, 0.0, 0.0, 0.0, 0.0, 0.0, 0.0, 0.0, 0.0, 0.0, 0.0, 0.0, 0.0, 0.0, 0.0], [0.00885648000985384, 9.934297850122675e-06, 1.117485408030916e-05, 0.00030247028917074203, 0.9908198714256287, 0.0, 0.0, 0.0, 0.0, 0.0, 0.0, 0.0, 0.0, 0.0, 0.0, 0.0, 0.0, 0.0, 0.0, 0.0, 0.0, 0.0, 0.0, 0.0, 0.0, 0.0, 0.0, 0.0, 0.0, 0.0, 0.0, 0.0, 0.0], [0.3544501066207886, 0.03058929182589054, 0.059889569878578186, 0.022903533652424812, 0.047475848346948624, 0.48469164967536926, 0.0, 0.0, 0.0, 0.0, 0.0, 0.0, 0.0, 0.0, 0.0, 0.0, 0.0, 0.0, 0.0, 0.0, 0.0, 0.0, 0.0, 0.0, 0.0, 0.0, 0.0, 0.0, 0.0, 0.0, 0.0, 0.0, 0.0], [0.044769078493118286, 0.0015664706006646156, 0.000377385294996202, 0.00025073339929804206, 0.0004088976711500436, 0.0002606568450573832, 0.952366828918457, 0.0, 0.0, 0.0, 0.0, 0.0, 0.0, 0.0, 0.0, 0.0, 0.0, 0.0, 0.0, 0.0, 0.0, 0.0, 0.0, 0.0, 0.0, 0.0, 0.0, 0.0, 0.0, 0.0, 0.0, 0.0, 0.0], [0.09058382362127304, 0.0011470786994323134, 0.006027367431670427, 0.0005468495655804873, 0.0017094258219003677, 0.0037850907538086176, 0.0026845457032322884, 0.8935158252716064, 0.0, 0.0, 0.0, 0.0, 0.0, 0.0, 0.0, 0.0, 0.0, 0.0, 0.0, 0.0, 0.0, 0.0, 0.0, 0.0, 0.0, 0.0, 0.0, 0.0, 0.0, 0.0, 0.0, 0.0, 0.0], [0.006010734476149082, 2.4289114662678912e-05, 0.0003126683586742729, 1.8682971131056547e-05, 0.0002979242999572307, 9.904553735395893e-06, 6.619573923671851e-06, 7.912214528005279e-07, 0.9933184385299683, 0.0, 0.0, 0.0, 0.0, 0.0, 0.0, 0.0, 0.0, 0.0, 0.0, 0.0, 0.0, 0.0, 0.0, 0.0, 0.0, 0.0, 0.0, 0.0, 0.0, 0.0, 0.0, 0.0, 0.0], [0.00454681646078825, 0.00020019341900479048, 0.00029920245287939906, 0.0013363964390009642, 0.0003267654974479228, 8.741366741560341e-07, 1.7415704860468395e-05, 2.783414174700738e-07, 0.00029665243346244097, 0.9929754734039307, 0.0, 0.0, 0.0, 0.0, 0.0, 0.0, 0.0, 0.0, 0.0, 0.0, 0.0, 0.0, 0.0, 0.0, 0.0, 0.0, 0.0, 0.0, 0.0, 0.0, 0.0, 0.0, 0.0], [0.12262557446956635, 0.02392658032476902, 0.03827650099992752, 0.016171973198652267, 0.030366241931915283, 0.2937593162059784, 0.10661357641220093, 0.07059953361749649, 0.04190005734562874, 0.017833104357123375, 0.23792757093906403, 0.0, 0.0, 0.0, 0.0, 0.0, 0.0, 0.0, 0.0, 0.0, 0.0, 0.0, 0.0, 0.0, 0.0, 0.0, 0.0, 0.0, 0.0, 0.0, 0.0, 0.0, 0.0], [0.0008121050195768476, 0.00011546671885298565, 0.00013500907516572624, 5.5392923968611285e-05, 0.0001317410496994853, 1.0027158623415744e-06, 1.379908894705295e-06, 1.6001568781121023e-07, 1.897297124742181e-06, 5.41966642231273e-07, 4.7530917868243705e-07, 0.9987448453903198, 0.0, 0.0, 0.0, 0.0, 0.0, 0.0, 0.0, 0.0, 0.0, 0.0, 0.0, 0.0, 0.0, 0.0, 0.0, 0.0, 0.0, 0.0, 0.0, 0.0, 0.0], [0.0013333057286217809, 0.00010533078602747992, 0.0007669634069316089, 0.0009021908044815063, 3.5708426366909407e-06, 8.120498478092486e-07, 1.403809051225835e-07, 9.561311742345424e-08, 1.6865070620042388e-06, 2.9789038308081217e-05, 4.3813446382046095e-07, 1.1965822750426014e-06, 0.9968544840812683, 0.0, 0.0, 0.0, 0.0, 0.0, 0.0, 0.0, 0.0, 0.0, 0.0, 0.0, 0.0, 0.0, 0.0, 0.0, 0.0, 0.0, 0.0, 0.0, 0.0], [0.08159807324409485, 0.02138884738087654, 0.02887714095413685, 0.012675794772803783, 0.02493157610297203, 0.229964941740036, 0.10401226580142975, 0.0647210031747818, 0.03460090607404709, 0.015198717825114727, 0.18564164638519287, 0.020528040826320648, 0.005003850441426039, 0.17085713148117065, 0.0, 0.0, 0.0, 0.0, 0.0, 0.0, 0.0, 0.0, 0.0, 0.0, 0.0, 0.0, 0.0, 0.0, 0.0, 0.0, 0.0, 0.0, 0.0], [0.0013488882686942816, 8.921245898818597e-05, 0.000685999053530395, 0.0006963259656913579, 2.1248704797471873e-05, 3.7634083582815947e-07, 6.226767936823308e-07, 4.307237020384491e-07, 7.091907718859147e-06, 0.0013103719102218747, 1.6113828849029233e-07, 9.548789421387482e-07, 0.00016453623538836837, 1.1531970045552953e-07, 0.9956737160682678, 0.0, 0.0, 0.0, 0.0, 0.0, 0.0, 0.0, 0.0, 0.0, 0.0, 0.0, 0.0, 0.0, 0.0, 0.0, 0.0, 0.0, 0.0], [0.001086753560230136, 0.0004072489682585001, 0.00010700340499170125, 0.0006782726850360632, 0.0001102846217690967, 1.3184273939259583e-07, 2.6602759817251354e-07, 4.6195808067750477e-07, 8.409697329625487e-06, 0.0007784886402077973, 5.1094588116029627e-08, 8.792077323960257e-07, 4.934284515911713e-05, 3.4893229639010315e-08, 0.00011441176320658997, 0.9966579675674438, 0.0, 0.0, 0.0, 0.0, 0.0, 0.0, 0.0, 0.0, 0.0, 0.0, 0.0, 0.0, 0.0, 0.0, 0.0, 0.0, 0.0], [0.0586809404194355, 0.018785756081342697, 0.02406730316579342, 0.011013144627213478, 0.021456386893987656, 0.19110578298568726, 0.09902719408273697, 0.06065865606069565, 0.030162714421749115, 0.014801912941038609, 0.15370333194732666, 0.016615159809589386, 0.004385379608720541, 0.14085325598716736, 0.015014998614788055, 0.005390208680182695, 0.13427786529064178, 0.0, 0.0, 0.0, 0.0, 0.0, 0.0, 0.0, 0.0, 0.0, 0.0, 0.0, 0.0, 0.0, 0.0, 0.0, 0.0], [0.07323044538497925, 0.0283745639026165, 0.02105824649333954, 0.007611891720443964, 0.010053587146103382, 0.06553952395915985, 0.14559760689735413, 0.08620849996805191, 0.010241257026791573, 0.007425738964229822, 0.04526269808411598, 0.006621462292969227, 0.0011621792800724506, 0.03923853859305382, 0.008256889879703522, 0.003065692028030753, 0.036122627556324005, 0.4049285054206848, 0.0, 0.0, 0.0, 0.0, 0.0, 0.0, 0.0, 0.0, 0.0, 0.0, 0.0, 0.0, 0.0, 0.0, 0.0], [7.94452425907366e-05, 1.8382158941676607e-06, 3.713439511443539e-08, 1.5575307770632207e-05, 3.4723789212876e-06, 1.3165096790501707e-09, 2.7038657535172206e-08, 1.7186653877843128e-08, 9.232262243585865e-08, 1.350637921859743e-05, 4.4787801245504966e-10, 2.041673052843862e-09, 5.54200738633881e-08, 3.0638608317090643e-10, 4.217715741106076e-07, 7.065881163725862e-06, 2.424439260462208e-10, 1.4397358860662735e-09, 0.9998784065246582, 0.0, 0.0, 0.0, 0.0, 0.0, 0.0, 0.0, 0.0, 0.0, 0.0, 0.0, 0.0, 0.0, 0.0], [0.0029344980139285326, 0.0005883857957087457, 0.004250318743288517, 0.004028467461466789, 0.00011592944065341726, 4.331638137955451e-06, 6.773919267288875e-06, 7.076487236190587e-05, 0.00024952745297923684, 0.0003159338375553489, 2.082447508655605e-06, 4.409229222801514e-05, 0.0003044707700610161, 1.4702631006002775e-06, 0.00019761397561524063, 0.0013599307276308537, 1.2478699318307918e-06, 6.875207873235922e-06, 0.00019261238048784435, 0.9853246808052063, 0.0, 0.0, 0.0, 0.0, 0.0, 0.0, 0.0, 0.0, 0.0, 0.0, 0.0, 0.0, 0.0], [0.0405653677880764, 0.017898326739668846, 0.020600954070687294, 0.009821107611060143, 0.0178828164935112, 0.15654006600379944, 0.09208228439092636, 0.05628826841711998, 0.026661314070224762, 0.014471274800598621, 0.12537626922130585, 0.013986758887767792, 0.003927927929908037, 0.11453606933355331, 0.013395393267273903, 0.004846666473895311, 0.10880250483751297, 0.04953395575284958, 0.005186417605727911, 0.004420877899974585, 0.10317540168762207, 0.0, 0.0, 0.0, 0.0, 0.0, 0.0, 0.0, 0.0, 0.0, 0.0, 0.0, 0.0], [0.024536343291401863, 0.0031243390403687954, 0.0009699296788312495, 4.63154683529865e-05, 0.00013434789434541017, 0.0006453956011682749, 0.011668858118355274, 0.00032713531982153654, 0.00045730432611890137, 2.3976095690159127e-05, 0.0003445423499215394, 4.996442294213921e-05, 2.5757428375072777e-05, 0.00028217773069627583, 6.525335720652947e-06, 4.981818165106233e-06, 0.00023554045765195042, 0.0002664511266630143, 2.5311152057838626e-05, 2.976109135488514e-05, 0.0001880930212792009, 0.9566068649291992, 0.0, 0.0, 0.0, 0.0, 0.0, 0.0, 0.0, 0.0, 0.0, 0.0, 0.0], [0.0020759960170835257, 0.00014591787476092577, 5.289888213155791e-05, 4.2180658056167886e-05, 4.738701318274252e-05, 4.1423234620197036e-07, 0.00012964275083504617, 2.425095226499252e-05, 1.8033957758234465e-06, 1.4839210962236393e-06, 1.4489953059637628e-07, 4.199928753223503e-06, 4.106833628725326e-08, 1.0260462346423083e-07, 8.285440458166704e-07, 5.781881213806628e-07, 7.695144432773304e-08, 6.669584706742171e-08, 6.47259657853283e-05, 1.5700857147749048e-06, 5.641820521873342e-08, 4.403028015076416e-06, 0.9974013566970825, 0.0, 0.0, 0.0, 0.0, 0.0, 0.0, 0.0, 0.0, 0.0, 0.0], [0.0005159129505045712, 0.00011814686877187341, 3.270570596214384e-05, 0.00021188761456869543, 4.563537731883116e-05, 2.9248894861666486e-07, 3.0579453778045718e-06, 7.607375351881274e-08, 0.00013753683015238494, 0.0005283540231175721, 1.1576047143080359e-07, 4.028584953630343e-06, 2.079296791634988e-06, 8.805407958334399e-08, 0.00010051687422674149, 4.431627530721016e-05, 6.963725240893837e-08, 9.373040654736542e-08, 3.3377782528987154e-05, 1.5888886991888285e-05, 5.610696618418842e-08, 7.052654638073363e-08, 9.389295883011073e-06, 0.9981963038444519, 0.0, 0.0, 0.0, 0.0, 0.0, 0.0, 0.0, 0.0, 0.0], [0.06915241479873657, 0.01403213944286108, 0.005599107593297958, 0.0012576906010508537, 0.0008468008600175381, 0.009601195342838764, 0.008965780958533287, 0.052476994693279266, 0.000250283774221316, 0.0009063865873031318, 0.005419909954071045, 0.0007309224456548691, 0.00019187982252333313, 0.0043965838849544525, 0.0059647224843502045, 0.00035585492150858045, 0.0038770183455199003, 0.009727224707603455, 0.0011023514671251178, 0.0003644294629339129, 0.0034139615017920732, 0.003052361076697707, 0.0056982580572366714, 0.0002955739328172058, 0.7923200726509094, 0.0, 0.0, 0.0, 0.0, 0.0, 0.0, 0.0, 0.0], [0.0010461527854204178, 1.955712286871858e-05, 1.735889327392215e-06, 3.103043491137214e-05, 2.73078494501533e-05, 1.0180639442580741e-08, 4.815758529730374e-07, 1.7494180326593778e-07, 7.312382166446696e-08, 7.983045975379355e-07, 3.464297071431588e-09, 4.9067134568758775e-06, 1.071893294124493e-07, 2.352543937433893e-09, 2.3833962359276484e-07, 1.3731307717534946e-06, 1.8288531800081387e-09, 6.247574013684698e-09, 9.208312803821173e-06, 1.6384193486373988e-06, 1.252385195549266e-09, 8.271226481504357e-10, 8.456770046905149e-06, 3.118664608336985e-06, 9.241368559287366e-09, 0.9988435506820679, 0.0, 0.0, 0.0, 0.0, 0.0, 0.0, 0.0], [0.001054490334354341, 0.00021373214258346707, 0.0002815710904542357, 0.0011373365996405482, 0.00014783925144001842, 2.006843487833976e-06, 4.831336354982341e-06, 3.482321289993706e-06, 5.100329872220755e-06, 0.00012420436542015523, 9.301483032686519e-07, 1.058261204889277e-05, 1.1688262020470574e-05, 7.077477448547143e-07, 0.0034115819726139307, 0.00019905313092749566, 5.995588594487344e-07, 4.643019622108113e-07, 1.958509710675571e-05, 0.00011087759776273742, 4.7500395794486394e-07, 3.28086883882861e-07, 4.53534084954299e-06, 5.161693843547255e-05, 3.247460824695736e-07, 1.3071346074866597e-05, 0.9931888580322266, 0.0, 0.0, 0.0, 0.0, 0.0, 0.0], [0.02420082315802574, 0.002820132300257683, 0.004319304134696722, 0.0009108326048590243, 0.001775394077412784, 0.0038099209778010845, 0.0029533221386373043, 0.016714807599782944, 0.0013931759167462587, 0.005003181751817465, 0.002276089508086443, 0.000587641610763967, 0.000990164466202259, 0.001806695363484323, 0.0031312413047999144, 0.00023389406851492822, 0.0016082733636721969, 0.00991030689328909, 0.002853949321433902, 0.00020495201169978827, 0.0013712660875171423, 0.006919007748365402, 0.0010336575796827674, 0.00014528451720252633, 0.01748979650437832, 0.00046553221181966364, 0.0003024089091923088, 0.8847689628601074, 0.0, 0.0, 0.0, 0.0, 0.0], [0.0005256081931293011, 3.528650267980993e-06, 1.703768020888674e-06, 9.408168261870742e-05, 0.664796769618988, 1.653148729019449e-07, 9.511110192761407e-07, 8.886889304449141e-07, 1.701669316389598e-05, 3.742175249499269e-05, 6.83225778175256e-08, 9.81090579443844e-06, 7.548727865014371e-08, 4.963255406664757e-08, 2.0393863451317884e-06, 7.686529897910077e-06, 4.066846415184955e-08, 2.6744283232460475e-08, 3.343177741044201e-05, 4.341077612934896e-07, 3.007990301284735e-08, 3.2060530230637596e-08, 4.900587555312086e-06, 3.060944436583668e-06, 1.4603178222216684e-08, 2.2145555703900754e-05, 9.211150427290704e-06, 3.1642741760151694e-08, 0.3344287872314453, 0.0, 0.0, 0.0, 0.0], [0.00467696925625205, 0.00028021191246807575, 8.346030517714098e-05, 3.1569975362799596e-06, 4.065315977186401e-07, 1.3343425564471545e-07, 2.6423464078106917e-05, 1.1439924207934382e-07, 2.7872164309883374e-07, 3.7495815377042163e-06, 4.652880392086445e-08, 1.7213885712408228e-06, 1.8165532367220294e-07, 3.148458205259885e-08, 1.8334145579501637e-07, 5.2147171913929924e-08, 2.5215713961301844e-08, 3.078423560509691e-08, 7.141975544300294e-08, 1.6640079536500707e-08, 1.7768156723718675e-08, 8.634492587589193e-08, 2.8009540073981043e-06, 8.454096587229287e-07, 3.098333678508425e-08, 2.927849607203825e-07, 5.676206455973443e-07, 5.055383223151466e-09, 2.9140871049548878e-08, 0.9949181079864502, 0.0, 0.0, 0.0], [5.63678186153993e-05, 0.00020023674005642533, 1.6319016822308186e-06, 1.5089298130988027e-06, 1.7779682821128517e-05, 5.956407034268807e-10, 6.94033587933518e-06, 5.033981675950372e-09, 2.168281127978844e-07, 1.7164239807243575e-06, 1.9326192035595824e-10, 1.8911389787490407e-08, 9.538803169562016e-08, 1.2946833882754305e-10, 8.077134516781825e-09, 4.386598811834119e-05, 9.768627573514266e-11, 5.256040047640909e-10, 6.932150427019224e-05, 7.50583808439842e-08, 7.069263924242009e-11, 3.988031593848973e-08, 1.0610236131469719e-05, 2.2120623270893702e-06, 8.688584296479007e-10, 9.928487088473048e-06, 5.390063950727608e-09, 1.1354371609595404e-10, 3.060037442992325e-06, 3.8945475466789503e-07, 0.9995738863945007, 0.0, 0.0], [0.0003556975570973009, 1.948953104147222e-05, 9.160975423583295e-06, 1.3085313185001723e-05, 2.3808943296899088e-05, 2.97190183573548e-08, 4.160602475167252e-05, 1.7756541126345837e-07, 6.896261197653075e-07, 1.0506270200494328e-06, 1.2230788826173011e-08, 4.290559900255175e-06, 3.295839690053981e-07, 9.211106544171344e-09, 1.7466428516854648e-06, 4.682816324930172e-06, 7.442753524600221e-09, 9.673836842694072e-09, 3.9665173972025514e-05, 7.324905482164468e-07, 5.5437112678191625e-09, 1.0396745153684606e-07, 1.4401644875761122e-05, 8.873348633642308e-06, 5.98941607421466e-09, 1.5627858374500647e-05, 2.981130364787532e-06, 6.874368629894434e-09, 4.854678536503343e-06, 7.07229219187866e-06, 6.210691481101094e-06, 0.999423623085022, 0.0], [0.054552774876356125, 0.01642906293272972, 0.016008324921131134, 0.0069868797436356544, 0.024884166195988655, 0.07376931607723236, 0.07933779060840607, 0.055945560336112976, 0.027268175035715103, 0.013368761166930199, 0.05590304732322693, 0.007223024964332581, 0.0054265763610601425, 0.05012325197458267, 0.008279061876237392, 0.0030609657987952232, 0.0468229316174984, 0.04751844331622124, 0.0028449459932744503, 0.007037979084998369, 0.04282712936401367, 0.05138196423649788, 0.02728237770497799, 0.02637535147368908, 0.02615920454263687, 0.011997982859611511, 0.006220117211341858, 0.03648783266544342, 0.011124705895781517, 0.005218565929681063, 0.002559205051511526, 0.002604027511551976, 0.14697051048278809]], [[1.0, 0.0, 0.0, 0.0, 0.0, 0.0, 0.0, 0.0, 0.0, 0.0, 0.0, 0.0, 0.0, 0.0, 0.0, 0.0, 0.0, 0.0, 0.0, 0.0, 0.0, 0.0, 0.0, 0.0, 0.0, 0.0, 0.0, 0.0, 0.0, 0.0, 0.0, 0.0, 0.0], [0.9192656874656677, 0.08073437958955765, 0.0, 0.0, 0.0, 0.0, 0.0, 0.0, 0.0, 0.0, 0.0, 0.0, 0.0, 0.0, 0.0, 0.0, 0.0, 0.0, 0.0, 0.0, 0.0, 0.0, 0.0, 0.0, 0.0, 0.0, 0.0, 0.0, 0.0, 0.0, 0.0, 0.0, 0.0], [0.45437347888946533, 0.42650455236434937, 0.11912195384502411, 0.0, 0.0, 0.0, 0.0, 0.0, 0.0, 0.0, 0.0, 0.0, 0.0, 0.0, 0.0, 0.0, 0.0, 0.0, 0.0, 0.0, 0.0, 0.0, 0.0, 0.0, 0.0, 0.0, 0.0, 0.0, 0.0, 0.0, 0.0, 0.0, 0.0], [0.5267521739006042, 0.22321639955043793, 0.12420620024204254, 0.12582525610923767, 0.0, 0.0, 0.0, 0.0, 0.0, 0.0, 0.0, 0.0, 0.0, 0.0, 0.0, 0.0, 0.0, 0.0, 0.0, 0.0, 0.0, 0.0, 0.0, 0.0, 0.0, 0.0, 0.0, 0.0, 0.0, 0.0, 0.0, 0.0, 0.0], [0.39034873247146606, 0.17099414765834808, 0.06872710585594177, 0.1837182641029358, 0.18621179461479187, 0.0, 0.0, 0.0, 0.0, 0.0, 0.0, 0.0, 0.0, 0.0, 0.0, 0.0, 0.0, 0.0, 0.0, 0.0, 0.0, 0.0, 0.0, 0.0, 0.0, 0.0, 0.0, 0.0, 0.0, 0.0, 0.0, 0.0, 0.0], [0.1974421888589859, 0.2543685734272003, 0.14488455653190613, 0.18925859034061432, 0.20821930468082428, 0.005826794076710939, 0.0, 0.0, 0.0, 0.0, 0.0, 0.0, 0.0, 0.0, 0.0, 0.0, 0.0, 0.0, 0.0, 0.0, 0.0, 0.0, 0.0, 0.0, 0.0, 0.0, 0.0, 0.0, 0.0, 0.0, 0.0, 0.0, 0.0], [0.19473573565483093, 0.1324184238910675, 0.14391928911209106, 0.15120723843574524, 0.30024465918540955, 0.020584646612405777, 0.05688994750380516, 0.0, 0.0, 0.0, 0.0, 0.0, 0.0, 0.0, 0.0, 0.0, 0.0, 0.0, 0.0, 0.0, 0.0, 0.0, 0.0, 0.0, 0.0, 0.0, 0.0, 0.0, 0.0, 0.0, 0.0, 0.0, 0.0], [0.12696674466133118, 0.21597395837306976, 0.1608933061361313, 0.19698823988437653, 0.18844616413116455, 0.013544946908950806, 0.07520701736211777, 0.021979697048664093, 0.0, 0.0, 0.0, 0.0, 0.0, 0.0, 0.0, 0.0, 0.0, 0.0, 0.0, 0.0, 0.0, 0.0, 0.0, 0.0, 0.0, 0.0, 0.0, 0.0, 0.0, 0.0, 0.0, 0.0, 0.0], [0.2912123501300812, 0.059542324393987656, 0.11079408973455429, 0.09717850387096405, 0.22345608472824097, 0.016262594610452652, 0.08719439804553986, 0.024762261658906937, 0.0895974412560463, 0.0, 0.0, 0.0, 0.0, 0.0, 0.0, 0.0, 0.0, 0.0, 0.0, 0.0, 0.0, 0.0, 0.0, 0.0, 0.0, 0.0, 0.0, 0.0, 0.0, 0.0, 0.0, 0.0, 0.0], [0.22981958091259003, 0.03802676871418953, 0.16013821959495544, 0.11780408024787903, 0.1618119329214096, 0.035528168082237244, 0.0756111666560173, 0.02075602114200592, 0.10670633614063263, 0.053797729313373566, 0.0, 0.0, 0.0, 0.0, 0.0, 0.0, 0.0, 0.0, 0.0, 0.0, 0.0, 0.0, 0.0, 0.0, 0.0, 0.0, 0.0, 0.0, 0.0, 0.0, 0.0, 0.0, 0.0], [0.1331443041563034, 0.1885865330696106, 0.10808098316192627, 0.15994961559772491, 0.17739203572273254, 0.0035980220418423414, 0.025062071159482002, 0.012862888164818287, 0.07453107088804245, 0.1127525195479393, 0.004039986524730921, 0.0, 0.0, 0.0, 0.0, 0.0, 0.0, 0.0, 0.0, 0.0, 0.0, 0.0, 0.0, 0.0, 0.0, 0.0, 0.0, 0.0, 0.0, 0.0, 0.0, 0.0, 0.0], [0.1674639731645584, 0.1435522437095642, 0.06118578091263771, 0.17358072102069855, 0.10113835334777832, 0.017553478479385376, 0.03239528089761734, 0.007995489984750748, 0.054534461349248886, 0.07883207499980927, 0.017258208245038986, 0.144509956240654, 0.0, 0.0, 0.0, 0.0, 0.0, 0.0, 0.0, 0.0, 0.0, 0.0, 0.0, 0.0, 0.0, 0.0, 0.0, 0.0, 0.0, 0.0, 0.0, 0.0, 0.0], [0.26996809244155884, 0.1302906572818756, 0.06605687737464905, 0.061561375856399536, 0.08437128365039825, 0.01984662376344204, 0.01631280593574047, 0.012965905480086803, 0.03231462836265564, 0.052547991275787354, 0.019868597388267517, 0.13695646822452545, 0.09693866968154907, 0.0, 0.0, 0.0, 0.0, 0.0, 0.0, 0.0, 0.0, 0.0, 0.0, 0.0, 0.0, 0.0, 0.0, 0.0, 0.0, 0.0, 0.0, 0.0, 0.0], [0.09820356965065002, 0.13618656992912292, 0.08005785197019577, 0.12152848392724991, 0.13579373061656952, 0.0024323598481714725, 0.017789479345083237, 0.009086462669074535, 0.05637533590197563, 0.08521641790866852, 0.0027533401735126972, 0.15203779935836792, 0.0994672104716301, 0.0030714019667357206, 0.0, 0.0, 0.0, 0.0, 0.0, 0.0, 0.0, 0.0, 0.0, 0.0, 0.0, 0.0, 0.0, 0.0, 0.0, 0.0, 0.0, 0.0, 0.0], [0.1701289415359497, 0.08885721117258072, 0.09089688211679459, 0.08085788041353226, 0.11427337676286697, 0.010901485569775105, 0.014788414351642132, 0.005497359670698643, 0.051512543112039566, 0.05330686271190643, 0.010595804080367088, 0.09442280977964401, 0.13098113238811493, 0.011153683997690678, 0.07182563841342926, 0.0, 0.0, 0.0, 0.0, 0.0, 0.0, 0.0, 0.0, 0.0, 0.0, 0.0, 0.0, 0.0, 0.0, 0.0, 0.0, 0.0, 0.0], [0.10365846008062363, 0.03588538244366646, 0.08803562819957733, 0.06087939068675041, 0.08348336815834045, 0.030805712565779686, 0.02961593307554722, 0.01091871690005064, 0.040499940514564514, 0.04288606345653534, 0.03219294175505638, 0.15008127689361572, 0.12658783793449402, 0.0349021814763546, 0.05825437605381012, 0.07131277024745941, 0.0, 0.0, 0.0, 0.0, 0.0, 0.0, 0.0, 0.0, 0.0, 0.0, 0.0, 0.0, 0.0, 0.0, 0.0, 0.0, 0.0], [0.07047095894813538, 0.09600996226072311, 0.05621575564146042, 0.0869988203048706, 0.09934119135141373, 0.0016298789996653795, 0.012408586218953133, 0.006380412727594376, 0.04101409763097763, 0.06348720192909241, 0.0018482189625501633, 0.11387644708156586, 0.07328981906175613, 0.0020712942350655794, 0.07246178388595581, 0.20012784004211426, 0.002367771929129958, 0.0, 0.0, 0.0, 0.0, 0.0, 0.0, 0.0, 0.0, 0.0, 0.0, 0.0, 0.0, 0.0, 0.0, 0.0, 0.0], [0.05659443885087967, 0.0890621766448021, 0.047032371163368225, 0.09457860141992569, 0.0879388228058815, 0.001972171477973461, 0.01776766963303089, 0.005990426521748304, 0.060148607939481735, 0.08834972977638245, 0.0022637671791017056, 0.10461515188217163, 0.06079375743865967, 0.002556622726842761, 0.07818634808063507, 0.19496022164821625, 0.0029299878515303135, 0.004259058739989996, 0.0, 0.0, 0.0, 0.0, 0.0, 0.0, 0.0, 0.0, 0.0, 0.0, 0.0, 0.0, 0.0, 0.0, 0.0], [0.15970627963542938, 0.026096437126398087, 0.04515179246664047, 0.034975770860910416, 0.0803067609667778, 0.0546904057264328, 0.04078544303774834, 0.02651301957666874, 0.02725193090736866, 0.039198148995637894, 0.05351436883211136, 0.0484292171895504, 0.06264263391494751, 0.05558209866285324, 0.055596619844436646, 0.0479295589029789, 0.05676328390836716, 0.048923034220933914, 0.03594313934445381, 0.0, 0.0, 0.0, 0.0, 0.0, 0.0, 0.0, 0.0, 0.0, 0.0, 0.0, 0.0, 0.0, 0.0], [0.08663127571344376, 0.09557429701089859, 0.03673812374472618, 0.06946710497140884, 0.05681464076042175, 0.008190206252038479, 0.022195858880877495, 0.007642831187695265, 0.031468264758586884, 0.0755520612001419, 0.008965262211859226, 0.052634745836257935, 0.044911082834005356, 0.009935061447322369, 0.044813770800828934, 0.15198473632335663, 0.010933414101600647, 0.007993675768375397, 0.16402551531791687, 0.01352807879447937, 0.0, 0.0, 0.0, 0.0, 0.0, 0.0, 0.0, 0.0, 0.0, 0.0, 0.0, 0.0, 0.0], [0.04783451929688454, 0.06669361144304276, 0.037989191710948944, 0.06040363386273384, 0.06899035722017288, 0.0010267319157719612, 0.008172671310603619, 0.004158162046223879, 0.02826831489801407, 0.04407239705324173, 0.0011586452601477504, 0.07832907140254974, 0.05082898959517479, 0.0013004966313019395, 0.049043070524930954, 0.1414499580860138, 0.0014934330247342587, 0.00255668256431818, 0.1753409057855606, 0.12910206615924835, 0.0017870576120913029, 0.0, 0.0, 0.0, 0.0, 0.0, 0.0, 0.0, 0.0, 0.0, 0.0, 0.0, 0.0], [0.04114088788628578, 0.04766078293323517, 0.0358700156211853, 0.06666097790002823, 0.07969266921281815, 0.0023650832008570433, 0.020340191200375557, 0.004854490514844656, 0.06436209380626678, 0.06737157702445984, 0.0027073705568909645, 0.05596049129962921, 0.056486647576093674, 0.0030767249409109354, 0.05354391783475876, 0.15165917575359344, 0.003539716824889183, 0.00467393035069108, 0.16402722895145416, 0.059681523591279984, 0.0041549475863575935, 0.01016952097415924, 0.0, 0.0, 0.0, 0.0, 0.0, 0.0, 0.0, 0.0, 0.0, 0.0, 0.0], [0.06628812849521637, 0.04092545434832573, 0.027322661131620407, 0.04505366459488869, 0.06575217843055725, 0.015657562762498856, 0.027881883084774017, 0.013711245730519295, 0.031742971390485764, 0.052807483822107315, 0.015447760000824928, 0.032181113958358765, 0.03290105238556862, 0.01629883609712124, 0.026636656373739243, 0.09772838652133942, 0.01711421087384224, 0.016919458284974098, 0.09847056120634079, 0.047879114747047424, 0.01841253973543644, 0.015331598930060863, 0.17753547430038452, 0.0, 0.0, 0.0, 0.0, 0.0, 0.0, 0.0, 0.0, 0.0, 0.0], [0.09801431000232697, 0.026328833773732185, 0.03586814925074577, 0.05713057145476341, 0.06943876296281815, 0.012128964997828007, 0.020909080281853676, 0.008747943677008152, 0.02699967287480831, 0.03726677596569061, 0.011716328561306, 0.08499536663293839, 0.05501333251595497, 0.012196693569421768, 0.03563913330435753, 0.08789659291505814, 0.012970080599188805, 0.01085101068019867, 0.06408380717039108, 0.05963920056819916, 0.0144921550527215, 0.00609373627230525, 0.09761453419923782, 0.05396499112248421, 0.0, 0.0, 0.0, 0.0, 0.0, 0.0, 0.0, 0.0, 0.0], [0.0276932455599308, 0.04073772579431534, 0.031223539263010025, 0.05879029631614685, 0.056018199771642685, 0.0015714793698862195, 0.011908033862709999, 0.003339789342135191, 0.051765553653240204, 0.05291246250271797, 0.0018259806092828512, 0.06030028313398361, 0.02835717238485813, 0.002087809843942523, 0.05086483061313629, 0.07898831367492676, 0.002398700686171651, 0.0029048239812254906, 0.11135736852884293, 0.04586020112037659, 0.0028849230147898197, 0.011431246064603329, 0.12340546399354935, 0.13488498330116272, 0.006487564649432898, 0.0, 0.0, 0.0, 0.0, 0.0, 0.0, 0.0, 0.0], [0.15390752255916595, 0.02378677949309349, 0.05320245027542114, 0.03963886946439743, 0.05711062625050545, 0.015628954395651817, 0.020206091925501823, 0.009252361953258514, 0.021311864256858826, 0.029029948636889458, 0.014741888269782066, 0.061238355934619904, 0.1011260449886322, 0.015157828107476234, 0.04335404187440872, 0.04090718552470207, 0.015732673928141594, 0.020073434337973595, 0.05374930799007416, 0.03468615189194679, 0.01698937639594078, 0.006368501577526331, 0.04042024165391922, 0.03106044977903366, 0.013937157578766346, 0.067381851375103, 0.0, 0.0, 0.0, 0.0, 0.0, 0.0, 0.0], [0.08555101603269577, 0.03505745530128479, 0.05885249003767967, 0.03497907519340515, 0.05178742855787277, 0.002511993981897831, 0.004151223227381706, 0.0020859139040112495, 0.014081129804253578, 0.024491379037499428, 0.002376001328229904, 0.09535107016563416, 0.07766136527061462, 0.002490885555744171, 0.04572683572769165, 0.0577411875128746, 0.0026603825390338898, 0.003347760299220681, 0.04799828678369522, 0.02678884007036686, 0.002958716358989477, 0.004655791446566582, 0.03607099503278732, 0.021599192172288895, 0.004788633435964584, 0.2205219268798828, 0.03371306508779526, 0.0, 0.0, 0.0, 0.0, 0.0, 0.0], [0.020706703886389732, 0.03719409182667732, 0.019723717123270035, 0.03894221410155296, 0.03182697668671608, 0.0012253696331754327, 0.008815746754407883, 0.002405286766588688, 0.0345795638859272, 0.0472981333732605, 0.0013953761663287878, 0.05148198828101158, 0.020486729219555855, 0.0015608391258865595, 0.03826121240854263, 0.048637524247169495, 0.0017825283575803041, 0.0025446077343076468, 0.06541351228952408, 0.04188564792275429, 0.0020960597321391106, 0.00940137542784214, 0.08460026234388351, 0.09020010381937027, 0.005403284449130297, 0.22932548820972443, 0.05692269280552864, 0.005882913246750832, 0.0, 0.0, 0.0, 0.0, 0.0], [0.0858280286192894, 0.03967178985476494, 0.01484183594584465, 0.05653620883822441, 0.059606146067380905, 0.006987523287534714, 0.010110094211995602, 0.0028877262957394123, 0.015322849154472351, 0.02592877857387066, 0.006830442231148481, 0.033548954874277115, 0.021093538030982018, 0.007213159464299679, 0.019323404878377914, 0.052982255816459656, 0.007658623158931732, 0.005157849285751581, 0.0652317926287651, 0.01817002333700657, 0.008534708991646767, 0.004368168767541647, 0.02691248245537281, 0.04962800443172455, 0.004404336214065552, 0.19388636946678162, 0.039332203567028046, 0.005363552365452051, 0.11263909190893173, 0.0, 0.0, 0.0, 0.0], [0.07040347903966904, 0.05926165357232094, 0.015334858559072018, 0.024139031767845154, 0.015728823840618134, 0.019492102786898613, 0.01731150597333908, 0.01730305515229702, 0.02056323178112507, 0.045155834406614304, 0.021815815940499306, 0.07079725712537766, 0.030063966289162636, 0.02354060485959053, 0.020684486255049706, 0.02116364799439907, 0.026445122435688972, 0.023540081456303596, 0.05663726478815079, 0.033694811165332794, 0.030707290396094322, 0.01599336601793766, 0.01547408290207386, 0.030803656205534935, 0.0318056121468544, 0.07969612628221512, 0.034374844282865524, 0.034537121653556824, 0.03062438778579235, 0.06290686130523682, 0.0, 0.0, 0.0], [0.053384993225336075, 0.02962152101099491, 0.02103010006248951, 0.023695718497037888, 0.0334363728761673, 0.01839382015168667, 0.024060696363449097, 0.022810064256191254, 0.013972364366054535, 0.02881353721022606, 0.019059758633375168, 0.015371953137218952, 0.025335313752293587, 0.019971953704953194, 0.014075740240514278, 0.03884446993470192, 0.021346241235733032, 0.019321443513035774, 0.0563264861702919, 0.021359987556934357, 0.023394610732793808, 0.023136679083108902, 0.06416398286819458, 0.06724696606397629, 0.0346951000392437, 0.04349015653133392, 0.030327221378684044, 0.032857198268175125, 0.053275126963853836, 0.06599809229373932, 0.04118239879608154, 0.0, 0.0], [0.18177111446857452, 0.019533174112439156, 0.028002910315990448, 0.029110176488757133, 0.041348330676555634, 0.01801946759223938, 0.010471735149621964, 0.008382908068597317, 0.01533579733222723, 0.02183944545686245, 0.016893325373530388, 0.03806138411164284, 0.03643866255879402, 0.017464250326156616, 0.026129065081477165, 0.04011498764157295, 0.01831723377108574, 0.012488218024373055, 0.051369618624448776, 0.01944383792579174, 0.01988973096013069, 0.0035764542408287525, 0.02623300813138485, 0.018429186195135117, 0.01172371581196785, 0.03272981569170952, 0.03480817750096321, 0.012035058811306953, 0.0603029690682888, 0.007873292081058025, 0.04227294400334358, 0.07959000021219254, 0.0], [0.015003401786088943, 0.020334875211119652, 0.007813433185219765, 0.01655356027185917, 0.016466083005070686, 0.00023809645790606737, 0.0019598922226577997, 0.0006898227729834616, 0.006483233999460936, 0.010734074749052525, 0.0002443522971589118, 0.014634664170444012, 0.0092476150020957, 0.00026059147785417736, 0.009339936077594757, 0.0427265539765358, 0.0002886383736040443, 0.0003811667556874454, 0.05474943295121193, 0.09452774375677109, 0.0003421129076741636, 0.001727019203826785, 0.047459278255701065, 0.02661382593214512, 0.0010238672839477658, 0.16537970304489136, 0.014187104068696499, 0.001309232204221189, 0.047706592828035355, 0.011198493652045727, 0.22050754725933075, 0.13942614197731018, 0.000441862503066659]], [[1.0, 0.0, 0.0, 0.0, 0.0, 0.0, 0.0, 0.0, 0.0, 0.0, 0.0, 0.0, 0.0, 0.0, 0.0, 0.0, 0.0, 0.0, 0.0, 0.0, 0.0, 0.0, 0.0, 0.0, 0.0, 0.0, 0.0, 0.0, 0.0, 0.0, 0.0, 0.0, 0.0], [0.9333657622337341, 0.06663426011800766, 0.0, 0.0, 0.0, 0.0, 0.0, 0.0, 0.0, 0.0, 0.0, 0.0, 0.0, 0.0, 0.0, 0.0, 0.0, 0.0, 0.0, 0.0, 0.0, 0.0, 0.0, 0.0, 0.0, 0.0, 0.0, 0.0, 0.0, 0.0, 0.0, 0.0, 0.0], [0.3245231509208679, 0.5923722982406616, 0.08310449123382568, 0.0, 0.0, 0.0, 0.0, 0.0, 0.0, 0.0, 0.0, 0.0, 0.0, 0.0, 0.0, 0.0, 0.0, 0.0, 0.0, 0.0, 0.0, 0.0, 0.0, 0.0, 0.0, 0.0, 0.0, 0.0, 0.0, 0.0, 0.0, 0.0, 0.0], [0.14159762859344482, 0.5143808126449585, 0.2814413607120514, 0.0625801756978035, 0.0, 0.0, 0.0, 0.0, 0.0, 0.0, 0.0, 0.0, 0.0, 0.0, 0.0, 0.0, 0.0, 0.0, 0.0, 0.0, 0.0, 0.0, 0.0, 0.0, 0.0, 0.0, 0.0, 0.0, 0.0, 0.0, 0.0, 0.0, 0.0], [0.2526227533817291, 0.05834066867828369, 0.1045888364315033, 0.44111573696136475, 0.14333197474479675, 0.0, 0.0, 0.0, 0.0, 0.0, 0.0, 0.0, 0.0, 0.0, 0.0, 0.0, 0.0, 0.0, 0.0, 0.0, 0.0, 0.0, 0.0, 0.0, 0.0, 0.0, 0.0, 0.0, 0.0, 0.0, 0.0, 0.0, 0.0], [0.18051566183567047, 0.09828896075487137, 0.10873979330062866, 0.12262684851884842, 0.09995534271001816, 0.3898733854293823, 0.0, 0.0, 0.0, 0.0, 0.0, 0.0, 0.0, 0.0, 0.0, 0.0, 0.0, 0.0, 0.0, 0.0, 0.0, 0.0, 0.0, 0.0, 0.0, 0.0, 0.0, 0.0, 0.0, 0.0, 0.0, 0.0, 0.0], [0.17192335426807404, 0.023321012035012245, 0.12332703918218613, 0.0607648566365242, 0.05971730500459671, 0.347591370344162, 0.21335507929325104, 0.0, 0.0, 0.0, 0.0, 0.0, 0.0, 0.0, 0.0, 0.0, 0.0, 0.0, 0.0, 0.0, 0.0, 0.0, 0.0, 0.0, 0.0, 0.0, 0.0, 0.0, 0.0, 0.0, 0.0, 0.0, 0.0], [0.09627028554677963, 0.04683615267276764, 0.02825738675892353, 0.032392483204603195, 0.05865050479769707, 0.15829357504844666, 0.3099651336669922, 0.26933449506759644, 0.0, 0.0, 0.0, 0.0, 0.0, 0.0, 0.0, 0.0, 0.0, 0.0, 0.0, 0.0, 0.0, 0.0, 0.0, 0.0, 0.0, 0.0, 0.0, 0.0, 0.0, 0.0, 0.0, 0.0, 0.0], [0.09948251396417618, 0.06464190781116486, 0.028671830892562866, 0.07305674999952316, 0.02978714369237423, 0.1396002620458603, 0.20754733681678772, 0.2658017873764038, 0.09141051024198532, 0.0, 0.0, 0.0, 0.0, 0.0, 0.0, 0.0, 0.0, 0.0, 0.0, 0.0, 0.0, 0.0, 0.0, 0.0, 0.0, 0.0, 0.0, 0.0, 0.0, 0.0, 0.0, 0.0, 0.0], [0.056320372968912125, 0.029885806143283844, 0.013419920578598976, 0.002407549414783716, 0.013245471753180027, 0.04564535245299339, 0.05522571876645088, 0.10027094185352325, 0.6579988598823547, 0.025580035522580147, 0.0, 0.0, 0.0, 0.0, 0.0, 0.0, 0.0, 0.0, 0.0, 0.0, 0.0, 0.0, 0.0, 0.0, 0.0, 0.0, 0.0, 0.0, 0.0, 0.0, 0.0, 0.0, 0.0], [0.042669933289289474, 0.010426470078527927, 0.010652224533259869, 0.01344661507755518, 0.009353168308734894, 0.04015980288386345, 0.07105188071727753, 0.13737644255161285, 0.1042325347661972, 0.21736635267734528, 0.34326454997062683, 0.0, 0.0, 0.0, 0.0, 0.0, 0.0, 0.0, 0.0, 0.0, 0.0, 0.0, 0.0, 0.0, 0.0, 0.0, 0.0, 0.0, 0.0, 0.0, 0.0, 0.0, 0.0], [0.02968394011259079, 0.002561647677794099, 0.004407480824738741, 0.03424862399697304, 0.014238741248846054, 0.028001897037029266, 0.022288065403699875, 0.07105965167284012, 0.04026234894990921, 0.5543041229248047, 0.17333047091960907, 0.025613009929656982, 0.0, 0.0, 0.0, 0.0, 0.0, 0.0, 0.0, 0.0, 0.0, 0.0, 0.0, 0.0, 0.0, 0.0, 0.0, 0.0, 0.0, 0.0, 0.0, 0.0, 0.0], [0.04039597883820534, 0.008631591685116291, 0.005494223441928625, 0.0038641446735709906, 0.023363128304481506, 0.027206964790821075, 0.025677405297756195, 0.05048512667417526, 0.05105610191822052, 0.05041791498661041, 0.14164307713508606, 0.5115287899971008, 0.060235556215047836, 0.0, 0.0, 0.0, 0.0, 0.0, 0.0, 0.0, 0.0, 0.0, 0.0, 0.0, 0.0, 0.0, 0.0, 0.0, 0.0, 0.0, 0.0, 0.0, 0.0], [0.028706379234790802, 0.004808451049029827, 0.004723661113530397, 0.0053825960494577885, 0.0034560428466647863, 0.01447017677128315, 0.02403741143643856, 0.04162612929940224, 0.03567289188504219, 0.07060741633176804, 0.10831008851528168, 0.058116283267736435, 0.20621195435523987, 0.3938705325126648, 0.0, 0.0, 0.0, 0.0, 0.0, 0.0, 0.0, 0.0, 0.0, 0.0, 0.0, 0.0, 0.0, 0.0, 0.0, 0.0, 0.0, 0.0, 0.0], [0.05342661216855049, 0.011923311278223991, 0.015572232194244862, 0.00211232528090477, 0.005851058289408684, 0.02217094786465168, 0.03818478807806969, 0.027411509305238724, 0.05464283004403114, 0.04910827428102493, 0.12328360974788666, 0.052871719002723694, 0.07545652240514755, 0.3701530694961548, 0.09783118963241577, 0.0, 0.0, 0.0, 0.0, 0.0, 0.0, 0.0, 0.0, 0.0, 0.0, 0.0, 0.0, 0.0, 0.0, 0.0, 0.0, 0.0, 0.0], [0.008346703834831715, 0.0002785269170999527, 0.0011785998940467834, 0.002139548771083355, 0.0024761701934039593, 0.0029182913713157177, 0.004576893523335457, 0.003965584095567465, 0.004973017610609531, 0.011347761377692223, 0.013014032505452633, 0.00554596958681941, 0.020895572379231453, 0.03838533163070679, 0.8750317096710205, 0.004926188383251429, 0.0, 0.0, 0.0, 0.0, 0.0, 0.0, 0.0, 0.0, 0.0, 0.0, 0.0, 0.0, 0.0, 0.0, 0.0, 0.0, 0.0], [0.021700290963053703, 0.0026786637026816607, 0.00238392548635602, 0.0028156209737062454, 0.0015562345506623387, 0.006139395292848349, 0.009039817377924919, 0.013740843161940575, 0.012412188574671745, 0.024686574935913086, 0.03406905010342598, 0.017561502754688263, 0.06082942336797714, 0.12004056572914124, 0.11516806483268738, 0.12663698196411133, 0.42854082584381104, 0.0, 0.0, 0.0, 0.0, 0.0, 0.0, 0.0, 0.0, 0.0, 0.0, 0.0, 0.0, 0.0, 0.0, 0.0, 0.0], [0.019681425765156746, 0.0028661945834755898, 0.002752872183918953, 0.0023641991429030895, 0.002220576163381338, 0.004776968155056238, 0.005015399772673845, 0.007020768243819475, 0.006602991372346878, 0.015824895352125168, 0.021779099479317665, 0.022375933825969696, 0.03905544802546501, 0.07342638075351715, 0.07227563858032227, 0.08103647828102112, 0.25563204288482666, 0.36529260873794556, 0.0, 0.0, 0.0, 0.0, 0.0, 0.0, 0.0, 0.0, 0.0, 0.0, 0.0, 0.0, 0.0, 0.0, 0.0], [0.03443869203329086, 0.002429505344480276, 0.0027038755360990763, 0.0010108925634995103, 0.0028212442994117737, 0.009310654364526272, 0.007474069017916918, 0.010526373982429504, 0.019342565909028053, 0.00658338563516736, 0.030525246635079384, 0.008166532963514328, 0.02394563890993595, 0.08047980070114136, 0.04428930953145027, 0.04886496439576149, 0.23266343772411346, 0.38709738850593567, 0.04732640087604523, 0.0, 0.0, 0.0, 0.0, 0.0, 0.0, 0.0, 0.0, 0.0, 0.0, 0.0, 0.0, 0.0, 0.0], [0.003697675885632634, 0.006450952030718327, 0.0004921702784486115, 0.0003069594094995409, 0.0001240073615917936, 0.0010727349435910583, 0.0008858773508109152, 0.001380634494125843, 0.0008200178854167461, 0.0002731186104938388, 0.0027830612380057573, 0.035294219851493835, 0.0035613616928458214, 0.007148314267396927, 0.0016474096337333322, 0.016731658950448036, 0.019172819331288338, 0.02233928069472313, 0.8733667135238647, 0.0024509630165994167, 0.0, 0.0, 0.0, 0.0, 0.0, 0.0, 0.0, 0.0, 0.0, 0.0, 0.0, 0.0, 0.0], [0.013628792949020863, 0.0014384461101144552, 0.0012188645778223872, 0.001291583408601582, 0.0006118050077930093, 0.002140041207894683, 0.002746960846707225, 0.0033360461238771677, 0.0030918712727725506, 0.005988909397274256, 0.007237222511321306, 0.0035477494820952415, 0.012891908176243305, 0.022229179739952087, 0.020824231207370758, 0.02629535086452961, 0.07648167014122009, 0.16261465847492218, 0.12638655304908752, 0.1003444641828537, 0.4056536853313446, 0.0, 0.0, 0.0, 0.0, 0.0, 0.0, 0.0, 0.0, 0.0, 0.0, 0.0, 0.0], [0.02143293246626854, 0.0007291636429727077, 0.001088967197574675, 0.0008559604757465422, 0.0010556585621088743, 0.002354240510612726, 0.0018633310683071613, 0.0024869791232049465, 0.004011360462754965, 0.003645616816356778, 0.0066366055980324745, 0.002459165407344699, 0.008106612600386143, 0.019501371309161186, 0.013945505023002625, 0.016831599175930023, 0.06727860867977142, 0.10203737020492554, 0.07506176829338074, 0.037855032831430435, 0.34741565585136414, 0.26334652304649353, 0.0, 0.0, 0.0, 0.0, 0.0, 0.0, 0.0, 0.0, 0.0, 0.0, 0.0], [0.01837441325187683, 0.0016340113943442702, 0.00026486566639505327, 0.0006277066422626376, 0.0007212880300357938, 0.00229470687918365, 0.0014375749742612243, 0.0024335626512765884, 0.0010225002188235521, 0.002173090586438775, 0.005665971431881189, 0.0005857066134922206, 0.004730293061584234, 0.01578960195183754, 0.009121055714786053, 0.006447882391512394, 0.04965181276202202, 0.07221101969480515, 0.04530419781804085, 0.022536175325512886, 0.23380495607852936, 0.2810100018978119, 0.22215764224529266, 0.0, 0.0, 0.0, 0.0, 0.0, 0.0, 0.0, 0.0, 0.0, 0.0], [0.016010358929634094, 0.0004190779000055045, 0.0016793133690953255, 0.0020331633277237415, 0.0011126063764095306, 0.0023041244130581617, 0.0016414887504652143, 0.002045226516202092, 0.0008826442644931376, 0.003531819675117731, 0.004660748410969973, 0.001146128517575562, 0.0040252795442938805, 0.011729486286640167, 0.0069060176610946655, 0.0059789917431771755, 0.034136202186346054, 0.05391991138458252, 0.0753692016005516, 0.01554414164274931, 0.15307284891605377, 0.216725155711174, 0.23267336189746857, 0.15245269238948822, 0.0, 0.0, 0.0, 0.0, 0.0, 0.0, 0.0, 0.0, 0.0], [0.016415564343333244, 0.0010881067719310522, 0.0013027070090174675, 0.001233565155416727, 0.0010325249750167131, 0.001360530499368906, 0.0011352782603353262, 0.0009713198523968458, 0.0017580281710252166, 0.002355000004172325, 0.0022677984088659286, 0.0026170096825808287, 0.003284970996901393, 0.005564457271248102, 0.007287763990461826, 0.006582681089639664, 0.016911109909415245, 0.023348191753029823, 0.03336379677057266, 0.012060867622494698, 0.08410529792308807, 0.1077699288725853, 0.12741324305534363, 0.25009581446647644, 0.28867441415786743, 0.0, 0.0, 0.0, 0.0, 0.0, 0.0, 0.0, 0.0], [0.031117742881178856, 0.0015063080936670303, 0.0010839317692443728, 0.002421524841338396, 0.0013826872454956174, 0.0037937224842607975, 0.001633931533433497, 0.0031195241026580334, 0.0012812657514587045, 0.0020685256458818913, 0.004760116338729858, 0.0008757306495681405, 0.008592105470597744, 0.009353648871183395, 0.011993257328867912, 0.005963003262877464, 0.0220282431691885, 0.034113332629203796, 0.009586767293512821, 0.013681798242032528, 0.08417072147130966, 0.0891781896352768, 0.10806845873594284, 0.1556074321269989, 0.37236857414245605, 0.02024947851896286, 0.0, 0.0, 0.0, 0.0, 0.0, 0.0, 0.0], [0.014838477596640587, 0.0005757321487180889, 0.004743654280900955, 0.00045677326852455735, 0.0007412291597574949, 0.0015000003622844815, 0.0008866073912940919, 0.0008452063193544745, 0.00010359250154579058, 0.000906512956134975, 0.0018096761777997017, 0.06029108539223671, 0.0015377560630440712, 0.003307941136881709, 0.0013713695807382464, 0.0020826715044677258, 0.008643998764455318, 0.00908886082470417, 0.007760943844914436, 0.00580834224820137, 0.03386519476771355, 0.03987179324030876, 0.05374550446867943, 0.03694769740104675, 0.12259427458047867, 0.571870744228363, 0.013804442249238491, 0.0, 0.0, 0.0, 0.0, 0.0, 0.0], [0.018569979816675186, 0.001214315416291356, 0.0012880433350801468, 0.0010612548794597387, 0.0007490033167414367, 0.0010485579259693623, 0.0008687860681675375, 0.0005973836523480713, 0.0012938259169459343, 0.001404249924235046, 0.001105508767068386, 0.0005003446713089943, 0.002026256639510393, 0.0021463120356202126, 0.0028737953398376703, 0.0026413737796247005, 0.005802988540381193, 0.008191384375095367, 0.008339055813848972, 0.005543302744626999, 0.026558706536889076, 0.03308921307325363, 0.03250747174024582, 0.09199857711791992, 0.10410473495721817, 0.1686178296804428, 0.20895391702651978, 0.266903817653656, 0.0, 0.0, 0.0, 0.0, 0.0], [0.016654420644044876, 0.0007248671026900411, 0.0008980660932138562, 0.003161681117489934, 0.0005522803403437138, 0.0016607255674898624, 0.0007486111717298627, 0.0009652759181335568, 0.00038428002153523266, 0.0022577745839953423, 0.0015545629430562258, 0.0007037005852907896, 0.001468817237764597, 0.0027998818550258875, 0.003013978246599436, 0.005369037855416536, 0.006552328821271658, 0.008701556362211704, 0.007138855755329132, 0.0065163131803274155, 0.026185542345046997, 0.039292048662900925, 0.03155006095767021, 0.02434297278523445, 0.1067076176404953, 0.15159828960895538, 0.1367417573928833, 0.3201400935649872, 0.09161462634801865, 0.0, 0.0, 0.0, 0.0], [0.03722687065601349, 0.0007442741189152002, 0.0019180378876626492, 0.0014290648978203535, 0.002559737069532275, 0.0032928339205682278, 0.0009007276385091245, 0.0015445105964317918, 0.00035572220804169774, 0.0004492750740610063, 0.0026688212528824806, 0.0014046663418412209, 0.001728099538013339, 0.004542745649814606, 0.0012941040331497788, 0.004677664488554001, 0.009138203226029873, 0.008992982096970081, 0.005343640223145485, 0.002031842013821006, 0.03093092329800129, 0.021215301007032394, 0.036399755626916885, 0.05679450184106827, 0.1119595617055893, 0.011458071880042553, 0.033532895147800446, 0.26588553190231323, 0.24695411324501038, 0.09262550622224808, 0.0, 0.0, 0.0], [0.04408898204565048, 0.0011082994751632214, 0.0033875994849950075, 0.004853190388530493, 0.0028643382247537374, 0.004500859417021275, 0.001451812800951302, 0.002192494925111532, 0.0007902380893938243, 0.000671739224344492, 0.003577163675799966, 0.0005131769576109946, 0.012861691415309906, 0.005116849672049284, 0.0030142522882670164, 0.005887447856366634, 0.010453430935740471, 0.013818347826600075, 0.008691057562828064, 0.011229230090975761, 0.031400952488183975, 0.023181678727269173, 0.030444398522377014, 0.035206761211156845, 0.09999866038560867, 0.006090173497796059, 0.14714187383651733, 0.16393007338047028, 0.12749527394771576, 0.19357798993587494, 0.0004599890671670437, 0.0, 0.0], [0.03717408329248428, 0.005006901454180479, 0.0016112326411530375, 0.0028301486745476723, 0.0005118509288877249, 0.002707126084715128, 0.0020970292389392853, 0.0012328780721873045, 0.0006310890894383192, 0.0017632462549954653, 0.0017868796130642295, 0.0002528342301957309, 0.0010720720747485757, 0.002644841792061925, 0.001566156279295683, 0.0038084122352302074, 0.005276760086417198, 0.00693028187379241, 0.013310804963111877, 0.0035816477611660957, 0.01830451376736164, 0.02668476291000843, 0.019971530884504318, 0.03215572237968445, 0.0743204653263092, 0.02392224594950676, 0.08761468529701233, 0.18007582426071167, 0.027492564171552658, 0.05972231552004814, 0.1912265419960022, 0.16271260380744934, 0.0], [0.00811692699790001, 0.0008723044884391129, 0.0003707293653860688, 0.0004734854737762362, 0.00017832971934694797, 0.00039947027107700706, 0.00029511720640584826, 0.00018311908934265375, 0.00016714561206754297, 0.00023702434555161744, 0.0002533355727791786, 0.00012855060049332678, 0.00020213203970342875, 0.0003994496655650437, 0.0001651181373745203, 0.00046228879364207387, 0.0008780224598012865, 0.0011140506248921156, 0.0020708783995360136, 0.0019636754877865314, 0.00352785037830472, 0.0044752247631549835, 0.004463498946279287, 0.0073125287890434265, 0.01444620918482542, 0.03503044694662094, 0.02001412771642208, 0.04388578236103058, 0.01943679340183735, 0.11325746029615402, 0.07277603447437286, 0.16196803748607635, 0.48047491908073425]], [[1.0, 0.0, 0.0, 0.0, 0.0, 0.0, 0.0, 0.0, 0.0, 0.0, 0.0, 0.0, 0.0, 0.0, 0.0, 0.0, 0.0, 0.0, 0.0, 0.0, 0.0, 0.0, 0.0, 0.0, 0.0, 0.0, 0.0, 0.0, 0.0, 0.0, 0.0, 0.0, 0.0], [0.9473748207092285, 0.05262523144483566, 0.0, 0.0, 0.0, 0.0, 0.0, 0.0, 0.0, 0.0, 0.0, 0.0, 0.0, 0.0, 0.0, 0.0, 0.0, 0.0, 0.0, 0.0, 0.0, 0.0, 0.0, 0.0, 0.0, 0.0, 0.0, 0.0, 0.0, 0.0, 0.0, 0.0, 0.0], [0.8785885572433472, 0.05539463087916374, 0.06601683050394058, 0.0, 0.0, 0.0, 0.0, 0.0, 0.0, 0.0, 0.0, 0.0, 0.0, 0.0, 0.0, 0.0, 0.0, 0.0, 0.0, 0.0, 0.0, 0.0, 0.0, 0.0, 0.0, 0.0, 0.0, 0.0, 0.0, 0.0, 0.0, 0.0, 0.0], [0.727077066898346, 0.1370987743139267, 0.04866086691617966, 0.08716331422328949, 0.0, 0.0, 0.0, 0.0, 0.0, 0.0, 0.0, 0.0, 0.0, 0.0, 0.0, 0.0, 0.0, 0.0, 0.0, 0.0, 0.0, 0.0, 0.0, 0.0, 0.0, 0.0, 0.0, 0.0, 0.0, 0.0, 0.0, 0.0, 0.0], [0.4651744067668915, 0.13429313898086548, 0.15358172357082367, 0.17472556233406067, 0.0722251608967781, 0.0, 0.0, 0.0, 0.0, 0.0, 0.0, 0.0, 0.0, 0.0, 0.0, 0.0, 0.0, 0.0, 0.0, 0.0, 0.0, 0.0, 0.0, 0.0, 0.0, 0.0, 0.0, 0.0, 0.0, 0.0, 0.0, 0.0, 0.0], [0.1703595370054245, 0.011841889470815659, 0.02365078777074814, 0.02174578793346882, 0.025856265798211098, 0.7465457320213318, 0.0, 0.0, 0.0, 0.0, 0.0, 0.0, 0.0, 0.0, 0.0, 0.0, 0.0, 0.0, 0.0, 0.0, 0.0, 0.0, 0.0, 0.0, 0.0, 0.0, 0.0, 0.0, 0.0, 0.0, 0.0, 0.0, 0.0], [0.1421457976102829, 0.04383265599608421, 0.05021176487207413, 0.04516500607132912, 0.058721236884593964, 0.5111536979675293, 0.14876985549926758, 0.0, 0.0, 0.0, 0.0, 0.0, 0.0, 0.0, 0.0, 0.0, 0.0, 0.0, 0.0, 0.0, 0.0, 0.0, 0.0, 0.0, 0.0, 0.0, 0.0, 0.0, 0.0, 0.0, 0.0, 0.0, 0.0], [0.08473357558250427, 0.020369786769151688, 0.03746159374713898, 0.03195906803011894, 0.034195974469184875, 0.4350073039531708, 0.11894048005342484, 0.23733216524124146, 0.0, 0.0, 0.0, 0.0, 0.0, 0.0, 0.0, 0.0, 0.0, 0.0, 0.0, 0.0, 0.0, 0.0, 0.0, 0.0, 0.0, 0.0, 0.0, 0.0, 0.0, 0.0, 0.0, 0.0, 0.0], [0.3423081934452057, 0.03593633696436882, 0.07259206473827362, 0.10352757573127747, 0.08196531981229782, 0.07694564759731293, 0.1419631689786911, 0.09896714240312576, 0.04579455032944679, 0.0, 0.0, 0.0, 0.0, 0.0, 0.0, 0.0, 0.0, 0.0, 0.0, 0.0, 0.0, 0.0, 0.0, 0.0, 0.0, 0.0, 0.0, 0.0, 0.0, 0.0, 0.0, 0.0, 0.0], [0.3711485266685486, 0.06278736144304276, 0.05806949362158775, 0.05566274747252464, 0.13124863803386688, 0.07535627484321594, 0.10726615786552429, 0.07924020290374756, 0.03010731004178524, 0.02911325730383396, 0.0, 0.0, 0.0, 0.0, 0.0, 0.0, 0.0, 0.0, 0.0, 0.0, 0.0, 0.0, 0.0, 0.0, 0.0, 0.0, 0.0, 0.0, 0.0, 0.0, 0.0, 0.0, 0.0], [0.06430099904537201, 0.005169093143194914, 0.011012974195182323, 0.009054861962795258, 0.01174804475158453, 0.3188505470752716, 0.03684943914413452, 0.08319532871246338, 0.012068124487996101, 0.014676222577691078, 0.43307435512542725, 0.0, 0.0, 0.0, 0.0, 0.0, 0.0, 0.0, 0.0, 0.0, 0.0, 0.0, 0.0, 0.0, 0.0, 0.0, 0.0, 0.0, 0.0, 0.0, 0.0, 0.0, 0.0], [0.2377793788909912, 0.03812999278306961, 0.01974334940314293, 0.0750802606344223, 0.1442078948020935, 0.062449198216199875, 0.07018379122018814, 0.06523609906435013, 0.048832155764102936, 0.034600380808115005, 0.06439768522977829, 0.13935977220535278, 0.0, 0.0, 0.0, 0.0, 0.0, 0.0, 0.0, 0.0, 0.0, 0.0, 0.0, 0.0, 0.0, 0.0, 0.0, 0.0, 0.0, 0.0, 0.0, 0.0, 0.0], [0.29014483094215393, 0.04085765406489372, 0.06965618580579758, 0.06467734277248383, 0.1151561290025711, 0.07279440760612488, 0.05406036972999573, 0.04096001014113426, 0.03646118566393852, 0.03709698095917702, 0.08112157136201859, 0.06249437481164932, 0.03451891243457794, 0.0, 0.0, 0.0, 0.0, 0.0, 0.0, 0.0, 0.0, 0.0, 0.0, 0.0, 0.0, 0.0, 0.0, 0.0, 0.0, 0.0, 0.0, 0.0, 0.0], [0.04191603139042854, 0.003388064680621028, 0.007082358468323946, 0.005899202544242144, 0.007586187683045864, 0.20389825105667114, 0.02329675666987896, 0.05173063278198242, 0.007816805504262447, 0.009731391444802284, 0.2776017487049103, 0.00838675256818533, 0.01617271453142166, 0.33549314737319946, 0.0, 0.0, 0.0, 0.0, 0.0, 0.0, 0.0, 0.0, 0.0, 0.0, 0.0, 0.0, 0.0, 0.0, 0.0, 0.0, 0.0, 0.0, 0.0], [0.1512935906648636, 0.04240782931447029, 0.04383378475904465, 0.0970674678683281, 0.14943572878837585, 0.04439882934093475, 0.061744969338178635, 0.04199513420462608, 0.018608808517456055, 0.03141246736049652, 0.050926536321640015, 0.06660275906324387, 0.09416224807500839, 0.05761284381151199, 0.04849696531891823, 0.0, 0.0, 0.0, 0.0, 0.0, 0.0, 0.0, 0.0, 0.0, 0.0, 0.0, 0.0, 0.0, 0.0, 0.0, 0.0, 0.0, 0.0], [0.29958033561706543, 0.07432053238153458, 0.030061936005949974, 0.016736464574933052, 0.03856480494141579, 0.051068756729364395, 0.09408657997846603, 0.05606791004538536, 0.05458229407668114, 0.04522041603922844, 0.056380804628133774, 0.015378029085695744, 0.040828511118888855, 0.060846950858831406, 0.030811075121164322, 0.03546452894806862, 0.0, 0.0, 0.0, 0.0, 0.0, 0.0, 0.0, 0.0, 0.0, 0.0, 0.0, 0.0, 0.0, 0.0, 0.0, 0.0, 0.0], [0.030439918860793114, 0.002493380568921566, 0.005298185627907515, 0.004223375115543604, 0.005517431069165468, 0.1450846940279007, 0.016034122556447983, 0.03598640859127045, 0.005758032668381929, 0.007398171816021204, 0.19613459706306458, 0.006090877112001181, 0.011465109884738922, 0.23737993836402893, 0.008031753823161125, 0.005861473269760609, 0.2768024802207947, 0.0, 0.0, 0.0, 0.0, 0.0, 0.0, 0.0, 0.0, 0.0, 0.0, 0.0, 0.0, 0.0, 0.0, 0.0, 0.0], [0.015668930485844612, 0.0019133435562252998, 0.006747928913682699, 0.005610870663076639, 0.006710351910442114, 0.1085854023694992, 0.013436977751553059, 0.03067474439740181, 0.00869804248213768, 0.0059587727300822735, 0.1569640338420868, 0.0064012520015239716, 0.0143571887165308, 0.19220462441444397, 0.009938821196556091, 0.008154560811817646, 0.22861409187316895, 0.17936013638973236, 0.0, 0.0, 0.0, 0.0, 0.0, 0.0, 0.0, 0.0, 0.0, 0.0, 0.0, 0.0, 0.0, 0.0, 0.0], [0.27512067556381226, 0.04635611176490784, 0.025782739743590355, 0.020371070131659508, 0.04519135132431984, 0.04741501808166504, 0.058008309453725815, 0.05449459329247475, 0.021855801343917847, 0.028674179688096046, 0.0505480132997036, 0.035789456218481064, 0.014343995600938797, 0.05505189672112465, 0.019970906898379326, 0.025070708245038986, 0.0598367378115654, 0.1059127002954483, 0.010205710306763649, 0.0, 0.0, 0.0, 0.0, 0.0, 0.0, 0.0, 0.0, 0.0, 0.0, 0.0, 0.0, 0.0, 0.0], [0.12210451811552048, 0.029006347060203552, 0.027926085516810417, 0.030763668939471245, 0.06431961804628372, 0.05075867474079132, 0.05746711418032646, 0.038544539362192154, 0.02881445176899433, 0.03641035407781601, 0.05530695617198944, 0.02755569852888584, 0.05062387138605118, 0.060396820306777954, 0.03790910169482231, 0.034162577241659164, 0.06550323963165283, 0.0822460949420929, 0.08903142064809799, 0.011148830875754356, 0.0, 0.0, 0.0, 0.0, 0.0, 0.0, 0.0, 0.0, 0.0, 0.0, 0.0, 0.0, 0.0], [0.019922703504562378, 0.0015991221880540252, 0.003536265343427658, 0.002760601695626974, 0.00367474346421659, 0.09198586642742157, 0.009868188761174679, 0.021762678399682045, 0.0036746119149029255, 0.004800302907824516, 0.12327174842357635, 0.003948218654841185, 0.0077277119271457195, 0.14901943504810333, 0.005094492807984352, 0.0038495445623993874, 0.17433825135231018, 0.14503753185272217, 0.003139176871627569, 0.0039015559013932943, 0.21708722412586212, 0.0, 0.0, 0.0, 0.0, 0.0, 0.0, 0.0, 0.0, 0.0, 0.0, 0.0, 0.0], [0.0251691322773695, 0.0025891405530273914, 0.007904468104243279, 0.0028181737288832664, 0.008317481726408005, 0.06284770369529724, 0.016097357496619225, 0.024833548814058304, 0.007658044341951609, 0.011317089200019836, 0.08450998365879059, 0.012135392986238003, 0.022048361599445343, 0.10017254203557968, 0.015103294514119625, 0.020152229815721512, 0.11906815320253372, 0.14148974418640137, 0.0065766554325819016, 0.007074054796248674, 0.14850662648677826, 0.15361085534095764, 0.0, 0.0, 0.0, 0.0, 0.0, 0.0, 0.0, 0.0, 0.0, 0.0, 0.0], [0.08679641038179398, 0.01581866480410099, 0.009913149289786816, 0.00594111904501915, 0.011749095283448696, 0.04402250796556473, 0.04941156506538391, 0.04721159115433693, 0.022448502480983734, 0.02814415842294693, 0.05249372124671936, 0.01366487331688404, 0.038044530898332596, 0.058564938604831696, 0.01600874774158001, 0.028531795367598534, 0.0675240308046341, 0.1000404953956604, 0.02607448399066925, 0.018165266141295433, 0.08061440289020538, 0.1458839774131775, 0.03293202072381973, 0.0, 0.0, 0.0, 0.0, 0.0, 0.0, 0.0, 0.0, 0.0, 0.0], [0.12203335762023926, 0.02679690718650818, 0.03471264988183975, 0.01660085655748844, 0.05098601058125496, 0.03362349048256874, 0.033762890845537186, 0.03289442136883736, 0.022763576358556747, 0.034695446491241455, 0.03710828348994255, 0.02750299498438835, 0.030507996678352356, 0.04070490971207619, 0.019409820437431335, 0.03338809683918953, 0.046037930995225906, 0.0814194306731224, 0.025792906060814857, 0.017713334411382675, 0.05326371267437935, 0.06955217570066452, 0.07340098917484283, 0.03532783314585686, 0.0, 0.0, 0.0, 0.0, 0.0, 0.0, 0.0, 0.0, 0.0], [0.012632695026695728, 0.003196721663698554, 0.00899961031973362, 0.0037871049717068672, 0.005590209271758795, 0.06018753722310066, 0.010173018090426922, 0.026063347235322, 0.008280321955680847, 0.005998441483825445, 0.08480241894721985, 0.007755714934319258, 0.014807653613388538, 0.10079348832368851, 0.011636014096438885, 0.007885103113949299, 0.12061381340026855, 0.12819872796535492, 0.006487109698355198, 0.003230568952858448, 0.1504751294851303, 0.10557684302330017, 0.01548060029745102, 0.01902633346617222, 0.07832156866788864, 0.0, 0.0, 0.0, 0.0, 0.0, 0.0, 0.0, 0.0], [0.11176048964262009, 0.018635546788573265, 0.05622367560863495, 0.04677281901240349, 0.03736498951911926, 0.02299342304468155, 0.03136526420712471, 0.026408899575471878, 0.04335919767618179, 0.05663560330867767, 0.021786408498883247, 0.02382211945950985, 0.03064168430864811, 0.023289257660508156, 0.05430498719215393, 0.06881185621023178, 0.0244893841445446, 0.047770872712135315, 0.036271724849939346, 0.022222500294446945, 0.02699892222881317, 0.02176615037024021, 0.03442494571208954, 0.028240256011486053, 0.05891920253634453, 0.02471984550356865, 0.0, 0.0, 0.0, 0.0, 0.0, 0.0, 0.0], [0.10639803111553192, 0.0371079295873642, 0.08273956924676895, 0.017856860533356667, 0.02095002494752407, 0.018305251374840736, 0.022620104253292084, 0.018192261457443237, 0.02185119315981865, 0.012518538162112236, 0.01921410672366619, 0.030340032652020454, 0.071876160800457, 0.020788006484508514, 0.03963523730635643, 0.061515916138887405, 0.023179316893219948, 0.043980445712804794, 0.04619218781590462, 0.020667962729930878, 0.027080927044153214, 0.043865546584129333, 0.03276738524436951, 0.04369070753455162, 0.05080842971801758, 0.04029490426182747, 0.02556299790740013, 0.0, 0.0, 0.0, 0.0, 0.0, 0.0], [0.015084554441273212, 0.0038223769515752792, 0.0058772629126906395, 0.004971849266439676, 0.005370145197957754, 0.05223650112748146, 0.016127683222293854, 0.031829871237277985, 0.008211122825741768, 0.01147382240742445, 0.06704685091972351, 0.010528371669352055, 0.010598231106996536, 0.07938900589942932, 0.007211723364889622, 0.006271463353186846, 0.09142382442951202, 0.10866505652666092, 0.003973816987127066, 0.005621662829071283, 0.10983327776193619, 0.09237754344940186, 0.0229604784399271, 0.019314924255013466, 0.08864135295152664, 0.01846468821167946, 0.011022256687283516, 0.09165025502443314, 0.0, 0.0, 0.0, 0.0, 0.0], [0.09854135662317276, 0.03967057541012764, 0.05052139610052109, 0.04794391244649887, 0.019531894475221634, 0.015683414414525032, 0.02507476881146431, 0.014997920952737331, 0.02772342786192894, 0.01641818694770336, 0.016389044001698494, 0.02631654590368271, 0.034359272569417953, 0.017758021131157875, 0.023362694308161736, 0.03763516992330551, 0.01940562203526497, 0.034421686083078384, 0.04902298375964165, 0.030190519988536835, 0.02215910516679287, 0.037540681660175323, 0.038793131709098816, 0.040324144065380096, 0.0423126257956028, 0.06829189509153366, 0.025314103811979294, 0.04330069571733475, 0.036995187401771545, 0.0, 0.0, 0.0, 0.0], [0.1068882867693901, 0.03659578040242195, 0.005083086900413036, 0.010160425677895546, 0.013297350145876408, 0.04175204411149025, 0.026246806606650352, 0.030128588899970055, 0.013482390902936459, 0.01822320744395256, 0.04582620784640312, 0.02555878646671772, 0.015618842095136642, 0.05039891228079796, 0.011657025665044785, 0.011659127660095692, 0.05515523627400398, 0.05091659724712372, 0.019206805154681206, 0.01399841345846653, 0.06383468955755234, 0.029088899493217468, 0.016710439696907997, 0.026095276698470116, 0.054849766194820404, 0.03806672245264053, 0.03896073251962662, 0.05375223979353905, 0.023679127916693687, 0.05310813710093498, 0.0, 0.0, 0.0], [0.10871606320142746, 0.06286415457725525, 0.023045063018798828, 0.012493222951889038, 0.009688264690339565, 0.02372080273926258, 0.025617336854338646, 0.0282828938215971, 0.019523099064826965, 0.015187141485512257, 0.02461576648056507, 0.01885577104985714, 0.01307193748652935, 0.025697477161884308, 0.010639802552759647, 0.0073364414274692535, 0.02848830632865429, 0.04087511822581291, 0.023693948984146118, 0.028460795059800148, 0.0317811593413353, 0.033992111682891846, 0.01690450869500637, 0.0469975471496582, 0.05480913072824478, 0.06048166751861572, 0.02113780565559864, 0.05147767439484596, 0.015304340049624443, 0.07868866622447968, 0.03755193576216698, 0.0, 0.0], [0.16510628163814545, 0.013307332061231136, 0.022820299491286278, 0.032224930822849274, 0.028327807784080505, 0.011912113055586815, 0.02175912819802761, 0.012591333128511906, 0.02537129819393158, 0.01592346467077732, 0.011745072901248932, 0.021340131759643555, 0.02265850640833378, 0.012097008526325226, 0.058773938566446304, 0.041142985224723816, 0.012866150587797165, 0.021896716207265854, 0.027385732159018517, 0.015412716194987297, 0.014822292141616344, 0.013198806904256344, 0.029060151427984238, 0.04031304270029068, 0.023036934435367584, 0.05035790428519249, 0.04650067165493965, 0.03221072629094124, 0.045741260051727295, 0.01144817192107439, 0.051484834402799606, 0.047162238508462906, 0.0], [0.0198627021163702, 0.0006941352621652186, 0.0017670595552772284, 0.0019038151949644089, 0.002311578718945384, 0.05924397334456444, 0.005164949223399162, 0.008714533410966396, 0.002490665763616562, 0.003057957859709859, 0.07585150003433228, 0.002390546491369605, 0.003177350852638483, 0.0894511491060257, 0.0030652922578155994, 0.0016209157183766365, 0.10312044620513916, 0.0625915452837944, 0.0020582950673997402, 0.0022322137374430895, 0.12742044031620026, 0.024703865870833397, 0.0035101945977658033, 0.0049941763281822205, 0.028317078948020935, 0.005874190013855696, 0.006215328350663185, 0.03686558082699776, 0.0054380944930016994, 0.004061863292008638, 0.004735507536679506, 0.004534374922513962, 0.2925586402416229]], [[1.0, 0.0, 0.0, 0.0, 0.0, 0.0, 0.0, 0.0, 0.0, 0.0, 0.0, 0.0, 0.0, 0.0, 0.0, 0.0, 0.0, 0.0, 0.0, 0.0, 0.0, 0.0, 0.0, 0.0, 0.0, 0.0, 0.0, 0.0, 0.0, 0.0, 0.0, 0.0, 0.0], [0.9726406335830688, 0.027359338477253914, 0.0, 0.0, 0.0, 0.0, 0.0, 0.0, 0.0, 0.0, 0.0, 0.0, 0.0, 0.0, 0.0, 0.0, 0.0, 0.0, 0.0, 0.0, 0.0, 0.0, 0.0, 0.0, 0.0, 0.0, 0.0, 0.0, 0.0, 0.0, 0.0, 0.0, 0.0], [0.8850567936897278, 0.08160637319087982, 0.03333680331707001, 0.0, 0.0, 0.0, 0.0, 0.0, 0.0, 0.0, 0.0, 0.0, 0.0, 0.0, 0.0, 0.0, 0.0, 0.0, 0.0, 0.0, 0.0, 0.0, 0.0, 0.0, 0.0, 0.0, 0.0, 0.0, 0.0, 0.0, 0.0, 0.0, 0.0], [0.7844980359077454, 0.09045999497175217, 0.10720958560705185, 0.017832310870289803, 0.0, 0.0, 0.0, 0.0, 0.0, 0.0, 0.0, 0.0, 0.0, 0.0, 0.0, 0.0, 0.0, 0.0, 0.0, 0.0, 0.0, 0.0, 0.0, 0.0, 0.0, 0.0, 0.0, 0.0, 0.0, 0.0, 0.0, 0.0, 0.0], [0.6679068207740784, 0.10135093331336975, 0.10997910052537918, 0.06990870833396912, 0.05085448920726776, 0.0, 0.0, 0.0, 0.0, 0.0, 0.0, 0.0, 0.0, 0.0, 0.0, 0.0, 0.0, 0.0, 0.0, 0.0, 0.0, 0.0, 0.0, 0.0, 0.0, 0.0, 0.0, 0.0, 0.0, 0.0, 0.0, 0.0, 0.0], [0.5862792730331421, 0.06960925459861755, 0.06798017770051956, 0.06058954820036888, 0.08339758217334747, 0.13214416801929474, 0.0, 0.0, 0.0, 0.0, 0.0, 0.0, 0.0, 0.0, 0.0, 0.0, 0.0, 0.0, 0.0, 0.0, 0.0, 0.0, 0.0, 0.0, 0.0, 0.0, 0.0, 0.0, 0.0, 0.0, 0.0, 0.0, 0.0], [0.5015712380409241, 0.06227872148156166, 0.07209980487823486, 0.05590914934873581, 0.08146872371435165, 0.1203317865729332, 0.10634054243564606, 0.0, 0.0, 0.0, 0.0, 0.0, 0.0, 0.0, 0.0, 0.0, 0.0, 0.0, 0.0, 0.0, 0.0, 0.0, 0.0, 0.0, 0.0, 0.0, 0.0, 0.0, 0.0, 0.0, 0.0, 0.0, 0.0], [0.40016135573387146, 0.0552540123462677, 0.06347674131393433, 0.05413779988884926, 0.07119615375995636, 0.11230532824993134, 0.12489710748195648, 0.11857147514820099, 0.0, 0.0, 0.0, 0.0, 0.0, 0.0, 0.0, 0.0, 0.0, 0.0, 0.0, 0.0, 0.0, 0.0, 0.0, 0.0, 0.0, 0.0, 0.0, 0.0, 0.0, 0.0, 0.0, 0.0, 0.0], [0.40185338258743286, 0.08579414337873459, 0.05644876882433891, 0.0718112364411354, 0.08318906277418137, 0.07845649868249893, 0.09191885590553284, 0.07768876850605011, 0.05283927917480469, 0.0, 0.0, 0.0, 0.0, 0.0, 0.0, 0.0, 0.0, 0.0, 0.0, 0.0, 0.0, 0.0, 0.0, 0.0, 0.0, 0.0, 0.0, 0.0, 0.0, 0.0, 0.0, 0.0, 0.0], [0.3827161490917206, 0.07976950705051422, 0.062077414244413376, 0.06360231339931488, 0.08211018145084381, 0.07804955542087555, 0.08597432076931, 0.07506487518548965, 0.06327842175960541, 0.027357202023267746, 0.0, 0.0, 0.0, 0.0, 0.0, 0.0, 0.0, 0.0, 0.0, 0.0, 0.0, 0.0, 0.0, 0.0, 0.0, 0.0, 0.0, 0.0, 0.0, 0.0, 0.0, 0.0, 0.0], [0.34041690826416016, 0.04535195603966713, 0.04658903554081917, 0.04039169102907181, 0.054890383034944534, 0.08179011940956116, 0.08906508982181549, 0.09645889699459076, 0.05564967542886734, 0.06398674100637436, 0.08540947735309601, 0.0, 0.0, 0.0, 0.0, 0.0, 0.0, 0.0, 0.0, 0.0, 0.0, 0.0, 0.0, 0.0, 0.0, 0.0, 0.0, 0.0, 0.0, 0.0, 0.0, 0.0, 0.0], [0.31186196208000183, 0.09540002793073654, 0.07292003929615021, 0.06976869702339172, 0.07777827233076096, 0.06735043227672577, 0.0616140253841877, 0.05481073260307312, 0.05252019315958023, 0.050225164741277695, 0.07299352437257767, 0.01275694277137518, 0.0, 0.0, 0.0, 0.0, 0.0, 0.0, 0.0, 0.0, 0.0, 0.0, 0.0, 0.0, 0.0, 0.0, 0.0, 0.0, 0.0, 0.0, 0.0, 0.0, 0.0], [0.3665285110473633, 0.06308674812316895, 0.039478402584791183, 0.046095214784145355, 0.05740756541490555, 0.06348336488008499, 0.052384648472070694, 0.055016227066516876, 0.045840173959732056, 0.06228696554899216, 0.0658990889787674, 0.058063581585884094, 0.02442948892712593, 0.0, 0.0, 0.0, 0.0, 0.0, 0.0, 0.0, 0.0, 0.0, 0.0, 0.0, 0.0, 0.0, 0.0, 0.0, 0.0, 0.0, 0.0, 0.0, 0.0], [0.2856445610523224, 0.038040272891521454, 0.0394238643348217, 0.03423861414194107, 0.04639395326375961, 0.06771665811538696, 0.0732806995511055, 0.07855429500341415, 0.047896623611450195, 0.055936526507139206, 0.07124952226877213, 0.03568921983242035, 0.04956040531396866, 0.07637485861778259, 0.0, 0.0, 0.0, 0.0, 0.0, 0.0, 0.0, 0.0, 0.0, 0.0, 0.0, 0.0, 0.0, 0.0, 0.0, 0.0, 0.0, 0.0, 0.0], [0.2977544069290161, 0.052595462650060654, 0.04347935691475868, 0.0584585927426815, 0.04568725451827049, 0.05259406939148903, 0.0445619560778141, 0.04597468674182892, 0.06316149234771729, 0.07768760621547699, 0.05499148741364479, 0.03466465324163437, 0.050200968980789185, 0.05886146053671837, 0.019326556473970413, 0.0, 0.0, 0.0, 0.0, 0.0, 0.0, 0.0, 0.0, 0.0, 0.0, 0.0, 0.0, 0.0, 0.0, 0.0, 0.0, 0.0, 0.0], [0.2885315716266632, 0.04616909101605415, 0.028233038261532784, 0.03824237361550331, 0.043306224048137665, 0.05174914374947548, 0.043182726949453354, 0.043931201100349426, 0.05616345256567001, 0.06773819774389267, 0.054901789873838425, 0.08139299601316452, 0.043256886303424835, 0.05904819443821907, 0.0398990735411644, 0.014254079200327396, 0.0, 0.0, 0.0, 0.0, 0.0, 0.0, 0.0, 0.0, 0.0, 0.0, 0.0, 0.0, 0.0, 0.0, 0.0, 0.0, 0.0], [0.2372138351202011, 0.03161583095788956, 0.033245623111724854, 0.029231928288936615, 0.03861808776855469, 0.055491697043180466, 0.05966492369771004, 0.06321779638528824, 0.04073696210980415, 0.04752673953771591, 0.058378271758556366, 0.030399642884731293, 0.042871538549661636, 0.06284619867801666, 0.053212959319353104, 0.04736897721886635, 0.06835892051458359, 0.0, 0.0, 0.0, 0.0, 0.0, 0.0, 0.0, 0.0, 0.0, 0.0, 0.0, 0.0, 0.0, 0.0, 0.0, 0.0], [0.20986974239349365, 0.02729126065969467, 0.031156571581959724, 0.026614990085363388, 0.03165111690759659, 0.05273231491446495, 0.05274499952793121, 0.05635902285575867, 0.040765464305877686, 0.042782384902238846, 0.05619128420948982, 0.030678272247314453, 0.04398960992693901, 0.0609147809445858, 0.05013702064752579, 0.041573166847229004, 0.06652851402759552, 0.07801948487758636, 0.0, 0.0, 0.0, 0.0, 0.0, 0.0, 0.0, 0.0, 0.0, 0.0, 0.0, 0.0, 0.0, 0.0, 0.0], [0.23853836953639984, 0.04414581507444382, 0.04643499478697777, 0.034512683749198914, 0.0357217937707901, 0.04369332641363144, 0.043049752712249756, 0.03498825058341026, 0.04371805489063263, 0.03952194005250931, 0.04457852989435196, 0.024599432945251465, 0.0625118538737297, 0.04753487929701805, 0.043756138533353806, 0.04995927959680557, 0.05090799927711487, 0.05266240984201431, 0.019164491444826126, 0.0, 0.0, 0.0, 0.0, 0.0, 0.0, 0.0, 0.0, 0.0, 0.0, 0.0, 0.0, 0.0, 0.0], [0.17729149758815765, 0.042214665561914444, 0.030818689614534378, 0.03088608756661415, 0.033868469297885895, 0.04521186649799347, 0.042901020497083664, 0.032215602695941925, 0.04018864780664444, 0.04926900565624237, 0.04801621660590172, 0.03814245015382767, 0.05126510187983513, 0.052068475633859634, 0.047441210597753525, 0.039245348423719406, 0.056304652243852615, 0.05462944880127907, 0.05991857498884201, 0.028102928772568703, 0.0, 0.0, 0.0, 0.0, 0.0, 0.0, 0.0, 0.0, 0.0, 0.0, 0.0, 0.0, 0.0], [0.1904829740524292, 0.025203512981534004, 0.026787448674440384, 0.02367267571389675, 0.031104031950235367, 0.04345344752073288, 0.0464932955801487, 0.048206452280282974, 0.03323278948664665, 0.038927529007196426, 0.04549150913953781, 0.024442728608846664, 0.03570154309272766, 0.04907771572470665, 0.04303569719195366, 0.03905567154288292, 0.05371735244989395, 0.06658948957920074, 0.04320825636386871, 0.0317646861076355, 0.06035122275352478, 0.0, 0.0, 0.0, 0.0, 0.0, 0.0, 0.0, 0.0, 0.0, 0.0, 0.0, 0.0], [0.14975371956825256, 0.023474587127566338, 0.025508355349302292, 0.028942419216036797, 0.035171546041965485, 0.03880191966891289, 0.0459427647292614, 0.0396273098886013, 0.03708779439330101, 0.038723014295101166, 0.04190719872713089, 0.02168804593384266, 0.04328254982829094, 0.04592546075582504, 0.038939595222473145, 0.0400761216878891, 0.050600145012140274, 0.060830485075712204, 0.043721601366996765, 0.03023521415889263, 0.05728614330291748, 0.062473975121974945, 0.0, 0.0, 0.0, 0.0, 0.0, 0.0, 0.0, 0.0, 0.0, 0.0, 0.0], [0.17513407766819, 0.02751927636563778, 0.029513997957110405, 0.02071532979607582, 0.026873499155044556, 0.0345461405813694, 0.038530778139829636, 0.03303782269358635, 0.04181559011340141, 0.040100324898958206, 0.03696899488568306, 0.03046891838312149, 0.03995395079255104, 0.04023706167936325, 0.04482625797390938, 0.037082649767398834, 0.04420139268040657, 0.04931037873029709, 0.04125744476914406, 0.028610672801733017, 0.049973465502262115, 0.052692826837301254, 0.03662915155291557, 0.0, 0.0, 0.0, 0.0, 0.0, 0.0, 0.0, 0.0, 0.0, 0.0], [0.13285991549491882, 0.04070805385708809, 0.04111678525805473, 0.03484424948692322, 0.04087604209780693, 0.027567217126488686, 0.02829369716346264, 0.022520417347550392, 0.03875419497489929, 0.040378034114837646, 0.02908942475914955, 0.02960921637713909, 0.05670111998915672, 0.03118189238011837, 0.03766120225191116, 0.056886423379182816, 0.033967025578022, 0.037813037633895874, 0.04951411485671997, 0.03194557502865791, 0.03759903833270073, 0.04326636716723442, 0.0430566743016243, 0.033790238201618195, 0.0, 0.0, 0.0, 0.0, 0.0, 0.0, 0.0, 0.0, 0.0], [0.14709366858005524, 0.018218714743852615, 0.022143587470054626, 0.021621370688080788, 0.027072886005043983, 0.03385421261191368, 0.037876106798648834, 0.03801965340971947, 0.027932502329349518, 0.03090185858309269, 0.036069270223379135, 0.01902313157916069, 0.03465800732374191, 0.039169907569885254, 0.033755626529455185, 0.02613663673400879, 0.042978279292583466, 0.05313742533326149, 0.034635063260793686, 0.02014029212296009, 0.04878361150622368, 0.04990801960229874, 0.04624388739466667, 0.04715670645236969, 0.06346962600946426, 0.0, 0.0, 0.0, 0.0, 0.0, 0.0, 0.0, 0.0], [0.17602787911891937, 0.014882159419357777, 0.02675112523138523, 0.024088045582175255, 0.03566752001643181, 0.027094298973679543, 0.024984240531921387, 0.021471884101629257, 0.026359379291534424, 0.023845115676522255, 0.027566993609070778, 0.016869526356458664, 0.077774278819561, 0.02910926751792431, 0.047996994107961655, 0.02900254912674427, 0.031323306262493134, 0.03615596145391464, 0.039595622569322586, 0.01700800657272339, 0.034839071333408356, 0.03443719819188118, 0.04149217531085014, 0.09124378859996796, 0.04052295163273811, 0.003890606574714184, 0.0, 0.0, 0.0, 0.0, 0.0, 0.0, 0.0], [0.1850174069404602, 0.027787011116743088, 0.02509761042892933, 0.02701900340616703, 0.02919919230043888, 0.030337035655975342, 0.03222179785370827, 0.023015096783638, 0.02679285779595375, 0.0227938462048769, 0.030674856156110764, 0.021220847964286804, 0.053888022899627686, 0.03259303793311119, 0.030737662687897682, 0.025725269690155983, 0.034866005182266235, 0.03793583810329437, 0.028672028332948685, 0.02614896558225155, 0.038753341883420944, 0.04179505631327629, 0.03863157331943512, 0.05337151885032654, 0.03982071205973625, 0.0257116612046957, 0.01017273124307394, 0.0, 0.0, 0.0, 0.0, 0.0, 0.0], [0.12446331232786179, 0.0167689211666584, 0.020105084404349327, 0.019267024472355843, 0.02445780113339424, 0.030203383415937424, 0.031273920089006424, 0.032546088099479675, 0.02318599633872509, 0.023508397862315178, 0.03173324465751648, 0.017080502584576607, 0.029082026332616806, 0.03428220748901367, 0.03579133376479149, 0.025820579379796982, 0.037531111389398575, 0.04618248715996742, 0.02950000949203968, 0.01791379787027836, 0.04274730011820793, 0.0424346849322319, 0.03900238871574402, 0.04141835495829582, 0.05949500948190689, 0.035957369953393936, 0.030984843149781227, 0.057262927293777466, 0.0, 0.0, 0.0, 0.0, 0.0], [0.1449102759361267, 0.02584398351609707, 0.031176932156085968, 0.01946273073554039, 0.012575725093483925, 0.025274602696299553, 0.022020719945430756, 0.021267304196953773, 0.031655412167310715, 0.027664169669151306, 0.026251591742038727, 0.02209101989865303, 0.03851795569062233, 0.028266901150345802, 0.028877614066004753, 0.03686539828777313, 0.030699916183948517, 0.032045017927885056, 0.03411624953150749, 0.020355410873889923, 0.03446316346526146, 0.03542865067720413, 0.03072841838002205, 0.044418949633836746, 0.03793594613671303, 0.057348720729351044, 0.03889695182442665, 0.041112106293439865, 0.01972818933427334, 0.0, 0.0, 0.0, 0.0], [0.1316843181848526, 0.0254601389169693, 0.027962351217865944, 0.024109845981001854, 0.01686880923807621, 0.03140680864453316, 0.023247338831424713, 0.022071704268455505, 0.02736249752342701, 0.02637045457959175, 0.03204536810517311, 0.02877580188214779, 0.04614199697971344, 0.03455984592437744, 0.03132112696766853, 0.029437746852636337, 0.0374906063079834, 0.035974256694316864, 0.03067098930478096, 0.026778310537338257, 0.04166233167052269, 0.03274397924542427, 0.030348770320415497, 0.03265194222331047, 0.03805647790431976, 0.034575652331113815, 0.022936102002859116, 0.03690328449010849, 0.025966182351112366, 0.014414883218705654, 0.0, 0.0, 0.0], [0.1656370460987091, 0.022809259593486786, 0.029107719659805298, 0.02494465559720993, 0.02435285598039627, 0.02503182739019394, 0.018486665561795235, 0.01857369765639305, 0.028443656861782074, 0.029199901968240738, 0.02531820721924305, 0.032204970717430115, 0.025753257796168327, 0.02689056470990181, 0.03127393499016762, 0.03305156156420708, 0.028835397213697433, 0.02991044893860817, 0.02755879797041416, 0.02462465688586235, 0.03205361217260361, 0.026493756100535393, 0.021709593012928963, 0.03164016082882881, 0.03707477077841759, 0.04799472913146019, 0.027932118624448776, 0.034756168723106384, 0.038049452006816864, 0.02153567411005497, 0.008750852197408676, 0.0, 0.0], [0.1679423600435257, 0.02598349004983902, 0.03222334384918213, 0.019469376653432846, 0.023735255002975464, 0.023115739226341248, 0.019973617047071457, 0.016550220549106598, 0.029796790331602097, 0.028494667261838913, 0.02310885116457939, 0.02208704687654972, 0.042165547609329224, 0.024390220642089844, 0.020749136805534363, 0.03873593360185623, 0.02626974508166313, 0.027289096266031265, 0.019617386162281036, 0.020242858678102493, 0.029203223064541817, 0.03041335940361023, 0.025762589648365974, 0.040849778801202774, 0.03332662209868431, 0.021795300766825676, 0.026310518383979797, 0.031013527885079384, 0.036892592906951904, 0.019377144053578377, 0.04355606064200401, 0.009558671154081821, 0.0], [0.1139683648943901, 0.01775289885699749, 0.016061952337622643, 0.015585055574774742, 0.018396100029349327, 0.024367084726691246, 0.02605387382209301, 0.023999108001589775, 0.021919460967183113, 0.02625112421810627, 0.024730537086725235, 0.01532299816608429, 0.025614548474550247, 0.026337919756770134, 0.024982888251543045, 0.02464265190064907, 0.02859025076031685, 0.032951489090919495, 0.027568615972995758, 0.018487559631466866, 0.032208509743213654, 0.03191467374563217, 0.03630721569061279, 0.03415403142571449, 0.03678558021783829, 0.03297773003578186, 0.026278896257281303, 0.038098953664302826, 0.02980196103453636, 0.018183236941695213, 0.036320678889751434, 0.035680968314409256, 0.05770314112305641]], [[1.0, 0.0, 0.0, 0.0, 0.0, 0.0, 0.0, 0.0, 0.0, 0.0, 0.0, 0.0, 0.0, 0.0, 0.0, 0.0, 0.0, 0.0, 0.0, 0.0, 0.0, 0.0, 0.0, 0.0, 0.0, 0.0, 0.0, 0.0, 0.0, 0.0, 0.0, 0.0, 0.0], [0.8058414459228516, 0.19415856897830963, 0.0, 0.0, 0.0, 0.0, 0.0, 0.0, 0.0, 0.0, 0.0, 0.0, 0.0, 0.0, 0.0, 0.0, 0.0, 0.0, 0.0, 0.0, 0.0, 0.0, 0.0, 0.0, 0.0, 0.0, 0.0, 0.0, 0.0, 0.0, 0.0, 0.0, 0.0], [0.6373865008354187, 0.09672042727470398, 0.2658930718898773, 0.0, 0.0, 0.0, 0.0, 0.0, 0.0, 0.0, 0.0, 0.0, 0.0, 0.0, 0.0, 0.0, 0.0, 0.0, 0.0, 0.0, 0.0, 0.0, 0.0, 0.0, 0.0, 0.0, 0.0, 0.0, 0.0, 0.0, 0.0, 0.0, 0.0], [0.5870265364646912, 0.0992271676659584, 0.07913835346698761, 0.23460792005062103, 0.0, 0.0, 0.0, 0.0, 0.0, 0.0, 0.0, 0.0, 0.0, 0.0, 0.0, 0.0, 0.0, 0.0, 0.0, 0.0, 0.0, 0.0, 0.0, 0.0, 0.0, 0.0, 0.0, 0.0, 0.0, 0.0, 0.0, 0.0, 0.0], [0.4194736182689667, 0.06312593072652817, 0.08123072236776352, 0.0838150605559349, 0.3523545563220978, 0.0, 0.0, 0.0, 0.0, 0.0, 0.0, 0.0, 0.0, 0.0, 0.0, 0.0, 0.0, 0.0, 0.0, 0.0, 0.0, 0.0, 0.0, 0.0, 0.0, 0.0, 0.0, 0.0, 0.0, 0.0, 0.0, 0.0, 0.0], [0.5308533310890198, 0.0959073081612587, 0.07779338210821152, 0.06661549210548401, 0.07293298095464706, 0.15589754283428192, 0.0, 0.0, 0.0, 0.0, 0.0, 0.0, 0.0, 0.0, 0.0, 0.0, 0.0, 0.0, 0.0, 0.0, 0.0, 0.0, 0.0, 0.0, 0.0, 0.0, 0.0, 0.0, 0.0, 0.0, 0.0, 0.0, 0.0], [0.38503071665763855, 0.0747808888554573, 0.06978150457143784, 0.04760652780532837, 0.05144917219877243, 0.08776700496673584, 0.2835841774940491, 0.0, 0.0, 0.0, 0.0, 0.0, 0.0, 0.0, 0.0, 0.0, 0.0, 0.0, 0.0, 0.0, 0.0, 0.0, 0.0, 0.0, 0.0, 0.0, 0.0, 0.0, 0.0, 0.0, 0.0, 0.0, 0.0], [0.29629582166671753, 0.05328265577554703, 0.06944748759269714, 0.04097549989819527, 0.06660836189985275, 0.10218563675880432, 0.10869499295949936, 0.2625095248222351, 0.0, 0.0, 0.0, 0.0, 0.0, 0.0, 0.0, 0.0, 0.0, 0.0, 0.0, 0.0, 0.0, 0.0, 0.0, 0.0, 0.0, 0.0, 0.0, 0.0, 0.0, 0.0, 0.0, 0.0, 0.0], [0.3047501742839813, 0.06337983906269073, 0.05753425136208534, 0.04057717323303223, 0.07300139963626862, 0.07375821471214294, 0.07239887118339539, 0.05693604797124863, 0.2576640248298645, 0.0, 0.0, 0.0, 0.0, 0.0, 0.0, 0.0, 0.0, 0.0, 0.0, 0.0, 0.0, 0.0, 0.0, 0.0, 0.0, 0.0, 0.0, 0.0, 0.0, 0.0, 0.0, 0.0, 0.0], [0.29880765080451965, 0.055528223514556885, 0.054435987025499344, 0.05285303294658661, 0.06568746268749237, 0.07554220408201218, 0.06968104094266891, 0.05411391332745552, 0.09120785444974899, 0.18214261531829834, 0.0, 0.0, 0.0, 0.0, 0.0, 0.0, 0.0, 0.0, 0.0, 0.0, 0.0, 0.0, 0.0, 0.0, 0.0, 0.0, 0.0, 0.0, 0.0, 0.0, 0.0, 0.0, 0.0], [0.26933008432388306, 0.0635242685675621, 0.05952121689915657, 0.05242471024394035, 0.060521598905324936, 0.12185828387737274, 0.07608655840158463, 0.09753070026636124, 0.04232606291770935, 0.05058332160115242, 0.10629312694072723, 0.0, 0.0, 0.0, 0.0, 0.0, 0.0, 0.0, 0.0, 0.0, 0.0, 0.0, 0.0, 0.0, 0.0, 0.0, 0.0, 0.0, 0.0, 0.0, 0.0, 0.0, 0.0], [0.22074291110038757, 0.06960069388151169, 0.0487234964966774, 0.0667572095990181, 0.06954215466976166, 0.06483786553144455, 0.04652373492717743, 0.039300836622714996, 0.018016096204519272, 0.03580633923411369, 0.05302286893129349, 0.26712584495544434, 0.0, 0.0, 0.0, 0.0, 0.0, 0.0, 0.0, 0.0, 0.0, 0.0, 0.0, 0.0, 0.0, 0.0, 0.0, 0.0, 0.0, 0.0, 0.0, 0.0, 0.0], [0.1508006900548935, 0.04732474312186241, 0.1255113035440445, 0.062400806695222855, 0.05354635789990425, 0.055783938616514206, 0.045426130294799805, 0.038886044174432755, 0.03019980899989605, 0.03337055444717407, 0.04645953327417374, 0.023437906056642532, 0.2868522107601166, 0.0, 0.0, 0.0, 0.0, 0.0, 0.0, 0.0, 0.0, 0.0, 0.0, 0.0, 0.0, 0.0, 0.0, 0.0, 0.0, 0.0, 0.0, 0.0, 0.0], [0.2044883519411087, 0.04972048103809357, 0.04838547483086586, 0.04385358840227127, 0.051157210022211075, 0.10074888169765472, 0.06420683860778809, 0.08302558213472366, 0.03880453109741211, 0.04795778915286064, 0.09582382440567017, 0.03239702433347702, 0.044411011040210724, 0.09501942992210388, 0.0, 0.0, 0.0, 0.0, 0.0, 0.0, 0.0, 0.0, 0.0, 0.0, 0.0, 0.0, 0.0, 0.0, 0.0, 0.0, 0.0, 0.0, 0.0], [0.1623675525188446, 0.02851918339729309, 0.04784313216805458, 0.04135482758283615, 0.04028487578034401, 0.052005335688591, 0.04226508364081383, 0.03821169212460518, 0.05986877530813217, 0.06849397718906403, 0.04734274744987488, 0.019715171307325363, 0.062022220343351364, 0.04572197049856186, 0.2439834028482437, 0.0, 0.0, 0.0, 0.0, 0.0, 0.0, 0.0, 0.0, 0.0, 0.0, 0.0, 0.0, 0.0, 0.0, 0.0, 0.0, 0.0, 0.0], [0.13128940761089325, 0.039628107100725174, 0.059519436210393906, 0.03966321423649788, 0.04406357184052467, 0.04348495975136757, 0.03726547956466675, 0.03240039199590683, 0.03720575571060181, 0.06481604278087616, 0.04047451168298721, 0.02591424621641636, 0.06507590413093567, 0.039225149899721146, 0.07744192332029343, 0.22253189980983734, 0.0, 0.0, 0.0, 0.0, 0.0, 0.0, 0.0, 0.0, 0.0, 0.0, 0.0, 0.0, 0.0, 0.0, 0.0, 0.0, 0.0], [0.1581333875656128, 0.03911248594522476, 0.03856495022773743, 0.0358797051012516, 0.04187796264886856, 0.08160997182130814, 0.05245806649327278, 0.06812684237957001, 0.0344480536878109, 0.04342757537961006, 0.08275998383760452, 0.029333405196666718, 0.041573770344257355, 0.08478692173957825, 0.048816002905368805, 0.03235282003879547, 0.08673813939094543, 0.0, 0.0, 0.0, 0.0, 0.0, 0.0, 0.0, 0.0, 0.0, 0.0, 0.0, 0.0, 0.0, 0.0, 0.0, 0.0], [0.13890594244003296, 0.03169630095362663, 0.03251555934548378, 0.035389017313718796, 0.038000352680683136, 0.06974423676729202, 0.05942455679178238, 0.06768236309289932, 0.02784379944205284, 0.039054691791534424, 0.07273102551698685, 0.030109871178865433, 0.04163089394569397, 0.0756501778960228, 0.04018830507993698, 0.02748359553515911, 0.0779590830206871, 0.09399019181728363, 0.0, 0.0, 0.0, 0.0, 0.0, 0.0, 0.0, 0.0, 0.0, 0.0, 0.0, 0.0, 0.0, 0.0, 0.0], [0.09691295772790909, 0.03068731166422367, 0.030817974358797073, 0.04473432898521423, 0.0417194627225399, 0.03603675961494446, 0.0410170704126358, 0.032104771584272385, 0.04344058036804199, 0.048855509608983994, 0.03457899019122124, 0.01602509617805481, 0.04994162544608116, 0.034635309129953384, 0.060656867921352386, 0.03497787192463875, 0.03454340994358063, 0.03782793879508972, 0.2504861354827881, 0.0, 0.0, 0.0, 0.0, 0.0, 0.0, 0.0, 0.0, 0.0, 0.0, 0.0, 0.0, 0.0, 0.0], [0.12059218436479568, 0.04121065512299538, 0.05098520964384079, 0.052891481667757034, 0.02886129729449749, 0.047061987221241, 0.029212825000286102, 0.03817000612616539, 0.021046478301286697, 0.029787812381982803, 0.044067200273275375, 0.026503337547183037, 0.04126999154686928, 0.04430737718939781, 0.03080153837800026, 0.04064903035759926, 0.044745106250047684, 0.042122405022382736, 0.02844226360321045, 0.19727180898189545, 0.0, 0.0, 0.0, 0.0, 0.0, 0.0, 0.0, 0.0, 0.0, 0.0, 0.0, 0.0, 0.0], [0.11388302594423294, 0.02825538069009781, 0.02835128828883171, 0.02695867419242859, 0.03131088241934776, 0.05977543443441391, 0.0391821525990963, 0.05072038620710373, 0.027684010565280914, 0.03556426241993904, 0.06452133506536484, 0.024267105385661125, 0.036164917051792145, 0.06838169693946838, 0.041393011808395386, 0.029094615951180458, 0.0723004937171936, 0.07349381595849991, 0.03700020909309387, 0.035286325961351395, 0.07641097158193588, 0.0, 0.0, 0.0, 0.0, 0.0, 0.0, 0.0, 0.0, 0.0, 0.0, 0.0, 0.0], [0.08453845977783203, 0.017416585236787796, 0.01894913613796234, 0.016560638323426247, 0.022296130657196045, 0.04174058139324188, 0.05894865468144417, 0.03893360495567322, 0.03021462820470333, 0.03464236110448837, 0.048319004476070404, 0.016358431428670883, 0.025674544274806976, 0.05309677869081497, 0.020546525716781616, 0.020469823852181435, 0.05704643577337265, 0.06604910641908646, 0.03774643316864967, 0.021413886919617653, 0.06129933521151543, 0.2077389359474182, 0.0, 0.0, 0.0, 0.0, 0.0, 0.0, 0.0, 0.0, 0.0, 0.0, 0.0], [0.112484410405159, 0.02439482882618904, 0.02452315390110016, 0.027489563450217247, 0.026104675605893135, 0.03731503337621689, 0.06748532503843307, 0.03890374302864075, 0.017981426790356636, 0.028454413637518883, 0.037565313279628754, 0.018326077610254288, 0.020088622346520424, 0.0386517271399498, 0.023285655304789543, 0.024226579815149307, 0.03960611671209335, 0.04833190515637398, 0.045000914484262466, 0.017362138256430626, 0.04009140282869339, 0.0520828478038311, 0.19024410843849182, 0.0, 0.0, 0.0, 0.0, 0.0, 0.0, 0.0, 0.0, 0.0, 0.0], [0.0818336084485054, 0.019828444346785545, 0.02687341347336769, 0.029252564534544945, 0.025184446945786476, 0.031927723437547684, 0.029049815610051155, 0.024972520768642426, 0.033506229519844055, 0.04007429629564285, 0.03351731225848198, 0.016036001965403557, 0.03204451873898506, 0.03448067605495453, 0.028517095372080803, 0.03532728552818298, 0.03583228215575218, 0.040583956986665726, 0.029941093176603317, 0.021097911521792412, 0.036713313311338425, 0.03921257704496384, 0.03543240949511528, 0.23876045644283295, 0.0, 0.0, 0.0, 0.0, 0.0, 0.0, 0.0, 0.0, 0.0], [0.10145684331655502, 0.014237027615308762, 0.016984164714813232, 0.018636567518115044, 0.02853626012802124, 0.03653799369931221, 0.029570506885647774, 0.04198319464921951, 0.014166038483381271, 0.030081409960985184, 0.040166400372982025, 0.02007502317428589, 0.030370095744729042, 0.043534427881240845, 0.030393000692129135, 0.020717302337288857, 0.046771127730607986, 0.05495103821158409, 0.028809169307351112, 0.020043697208166122, 0.05092543736100197, 0.04084468260407448, 0.041858069598674774, 0.03848979249596596, 0.15986068546772003, 0.0, 0.0, 0.0, 0.0, 0.0, 0.0, 0.0, 0.0], [0.07937927544116974, 0.020674288272857666, 0.020799759775400162, 0.027988241985440254, 0.0456547811627388, 0.026562577113509178, 0.025396710261702538, 0.021243253722786903, 0.01776377484202385, 0.02520064450800419, 0.02757645957171917, 0.030607108026742935, 0.034379977732896805, 0.028568323701620102, 0.022726932540535927, 0.016051944345235825, 0.029712731018662453, 0.032761797308921814, 0.025702394545078278, 0.01287887617945671, 0.030626092106103897, 0.02036965824663639, 0.03741389140486717, 0.027850380167365074, 0.03571850433945656, 0.2763916254043579, 0.0, 0.0, 0.0, 0.0, 0.0, 0.0, 0.0], [0.0960543230175972, 0.02309286594390869, 0.02419966273009777, 0.024974137544631958, 0.03682965785264969, 0.030014384537935257, 0.021069210022687912, 0.018117524683475494, 0.022569255903363228, 0.02834324724972248, 0.03050512634217739, 0.021707694977521896, 0.02821175940334797, 0.03163943439722061, 0.03916608914732933, 0.03627362102270126, 0.03311571106314659, 0.03514397144317627, 0.025745216757059097, 0.01588902249932289, 0.034675486385822296, 0.026770079508423805, 0.0271434485912323, 0.0404508151113987, 0.037603866308927536, 0.03232334926724434, 0.17837099730968475, 0.0, 0.0, 0.0, 0.0, 0.0, 0.0], [0.07476931810379028, 0.011021502315998077, 0.010706556029617786, 0.015325463376939297, 0.019903574138879776, 0.032858651131391525, 0.021936073899269104, 0.029454147443175316, 0.016421493142843246, 0.022476591169834137, 0.03722343221306801, 0.017580252140760422, 0.02195412665605545, 0.04046216979622841, 0.0314154326915741, 0.010417765006422997, 0.04429739713668823, 0.051181286573410034, 0.02956555038690567, 0.015394340269267559, 0.04906425252556801, 0.03202195465564728, 0.03090513125061989, 0.0413205623626709, 0.06578274071216583, 0.039784014225006104, 0.020499709993600845, 0.16625650227069855, 0.0, 0.0, 0.0, 0.0, 0.0], [0.051242031157016754, 0.01139001827687025, 0.020265815779566765, 0.024529648944735527, 0.1273244470357895, 0.020083896815776825, 0.017692746594548225, 0.020381970331072807, 0.01854860410094261, 0.02320607379078865, 0.021026065573096275, 0.020521238446235657, 0.025210687890648842, 0.021994249895215034, 0.017190461978316307, 0.02080589160323143, 0.023035306483507156, 0.026458069682121277, 0.031086135655641556, 0.011454462073743343, 0.02435796894133091, 0.02252495102584362, 0.024600764736533165, 0.02458799257874489, 0.028380831703543663, 0.04660613834857941, 0.043627042323350906, 0.02030046656727791, 0.2115660160779953, 0.0, 0.0, 0.0, 0.0], [0.07929287850856781, 0.023537391796708107, 0.022847294807434082, 0.019936053082346916, 0.015462880954146385, 0.02511029690504074, 0.021429045125842094, 0.015073499642312527, 0.009924085810780525, 0.015724768862128258, 0.027188703417778015, 0.020747283473610878, 0.034976325929164886, 0.029102366417646408, 0.02121902070939541, 0.018147600814700127, 0.03105822019279003, 0.033809494227170944, 0.020137561485171318, 0.012323134578764439, 0.03369263932108879, 0.024336108937859535, 0.031084487214684486, 0.03377702832221985, 0.04355442523956299, 0.03296351805329323, 0.033149294555187225, 0.02536490187048912, 0.022163700312376022, 0.222866028547287, 0.0, 0.0, 0.0], [0.10059642791748047, 0.030963730067014694, 0.02557850256562233, 0.020224053412675858, 0.02713298611342907, 0.029490729793906212, 0.040744829922914505, 0.021403620019555092, 0.01639258675277233, 0.02252071164548397, 0.027555160224437714, 0.013599222525954247, 0.02730666659772396, 0.0278066024184227, 0.01121418084949255, 0.023586535826325417, 0.028399182483553886, 0.03066890500485897, 0.021664191037416458, 0.017032301053404808, 0.02905159629881382, 0.026549939066171646, 0.032975539565086365, 0.026790311560034752, 0.0320606604218483, 0.027298353612422943, 0.017307180911302567, 0.01876882277429104, 0.02822653204202652, 0.017085108906030655, 0.18000482022762299, 0.0, 0.0], [0.08361611515283585, 0.016581876203417778, 0.01582331582903862, 0.022005170583724976, 0.02406257577240467, 0.021028291434049606, 0.022811295464634895, 0.014412394724786282, 0.015572085976600647, 0.015104841440916061, 0.020917730405926704, 0.021798182278871536, 0.025985976681113243, 0.0220132265239954, 0.02202504873275757, 0.018091201782226562, 0.023115111514925957, 0.02545180544257164, 0.02594352327287197, 0.011241891421377659, 0.024466166272759438, 0.02286989986896515, 0.03161342814564705, 0.029542652890086174, 0.02381790801882744, 0.029349014163017273, 0.025922618806362152, 0.017268195748329163, 0.03184458985924721, 0.0120377317070961, 0.027524912729859352, 0.2561412453651428, 0.0], [0.052584387362003326, 0.01250838115811348, 0.012737673707306385, 0.012144203297793865, 0.014467830769717693, 0.02481241524219513, 0.017109135165810585, 0.025162547826766968, 0.016298960894346237, 0.015160094946622849, 0.029820049181580544, 0.014290287159383297, 0.024094799533486366, 0.033742766827344894, 0.021632255986332893, 0.01892409659922123, 0.03819217160344124, 0.041151825338602066, 0.024165775626897812, 0.020635640248656273, 0.04418531805276871, 0.03793705999851227, 0.029636381193995476, 0.03152842074632645, 0.04542306810617447, 0.03596358373761177, 0.030482539907097816, 0.04609915614128113, 0.03206765651702881, 0.017662938684225082, 0.03169598802924156, 0.04462914168834686, 0.10305344313383102]], [[1.0, 0.0, 0.0, 0.0, 0.0, 0.0, 0.0, 0.0, 0.0, 0.0, 0.0, 0.0, 0.0, 0.0, 0.0, 0.0, 0.0, 0.0, 0.0, 0.0, 0.0, 0.0, 0.0, 0.0, 0.0, 0.0, 0.0, 0.0, 0.0, 0.0, 0.0, 0.0, 0.0], [0.7707714438438416, 0.22922854125499725, 0.0, 0.0, 0.0, 0.0, 0.0, 0.0, 0.0, 0.0, 0.0, 0.0, 0.0, 0.0, 0.0, 0.0, 0.0, 0.0, 0.0, 0.0, 0.0, 0.0, 0.0, 0.0, 0.0, 0.0, 0.0, 0.0, 0.0, 0.0, 0.0, 0.0, 0.0], [0.7813623547554016, 0.10978526622056961, 0.10885234922170639, 0.0, 0.0, 0.0, 0.0, 0.0, 0.0, 0.0, 0.0, 0.0, 0.0, 0.0, 0.0, 0.0, 0.0, 0.0, 0.0, 0.0, 0.0, 0.0, 0.0, 0.0, 0.0, 0.0, 0.0, 0.0, 0.0, 0.0, 0.0, 0.0, 0.0], [0.5350388884544373, 0.1119493842124939, 0.15013693273067474, 0.2028747797012329, 0.0, 0.0, 0.0, 0.0, 0.0, 0.0, 0.0, 0.0, 0.0, 0.0, 0.0, 0.0, 0.0, 0.0, 0.0, 0.0, 0.0, 0.0, 0.0, 0.0, 0.0, 0.0, 0.0, 0.0, 0.0, 0.0, 0.0, 0.0, 0.0], [0.41803574562072754, 0.1603637933731079, 0.10740314424037933, 0.10625789314508438, 0.20793944597244263, 0.0, 0.0, 0.0, 0.0, 0.0, 0.0, 0.0, 0.0, 0.0, 0.0, 0.0, 0.0, 0.0, 0.0, 0.0, 0.0, 0.0, 0.0, 0.0, 0.0, 0.0, 0.0, 0.0, 0.0, 0.0, 0.0, 0.0, 0.0], [0.4349866211414337, 0.09579857438802719, 0.08251802623271942, 0.1002851352095604, 0.15332907438278198, 0.13308261334896088, 0.0, 0.0, 0.0, 0.0, 0.0, 0.0, 0.0, 0.0, 0.0, 0.0, 0.0, 0.0, 0.0, 0.0, 0.0, 0.0, 0.0, 0.0, 0.0, 0.0, 0.0, 0.0, 0.0, 0.0, 0.0, 0.0, 0.0], [0.4462134838104248, 0.05624216049909592, 0.050402987748384476, 0.07084298878908157, 0.0936090275645256, 0.11472615599632263, 0.1679631471633911, 0.0, 0.0, 0.0, 0.0, 0.0, 0.0, 0.0, 0.0, 0.0, 0.0, 0.0, 0.0, 0.0, 0.0, 0.0, 0.0, 0.0, 0.0, 0.0, 0.0, 0.0, 0.0, 0.0, 0.0, 0.0, 0.0], [0.3609192371368408, 0.07294466346502304, 0.051910076290369034, 0.07159055024385452, 0.09321662783622742, 0.09543668478727341, 0.14539934694766998, 0.10858280956745148, 0.0, 0.0, 0.0, 0.0, 0.0, 0.0, 0.0, 0.0, 0.0, 0.0, 0.0, 0.0, 0.0, 0.0, 0.0, 0.0, 0.0, 0.0, 0.0, 0.0, 0.0, 0.0, 0.0, 0.0, 0.0], [0.3171406090259552, 0.07683128118515015, 0.055522870272397995, 0.06445366144180298, 0.08586586266756058, 0.10643254965543747, 0.14521144330501556, 0.09439335018396378, 0.05414837226271629, 0.0, 0.0, 0.0, 0.0, 0.0, 0.0, 0.0, 0.0, 0.0, 0.0, 0.0, 0.0, 0.0, 0.0, 0.0, 0.0, 0.0, 0.0, 0.0, 0.0, 0.0, 0.0, 0.0, 0.0], [0.19288598001003265, 0.11343874037265778, 0.04530506208539009, 0.08361212909221649, 0.057632677257061005, 0.11914193630218506, 0.11441241204738617, 0.12364505231380463, 0.07640960812568665, 0.07351640611886978, 0.0, 0.0, 0.0, 0.0, 0.0, 0.0, 0.0, 0.0, 0.0, 0.0, 0.0, 0.0, 0.0, 0.0, 0.0, 0.0, 0.0, 0.0, 0.0, 0.0, 0.0, 0.0, 0.0], [0.25174078345298767, 0.06019412353634834, 0.04930213466286659, 0.05922330170869827, 0.08453337848186493, 0.07307682931423187, 0.1230856403708458, 0.08293963223695755, 0.06380274146795273, 0.07185835391283035, 0.0802430808544159, 0.0, 0.0, 0.0, 0.0, 0.0, 0.0, 0.0, 0.0, 0.0, 0.0, 0.0, 0.0, 0.0, 0.0, 0.0, 0.0, 0.0, 0.0, 0.0, 0.0, 0.0, 0.0], [0.24793584644794464, 0.04855772852897644, 0.06171702593564987, 0.0661679282784462, 0.08788598328828812, 0.059203848242759705, 0.09128594398498535, 0.06866808980703354, 0.06062871217727661, 0.08399356156587601, 0.06569412350654602, 0.058261219412088394, 0.0, 0.0, 0.0, 0.0, 0.0, 0.0, 0.0, 0.0, 0.0, 0.0, 0.0, 0.0, 0.0, 0.0, 0.0, 0.0, 0.0, 0.0, 0.0, 0.0, 0.0], [0.15039607882499695, 0.0707230269908905, 0.036188021302223206, 0.03812888264656067, 0.054965753108263016, 0.0955280214548111, 0.1278020590543747, 0.09101743996143341, 0.041339509189128876, 0.06619423627853394, 0.11493079364299774, 0.03526819497346878, 0.077518031001091, 0.0, 0.0, 0.0, 0.0, 0.0, 0.0, 0.0, 0.0, 0.0, 0.0, 0.0, 0.0, 0.0, 0.0, 0.0, 0.0, 0.0, 0.0, 0.0, 0.0], [0.2173074185848236, 0.052248742431402206, 0.04279689863324165, 0.051309917122125626, 0.07021067291498184, 0.06084864214062691, 0.10094176977872849, 0.06729131937026978, 0.05347274988889694, 0.05803242698311806, 0.06386599689722061, 0.04143686220049858, 0.054298121482133865, 0.06593844294548035, 0.0, 0.0, 0.0, 0.0, 0.0, 0.0, 0.0, 0.0, 0.0, 0.0, 0.0, 0.0, 0.0, 0.0, 0.0, 0.0, 0.0, 0.0, 0.0], [0.14158982038497925, 0.08735620230436325, 0.04109629616141319, 0.0777132585644722, 0.06641589850187302, 0.060846131294965744, 0.07890870422124863, 0.06467178463935852, 0.04156756401062012, 0.053140223026275635, 0.06033194065093994, 0.04990345984697342, 0.06147683039307594, 0.06152058765292168, 0.05346132814884186, 0.0, 0.0, 0.0, 0.0, 0.0, 0.0, 0.0, 0.0, 0.0, 0.0, 0.0, 0.0, 0.0, 0.0, 0.0, 0.0, 0.0, 0.0], [0.11277387291193008, 0.05140271037817001, 0.03480072319507599, 0.04410991817712784, 0.04927099868655205, 0.08066029846668243, 0.09371135383844376, 0.07634269446134567, 0.03460073843598366, 0.05556496977806091, 0.09000366926193237, 0.027950935065746307, 0.0580868236720562, 0.09759890288114548, 0.05853058025240898, 0.03459077700972557, 0.0, 0.0, 0.0, 0.0, 0.0, 0.0, 0.0, 0.0, 0.0, 0.0, 0.0, 0.0, 0.0, 0.0, 0.0, 0.0, 0.0], [0.19136786460876465, 0.04588800296187401, 0.03718416392803192, 0.044788483530282974, 0.058455370366573334, 0.0516231395304203, 0.08451804518699646, 0.056617286056280136, 0.04477926716208458, 0.04681583493947983, 0.05177519470453262, 0.03474311903119087, 0.0436558872461319, 0.05257757380604744, 0.04571910575032234, 0.055239394307136536, 0.054252225905656815, 0.0, 0.0, 0.0, 0.0, 0.0, 0.0, 0.0, 0.0, 0.0, 0.0, 0.0, 0.0, 0.0, 0.0, 0.0, 0.0], [0.1780986338853836, 0.03651316463947296, 0.03537805750966072, 0.04660062491893768, 0.05606747046113014, 0.05542534962296486, 0.06580906361341476, 0.05869587883353233, 0.04460211470723152, 0.03845332935452461, 0.05522069334983826, 0.02812928892672062, 0.0388762466609478, 0.05635213106870651, 0.04307207092642784, 0.04859212040901184, 0.058013033121824265, 0.05610081925988197, 0.0, 0.0, 0.0, 0.0, 0.0, 0.0, 0.0, 0.0, 0.0, 0.0, 0.0, 0.0, 0.0, 0.0, 0.0], [0.11277128010988235, 0.04416341707110405, 0.016790837049484253, 0.039228979498147964, 0.030570214614272118, 0.08429387211799622, 0.05829837918281555, 0.07985574752092361, 0.02774021588265896, 0.024607902392745018, 0.08568024635314941, 0.012135528959333897, 0.021223602816462517, 0.08979956805706024, 0.024395640939474106, 0.018000079318881035, 0.09797859936952591, 0.08564861863851547, 0.04681728780269623, 0.0, 0.0, 0.0, 0.0, 0.0, 0.0, 0.0, 0.0, 0.0, 0.0, 0.0, 0.0, 0.0, 0.0], [0.15648671984672546, 0.043593376874923706, 0.029469134286046028, 0.02338278293609619, 0.03989394009113312, 0.06601446866989136, 0.07239896059036255, 0.049598727375268936, 0.025720110163092613, 0.028729889541864395, 0.07268742471933365, 0.02010437659919262, 0.03894994035363197, 0.07793495059013367, 0.031850188970565796, 0.029572611674666405, 0.08162923902273178, 0.04983031377196312, 0.0475708544254303, 0.014582013711333275, 0.0, 0.0, 0.0, 0.0, 0.0, 0.0, 0.0, 0.0, 0.0, 0.0, 0.0, 0.0, 0.0], [0.16675138473510742, 0.04021675884723663, 0.03194626048207283, 0.03915558010339737, 0.04867974668741226, 0.04351935535669327, 0.07027741521596909, 0.046769771724939346, 0.03737054392695427, 0.037859540432691574, 0.04185347259044647, 0.029438799247145653, 0.03496699035167694, 0.0418715663254261, 0.036659616976976395, 0.04418950155377388, 0.04244700074195862, 0.04308997839689255, 0.0554082952439785, 0.024029957130551338, 0.043498482555150986, 0.0, 0.0, 0.0, 0.0, 0.0, 0.0, 0.0, 0.0, 0.0, 0.0, 0.0, 0.0], [0.21311695873737335, 0.03452148661017418, 0.026512039825320244, 0.03728470206260681, 0.04200228303670883, 0.05378072336316109, 0.06410718709230423, 0.04019588232040405, 0.029513955116271973, 0.03056206926703453, 0.04814045876264572, 0.01964575983583927, 0.02385597862303257, 0.04712361469864845, 0.02780526503920555, 0.02563283033668995, 0.04690321534872055, 0.042115021497011185, 0.042453400790691376, 0.016209997236728668, 0.047201573848724365, 0.04131560027599335, 0.0, 0.0, 0.0, 0.0, 0.0, 0.0, 0.0, 0.0, 0.0, 0.0, 0.0], [0.16099098324775696, 0.03149213641881943, 0.02550601400434971, 0.03203630819916725, 0.03811933472752571, 0.05386464670300484, 0.0528920441865921, 0.06297364830970764, 0.03872944414615631, 0.030703015625476837, 0.04861494526267052, 0.016964150592684746, 0.020984860137104988, 0.04743491858243942, 0.026178568601608276, 0.0328170545399189, 0.04874100908637047, 0.03702303767204285, 0.05028447136282921, 0.014425937086343765, 0.04926922544836998, 0.02748516947031021, 0.05246909707784653, 0.0, 0.0, 0.0, 0.0, 0.0, 0.0, 0.0, 0.0, 0.0, 0.0], [0.13924185931682587, 0.047321949154138565, 0.022920073941349983, 0.037826742976903915, 0.03733156993985176, 0.05628199502825737, 0.0677311047911644, 0.0638374611735344, 0.028824586421251297, 0.02836860902607441, 0.05008406937122345, 0.014775179326534271, 0.02105889469385147, 0.048197172582149506, 0.017685124650597572, 0.015456230379641056, 0.0484280027449131, 0.03709954768419266, 0.04247324541211128, 0.018426813185214996, 0.048613324761390686, 0.02267395332455635, 0.0599895678460598, 0.025352980941534042, 0.0, 0.0, 0.0, 0.0, 0.0, 0.0, 0.0, 0.0, 0.0], [0.19562339782714844, 0.032333292067050934, 0.022874098271131516, 0.03839076682925224, 0.03449876233935356, 0.04616904631257057, 0.05553753674030304, 0.039606645703315735, 0.0230984129011631, 0.02424927055835724, 0.04043305292725563, 0.016078555956482887, 0.021624920889735222, 0.039030592888593674, 0.02652089111506939, 0.028113454580307007, 0.038236308842897415, 0.035426121205091476, 0.04174576327204704, 0.021097134798765182, 0.03767955303192139, 0.037286922335624695, 0.04423917457461357, 0.022921539843082428, 0.037184711545705795, 0.0, 0.0, 0.0, 0.0, 0.0, 0.0, 0.0, 0.0], [0.05819649249315262, 0.03889741003513336, 0.026005271822214127, 0.023567914962768555, 0.02297995425760746, 0.05384155735373497, 0.05806109681725502, 0.06858767569065094, 0.0374598428606987, 0.02915908209979534, 0.05474671721458435, 0.013592957518994808, 0.027647022157907486, 0.05575406178832054, 0.030779894441366196, 0.016137342900037766, 0.05745426192879677, 0.03968728706240654, 0.034065525978803635, 0.013110960833728313, 0.05977657064795494, 0.016043756157159805, 0.029699278995394707, 0.020566532388329506, 0.08347289264202118, 0.03070858307182789, 0.0, 0.0, 0.0, 0.0, 0.0, 0.0, 0.0], [0.1556147336959839, 0.03032320737838745, 0.021067585796117783, 0.03860045224428177, 0.025089237838983536, 0.04719521477818489, 0.0425565280020237, 0.05166252329945564, 0.030368143692612648, 0.020133644342422485, 0.042556922882795334, 0.01851179450750351, 0.01867171749472618, 0.04143029451370239, 0.022022131830453873, 0.021061046048998833, 0.041666191071271896, 0.027249211445450783, 0.04048161208629608, 0.015536419115960598, 0.04219619557261467, 0.01700734905898571, 0.06220950558781624, 0.015703173354268074, 0.05443186312913895, 0.0409240648150444, 0.015729233622550964, 0.0, 0.0, 0.0, 0.0, 0.0, 0.0], [0.15218864381313324, 0.03232049196958542, 0.026277627795934677, 0.03215138614177704, 0.037080541253089905, 0.038433343172073364, 0.042185235768556595, 0.034409184008836746, 0.02929619885981083, 0.024752266705036163, 0.03461230918765068, 0.02179509401321411, 0.023419657722115517, 0.03386645019054413, 0.028580617159605026, 0.03440329432487488, 0.033156950026750565, 0.026710396632552147, 0.04213566333055496, 0.01902133598923683, 0.032785795629024506, 0.02683999203145504, 0.03304455429315567, 0.02330266684293747, 0.033900365233421326, 0.03944922238588333, 0.02133423276245594, 0.04254644736647606, 0.0, 0.0, 0.0, 0.0, 0.0], [0.10210394114255905, 0.048305366188287735, 0.02795792743563652, 0.028134874999523163, 0.043688900768756866, 0.03765961900353432, 0.04012186452746391, 0.03589579090476036, 0.024491779506206512, 0.019768038764595985, 0.03467407822608948, 0.015431469306349754, 0.0326165109872818, 0.03414338827133179, 0.02746138535439968, 0.020323216915130615, 0.034458380192518234, 0.01582757569849491, 0.030705856159329414, 0.020360928028821945, 0.035580433905124664, 0.03479028865695, 0.03518146649003029, 0.02857259102165699, 0.04333386570215225, 0.03896384313702583, 0.017587680369615555, 0.04553382471203804, 0.04632510617375374, 0.0, 0.0, 0.0, 0.0], [0.11841734498739243, 0.026689806953072548, 0.028547663241624832, 0.03516457602381706, 0.035190943628549576, 0.030704861506819725, 0.042546890676021576, 0.02310349978506565, 0.025463128462433815, 0.029678525403141975, 0.028395190834999084, 0.019178271293640137, 0.02383355423808098, 0.027640031650662422, 0.03381752967834473, 0.0396401509642601, 0.02757442183792591, 0.02185617759823799, 0.039667680859565735, 0.039418336004018784, 0.02711561694741249, 0.030498066917061806, 0.03493282571434975, 0.03232055529952049, 0.027840541675686836, 0.03877575322985649, 0.02112478017807007, 0.03861146420240402, 0.03277184069156647, 0.019479990005493164, 0.0, 0.0, 0.0], [0.05433783307671547, 0.019247816875576973, 0.011686455458402634, 0.014118609949946404, 0.013909762725234032, 0.057368066161870956, 0.0345463752746582, 0.04665054380893707, 0.0130264637991786, 0.013271295465528965, 0.059527698904275894, 0.00906315352767706, 0.01736418716609478, 0.061355698853731155, 0.012634646147489548, 0.015145541168749332, 0.06425531208515167, 0.04627062752842903, 0.01955636590719223, 0.012543464079499245, 0.0691356286406517, 0.0348236970603466, 0.03000595048069954, 0.012261835858225822, 0.07985591143369675, 0.01899641379714012, 0.010722920298576355, 0.0865454450249672, 0.01717408187687397, 0.022144174203276634, 0.02245398797094822, 0.0, 0.0], [0.05849640071392059, 0.034377362579107285, 0.013603084720671177, 0.024170441552996635, 0.019005851820111275, 0.0654640719294548, 0.030622974038124084, 0.035732023417949677, 0.018859444186091423, 0.012241469696164131, 0.06282186508178711, 0.01183575764298439, 0.009552345611155033, 0.06431799381971359, 0.02158958651125431, 0.010912973433732986, 0.06665909290313721, 0.023997457697987556, 0.026596764102578163, 0.006153547205030918, 0.06984329968690872, 0.037238720804452896, 0.030046692118048668, 0.021686827763915062, 0.04364059492945671, 0.02120959199965, 0.013490453362464905, 0.046327244490385056, 0.020434506237506866, 0.013362272642552853, 0.018568985164165497, 0.04714026302099228, 0.0], [0.1352866291999817, 0.02973337098956108, 0.02611134946346283, 0.037535786628723145, 0.0388815738260746, 0.0331667922437191, 0.048243939876556396, 0.030468281358480453, 0.026038233190774918, 0.024123717099428177, 0.027892734855413437, 0.022709954530000687, 0.024185290560126305, 0.026114579290151596, 0.023209676146507263, 0.025175323709845543, 0.024614781141281128, 0.021123144775629044, 0.029685083776712418, 0.018167482689023018, 0.023064399138092995, 0.020598091185092926, 0.03441140055656433, 0.021083427593111992, 0.022538835182785988, 0.03228151053190231, 0.013987250626087189, 0.024144932627677917, 0.027002323418855667, 0.012929460033774376, 0.03616540506482124, 0.026840241625905037, 0.032485026866197586]]]}\n",
       "    )\n",
       "    </script>"
      ],
      "text/plain": [
       "<circuitsvis.utils.render.RenderedHTML at 0x7399dbe639d0>"
      ]
     },
     "execution_count": 14,
     "metadata": {},
     "output_type": "execute_result"
    }
   ],
   "source": [
    "print(\"Layer 0 Head Attention Patterns:\")\n",
    "cv.attention.attention_patterns(tokens=gpt2_str_tokens, attention=attention_pattern)"
   ]
  },
  {
   "cell_type": "markdown",
   "metadata": {
    "id": "H3RSmPTQnJTv"
   },
   "source": [
    "In this case, we only wanted the layer 0 attention patterns, but we are storing the internal activations from all locations in the model. It's convenient to have access to all activations, but this can be prohibitively expensive for memory use with larger models, batch sizes, or sequence lengths. In addition, we don't need to do the full forward pass through the model to collect layer 0 attention patterns. The following cell will collect only the layer 0 attention patterns and stop the forward pass at layer 1, requiring far less memory and compute."
   ]
  },
  {
   "cell_type": "code",
   "execution_count": 15,
   "metadata": {
    "id": "3parJyhcnJTw"
   },
   "outputs": [],
   "source": [
    "attn_hook_name = \"blocks.0.attn.hook_pattern\"\n",
    "attn_layer = 0\n",
    "_, gpt2_attn_cache = model.run_with_cache(gpt2_tokens, remove_batch_dim=True, stop_at_layer=attn_layer + 1, names_filter=[attn_hook_name])\n",
    "gpt2_attn = gpt2_attn_cache[attn_hook_name]\n",
    "assert torch.equal(gpt2_attn, attention_pattern)"
   ]
  },
  {
   "cell_type": "markdown",
   "metadata": {
    "id": "24MMAOIjnJTw"
   },
   "source": [
    "## Hooks: Intervening on Activations"
   ]
  },
  {
   "cell_type": "markdown",
   "metadata": {
    "id": "lLjmP6VPnJTw"
   },
   "source": [
    "One of the great things about interpreting neural networks is that we have *full control* over our system. From a computational perspective, we know exactly what operations are going on inside (even if we don't know what they mean!). And we can make precise, surgical edits and see how the model's behaviour and other internals change. This is an extremely powerful tool, because it can let us eg set up careful counterfactuals and causal intervention to easily understand model behaviour.\n",
    "\n",
    "Accordingly, being able to do this is a pretty core operation, and this is one of the main things TransformerLens supports! The key feature here is **hook points**. Every activation inside the transformer is surrounded by a hook point, which allows us to edit or intervene on it.\n",
    "\n",
    "We do this by adding a **hook function** to that activation. The hook function maps `current_activation_value, hook_point` to `new_activation_value`. As the model is run, it computes that activation as normal, and then the hook function is applied to compute a replacement, and that is substituted in for the activation. The hook function can be an arbitrary Python function, so long as it returns a tensor of the correct shape.\n",
    "\n",
    "<details><summary>Relationship to PyTorch hooks</summary>\n",
    "\n",
    "[PyTorch hooks](https://blog.paperspace.com/pytorch-hooks-gradient-clipping-debugging/) are a great and underrated, yet incredibly janky, feature. They can act on a layer, and edit the input or output of that layer, or the gradient when applying autodiff. The key difference is that **Hook points** act on *activations* not layers. This means that you can intervene within a layer on each activation, and don't need to care about the precise layer structure of the transformer. And it's immediately clear exactly how the hook's effect is applied. This adjustment was shamelessly inspired by [Garcon's use of ProbePoints](https://transformer-circuits.pub/2021/garcon/index.html).\n",
    "\n",
    "They also come with a range of other quality of life improvements, like the model having a `model.reset_hooks()` method to remove all hooks, or helper methods to temporarily add hooks for a single forward pass - it is *incredibly* easy to shoot yourself in the foot with standard PyTorch hooks!\n",
    "</details>"
   ]
  },
  {
   "cell_type": "markdown",
   "metadata": {
    "id": "D4heACZXnJTw"
   },
   "source": [
    "As a basic example, let's [ablate](https://dynalist.io/d/n2ZWtnoYHrU1s4vnFSAQ519J#z=fh-HJyz1CgUVrXuoiban6bYx) head 7 in layer 0 on the text above.\n",
    "\n",
    "We define a `head_ablation_hook` function. This takes the value tensor for attention layer 0, and sets the component with `head_index==7` to zero and returns it (Note - we return by convention, but since we're editing the activation in-place, we don't strictly *need* to).\n",
    "\n",
    "We then use the `run_with_hooks` helper function to run the model and *temporarily* add in the hook for just this run. We enter in the hook as a tuple of the activation name (also the hook point name - found with `utils.get_act_name`) and the hook function."
   ]
  },
  {
   "cell_type": "code",
   "execution_count": 16,
   "metadata": {
    "id": "AX2uJzRZnJTw",
    "outputId": "97cfbded-4459-4769-cd38-426d7343e372"
   },
   "outputs": [
    {
     "name": "stdout",
     "output_type": "stream",
     "text": [
      "Shape of the value tensor: torch.Size([1, 33, 12, 64])\n",
      "Original Loss: 3.999\n",
      "Ablated Loss: 5.453\n"
     ]
    }
   ],
   "source": [
    "layer_to_ablate = 0\n",
    "head_index_to_ablate = 8\n",
    "\n",
    "# We define a head ablation hook\n",
    "# The type annotations are NOT necessary, they're just a useful guide to the reader\n",
    "#\n",
    "def head_ablation_hook(\n",
    "    value: Float[torch.Tensor, \"batch pos head_index d_head\"],\n",
    "    hook: HookPoint\n",
    ") -> Float[torch.Tensor, \"batch pos head_index d_head\"]:\n",
    "    print(f\"Shape of the value tensor: {value.shape}\")\n",
    "    value[:, :, head_index_to_ablate, :] = 0.\n",
    "    return value\n",
    "\n",
    "original_loss = model(gpt2_tokens, return_type=\"loss\")\n",
    "ablated_loss = model.run_with_hooks(\n",
    "    gpt2_tokens,\n",
    "    return_type=\"loss\",\n",
    "    fwd_hooks=[(\n",
    "        utils.get_act_name(\"v\", layer_to_ablate),\n",
    "        head_ablation_hook\n",
    "        )]\n",
    "    )\n",
    "print(f\"Original Loss: {original_loss.item():.3f}\")\n",
    "print(f\"Ablated Loss: {ablated_loss.item():.3f}\")"
   ]
  },
  {
   "cell_type": "markdown",
   "metadata": {
    "id": "o3Ni2n2znJTw"
   },
   "source": [
    "**Gotcha:** Hooks are global state - they're added in as part of the model, and stay there until removed. `run_with_hooks` tries to create an abstraction where these are local state, by removing all hooks at the end of the function. But you can easily shoot yourself in the foot if there's, eg, an error in one of your hooks so the function never finishes. If you start getting bugs, try `model.reset_hooks()` to clean things up. Further, if you *do* add hooks of your own that you want to keep, which you can do with `add_perma_hook` on the relevant HookPoint"
   ]
  },
  {
   "cell_type": "markdown",
   "metadata": {
    "id": "Zt3REIyvnJTx"
   },
   "source": [
    "### Activation Patching on the Indirect Object Identification Task"
   ]
  },
  {
   "cell_type": "markdown",
   "metadata": {
    "id": "6SbH7HkQnJTx"
   },
   "source": [
    "For a somewhat more involved example, let's use hooks to apply **[activation patching](https://dynalist.io/d/n2ZWtnoYHrU1s4vnFSAQ519J#z=qeWBvs-R-taFfcCq-S_hgMqx)** on the **[Indirect Object Identification](https://dynalist.io/d/n2ZWtnoYHrU1s4vnFSAQ519J#z=iWsV3s5Kdd2ca3zNgXr5UPHa)** (IOI) task.\n",
    "\n",
    "The IOI task is the task of identifying that a sentence like \"After John and Mary went to the store, Mary gave a bottle of milk to\" continues with \" John\" rather than \" Mary\" (ie, finding the indirect object), and Redwood Research have [an excellent paper studying the underlying circuit in GPT-2 Small](https://arxiv.org/abs/2211.00593).\n",
    "\n",
    "**[Activation patching](https://dynalist.io/d/n2ZWtnoYHrU1s4vnFSAQ519J#z=qeWBvs-R-taFfcCq-S_hgMqx)** is a technique from [Kevin Meng and David Bau's excellent ROME paper](https://rome.baulab.info/). The goal is to identify which model activations are important for completing a task. We do this by setting up a **clean prompt** and a **corrupted prompt** and a **metric** for performance on the task. We then pick a specific model activation, run the model on the corrupted prompt, but then *intervene* on that activation and patch in its value when run on the clean prompt. We then apply the metric, and see how much this patch has recovered the clean performance.\n",
    "(See [a more detailed demonstration of activation patching here](https://colab.research.google.com/github/TransformerLensOrg/TransformerLens/blob/main/demos/Exploratory_Analysis_Demo.ipynb))"
   ]
  },
  {
   "cell_type": "markdown",
   "metadata": {
    "id": "O3VxoYPfnJTx"
   },
   "source": [
    "Here, our clean prompt is \"After John and Mary went to the store, **Mary** gave a bottle of milk to\", our corrupted prompt is \"After John and Mary went to the store, **John** gave a bottle of milk to\", and our metric is the difference between the correct logit ( John) and the incorrect logit ( Mary) on the final token.\n",
    "\n",
    "We see that the logit difference is significantly positive on the clean prompt, and significantly negative on the corrupted prompt, showing that the model is capable of doing the task!"
   ]
  },
  {
   "cell_type": "code",
   "execution_count": 17,
   "metadata": {
    "id": "sSq25fWAnJTx",
    "outputId": "a47ce748-86e9-46c6-de71-13adb4c5ccea"
   },
   "outputs": [
    {
     "name": "stdout",
     "output_type": "stream",
     "text": [
      "Clean logit difference: 4.276\n",
      "Corrupted logit difference: -2.738\n"
     ]
    }
   ],
   "source": [
    "clean_prompt = \"After John and Mary went to the store, Mary gave a bottle of milk to\"\n",
    "corrupted_prompt = \"After John and Mary went to the store, John gave a bottle of milk to\"\n",
    "\n",
    "clean_tokens = model.to_tokens(clean_prompt)\n",
    "corrupted_tokens = model.to_tokens(corrupted_prompt)\n",
    "\n",
    "def logits_to_logit_diff(logits, correct_answer=\" John\", incorrect_answer=\" Mary\"):\n",
    "    # model.to_single_token maps a string value of a single token to the token index for that token\n",
    "    # If the string is not a single token, it raises an error.\n",
    "    correct_index = model.to_single_token(correct_answer)\n",
    "    incorrect_index = model.to_single_token(incorrect_answer)\n",
    "    return logits[0, -1, correct_index] - logits[0, -1, incorrect_index]\n",
    "\n",
    "# We run on the clean prompt with the cache so we store activations to patch in later.\n",
    "clean_logits, clean_cache = model.run_with_cache(clean_tokens)\n",
    "clean_logit_diff = logits_to_logit_diff(clean_logits)\n",
    "print(f\"Clean logit difference: {clean_logit_diff.item():.3f}\")\n",
    "\n",
    "# We don't need to cache on the corrupted prompt.\n",
    "corrupted_logits = model(corrupted_tokens)\n",
    "corrupted_logit_diff = logits_to_logit_diff(corrupted_logits)\n",
    "print(f\"Corrupted logit difference: {corrupted_logit_diff.item():.3f}\")"
   ]
  },
  {
   "cell_type": "markdown",
   "metadata": {
    "id": "5tXW0SUwnJTx"
   },
   "source": [
    "We now setup the hook function to do activation patching. Here, we'll patch in the [residual stream](https://dynalist.io/d/n2ZWtnoYHrU1s4vnFSAQ519J#z=DHp9vZ0h9lA9OCrzG2Y3rrzH) at the start of a specific layer and at a specific position. This will let us see how much the model is using the residual stream at that layer and position to represent the key information for the task.\n",
    "\n",
    "We want to iterate over all layers and positions, so we write the hook to take in an position parameter. Hook functions must have the input signature (activation, hook), but we can use `functools.partial` to set the position parameter before passing it to `run_with_hooks`"
   ]
  },
  {
   "cell_type": "code",
   "execution_count": 18,
   "metadata": {
    "colab": {
     "referenced_widgets": [
      "980e183587f54a03bb4ead134831c94d"
     ]
    },
    "id": "eLtfMLV2nJTx",
    "outputId": "2b89253d-bcb3-4b64-ecd9-2679a1918633"
   },
   "outputs": [
    {
     "name": "stderr",
     "output_type": "stream",
     "text": [
      "100%|█████████████████████████████████████████████████████████████████████████████████████████████████████████████████████████| 12/12 [00:02<00:00,  4.43it/s]\n"
     ]
    }
   ],
   "source": [
    "# We define a residual stream patching hook\n",
    "# We choose to act on the residual stream at the start of the layer, so we call it resid_pre\n",
    "# The type annotations are a guide to the reader and are not necessary\n",
    "def residual_stream_patching_hook(\n",
    "    resid_pre: Float[torch.Tensor, \"batch pos d_model\"],\n",
    "    hook: HookPoint,\n",
    "    position: int\n",
    ") -> Float[torch.Tensor, \"batch pos d_model\"]:\n",
    "    # Each HookPoint has a name attribute giving the name of the hook.\n",
    "    clean_resid_pre = clean_cache[hook.name]\n",
    "    resid_pre[:, position, :] = clean_resid_pre[:, position, :]\n",
    "    return resid_pre\n",
    "\n",
    "# We make a tensor to store the results for each patching run. We put it on the model's device to avoid needing to move things between the GPU and CPU, which can be slow.\n",
    "num_positions = len(clean_tokens[0])\n",
    "ioi_patching_result = torch.zeros((model.cfg.n_layers, num_positions), device=model.cfg.device)\n",
    "\n",
    "for layer in tqdm.tqdm(range(model.cfg.n_layers)):\n",
    "    for position in range(num_positions):\n",
    "        # Use functools.partial to create a temporary hook function with the position fixed\n",
    "        temp_hook_fn = partial(residual_stream_patching_hook, position=position)\n",
    "        # Run the model with the patching hook\n",
    "        patched_logits = model.run_with_hooks(corrupted_tokens, fwd_hooks=[\n",
    "            (utils.get_act_name(\"resid_pre\", layer), temp_hook_fn)\n",
    "        ])\n",
    "        # Calculate the logit difference\n",
    "        patched_logit_diff = logits_to_logit_diff(patched_logits).detach()\n",
    "        # Store the result, normalizing by the clean and corrupted logit difference so it's between 0 and 1 (ish)\n",
    "        ioi_patching_result[layer, position] = (patched_logit_diff - corrupted_logit_diff)/(clean_logit_diff - corrupted_logit_diff)"
   ]
  },
  {
   "cell_type": "markdown",
   "metadata": {
    "id": "xo5OjIbRnJTx"
   },
   "source": [
    "We can now visualize the results, and see that this computation is extremely localised within the model. Initially, the second subject (Mary) token is all that matters (naturally, as it's the only different token), and all relevant information remains here until heads in layer 7 and 8 move this to the final token where it's used to predict the indirect object.\n",
    "(Note - the heads are in layer 7 and 8, not 8 and 9, because we patched in the residual stream at the *start* of each layer)"
   ]
  },
  {
   "cell_type": "code",
   "execution_count": 19,
   "metadata": {
    "id": "w2HwJJJonJTy",
    "outputId": "7a58712c-5664-4148-c7c5-2a1f52186a7f"
   },
   "outputs": [
    {
     "ename": "AttributeError",
     "evalue": "'NoneType' object has no attribute '__version__'",
     "output_type": "error",
     "traceback": [
      "\u001b[0;31m---------------------------------------------------------------------------\u001b[0m",
      "\u001b[0;31mAttributeError\u001b[0m                            Traceback (most recent call last)",
      "Cell \u001b[0;32mIn[19], line 3\u001b[0m\n\u001b[1;32m      1\u001b[0m \u001b[38;5;66;03m# Add the index to the end of the label, because plotly doesn't like duplicate labels\u001b[39;00m\n\u001b[1;32m      2\u001b[0m token_labels \u001b[38;5;241m=\u001b[39m [\u001b[38;5;124mf\u001b[39m\u001b[38;5;124m\"\u001b[39m\u001b[38;5;132;01m{\u001b[39;00mtoken\u001b[38;5;132;01m}\u001b[39;00m\u001b[38;5;124m_\u001b[39m\u001b[38;5;132;01m{\u001b[39;00mindex\u001b[38;5;132;01m}\u001b[39;00m\u001b[38;5;124m\"\u001b[39m \u001b[38;5;28;01mfor\u001b[39;00m index, token \u001b[38;5;129;01min\u001b[39;00m \u001b[38;5;28menumerate\u001b[39m(model\u001b[38;5;241m.\u001b[39mto_str_tokens(clean_tokens))]\n\u001b[0;32m----> 3\u001b[0m \u001b[43mimshow\u001b[49m\u001b[43m(\u001b[49m\u001b[43mioi_patching_result\u001b[49m\u001b[43m,\u001b[49m\u001b[43m \u001b[49m\u001b[43mx\u001b[49m\u001b[38;5;241;43m=\u001b[39;49m\u001b[43mtoken_labels\u001b[49m\u001b[43m,\u001b[49m\u001b[43m \u001b[49m\u001b[43mxaxis\u001b[49m\u001b[38;5;241;43m=\u001b[39;49m\u001b[38;5;124;43m\"\u001b[39;49m\u001b[38;5;124;43mPosition\u001b[39;49m\u001b[38;5;124;43m\"\u001b[39;49m\u001b[43m,\u001b[49m\u001b[43m \u001b[49m\u001b[43myaxis\u001b[49m\u001b[38;5;241;43m=\u001b[39;49m\u001b[38;5;124;43m\"\u001b[39;49m\u001b[38;5;124;43mLayer\u001b[39;49m\u001b[38;5;124;43m\"\u001b[39;49m\u001b[43m,\u001b[49m\u001b[43m \u001b[49m\u001b[43mtitle\u001b[49m\u001b[38;5;241;43m=\u001b[39;49m\u001b[38;5;124;43m\"\u001b[39;49m\u001b[38;5;124;43mNormalized Logit Difference After Patching Residual Stream on the IOI Task\u001b[39;49m\u001b[38;5;124;43m\"\u001b[39;49m\u001b[43m)\u001b[49m\n",
      "Cell \u001b[0;32mIn[7], line 2\u001b[0m, in \u001b[0;36mimshow\u001b[0;34m(tensor, renderer, xaxis, yaxis, **kwargs)\u001b[0m\n\u001b[1;32m      1\u001b[0m \u001b[38;5;28;01mdef\u001b[39;00m\u001b[38;5;250m \u001b[39m\u001b[38;5;21mimshow\u001b[39m(tensor, renderer\u001b[38;5;241m=\u001b[39m\u001b[38;5;28;01mNone\u001b[39;00m, xaxis\u001b[38;5;241m=\u001b[39m\u001b[38;5;124m\"\u001b[39m\u001b[38;5;124m\"\u001b[39m, yaxis\u001b[38;5;241m=\u001b[39m\u001b[38;5;124m\"\u001b[39m\u001b[38;5;124m\"\u001b[39m, \u001b[38;5;241m*\u001b[39m\u001b[38;5;241m*\u001b[39mkwargs):\n\u001b[0;32m----> 2\u001b[0m     \u001b[43mpx\u001b[49m\u001b[38;5;241;43m.\u001b[39;49m\u001b[43mimshow\u001b[49m\u001b[43m(\u001b[49m\u001b[43mutils\u001b[49m\u001b[38;5;241;43m.\u001b[39;49m\u001b[43mto_numpy\u001b[49m\u001b[43m(\u001b[49m\u001b[43mtensor\u001b[49m\u001b[43m)\u001b[49m\u001b[43m,\u001b[49m\u001b[43m \u001b[49m\u001b[43mcolor_continuous_midpoint\u001b[49m\u001b[38;5;241;43m=\u001b[39;49m\u001b[38;5;241;43m0.0\u001b[39;49m\u001b[43m,\u001b[49m\u001b[43m \u001b[49m\u001b[43mcolor_continuous_scale\u001b[49m\u001b[38;5;241;43m=\u001b[39;49m\u001b[38;5;124;43m\"\u001b[39;49m\u001b[38;5;124;43mRdBu\u001b[39;49m\u001b[38;5;124;43m\"\u001b[39;49m\u001b[43m,\u001b[49m\u001b[43m \u001b[49m\u001b[43mlabels\u001b[49m\u001b[38;5;241;43m=\u001b[39;49m\u001b[43m{\u001b[49m\u001b[38;5;124;43m\"\u001b[39;49m\u001b[38;5;124;43mx\u001b[39;49m\u001b[38;5;124;43m\"\u001b[39;49m\u001b[43m:\u001b[49m\u001b[43mxaxis\u001b[49m\u001b[43m,\u001b[49m\u001b[43m \u001b[49m\u001b[38;5;124;43m\"\u001b[39;49m\u001b[38;5;124;43my\u001b[39;49m\u001b[38;5;124;43m\"\u001b[39;49m\u001b[43m:\u001b[49m\u001b[43myaxis\u001b[49m\u001b[43m}\u001b[49m\u001b[43m,\u001b[49m\u001b[43m \u001b[49m\u001b[38;5;241;43m*\u001b[39;49m\u001b[38;5;241;43m*\u001b[39;49m\u001b[43mkwargs\u001b[49m\u001b[43m)\u001b[49m\u001b[38;5;241;43m.\u001b[39;49m\u001b[43mshow\u001b[49m\u001b[43m(\u001b[49m\u001b[43mrenderer\u001b[49m\u001b[43m)\u001b[49m\n",
      "File \u001b[0;32m~/.virtualenvs/mech_interp/lib/python3.10/site-packages/plotly/basedatatypes.py:3414\u001b[0m, in \u001b[0;36mBaseFigure.show\u001b[0;34m(self, *args, **kwargs)\u001b[0m\n\u001b[1;32m   3381\u001b[0m \u001b[38;5;250m\u001b[39m\u001b[38;5;124;03m\"\"\"\u001b[39;00m\n\u001b[1;32m   3382\u001b[0m \u001b[38;5;124;03mShow a figure using either the default renderer(s) or the renderer(s)\u001b[39;00m\n\u001b[1;32m   3383\u001b[0m \u001b[38;5;124;03mspecified by the renderer argument\u001b[39;00m\n\u001b[0;32m   (...)\u001b[0m\n\u001b[1;32m   3410\u001b[0m \u001b[38;5;124;03mNone\u001b[39;00m\n\u001b[1;32m   3411\u001b[0m \u001b[38;5;124;03m\"\"\"\u001b[39;00m\n\u001b[1;32m   3412\u001b[0m \u001b[38;5;28;01mimport\u001b[39;00m\u001b[38;5;250m \u001b[39m\u001b[38;5;21;01mplotly\u001b[39;00m\u001b[38;5;21;01m.\u001b[39;00m\u001b[38;5;21;01mio\u001b[39;00m\u001b[38;5;250m \u001b[39m\u001b[38;5;28;01mas\u001b[39;00m\u001b[38;5;250m \u001b[39m\u001b[38;5;21;01mpio\u001b[39;00m\n\u001b[0;32m-> 3414\u001b[0m \u001b[38;5;28;01mreturn\u001b[39;00m \u001b[43mpio\u001b[49m\u001b[38;5;241;43m.\u001b[39;49m\u001b[43mshow\u001b[49m\u001b[43m(\u001b[49m\u001b[38;5;28;43mself\u001b[39;49m\u001b[43m,\u001b[49m\u001b[43m \u001b[49m\u001b[38;5;241;43m*\u001b[39;49m\u001b[43margs\u001b[49m\u001b[43m,\u001b[49m\u001b[43m \u001b[49m\u001b[38;5;241;43m*\u001b[39;49m\u001b[38;5;241;43m*\u001b[39;49m\u001b[43mkwargs\u001b[49m\u001b[43m)\u001b[49m\n",
      "File \u001b[0;32m~/.virtualenvs/mech_interp/lib/python3.10/site-packages/plotly/io/_renderers.py:429\u001b[0m, in \u001b[0;36mshow\u001b[0;34m(fig, renderer, validate, **kwargs)\u001b[0m\n\u001b[1;32m    424\u001b[0m     \u001b[38;5;28;01mif\u001b[39;00m \u001b[38;5;129;01mnot\u001b[39;00m nbformat \u001b[38;5;129;01mor\u001b[39;00m Version(nbformat\u001b[38;5;241m.\u001b[39m__version__) \u001b[38;5;241m<\u001b[39m Version(\u001b[38;5;124m\"\u001b[39m\u001b[38;5;124m4.2.0\u001b[39m\u001b[38;5;124m\"\u001b[39m):\n\u001b[1;32m    425\u001b[0m         \u001b[38;5;28;01mraise\u001b[39;00m \u001b[38;5;167;01mValueError\u001b[39;00m(\n\u001b[1;32m    426\u001b[0m             \u001b[38;5;124m\"\u001b[39m\u001b[38;5;124mMime type rendering requires nbformat>=4.2.0 but it is not installed\u001b[39m\u001b[38;5;124m\"\u001b[39m\n\u001b[1;32m    427\u001b[0m         )\n\u001b[0;32m--> 429\u001b[0m     \u001b[43mdisplay_jupyter_version_warnings\u001b[49m\u001b[43m(\u001b[49m\u001b[43m)\u001b[49m\n\u001b[1;32m    431\u001b[0m     ipython_display\u001b[38;5;241m.\u001b[39mdisplay(bundle, raw\u001b[38;5;241m=\u001b[39m\u001b[38;5;28;01mTrue\u001b[39;00m)\n\u001b[1;32m    433\u001b[0m \u001b[38;5;66;03m# external renderers\u001b[39;00m\n",
      "File \u001b[0;32m~/.virtualenvs/mech_interp/lib/python3.10/site-packages/plotly/io/_renderers.py:53\u001b[0m, in \u001b[0;36mdisplay_jupyter_version_warnings\u001b[0;34m()\u001b[0m\n\u001b[1;32m     51\u001b[0m \u001b[38;5;28;01melif\u001b[39;00m \u001b[38;5;124m\"\u001b[39m\u001b[38;5;124mjupyter-notebook\u001b[39m\u001b[38;5;124m\"\u001b[39m \u001b[38;5;129;01min\u001b[39;00m parent_process:\n\u001b[1;32m     52\u001b[0m     jupyter_notebook \u001b[38;5;241m=\u001b[39m optional_imports\u001b[38;5;241m.\u001b[39mget_module(\u001b[38;5;124m\"\u001b[39m\u001b[38;5;124mnotebook\u001b[39m\u001b[38;5;124m\"\u001b[39m)\n\u001b[0;32m---> 53\u001b[0m     \u001b[38;5;28;01mif\u001b[39;00m \u001b[43mjupyter_notebook\u001b[49m\u001b[38;5;241;43m.\u001b[39;49m\u001b[43m__version__\u001b[49m \u001b[38;5;241m<\u001b[39m \u001b[38;5;124m\"\u001b[39m\u001b[38;5;124m7\u001b[39m\u001b[38;5;124m\"\u001b[39m:\n\u001b[1;32m     54\u001b[0m         \u001b[38;5;66;03m# Add warning about upgrading notebook\u001b[39;00m\n\u001b[1;32m     55\u001b[0m         warnings\u001b[38;5;241m.\u001b[39mwarn(\n\u001b[1;32m     56\u001b[0m             \u001b[38;5;124mf\u001b[39m\u001b[38;5;124m\"\u001b[39m\u001b[38;5;124mPlotly version >= 6 requires Jupyter Notebook >= 7 but you have \u001b[39m\u001b[38;5;132;01m{\u001b[39;00mjupyter_notebook\u001b[38;5;241m.\u001b[39m__version__\u001b[38;5;132;01m}\u001b[39;00m\u001b[38;5;124m installed.\u001b[39m\u001b[38;5;130;01m\\n\u001b[39;00m\u001b[38;5;124m To upgrade Jupyter Notebook, please run `pip install notebook --upgrade`.\u001b[39m\u001b[38;5;124m\"\u001b[39m\n\u001b[1;32m     57\u001b[0m         )\n\u001b[1;32m     58\u001b[0m \u001b[38;5;28;01melif\u001b[39;00m \u001b[38;5;124m\"\u001b[39m\u001b[38;5;124mjupyter-lab\u001b[39m\u001b[38;5;124m\"\u001b[39m \u001b[38;5;129;01min\u001b[39;00m parent_process:\n",
      "\u001b[0;31mAttributeError\u001b[0m: 'NoneType' object has no attribute '__version__'"
     ]
    }
   ],
   "source": [
    "# Add the index to the end of the label, because plotly doesn't like duplicate labels\n",
    "token_labels = [f\"{token}_{index}\" for index, token in enumerate(model.to_str_tokens(clean_tokens))]\n",
    "imshow(ioi_patching_result, x=token_labels, xaxis=\"Position\", yaxis=\"Layer\", title=\"Normalized Logit Difference After Patching Residual Stream on the IOI Task\")"
   ]
  },
  {
   "cell_type": "markdown",
   "metadata": {
    "id": "L8qx8NX_nJTy"
   },
   "source": [
    "## Hooks: Accessing Activations"
   ]
  },
  {
   "cell_type": "markdown",
   "metadata": {
    "id": "QbVQNPbonJTy"
   },
   "source": [
    "Hooks can also be used to just **access** an activation - to run some function using that activation value, *without* changing the activation value. This can be achieved by just having the hook return nothing, and not editing the activation in place.\n",
    "\n",
    "This is useful for eg extracting activations for a specific task, or for doing some long-running calculation across many inputs, eg finding the text that most activates a specific neuron. (Note - everything this can do *could* be done with `run_with_cache` and post-processing, but this workflow can be more intuitive and memory efficient.)"
   ]
  },
  {
   "cell_type": "markdown",
   "metadata": {
    "id": "HMDkC3QdnJTy"
   },
   "source": [
    "To demonstrate this, let's look for **[induction heads](https://transformer-circuits.pub/2022/in-context-learning-and-induction-heads/index.html)** in GPT-2 Small.\n",
    "\n",
    "Induction circuits are a very important circuit in generative language models, which are used to detect and continue repeated subsequences. They consist of two heads in separate layers that compose together, a **previous token head** which always attends to the previous token, and an **induction head** which attends to the token *after* an earlier copy of the current token.\n",
    "\n",
    "To see why this is important, let's say that the model is trying to predict the next token in a news article about Michael Jordan. The token \" Michael\", in general, could be followed by many surnames. But an induction head will look from that occurrence of \" Michael\" to the token after previous occurrences of \" Michael\", ie \" Jordan\" and can confidently predict that that will come next."
   ]
  },
  {
   "cell_type": "markdown",
   "metadata": {
    "id": "7gp5mn3XnJTy"
   },
   "source": [
    "An interesting fact about induction heads is that they generalise to arbitrary sequences of repeated tokens. We can see this by generating sequences of 50 random tokens, repeated twice, and plotting the average loss at predicting the next token, by position. We see that the model goes from terrible to very good at the halfway point."
   ]
  },
  {
   "cell_type": "code",
   "execution_count": 20,
   "metadata": {
    "id": "QUFe0HK-nJTz",
    "outputId": "aa6cc15b-7cb6-43c1-da94-a2bbc71e5f7a"
   },
   "outputs": [
    {
     "data": {
      "text/html": [
       "<html>\n",
       "<head><meta charset=\"utf-8\" /></head>\n",
       "<body>\n",
       "    <div>            <script src=\"https://cdnjs.cloudflare.com/ajax/libs/mathjax/2.7.5/MathJax.js?config=TeX-AMS-MML_SVG\"></script><script type=\"text/javascript\">if (window.MathJax && window.MathJax.Hub && window.MathJax.Hub.Config) {window.MathJax.Hub.Config({SVG: {font: \"STIX-Web\"}});}</script>                <script type=\"text/javascript\">window.PlotlyConfig = {MathJaxConfig: 'local'};</script>\n",
       "        <script charset=\"utf-8\" src=\"https://cdn.plot.ly/plotly-3.0.0.min.js\"></script>                <div id=\"abbc3af3-566a-4400-9b89-5aea31928c59\" class=\"plotly-graph-div\" style=\"height:525px; width:100%;\"></div>            <script type=\"text/javascript\">                window.PLOTLYENV=window.PLOTLYENV || {};                                if (document.getElementById(\"abbc3af3-566a-4400-9b89-5aea31928c59\")) {                    Plotly.newPlot(                        \"abbc3af3-566a-4400-9b89-5aea31928c59\",                        [{\"hovertemplate\":\"variable=0\\u003cbr\\u003eindex=%{x}\\u003cbr\\u003evalue=%{y}\\u003cextra\\u003e\\u003c\\u002fextra\\u003e\",\"legendgroup\":\"0\",\"line\":{\"color\":\"#636efa\",\"dash\":\"solid\"},\"marker\":{\"symbol\":\"circle\"},\"mode\":\"lines\",\"name\":\"0\",\"orientation\":\"v\",\"showlegend\":true,\"x\":{\"dtype\":\"i1\",\"bdata\":\"AAECAwQFBgcICQoLDA0ODxAREhMUFRYXGBkaGxwdHh8gISIjJCUmJygpKissLS4vMDEyMzQ1Njc4OTo7PD0+P0BBQkNERUZHSElKS0xNTk9QUVJTVFVWV1hZWltcXV5fYGFi\"},\"xaxis\":\"x\",\"y\":{\"dtype\":\"f4\",\"bdata\":\"8qw6Qb3nRUFno4JBUMxTQd9aT0EOcUpBDXhRQaDoWUEfS1xB2N5OQYoUN0Hz1z5Beyo8QRdrTkG9M0NBImo0QRikTUHAgzxBDzk7Qc0TREFxEUJBjrsvQRv+SkE\\u002fEDxB7nNHQScTNEHo5zRB0Xs0QWxiOUHv0TlBBxM1QaCVPEHjYzBBJ201Qe8CNkET8zFBO6g9QYI9N0EzGDxBc3oxQcIVPUE71TNBOpE1QbNKOkGGpkdBbY8fQTOhPEHwNDlBiUQxQYdKLEHnoDRAoEeqPyhxLD\\u002fZOgQ\\u002fgyDAPvOZWT6dTtQ+inaRPlBHeD47yhQ+QGZTPgiITz6UtSU+j8XxPVAUUT2duCM+UxmRPtVKwT12GxY+Gy7cPZcwtD27w5o+0PXqPsIWHT7Xo4U9D5GIPBhZuz1zZZc944q1Pb\\u002fxjj2tjd48gD9wPVi+XT2\\u002fFY08yykAPWGpjT0gKB49b4rcPe6SmT3898Y8OBhEPJHvnTxnJPQ8HkDDPZ\\u002fXHz04DUM9N4aZPRs6gT3p1Ug9\"},\"yaxis\":\"y\",\"type\":\"scatter\"}],                        {\"template\":{\"data\":{\"histogram2dcontour\":[{\"type\":\"histogram2dcontour\",\"colorbar\":{\"outlinewidth\":0,\"ticks\":\"\"},\"colorscale\":[[0.0,\"#0d0887\"],[0.1111111111111111,\"#46039f\"],[0.2222222222222222,\"#7201a8\"],[0.3333333333333333,\"#9c179e\"],[0.4444444444444444,\"#bd3786\"],[0.5555555555555556,\"#d8576b\"],[0.6666666666666666,\"#ed7953\"],[0.7777777777777778,\"#fb9f3a\"],[0.8888888888888888,\"#fdca26\"],[1.0,\"#f0f921\"]]}],\"choropleth\":[{\"type\":\"choropleth\",\"colorbar\":{\"outlinewidth\":0,\"ticks\":\"\"}}],\"histogram2d\":[{\"type\":\"histogram2d\",\"colorbar\":{\"outlinewidth\":0,\"ticks\":\"\"},\"colorscale\":[[0.0,\"#0d0887\"],[0.1111111111111111,\"#46039f\"],[0.2222222222222222,\"#7201a8\"],[0.3333333333333333,\"#9c179e\"],[0.4444444444444444,\"#bd3786\"],[0.5555555555555556,\"#d8576b\"],[0.6666666666666666,\"#ed7953\"],[0.7777777777777778,\"#fb9f3a\"],[0.8888888888888888,\"#fdca26\"],[1.0,\"#f0f921\"]]}],\"heatmap\":[{\"type\":\"heatmap\",\"colorbar\":{\"outlinewidth\":0,\"ticks\":\"\"},\"colorscale\":[[0.0,\"#0d0887\"],[0.1111111111111111,\"#46039f\"],[0.2222222222222222,\"#7201a8\"],[0.3333333333333333,\"#9c179e\"],[0.4444444444444444,\"#bd3786\"],[0.5555555555555556,\"#d8576b\"],[0.6666666666666666,\"#ed7953\"],[0.7777777777777778,\"#fb9f3a\"],[0.8888888888888888,\"#fdca26\"],[1.0,\"#f0f921\"]]}],\"contourcarpet\":[{\"type\":\"contourcarpet\",\"colorbar\":{\"outlinewidth\":0,\"ticks\":\"\"}}],\"contour\":[{\"type\":\"contour\",\"colorbar\":{\"outlinewidth\":0,\"ticks\":\"\"},\"colorscale\":[[0.0,\"#0d0887\"],[0.1111111111111111,\"#46039f\"],[0.2222222222222222,\"#7201a8\"],[0.3333333333333333,\"#9c179e\"],[0.4444444444444444,\"#bd3786\"],[0.5555555555555556,\"#d8576b\"],[0.6666666666666666,\"#ed7953\"],[0.7777777777777778,\"#fb9f3a\"],[0.8888888888888888,\"#fdca26\"],[1.0,\"#f0f921\"]]}],\"surface\":[{\"type\":\"surface\",\"colorbar\":{\"outlinewidth\":0,\"ticks\":\"\"},\"colorscale\":[[0.0,\"#0d0887\"],[0.1111111111111111,\"#46039f\"],[0.2222222222222222,\"#7201a8\"],[0.3333333333333333,\"#9c179e\"],[0.4444444444444444,\"#bd3786\"],[0.5555555555555556,\"#d8576b\"],[0.6666666666666666,\"#ed7953\"],[0.7777777777777778,\"#fb9f3a\"],[0.8888888888888888,\"#fdca26\"],[1.0,\"#f0f921\"]]}],\"mesh3d\":[{\"type\":\"mesh3d\",\"colorbar\":{\"outlinewidth\":0,\"ticks\":\"\"}}],\"scatter\":[{\"fillpattern\":{\"fillmode\":\"overlay\",\"size\":10,\"solidity\":0.2},\"type\":\"scatter\"}],\"parcoords\":[{\"type\":\"parcoords\",\"line\":{\"colorbar\":{\"outlinewidth\":0,\"ticks\":\"\"}}}],\"scatterpolargl\":[{\"type\":\"scatterpolargl\",\"marker\":{\"colorbar\":{\"outlinewidth\":0,\"ticks\":\"\"}}}],\"bar\":[{\"error_x\":{\"color\":\"#2a3f5f\"},\"error_y\":{\"color\":\"#2a3f5f\"},\"marker\":{\"line\":{\"color\":\"#E5ECF6\",\"width\":0.5},\"pattern\":{\"fillmode\":\"overlay\",\"size\":10,\"solidity\":0.2}},\"type\":\"bar\"}],\"scattergeo\":[{\"type\":\"scattergeo\",\"marker\":{\"colorbar\":{\"outlinewidth\":0,\"ticks\":\"\"}}}],\"scatterpolar\":[{\"type\":\"scatterpolar\",\"marker\":{\"colorbar\":{\"outlinewidth\":0,\"ticks\":\"\"}}}],\"histogram\":[{\"marker\":{\"pattern\":{\"fillmode\":\"overlay\",\"size\":10,\"solidity\":0.2}},\"type\":\"histogram\"}],\"scattergl\":[{\"type\":\"scattergl\",\"marker\":{\"colorbar\":{\"outlinewidth\":0,\"ticks\":\"\"}}}],\"scatter3d\":[{\"type\":\"scatter3d\",\"line\":{\"colorbar\":{\"outlinewidth\":0,\"ticks\":\"\"}},\"marker\":{\"colorbar\":{\"outlinewidth\":0,\"ticks\":\"\"}}}],\"scattermap\":[{\"type\":\"scattermap\",\"marker\":{\"colorbar\":{\"outlinewidth\":0,\"ticks\":\"\"}}}],\"scattermapbox\":[{\"type\":\"scattermapbox\",\"marker\":{\"colorbar\":{\"outlinewidth\":0,\"ticks\":\"\"}}}],\"scatterternary\":[{\"type\":\"scatterternary\",\"marker\":{\"colorbar\":{\"outlinewidth\":0,\"ticks\":\"\"}}}],\"scattercarpet\":[{\"type\":\"scattercarpet\",\"marker\":{\"colorbar\":{\"outlinewidth\":0,\"ticks\":\"\"}}}],\"carpet\":[{\"aaxis\":{\"endlinecolor\":\"#2a3f5f\",\"gridcolor\":\"white\",\"linecolor\":\"white\",\"minorgridcolor\":\"white\",\"startlinecolor\":\"#2a3f5f\"},\"baxis\":{\"endlinecolor\":\"#2a3f5f\",\"gridcolor\":\"white\",\"linecolor\":\"white\",\"minorgridcolor\":\"white\",\"startlinecolor\":\"#2a3f5f\"},\"type\":\"carpet\"}],\"table\":[{\"cells\":{\"fill\":{\"color\":\"#EBF0F8\"},\"line\":{\"color\":\"white\"}},\"header\":{\"fill\":{\"color\":\"#C8D4E3\"},\"line\":{\"color\":\"white\"}},\"type\":\"table\"}],\"barpolar\":[{\"marker\":{\"line\":{\"color\":\"#E5ECF6\",\"width\":0.5},\"pattern\":{\"fillmode\":\"overlay\",\"size\":10,\"solidity\":0.2}},\"type\":\"barpolar\"}],\"pie\":[{\"automargin\":true,\"type\":\"pie\"}]},\"layout\":{\"autotypenumbers\":\"strict\",\"colorway\":[\"#636efa\",\"#EF553B\",\"#00cc96\",\"#ab63fa\",\"#FFA15A\",\"#19d3f3\",\"#FF6692\",\"#B6E880\",\"#FF97FF\",\"#FECB52\"],\"font\":{\"color\":\"#2a3f5f\"},\"hovermode\":\"closest\",\"hoverlabel\":{\"align\":\"left\"},\"paper_bgcolor\":\"white\",\"plot_bgcolor\":\"#E5ECF6\",\"polar\":{\"bgcolor\":\"#E5ECF6\",\"angularaxis\":{\"gridcolor\":\"white\",\"linecolor\":\"white\",\"ticks\":\"\"},\"radialaxis\":{\"gridcolor\":\"white\",\"linecolor\":\"white\",\"ticks\":\"\"}},\"ternary\":{\"bgcolor\":\"#E5ECF6\",\"aaxis\":{\"gridcolor\":\"white\",\"linecolor\":\"white\",\"ticks\":\"\"},\"baxis\":{\"gridcolor\":\"white\",\"linecolor\":\"white\",\"ticks\":\"\"},\"caxis\":{\"gridcolor\":\"white\",\"linecolor\":\"white\",\"ticks\":\"\"}},\"coloraxis\":{\"colorbar\":{\"outlinewidth\":0,\"ticks\":\"\"}},\"colorscale\":{\"sequential\":[[0.0,\"#0d0887\"],[0.1111111111111111,\"#46039f\"],[0.2222222222222222,\"#7201a8\"],[0.3333333333333333,\"#9c179e\"],[0.4444444444444444,\"#bd3786\"],[0.5555555555555556,\"#d8576b\"],[0.6666666666666666,\"#ed7953\"],[0.7777777777777778,\"#fb9f3a\"],[0.8888888888888888,\"#fdca26\"],[1.0,\"#f0f921\"]],\"sequentialminus\":[[0.0,\"#0d0887\"],[0.1111111111111111,\"#46039f\"],[0.2222222222222222,\"#7201a8\"],[0.3333333333333333,\"#9c179e\"],[0.4444444444444444,\"#bd3786\"],[0.5555555555555556,\"#d8576b\"],[0.6666666666666666,\"#ed7953\"],[0.7777777777777778,\"#fb9f3a\"],[0.8888888888888888,\"#fdca26\"],[1.0,\"#f0f921\"]],\"diverging\":[[0,\"#8e0152\"],[0.1,\"#c51b7d\"],[0.2,\"#de77ae\"],[0.3,\"#f1b6da\"],[0.4,\"#fde0ef\"],[0.5,\"#f7f7f7\"],[0.6,\"#e6f5d0\"],[0.7,\"#b8e186\"],[0.8,\"#7fbc41\"],[0.9,\"#4d9221\"],[1,\"#276419\"]]},\"xaxis\":{\"gridcolor\":\"white\",\"linecolor\":\"white\",\"ticks\":\"\",\"title\":{\"standoff\":15},\"zerolinecolor\":\"white\",\"automargin\":true,\"zerolinewidth\":2},\"yaxis\":{\"gridcolor\":\"white\",\"linecolor\":\"white\",\"ticks\":\"\",\"title\":{\"standoff\":15},\"zerolinecolor\":\"white\",\"automargin\":true,\"zerolinewidth\":2},\"scene\":{\"xaxis\":{\"backgroundcolor\":\"#E5ECF6\",\"gridcolor\":\"white\",\"linecolor\":\"white\",\"showbackground\":true,\"ticks\":\"\",\"zerolinecolor\":\"white\",\"gridwidth\":2},\"yaxis\":{\"backgroundcolor\":\"#E5ECF6\",\"gridcolor\":\"white\",\"linecolor\":\"white\",\"showbackground\":true,\"ticks\":\"\",\"zerolinecolor\":\"white\",\"gridwidth\":2},\"zaxis\":{\"backgroundcolor\":\"#E5ECF6\",\"gridcolor\":\"white\",\"linecolor\":\"white\",\"showbackground\":true,\"ticks\":\"\",\"zerolinecolor\":\"white\",\"gridwidth\":2}},\"shapedefaults\":{\"line\":{\"color\":\"#2a3f5f\"}},\"annotationdefaults\":{\"arrowcolor\":\"#2a3f5f\",\"arrowhead\":0,\"arrowwidth\":1},\"geo\":{\"bgcolor\":\"white\",\"landcolor\":\"#E5ECF6\",\"subunitcolor\":\"white\",\"showland\":true,\"showlakes\":true,\"lakecolor\":\"white\"},\"title\":{\"x\":0.05},\"mapbox\":{\"style\":\"light\"}}},\"xaxis\":{\"anchor\":\"y\",\"domain\":[0.0,1.0],\"title\":{\"text\":\"index\"}},\"yaxis\":{\"anchor\":\"x\",\"domain\":[0.0,1.0],\"title\":{\"text\":\"value\"}},\"legend\":{\"title\":{\"text\":\"variable\"},\"tracegroupgap\":0},\"title\":{\"text\":\"Loss by position on random repeated tokens\"}},                        {\"responsive\": true}                    ).then(function(){\n",
       "                            \n",
       "var gd = document.getElementById('abbc3af3-566a-4400-9b89-5aea31928c59');\n",
       "var x = new MutationObserver(function (mutations, observer) {{\n",
       "        var display = window.getComputedStyle(gd).display;\n",
       "        if (!display || display === 'none') {{\n",
       "            console.log([gd, 'removed!']);\n",
       "            Plotly.purge(gd);\n",
       "            observer.disconnect();\n",
       "        }}\n",
       "}});\n",
       "\n",
       "// Listen for the removal of the full notebook cells\n",
       "var notebookContainer = gd.closest('#notebook-container');\n",
       "if (notebookContainer) {{\n",
       "    x.observe(notebookContainer, {childList: true});\n",
       "}}\n",
       "\n",
       "// Listen for the clearing of the current output cell\n",
       "var outputEl = gd.closest('.output');\n",
       "if (outputEl) {{\n",
       "    x.observe(outputEl, {childList: true});\n",
       "}}\n",
       "\n",
       "                        })                };            </script>        </div>\n",
       "</body>\n",
       "</html>"
      ]
     },
     "metadata": {},
     "output_type": "display_data"
    }
   ],
   "source": [
    "batch_size = 10\n",
    "seq_len = 50\n",
    "size = (batch_size, seq_len)\n",
    "input_tensor = torch.randint(1000, 10000, size)\n",
    "\n",
    "random_tokens = input_tensor.to(model.cfg.device)\n",
    "repeated_tokens = einops.repeat(random_tokens, \"batch seq_len -> batch (2 seq_len)\")\n",
    "repeated_logits = model(repeated_tokens)\n",
    "correct_log_probs = model.loss_fn(repeated_logits, repeated_tokens, per_token=True)\n",
    "loss_by_position = einops.reduce(correct_log_probs, \"batch position -> position\", \"mean\")\n",
    "line(loss_by_position, xaxis=\"Position\", yaxis=\"Loss\", title=\"Loss by position on random repeated tokens\")"
   ]
  },
  {
   "cell_type": "markdown",
   "metadata": {
    "id": "nGWtKKgMnJTz"
   },
   "source": [
    "The induction heads will be attending from the second occurrence of each token to the token *after* its first occurrence, ie the token `50-1==49` places back. So by looking at the average attention paid 49 tokens back, we can identify induction heads! Let's define a hook to do this!\n",
    "\n",
    "<details><summary>Technical details</summary>\n",
    "\n",
    "* We attach the hook to the attention pattern activation. There's one big pattern activation per layer, stacked across all heads, so we need to do some tensor manipulation to get a per-head score.\n",
    "* Hook functions can access global state, so we make a big tensor to store the induction head score for each head, and then we just add the score for each head to the appropriate position in the tensor.\n",
    "* To get a single hook function that works for each layer, we use the `hook.layer()` method to get the layer index (internally this is just inferred from the hook names).\n",
    "* As we want to add this to *every* activation pattern hook point, rather than giving the string for an activation name, this time we give a **name filter**. This is a Boolean function on hook point names, and it adds the hook function to every hook point where the function evaluates as true.\n",
    "    * `run_with_hooks` allows us to enter a list of (act_name, hook_function) pairs to all be added at once, so we could also have done this by inputting a list with a hook for each layer.\n",
    "</details>"
   ]
  },
  {
   "cell_type": "code",
   "execution_count": 21,
   "metadata": {
    "id": "uJ651DFhnJTz",
    "outputId": "a7efe217-1e1e-4e56-cfc4-cecc960d7472"
   },
   "outputs": [
    {
     "data": {
      "text/html": [
       "<html>\n",
       "<head><meta charset=\"utf-8\" /></head>\n",
       "<body>\n",
       "    <div>            <script src=\"https://cdnjs.cloudflare.com/ajax/libs/mathjax/2.7.5/MathJax.js?config=TeX-AMS-MML_SVG\"></script><script type=\"text/javascript\">if (window.MathJax && window.MathJax.Hub && window.MathJax.Hub.Config) {window.MathJax.Hub.Config({SVG: {font: \"STIX-Web\"}});}</script>                <script type=\"text/javascript\">window.PlotlyConfig = {MathJaxConfig: 'local'};</script>\n",
       "        <script charset=\"utf-8\" src=\"https://cdn.plot.ly/plotly-3.0.0.min.js\"></script>                <div id=\"a7832dd5-5aca-4250-afda-71003d65beb3\" class=\"plotly-graph-div\" style=\"height:525px; width:100%;\"></div>            <script type=\"text/javascript\">                window.PLOTLYENV=window.PLOTLYENV || {};                                if (document.getElementById(\"a7832dd5-5aca-4250-afda-71003d65beb3\")) {                    Plotly.newPlot(                        \"a7832dd5-5aca-4250-afda-71003d65beb3\",                        [{\"coloraxis\":\"coloraxis\",\"name\":\"0\",\"z\":{\"dtype\":\"f4\",\"bdata\":\"5n0kPMCoxjisfyo8Pw2jN+YBhDm+fRc5lUgYPOQESTqg3hU80d4SPGj74DvJQ3Y8XqQIOumg0jkR6Qg7sfRrPC9UojsouTY8RpWJPO4cVTwF7FA8W5SEPCfc0jsOOwQ6I+h9O1Xtojz73JQ6cEZ4OsoyTzzjYgo7EvGuOzuaDDxD70E7iWqnOvgJLzo\\u002fOyo81VSFPFd2\\u002fjunq8w6FWMaPClguDz4cHM84G7IOqBRqzoc2MQ7btlWPCkPCDwfPNI7no1pPLcnczyYdn48G44EPEVglTxWr1s8ae4ZPCrh5jpMAWw8d7J4PNpPlDwekVMuh3LjPpsvaz\\u002f3jXM8B7sEPKkXVzwAP2w\\u002f70UvPCt1kTyjcNQ8OwzSPPB+nDw+TZI82lQjPAbliTwFKJs8bopzPCO2uTzRHT48iE\\u002frPHccTTx73Qk81YxqP+7rBD3X6Gk80zkwPFCdMz6Q11o\\u002fil2TPEAPlzz5FYw81FM1PWxLtj1LkI08CCGePCa5aT+06G497XyLPOOHyj7rGnI8pJJJPTiKkzwFkm88mToiPo+YUDx1uAk99K8JPXrEiz2\\u002fkrg8vMyBPmtyRT5LwN49Ln1FPLAFxz3Xf9k8z3npPkBe9zweGUA9WHvxPnVwjTyiYSg9Lq2vPsSFAT\\u002fiIR09uHoaPilCgz2d6Ig8Ob2dPpEA9j5J8Do9ohV1PKYLJj6PWoI+ISCaPFbrWj3VVBM9jtk6PNPMFT03XMw9HwxPPTRLjT1a8R48VaiePi5bzT6\\u002fhdM8\",\"shape\":\"12, 12\"},\"type\":\"heatmap\",\"xaxis\":\"x\",\"yaxis\":\"y\",\"hovertemplate\":\"Head: %{x}\\u003cbr\\u003eLayer: %{y}\\u003cbr\\u003ecolor: %{z}\\u003cextra\\u003e\\u003c\\u002fextra\\u003e\"}],                        {\"template\":{\"data\":{\"histogram2dcontour\":[{\"type\":\"histogram2dcontour\",\"colorbar\":{\"outlinewidth\":0,\"ticks\":\"\"},\"colorscale\":[[0.0,\"#0d0887\"],[0.1111111111111111,\"#46039f\"],[0.2222222222222222,\"#7201a8\"],[0.3333333333333333,\"#9c179e\"],[0.4444444444444444,\"#bd3786\"],[0.5555555555555556,\"#d8576b\"],[0.6666666666666666,\"#ed7953\"],[0.7777777777777778,\"#fb9f3a\"],[0.8888888888888888,\"#fdca26\"],[1.0,\"#f0f921\"]]}],\"choropleth\":[{\"type\":\"choropleth\",\"colorbar\":{\"outlinewidth\":0,\"ticks\":\"\"}}],\"histogram2d\":[{\"type\":\"histogram2d\",\"colorbar\":{\"outlinewidth\":0,\"ticks\":\"\"},\"colorscale\":[[0.0,\"#0d0887\"],[0.1111111111111111,\"#46039f\"],[0.2222222222222222,\"#7201a8\"],[0.3333333333333333,\"#9c179e\"],[0.4444444444444444,\"#bd3786\"],[0.5555555555555556,\"#d8576b\"],[0.6666666666666666,\"#ed7953\"],[0.7777777777777778,\"#fb9f3a\"],[0.8888888888888888,\"#fdca26\"],[1.0,\"#f0f921\"]]}],\"heatmap\":[{\"type\":\"heatmap\",\"colorbar\":{\"outlinewidth\":0,\"ticks\":\"\"},\"colorscale\":[[0.0,\"#0d0887\"],[0.1111111111111111,\"#46039f\"],[0.2222222222222222,\"#7201a8\"],[0.3333333333333333,\"#9c179e\"],[0.4444444444444444,\"#bd3786\"],[0.5555555555555556,\"#d8576b\"],[0.6666666666666666,\"#ed7953\"],[0.7777777777777778,\"#fb9f3a\"],[0.8888888888888888,\"#fdca26\"],[1.0,\"#f0f921\"]]}],\"contourcarpet\":[{\"type\":\"contourcarpet\",\"colorbar\":{\"outlinewidth\":0,\"ticks\":\"\"}}],\"contour\":[{\"type\":\"contour\",\"colorbar\":{\"outlinewidth\":0,\"ticks\":\"\"},\"colorscale\":[[0.0,\"#0d0887\"],[0.1111111111111111,\"#46039f\"],[0.2222222222222222,\"#7201a8\"],[0.3333333333333333,\"#9c179e\"],[0.4444444444444444,\"#bd3786\"],[0.5555555555555556,\"#d8576b\"],[0.6666666666666666,\"#ed7953\"],[0.7777777777777778,\"#fb9f3a\"],[0.8888888888888888,\"#fdca26\"],[1.0,\"#f0f921\"]]}],\"surface\":[{\"type\":\"surface\",\"colorbar\":{\"outlinewidth\":0,\"ticks\":\"\"},\"colorscale\":[[0.0,\"#0d0887\"],[0.1111111111111111,\"#46039f\"],[0.2222222222222222,\"#7201a8\"],[0.3333333333333333,\"#9c179e\"],[0.4444444444444444,\"#bd3786\"],[0.5555555555555556,\"#d8576b\"],[0.6666666666666666,\"#ed7953\"],[0.7777777777777778,\"#fb9f3a\"],[0.8888888888888888,\"#fdca26\"],[1.0,\"#f0f921\"]]}],\"mesh3d\":[{\"type\":\"mesh3d\",\"colorbar\":{\"outlinewidth\":0,\"ticks\":\"\"}}],\"scatter\":[{\"fillpattern\":{\"fillmode\":\"overlay\",\"size\":10,\"solidity\":0.2},\"type\":\"scatter\"}],\"parcoords\":[{\"type\":\"parcoords\",\"line\":{\"colorbar\":{\"outlinewidth\":0,\"ticks\":\"\"}}}],\"scatterpolargl\":[{\"type\":\"scatterpolargl\",\"marker\":{\"colorbar\":{\"outlinewidth\":0,\"ticks\":\"\"}}}],\"bar\":[{\"error_x\":{\"color\":\"#2a3f5f\"},\"error_y\":{\"color\":\"#2a3f5f\"},\"marker\":{\"line\":{\"color\":\"#E5ECF6\",\"width\":0.5},\"pattern\":{\"fillmode\":\"overlay\",\"size\":10,\"solidity\":0.2}},\"type\":\"bar\"}],\"scattergeo\":[{\"type\":\"scattergeo\",\"marker\":{\"colorbar\":{\"outlinewidth\":0,\"ticks\":\"\"}}}],\"scatterpolar\":[{\"type\":\"scatterpolar\",\"marker\":{\"colorbar\":{\"outlinewidth\":0,\"ticks\":\"\"}}}],\"histogram\":[{\"marker\":{\"pattern\":{\"fillmode\":\"overlay\",\"size\":10,\"solidity\":0.2}},\"type\":\"histogram\"}],\"scattergl\":[{\"type\":\"scattergl\",\"marker\":{\"colorbar\":{\"outlinewidth\":0,\"ticks\":\"\"}}}],\"scatter3d\":[{\"type\":\"scatter3d\",\"line\":{\"colorbar\":{\"outlinewidth\":0,\"ticks\":\"\"}},\"marker\":{\"colorbar\":{\"outlinewidth\":0,\"ticks\":\"\"}}}],\"scattermap\":[{\"type\":\"scattermap\",\"marker\":{\"colorbar\":{\"outlinewidth\":0,\"ticks\":\"\"}}}],\"scattermapbox\":[{\"type\":\"scattermapbox\",\"marker\":{\"colorbar\":{\"outlinewidth\":0,\"ticks\":\"\"}}}],\"scatterternary\":[{\"type\":\"scatterternary\",\"marker\":{\"colorbar\":{\"outlinewidth\":0,\"ticks\":\"\"}}}],\"scattercarpet\":[{\"type\":\"scattercarpet\",\"marker\":{\"colorbar\":{\"outlinewidth\":0,\"ticks\":\"\"}}}],\"carpet\":[{\"aaxis\":{\"endlinecolor\":\"#2a3f5f\",\"gridcolor\":\"white\",\"linecolor\":\"white\",\"minorgridcolor\":\"white\",\"startlinecolor\":\"#2a3f5f\"},\"baxis\":{\"endlinecolor\":\"#2a3f5f\",\"gridcolor\":\"white\",\"linecolor\":\"white\",\"minorgridcolor\":\"white\",\"startlinecolor\":\"#2a3f5f\"},\"type\":\"carpet\"}],\"table\":[{\"cells\":{\"fill\":{\"color\":\"#EBF0F8\"},\"line\":{\"color\":\"white\"}},\"header\":{\"fill\":{\"color\":\"#C8D4E3\"},\"line\":{\"color\":\"white\"}},\"type\":\"table\"}],\"barpolar\":[{\"marker\":{\"line\":{\"color\":\"#E5ECF6\",\"width\":0.5},\"pattern\":{\"fillmode\":\"overlay\",\"size\":10,\"solidity\":0.2}},\"type\":\"barpolar\"}],\"pie\":[{\"automargin\":true,\"type\":\"pie\"}]},\"layout\":{\"autotypenumbers\":\"strict\",\"colorway\":[\"#636efa\",\"#EF553B\",\"#00cc96\",\"#ab63fa\",\"#FFA15A\",\"#19d3f3\",\"#FF6692\",\"#B6E880\",\"#FF97FF\",\"#FECB52\"],\"font\":{\"color\":\"#2a3f5f\"},\"hovermode\":\"closest\",\"hoverlabel\":{\"align\":\"left\"},\"paper_bgcolor\":\"white\",\"plot_bgcolor\":\"#E5ECF6\",\"polar\":{\"bgcolor\":\"#E5ECF6\",\"angularaxis\":{\"gridcolor\":\"white\",\"linecolor\":\"white\",\"ticks\":\"\"},\"radialaxis\":{\"gridcolor\":\"white\",\"linecolor\":\"white\",\"ticks\":\"\"}},\"ternary\":{\"bgcolor\":\"#E5ECF6\",\"aaxis\":{\"gridcolor\":\"white\",\"linecolor\":\"white\",\"ticks\":\"\"},\"baxis\":{\"gridcolor\":\"white\",\"linecolor\":\"white\",\"ticks\":\"\"},\"caxis\":{\"gridcolor\":\"white\",\"linecolor\":\"white\",\"ticks\":\"\"}},\"coloraxis\":{\"colorbar\":{\"outlinewidth\":0,\"ticks\":\"\"}},\"colorscale\":{\"sequential\":[[0.0,\"#0d0887\"],[0.1111111111111111,\"#46039f\"],[0.2222222222222222,\"#7201a8\"],[0.3333333333333333,\"#9c179e\"],[0.4444444444444444,\"#bd3786\"],[0.5555555555555556,\"#d8576b\"],[0.6666666666666666,\"#ed7953\"],[0.7777777777777778,\"#fb9f3a\"],[0.8888888888888888,\"#fdca26\"],[1.0,\"#f0f921\"]],\"sequentialminus\":[[0.0,\"#0d0887\"],[0.1111111111111111,\"#46039f\"],[0.2222222222222222,\"#7201a8\"],[0.3333333333333333,\"#9c179e\"],[0.4444444444444444,\"#bd3786\"],[0.5555555555555556,\"#d8576b\"],[0.6666666666666666,\"#ed7953\"],[0.7777777777777778,\"#fb9f3a\"],[0.8888888888888888,\"#fdca26\"],[1.0,\"#f0f921\"]],\"diverging\":[[0,\"#8e0152\"],[0.1,\"#c51b7d\"],[0.2,\"#de77ae\"],[0.3,\"#f1b6da\"],[0.4,\"#fde0ef\"],[0.5,\"#f7f7f7\"],[0.6,\"#e6f5d0\"],[0.7,\"#b8e186\"],[0.8,\"#7fbc41\"],[0.9,\"#4d9221\"],[1,\"#276419\"]]},\"xaxis\":{\"gridcolor\":\"white\",\"linecolor\":\"white\",\"ticks\":\"\",\"title\":{\"standoff\":15},\"zerolinecolor\":\"white\",\"automargin\":true,\"zerolinewidth\":2},\"yaxis\":{\"gridcolor\":\"white\",\"linecolor\":\"white\",\"ticks\":\"\",\"title\":{\"standoff\":15},\"zerolinecolor\":\"white\",\"automargin\":true,\"zerolinewidth\":2},\"scene\":{\"xaxis\":{\"backgroundcolor\":\"#E5ECF6\",\"gridcolor\":\"white\",\"linecolor\":\"white\",\"showbackground\":true,\"ticks\":\"\",\"zerolinecolor\":\"white\",\"gridwidth\":2},\"yaxis\":{\"backgroundcolor\":\"#E5ECF6\",\"gridcolor\":\"white\",\"linecolor\":\"white\",\"showbackground\":true,\"ticks\":\"\",\"zerolinecolor\":\"white\",\"gridwidth\":2},\"zaxis\":{\"backgroundcolor\":\"#E5ECF6\",\"gridcolor\":\"white\",\"linecolor\":\"white\",\"showbackground\":true,\"ticks\":\"\",\"zerolinecolor\":\"white\",\"gridwidth\":2}},\"shapedefaults\":{\"line\":{\"color\":\"#2a3f5f\"}},\"annotationdefaults\":{\"arrowcolor\":\"#2a3f5f\",\"arrowhead\":0,\"arrowwidth\":1},\"geo\":{\"bgcolor\":\"white\",\"landcolor\":\"#E5ECF6\",\"subunitcolor\":\"white\",\"showland\":true,\"showlakes\":true,\"lakecolor\":\"white\"},\"title\":{\"x\":0.05},\"mapbox\":{\"style\":\"light\"}}},\"xaxis\":{\"anchor\":\"y\",\"domain\":[0.0,1.0],\"scaleanchor\":\"y\",\"constrain\":\"domain\",\"title\":{\"text\":\"Head\"}},\"yaxis\":{\"anchor\":\"x\",\"domain\":[0.0,1.0],\"autorange\":\"reversed\",\"constrain\":\"domain\",\"title\":{\"text\":\"Layer\"}},\"coloraxis\":{\"colorscale\":[[0.0,\"rgb(103,0,31)\"],[0.1,\"rgb(178,24,43)\"],[0.2,\"rgb(214,96,77)\"],[0.3,\"rgb(244,165,130)\"],[0.4,\"rgb(253,219,199)\"],[0.5,\"rgb(247,247,247)\"],[0.6,\"rgb(209,229,240)\"],[0.7,\"rgb(146,197,222)\"],[0.8,\"rgb(67,147,195)\"],[0.9,\"rgb(33,102,172)\"],[1.0,\"rgb(5,48,97)\"]],\"cmid\":0.0},\"title\":{\"text\":\"Induction Score by Head\"}},                        {\"responsive\": true}                    ).then(function(){\n",
       "                            \n",
       "var gd = document.getElementById('a7832dd5-5aca-4250-afda-71003d65beb3');\n",
       "var x = new MutationObserver(function (mutations, observer) {{\n",
       "        var display = window.getComputedStyle(gd).display;\n",
       "        if (!display || display === 'none') {{\n",
       "            console.log([gd, 'removed!']);\n",
       "            Plotly.purge(gd);\n",
       "            observer.disconnect();\n",
       "        }}\n",
       "}});\n",
       "\n",
       "// Listen for the removal of the full notebook cells\n",
       "var notebookContainer = gd.closest('#notebook-container');\n",
       "if (notebookContainer) {{\n",
       "    x.observe(notebookContainer, {childList: true});\n",
       "}}\n",
       "\n",
       "// Listen for the clearing of the current output cell\n",
       "var outputEl = gd.closest('.output');\n",
       "if (outputEl) {{\n",
       "    x.observe(outputEl, {childList: true});\n",
       "}}\n",
       "\n",
       "                        })                };            </script>        </div>\n",
       "</body>\n",
       "</html>"
      ]
     },
     "metadata": {},
     "output_type": "display_data"
    }
   ],
   "source": [
    "# We make a tensor to store the induction score for each head. We put it on the model's device to avoid needing to move things between the GPU and CPU, which can be slow.\n",
    "induction_score_store = torch.zeros((model.cfg.n_layers, model.cfg.n_heads), device=model.cfg.device)\n",
    "def induction_score_hook(\n",
    "    pattern: Float[torch.Tensor, \"batch head_index dest_pos source_pos\"],\n",
    "    hook: HookPoint,\n",
    "):\n",
    "    # We take the diagonal of attention paid from each destination position to source positions seq_len-1 tokens back\n",
    "    # (This only has entries for tokens with index>=seq_len)\n",
    "    induction_stripe = pattern.diagonal(dim1=-2, dim2=-1, offset=1-seq_len)\n",
    "    # Get an average score per head\n",
    "    induction_score = einops.reduce(induction_stripe, \"batch head_index position -> head_index\", \"mean\")\n",
    "    # Store the result.\n",
    "    induction_score_store[hook.layer(), :] = induction_score\n",
    "\n",
    "# We make a boolean filter on activation names, that's true only on attention pattern names.\n",
    "pattern_hook_names_filter = lambda name: name.endswith(\"pattern\")\n",
    "\n",
    "model.run_with_hooks(\n",
    "    repeated_tokens,\n",
    "    return_type=None, # For efficiency, we don't need to calculate the logits\n",
    "    fwd_hooks=[(\n",
    "        pattern_hook_names_filter,\n",
    "        induction_score_hook\n",
    "    )]\n",
    ")\n",
    "\n",
    "imshow(induction_score_store, xaxis=\"Head\", yaxis=\"Layer\", title=\"Induction Score by Head\")"
   ]
  },
  {
   "cell_type": "markdown",
   "metadata": {
    "id": "PKIjNL8mnJTz"
   },
   "source": [
    "Head 5 in Layer 5 scores extremely highly on this score, and we can feed in a shorter repeated random sequence, visualize the attention pattern for it and see this directly - including the \"induction stripe\" at `seq_len-1` tokens back.\n",
    "\n",
    "This time we put in a hook on the attention pattern activation to visualize the pattern of the relevant head."
   ]
  },
  {
   "cell_type": "code",
   "execution_count": 22,
   "metadata": {
    "id": "uo4rQPBXnJTz",
    "outputId": "3654055b-cded-43cd-f343-619bcd3287cc"
   },
   "outputs": [
    {
     "data": {
      "text/html": [
       "<div id=\"circuits-vis-efe99608-ed7b\" style=\"margin: 15px 0;\"/>\n",
       "    <script crossorigin type=\"module\">\n",
       "    import { render, AttentionPatterns } from \"https://unpkg.com/circuitsvis@1.43.3/dist/cdn/esm.js\";\n",
       "    render(\n",
       "      \"circuits-vis-efe99608-ed7b\",\n",
       "      AttentionPatterns,\n",
       "      {\"tokens\": [\" standard\", \" display\", \" SH\", \" Sund\", \" vill\", \"ags\", \" Cont\", \"rael\", \" deck\", \" capital\", \" THE\", \"iture\", \" phenomen\", \" Prince\", \"rehens\", \" Yeah\", \" temporary\", \" explore\", \" Navy\", \" Protection\", \" standard\", \" display\", \" SH\", \" Sund\", \" vill\", \"ags\", \" Cont\", \"rael\", \" deck\", \" capital\", \" THE\", \"iture\", \" phenomen\", \" Prince\", \"rehens\", \" Yeah\", \" temporary\", \" explore\", \" Navy\", \" Protection\"], \"attention\": [[[1.0, 0.0, 0.0, 0.0, 0.0, 0.0, 0.0, 0.0, 0.0, 0.0, 0.0, 0.0, 0.0, 0.0, 0.0, 0.0, 0.0, 0.0, 0.0, 0.0, 0.0, 0.0, 0.0, 0.0, 0.0, 0.0, 0.0, 0.0, 0.0, 0.0, 0.0, 0.0, 0.0, 0.0, 0.0, 0.0, 0.0, 0.0, 0.0, 0.0], [0.9981710910797119, 0.001828905544243753, 0.0, 0.0, 0.0, 0.0, 0.0, 0.0, 0.0, 0.0, 0.0, 0.0, 0.0, 0.0, 0.0, 0.0, 0.0, 0.0, 0.0, 0.0, 0.0, 0.0, 0.0, 0.0, 0.0, 0.0, 0.0, 0.0, 0.0, 0.0, 0.0, 0.0, 0.0, 0.0, 0.0, 0.0, 0.0, 0.0, 0.0, 0.0], [0.9994363188743591, 2.4209619368775748e-05, 0.0005395018379203975, 0.0, 0.0, 0.0, 0.0, 0.0, 0.0, 0.0, 0.0, 0.0, 0.0, 0.0, 0.0, 0.0, 0.0, 0.0, 0.0, 0.0, 0.0, 0.0, 0.0, 0.0, 0.0, 0.0, 0.0, 0.0, 0.0, 0.0, 0.0, 0.0, 0.0, 0.0, 0.0, 0.0, 0.0, 0.0, 0.0, 0.0], [0.9840506911277771, 0.00028317462420091033, 0.0014256699942052364, 0.014240449294447899, 0.0, 0.0, 0.0, 0.0, 0.0, 0.0, 0.0, 0.0, 0.0, 0.0, 0.0, 0.0, 0.0, 0.0, 0.0, 0.0, 0.0, 0.0, 0.0, 0.0, 0.0, 0.0, 0.0, 0.0, 0.0, 0.0, 0.0, 0.0, 0.0, 0.0, 0.0, 0.0, 0.0, 0.0, 0.0, 0.0], [0.972017228603363, 0.0004751243395730853, 0.003959272988140583, 0.001885195029899478, 0.02166314795613289, 0.0, 0.0, 0.0, 0.0, 0.0, 0.0, 0.0, 0.0, 0.0, 0.0, 0.0, 0.0, 0.0, 0.0, 0.0, 0.0, 0.0, 0.0, 0.0, 0.0, 0.0, 0.0, 0.0, 0.0, 0.0, 0.0, 0.0, 0.0, 0.0, 0.0, 0.0, 0.0, 0.0, 0.0, 0.0], [0.9740152359008789, 0.0005645355558954179, 0.0026283166371285915, 0.006011605262756348, 0.009331939741969109, 0.007448416668921709, 0.0, 0.0, 0.0, 0.0, 0.0, 0.0, 0.0, 0.0, 0.0, 0.0, 0.0, 0.0, 0.0, 0.0, 0.0, 0.0, 0.0, 0.0, 0.0, 0.0, 0.0, 0.0, 0.0, 0.0, 0.0, 0.0, 0.0, 0.0, 0.0, 0.0, 0.0, 0.0, 0.0, 0.0], [0.9892749190330505, 0.002558136824518442, 0.0026102762203663588, 0.00027054696693085134, 0.0017688106745481491, 0.00014067940355744213, 0.003376624546945095, 0.0, 0.0, 0.0, 0.0, 0.0, 0.0, 0.0, 0.0, 0.0, 0.0, 0.0, 0.0, 0.0, 0.0, 0.0, 0.0, 0.0, 0.0, 0.0, 0.0, 0.0, 0.0, 0.0, 0.0, 0.0, 0.0, 0.0, 0.0, 0.0, 0.0, 0.0, 0.0, 0.0], [0.9959267377853394, 0.00017493864288553596, 4.576364881359041e-05, 7.334333349717781e-05, 0.002936738543212414, 0.00020623073214665055, 0.0005494393408298492, 8.681938197696581e-05, 0.0, 0.0, 0.0, 0.0, 0.0, 0.0, 0.0, 0.0, 0.0, 0.0, 0.0, 0.0, 0.0, 0.0, 0.0, 0.0, 0.0, 0.0, 0.0, 0.0, 0.0, 0.0, 0.0, 0.0, 0.0, 0.0, 0.0, 0.0, 0.0, 0.0, 0.0, 0.0], [0.9363160133361816, 0.0006562885246239603, 0.01957281120121479, 0.0027972417883574963, 0.0014739177422598004, 0.0035795934963971376, 0.03308422490954399, 0.00046058063162490726, 0.0020593374501913786, 0.0, 0.0, 0.0, 0.0, 0.0, 0.0, 0.0, 0.0, 0.0, 0.0, 0.0, 0.0, 0.0, 0.0, 0.0, 0.0, 0.0, 0.0, 0.0, 0.0, 0.0, 0.0, 0.0, 0.0, 0.0, 0.0, 0.0, 0.0, 0.0, 0.0, 0.0], [0.9727522730827332, 0.010057386010885239, 0.0004374169511720538, 3.542582271620631e-05, 7.231803465401754e-05, 0.0003554894356057048, 0.005478783044964075, 0.000830942764878273, 0.001745835063047707, 0.008234151639044285, 0.0, 0.0, 0.0, 0.0, 0.0, 0.0, 0.0, 0.0, 0.0, 0.0, 0.0, 0.0, 0.0, 0.0, 0.0, 0.0, 0.0, 0.0, 0.0, 0.0, 0.0, 0.0, 0.0, 0.0, 0.0, 0.0, 0.0, 0.0, 0.0, 0.0], [0.9194870591163635, 0.005010972730815411, 0.0008442294201813638, 0.052895061671733856, 0.005610977299511433, 6.50624351692386e-05, 0.0005631116800941527, 0.0070890276692807674, 0.003851648885756731, 0.0015945954946801066, 0.002988244639709592, 0.0, 0.0, 0.0, 0.0, 0.0, 0.0, 0.0, 0.0, 0.0, 0.0, 0.0, 0.0, 0.0, 0.0, 0.0, 0.0, 0.0, 0.0, 0.0, 0.0, 0.0, 0.0, 0.0, 0.0, 0.0, 0.0, 0.0, 0.0, 0.0], [0.8568522930145264, 0.0014459547819569707, 0.05467364937067032, 0.0044450173154473305, 0.0028123436495661736, 0.0006184587255120277, 0.01451438944786787, 0.00047495518811047077, 0.0025222625117748976, 0.008221867494285107, 0.03202439844608307, 0.0213943924754858, 0.0, 0.0, 0.0, 0.0, 0.0, 0.0, 0.0, 0.0, 0.0, 0.0, 0.0, 0.0, 0.0, 0.0, 0.0, 0.0, 0.0, 0.0, 0.0, 0.0, 0.0, 0.0, 0.0, 0.0, 0.0, 0.0, 0.0, 0.0], [0.9428663849830627, 0.0029687341302633286, 0.0010659187100827694, 0.0007167276926338673, 0.00022563355742022395, 9.03006821317831e-06, 0.0019556088373064995, 0.00012362202687654644, 0.017407279461622238, 0.0002446577127557248, 0.0048624384216964245, 0.012226267717778683, 0.015327761881053448, 0.0, 0.0, 0.0, 0.0, 0.0, 0.0, 0.0, 0.0, 0.0, 0.0, 0.0, 0.0, 0.0, 0.0, 0.0, 0.0, 0.0, 0.0, 0.0, 0.0, 0.0, 0.0, 0.0, 0.0, 0.0, 0.0, 0.0], [0.8769405484199524, 0.0004687632026616484, 0.00023895433696452528, 0.000440898904344067, 0.00023266645439434797, 7.817101868567988e-05, 0.0045271809212863445, 1.3227780073066242e-05, 0.0013197872322052717, 0.0012040523579344153, 0.07171834260225296, 0.0030305644031614065, 0.035647209733724594, 0.004139565862715244, 0.0, 0.0, 0.0, 0.0, 0.0, 0.0, 0.0, 0.0, 0.0, 0.0, 0.0, 0.0, 0.0, 0.0, 0.0, 0.0, 0.0, 0.0, 0.0, 0.0, 0.0, 0.0, 0.0, 0.0, 0.0, 0.0], [0.8171541094779968, 0.00037547771353274584, 0.0020256286952644587, 0.00017198739806190133, 0.0009609530097804964, 0.00019873978453688323, 0.005914092063903809, 5.480903564603068e-05, 0.04727620258927345, 0.0002823325921781361, 0.003179004183039069, 0.004313931334763765, 0.018716024234890938, 0.09201682358980179, 0.007359926123172045, 0.0, 0.0, 0.0, 0.0, 0.0, 0.0, 0.0, 0.0, 0.0, 0.0, 0.0, 0.0, 0.0, 0.0, 0.0, 0.0, 0.0, 0.0, 0.0, 0.0, 0.0, 0.0, 0.0, 0.0, 0.0], [0.922216534614563, 0.0006561912014149129, 0.00030853651696816087, 0.01692337729036808, 0.006005528382956982, 2.7778300136560574e-05, 0.0015284543624147773, 1.1027430701915364e-07, 0.0005359871429391205, 4.9700811359798536e-05, 0.00011030961468350142, 0.005243377760052681, 0.0024270107969641685, 0.010047881864011288, 0.002301792148500681, 0.031617455184459686, 0.0, 0.0, 0.0, 0.0, 0.0, 0.0, 0.0, 0.0, 0.0, 0.0, 0.0, 0.0, 0.0, 0.0, 0.0, 0.0, 0.0, 0.0, 0.0, 0.0, 0.0, 0.0, 0.0, 0.0], [0.8789566159248352, 0.08761454373598099, 0.005687388125807047, 0.0006938581936992705, 0.00015542871551588178, 0.0003098282031714916, 0.001065787859261036, 6.043635494279442e-07, 0.00010302192822564393, 0.00017968713655136526, 0.005652715917676687, 0.0026649897918105125, 0.006803576368838549, 0.006657536141574383, 0.0002044568827841431, 0.0007078226772136986, 0.002542148344218731, 0.0, 0.0, 0.0, 0.0, 0.0, 0.0, 0.0, 0.0, 0.0, 0.0, 0.0, 0.0, 0.0, 0.0, 0.0, 0.0, 0.0, 0.0, 0.0, 0.0, 0.0, 0.0, 0.0], [0.9490072131156921, 0.0010981553932651877, 0.004617145750671625, 0.0001992531615542248, 0.0004783683689311147, 6.381639832397923e-05, 0.0002659876481629908, 0.0001680240238783881, 0.0026896626222878695, 1.6854632121976465e-05, 0.00029279186856001616, 0.0066512771882116795, 0.005513655487447977, 0.011600608937442303, 1.6551584849366918e-05, 0.014177439734339714, 0.0001419133914168924, 0.003001235192641616, 0.0, 0.0, 0.0, 0.0, 0.0, 0.0, 0.0, 0.0, 0.0, 0.0, 0.0, 0.0, 0.0, 0.0, 0.0, 0.0, 0.0, 0.0, 0.0, 0.0, 0.0, 0.0], [0.8890830278396606, 0.003276576055213809, 0.0012155876029282808, 0.012733752839267254, 0.005523812025785446, 0.002325446577742696, 0.001794191775843501, 0.00027430246700532734, 0.020532580092549324, 0.0006406741449609399, 0.006113830488175154, 0.018676985055208206, 0.015303201973438263, 0.002032283926382661, 0.001249500666745007, 0.0010973293101415038, 8.968853944679722e-05, 0.007685432210564613, 0.010351934470236301, 0.0, 0.0, 0.0, 0.0, 0.0, 0.0, 0.0, 0.0, 0.0, 0.0, 0.0, 0.0, 0.0, 0.0, 0.0, 0.0, 0.0, 0.0, 0.0, 0.0, 0.0], [0.9230016469955444, 0.0012529999949038029, 0.0004162089608144015, 0.00039693049620836973, 0.00012663488450925797, 1.8975000784848817e-05, 0.00038923273677937686, 0.00017375306924805045, 0.004170380067080259, 0.0001340475573670119, 0.003621613373979926, 0.006006231997162104, 0.029020553454756737, 0.0036290190182626247, 0.0002178476715926081, 0.0034196197520941496, 8.11501158750616e-05, 0.00258419057354331, 0.0049125258810818195, 0.01642647571861744, 0.0, 0.0, 0.0, 0.0, 0.0, 0.0, 0.0, 0.0, 0.0, 0.0, 0.0, 0.0, 0.0, 0.0, 0.0, 0.0, 0.0, 0.0, 0.0, 0.0], [0.15194560587406158, 0.7448430061340332, 0.029438525438308716, 0.0002243718336103484, 7.478208863176405e-05, 8.965308552433271e-06, 0.000285009213257581, 0.00047824651119299233, 0.0010737486882135272, 0.0006603349465876818, 0.008570102043449879, 0.0029946474824100733, 0.0009941757889464498, 0.010476467199623585, 9.191645949613303e-05, 0.008603107184171677, 0.0013398947194218636, 0.03319203108549118, 0.001414814847521484, 0.001446806243620813, 0.0018434239318594337, 0.0, 0.0, 0.0, 0.0, 0.0, 0.0, 0.0, 0.0, 0.0, 0.0, 0.0, 0.0, 0.0, 0.0, 0.0, 0.0, 0.0, 0.0, 0.0], [0.11120331287384033, 0.0015870602801442146, 0.8612366914749146, 0.0005184300825931132, 0.0009476228151470423, 7.874858056311496e-06, 0.0005044390563853085, 8.133492883644067e-06, 5.2411338401725516e-05, 0.00023604037414770573, 6.945752102183178e-05, 0.00042909738840535283, 0.010917437262833118, 0.00487885857000947, 1.1458555491117295e-06, 0.0017267223447561264, 0.0001236928947037086, 0.0024266119580715895, 0.0016443589702248573, 0.00037097075255587697, 0.00012555631110444665, 0.0009841499850153923, 0.0, 0.0, 0.0, 0.0, 0.0, 0.0, 0.0, 0.0, 0.0, 0.0, 0.0, 0.0, 0.0, 0.0, 0.0, 0.0, 0.0, 0.0], [0.08908402174711227, 2.078411853290163e-05, 8.021100074984133e-05, 0.8663339018821716, 0.020854197442531586, 0.00012774640345014632, 0.0005429473239928484, 4.051021846862568e-07, 3.096287400694564e-05, 4.9102054617833346e-05, 4.5366978156380355e-06, 0.014869517646729946, 0.0019759144634008408, 0.0007498956401832402, 2.661698090378195e-05, 0.0002933681826107204, 0.0016340439906343818, 0.00036105624167248607, 8.869713201420382e-05, 0.0024878326803445816, 0.00031094244332052767, 4.785711553267902e-06, 6.851682701380923e-05, 0.0, 0.0, 0.0, 0.0, 0.0, 0.0, 0.0, 0.0, 0.0, 0.0, 0.0, 0.0, 0.0, 0.0, 0.0, 0.0, 0.0], [0.05609610304236412, 1.4978661056375131e-05, 0.00015809239994268864, 0.003808059962466359, 0.913271427154541, 0.007122970186173916, 0.0036862180568277836, 1.595327262293722e-06, 0.0003643319068942219, 3.250176087021828e-05, 1.3383574696490541e-05, 0.002772390376776457, 0.0013006230583414435, 0.00011486384028103203, 7.163663212850224e-06, 0.0006442875601351261, 0.0003966460644733161, 0.00022266936139203608, 0.00013157892681192607, 0.0010597219225019217, 1.8164413631893694e-05, 1.4399405472431681e-06, 9.259764919988811e-05, 0.008668112568557262, 0.0, 0.0, 0.0, 0.0, 0.0, 0.0, 0.0, 0.0, 0.0, 0.0, 0.0, 0.0, 0.0, 0.0, 0.0, 0.0], [0.007234193384647369, 2.5796080080908723e-06, 7.261409336933866e-05, 3.7580910429824144e-05, 0.0006123975617811084, 0.9823459982872009, 0.007891587913036346, 2.1494580337844127e-08, 3.7244666600599885e-05, 0.0003533763228915632, 0.00015135375724639744, 2.58014551945962e-05, 8.904394053388387e-05, 4.389885816635797e-06, 1.5073843314894475e-05, 2.4622739147162065e-05, 2.859693267964758e-06, 1.957831045729108e-05, 7.704474228376057e-06, 0.0006669152644462883, 1.9645015072455863e-06, 2.389788278378546e-07, 1.963805698323995e-05, 3.433014717302285e-05, 0.0003488855145405978, 0.0, 0.0, 0.0, 0.0, 0.0, 0.0, 0.0, 0.0, 0.0, 0.0, 0.0, 0.0, 0.0, 0.0, 0.0], [0.11473441123962402, 8.546224853489548e-05, 0.001257101190276444, 0.004449327941983938, 0.0075192516669631, 0.0007981733651831746, 0.8381686210632324, 3.721147322721663e-06, 0.0005695796571671963, 0.002604043809697032, 0.0009326835861429572, 0.0003392325306776911, 0.011680753901600838, 0.002498723566532135, 5.270210385788232e-05, 0.001654714928008616, 5.0409747927915305e-05, 0.00021612559794448316, 0.00017972169735003263, 0.0008981818100437522, 0.00031882920302450657, 2.775583880065824e-06, 0.0009121312177740037, 0.004491157829761505, 0.004610714502632618, 0.0009714874904602766, 0.0, 0.0, 0.0, 0.0, 0.0, 0.0, 0.0, 0.0, 0.0, 0.0, 0.0, 0.0, 0.0, 0.0], [0.003271980443969369, 5.3757480600324925e-06, 5.812791187054245e-06, 1.539224626867508e-06, 2.3997497919481248e-05, 3.028150956652098e-07, 2.3960839826031588e-05, 0.9953927993774414, 0.000436737755080685, 3.306186044937931e-05, 1.9861903638229705e-05, 0.00018697585619520396, 2.945300548162777e-05, 5.1357204938540235e-05, 1.621125989004213e-07, 1.942240669450257e-05, 7.78600295348042e-08, 6.628727078350494e-07, 1.1915988579858094e-05, 3.1398580176755786e-05, 0.0002143441524822265, 1.1385138350306079e-05, 0.00016266541206277907, 1.6101203073048964e-05, 3.143918002024293e-05, 3.330642357468605e-07, 1.6842936020111665e-05, 0.0, 0.0, 0.0, 0.0, 0.0, 0.0, 0.0, 0.0, 0.0, 0.0, 0.0, 0.0, 0.0], [0.03847992792725563, 3.6072407965548337e-05, 8.48959734867094e-06, 1.7869249859359115e-05, 0.0010362968314439058, 1.5588720998493955e-05, 9.1401299869176e-05, 1.5412433640449308e-06, 0.9562683701515198, 7.875850860727951e-05, 0.0002719954354688525, 0.00023462034005206078, 2.60309661825886e-05, 0.0009223218658007681, 2.7746509658754803e-06, 0.0008154223905876279, 9.921351193042938e-06, 6.5314989114995115e-06, 9.215335921908263e-06, 0.0011102288262918591, 0.00012713241449091583, 3.826984539045952e-06, 1.0447005479363725e-05, 1.4887606084812433e-05, 0.00035862677032127976, 4.238179371895967e-06, 1.1667465514619835e-05, 2.5811548766796477e-05, 0.0, 0.0, 0.0, 0.0, 0.0, 0.0, 0.0, 0.0, 0.0, 0.0, 0.0, 0.0], [0.038136519491672516, 3.415604442125186e-05, 0.0010634490754455328, 0.0002062582061626017, 0.0003094094281550497, 0.0001892587315523997, 0.0023903243709355593, 4.862075002165511e-06, 0.00023597065592184663, 0.9394558668136597, 0.012311560101807117, 0.0010871686972677708, 0.000712380453478545, 0.00041178669198416173, 0.00021479617862496525, 0.00012403939035721123, 4.0098025237966795e-06, 4.090413767698919e-06, 2.6218847324344097e-06, 0.00035582034615799785, 1.9408167645451613e-05, 1.2993966265639756e-05, 0.0014764027437195182, 0.00020826085528824478, 0.000254019076237455, 0.00026500195963308215, 0.0004573747864924371, 2.6590205379761755e-05, 2.556182153057307e-05, 0.0, 0.0, 0.0, 0.0, 0.0, 0.0, 0.0, 0.0, 0.0, 0.0, 0.0], [0.018869571387767792, 0.0006943609332665801, 2.1020190615672618e-05, 9.833748890741845e-07, 2.2413880742533365e-06, 2.6122240797121776e-06, 0.00011030978930648416, 5.476681508298498e-06, 2.1152187400730327e-05, 0.0006026625633239746, 0.9771071076393127, 0.0014946842566132545, 0.00018381222616881132, 8.51653894642368e-05, 0.00038974644849076867, 6.979912723181769e-05, 9.02193733054446e-08, 2.553729063947685e-05, 4.170675254044909e-07, 3.0215891456464306e-05, 5.912619599257596e-06, 5.0579994422150776e-05, 1.2049452379869763e-05, 5.631740691569576e-07, 2.1245385539714334e-07, 5.8487609067015e-07, 2.527078095226898e-06, 1.9026123482035473e-05, 1.0914166068687337e-06, 0.00019038948812521994, 0.0, 0.0, 0.0, 0.0, 0.0, 0.0, 0.0, 0.0, 0.0, 0.0], [0.03983508422970772, 0.0001998618245124817, 2.335152203158941e-05, 0.0014182378072291613, 0.000121640732686501, 1.12739326141309e-06, 2.028838571277447e-05, 3.90041277569253e-05, 3.7171212170505896e-05, 9.780607069842517e-05, 0.00023927926667965949, 0.937134861946106, 0.006374670658260584, 0.0077537246979773045, 0.0003152843564748764, 0.0002952456707134843, 6.100762402638793e-05, 6.249692523851991e-05, 4.791796163772233e-05, 0.00025898226886056364, 9.327256702817976e-05, 4.0795010136207566e-05, 3.6428689782042056e-05, 0.004543224349617958, 0.0002441538672428578, 1.8247430944029475e-06, 7.34789637135691e-06, 0.00014767514949198812, 9.660451723902952e-06, 8.699067984707654e-05, 0.0004516730841714889, 0.0, 0.0, 0.0, 0.0, 0.0, 0.0, 0.0, 0.0, 0.0], [0.05695482715964317, 0.00021815113723278046, 0.007298693526536226, 0.00020534741634037346, 0.00035672273952513933, 1.0316386578779202e-05, 0.0009154643048532307, 9.174411388812587e-06, 9.360434341942891e-05, 0.000355906697222963, 0.0010723418090492487, 0.003076914232224226, 0.8894830346107483, 0.015851518139243126, 0.0014383442467078567, 0.00852093193680048, 7.245928281918168e-05, 0.000572648539673537, 0.0004893105942755938, 0.00029751542024314404, 0.0014653889229521155, 6.387269240804017e-05, 0.00822355691343546, 0.00013461735215969384, 0.0002060337719740346, 9.778906132851262e-06, 0.00036310809082351625, 2.179962939408142e-05, 7.278753400896676e-06, 0.00021318630024325103, 0.0006341465632431209, 0.0013640000252053142, 0.0, 0.0, 0.0, 0.0, 0.0, 0.0, 0.0, 0.0], [0.024240689352154732, 0.0005452439072541893, 0.00017213508544955403, 6.0013328038621694e-05, 3.24755092151463e-05, 1.5020310684121796e-07, 0.00011661324970191345, 2.4049991225183476e-06, 0.0015956821152940392, 1.0353657671657857e-05, 0.0002041104162344709, 0.0019108153646811843, 0.001219722325913608, 0.9386425614356995, 3.870201908284798e-05, 0.028001489117741585, 0.00022492566495202482, 0.00027971554663963616, 0.0004563064139802009, 2.169264553231187e-05, 2.088000655930955e-05, 0.00010273657244397327, 0.0003140365006402135, 4.054482633364387e-05, 3.385965783309075e-06, 2.6906674222004767e-08, 8.518993126926944e-06, 7.2911288953037e-06, 0.00010436797310831025, 2.0415459403011482e-06, 4.154203998041339e-05, 0.0004019521293230355, 0.001177096855826676, 0.0, 0.0, 0.0, 0.0, 0.0, 0.0, 0.0], [0.030192289501428604, 2.4733259124332108e-05, 1.0216227565251756e-05, 1.8918253772426397e-05, 1.9370139852981083e-05, 1.2132724123148364e-06, 0.0001699487620498985, 1.296289013907881e-07, 4.866263407166116e-05, 4.151101165916771e-05, 0.002457365393638611, 0.0004086991830263287, 0.0009468175121583045, 0.0006519774324260652, 0.9519580602645874, 0.011171228252351284, 0.00027650571428239346, 4.111685848329216e-05, 1.7018700191329117e-06, 1.7479496818850748e-05, 3.6984708913223585e-06, 3.1406418656843016e-06, 1.3814437807013746e-05, 3.680703230202198e-05, 4.928424004901899e-06, 3.042732998892461e-07, 4.714131591754267e-06, 3.9532869777758606e-07, 1.3859759064871469e-06, 5.42939005754306e-06, 0.0009474625112488866, 9.981801122194156e-05, 0.0002292607823619619, 0.00019081958453170955, 0.0, 0.0, 0.0, 0.0, 0.0, 0.0], [0.023582015186548233, 0.00013549219875130802, 0.00031018524896353483, 1.7097112504416145e-05, 0.0003676241321954876, 1.1448831173765939e-05, 0.0007271842914633453, 1.3269348073663423e-06, 0.005821306724101305, 3.439302236074582e-05, 0.000621191633399576, 0.0005088194739073515, 0.0012261965312063694, 0.020140478387475014, 0.0005124608869664371, 0.9181414842605591, 0.00021546805510297418, 0.00014768271648790687, 0.001498128636740148, 2.515767300792504e-05, 0.0002256432780995965, 4.4459513446781784e-05, 0.00039514555828645825, 8.702820196049288e-06, 6.087208021199331e-05, 2.3338056962529663e-06, 0.00010471593122929335, 7.183377874753205e-06, 0.0009707725839689374, 1.2320132555032615e-05, 0.000291383737931028, 0.00015552713011857122, 0.0011719997273758054, 0.02193141169846058, 0.0005722803180105984, 0.0, 0.0, 0.0, 0.0, 0.0], [0.018549844622612, 1.5924217223073356e-05, 7.602074219903443e-06, 0.0004146809224039316, 0.00025942918728105724, 5.218215548552507e-08, 1.8182558051194064e-05, 7.558261655438159e-11, 3.921614279533969e-06, 3.4467365139789763e-07, 5.640689551000833e-07, 9.197321924148127e-05, 4.209226608509198e-05, 0.0007928749546408653, 1.6880678231245838e-05, 0.0017712560947984457, 0.9759214520454407, 0.00015995152352843434, 1.997904291783925e-05, 2.453369688737439e-06, 2.909582406118716e-07, 6.315104315035569e-07, 6.521507202705834e-06, 0.0007485414389520884, 0.00018668206757865846, 2.845993840594474e-08, 3.2946768442343455e-06, 4.088313687589107e-09, 2.7181550876775873e-07, 6.768152616132284e-08, 2.2070421934472506e-08, 8.757513569435105e-06, 7.630706022609957e-06, 0.00032797924359329045, 1.3925716302765068e-05, 0.00060591398505494, 0.0, 0.0, 0.0, 0.0], [0.023936046287417412, 0.009271420538425446, 0.00023075054923538119, 3.097497028647922e-05, 1.4251850188884418e-05, 3.940531769330846e-06, 2.609274633869063e-05, 4.6534268105524745e-10, 1.0742794529505773e-06, 9.024616929309559e-07, 8.708164386916906e-05, 0.00013257196405902505, 0.00018757293582893908, 0.0012234977912157774, 3.557133140930091e-06, 2.9626342438859865e-05, 0.0003068102232646197, 0.9631755352020264, 0.0002445707796141505, 0.00013813149416819215, 2.0865518308710307e-05, 0.00014823333185631782, 8.605677430750802e-05, 3.193747397745028e-05, 2.32428646995686e-06, 1.1845553444800316e-06, 8.670136821820051e-07, 2.0230805919396744e-09, 1.4461207342719717e-08, 2.9919874577899463e-07, 9.568349014443811e-06, 1.5966841601766646e-05, 5.353914821171202e-05, 0.0004607897426467389, 6.984052447478462e-07, 1.1841550076496787e-05, 0.00011131222709082067, 0.0, 0.0, 0.0], [0.00731564499437809, 1.9343558960827067e-05, 0.00013554190809372813, 2.53264011007559e-06, 7.66060475143604e-06, 2.4930028530434356e-07, 2.318113274668576e-06, 3.07047685055295e-08, 2.3231370960274944e-06, 3.238421442119943e-08, 1.2095802048861515e-06, 5.700525071006268e-05, 3.4581698855618015e-05, 0.0004151022876612842, 2.144949284854647e-08, 7.288919732673094e-05, 1.985718654395896e-06, 5.387963756220415e-05, 0.9912034273147583, 0.00011627850471995771, 2.965643216157332e-05, 2.6743480248114793e-06, 0.000235451283515431, 2.7184764803678263e-06, 2.142024186468916e-06, 9.367860087650115e-08, 1.7440136446111865e-07, 6.687071874011963e-08, 2.115888086962059e-08, 3.4401599346978173e-09, 1.682642825073799e-08, 7.400657977996161e-06, 1.4687916518596467e-05, 0.00023860461078584194, 4.607307868553789e-09, 7.49596074456349e-06, 2.858407981420896e-07, 1.639857691770885e-05, 0.0, 0.0], [0.059878624975681305, 0.00028645741986110806, 0.00013798606232739985, 0.001006975187920034, 0.0005584466853179038, 0.00019057627650909126, 0.00012196357420179993, 1.1664878911687993e-06, 0.0005226503126323223, 1.777800753188785e-05, 0.0003272874455433339, 0.0019926163367927074, 0.001018665381707251, 0.0003552874841261655, 3.825512976618484e-05, 0.00011972053471254185, 1.2567866178869735e-05, 0.0007169619202613831, 0.002552489284425974, 0.9198518991470337, 0.006465837359428406, 0.00013833100092597306, 9.437061817152426e-05, 0.0015297331847250462, 0.0005973238148726523, 0.0001534279144834727, 1.931021506607067e-05, 6.955782737350091e-06, 0.00011591391375986859, 6.715966264891904e-06, 7.672664651181549e-05, 0.0003340484690852463, 9.351503831567243e-05, 0.00012242808588780463, 9.09550999494968e-06, 1.278749459743267e-05, 7.245610618156206e-07, 5.386740667745471e-05, 0.0004604286514222622, 0.0], [0.008105138316750526, 2.790108192129992e-05, 4.239188911014935e-06, 6.560914243891602e-06, 2.8030954126734287e-06, 1.1306421754397888e-07, 4.5092933760315645e-06, 6.203339353305637e-07, 5.964845695416443e-05, 2.052132458629785e-06, 4.9441161536378786e-05, 0.00013380889140535146, 0.0003877013805322349, 0.0001583759585628286, 2.957111746582086e-06, 9.721759852254763e-05, 1.3803839920001337e-06, 3.5960943932877854e-05, 5.9292058722348884e-05, 0.0007617794908583164, 0.9893935918807983, 0.00020657044660765678, 1.949437501025386e-05, 1.093061928258976e-05, 7.011040565885196e-07, 1.7250965100856774e-08, 9.754992902344384e-08, 1.6475074744448648e-06, 4.196262580080656e-06, 2.028235002171641e-07, 1.2116008292650804e-05, 2.2668411475024186e-05, 4.1532905015628785e-05, 1.8248014384880662e-05, 5.489416707860073e-07, 7.978416761034168e-06, 4.421198696036299e-08, 1.7251805957130273e-06, 1.6397140143453726e-06, 0.00035456722253002226]]]}\n",
       "    )\n",
       "    </script>"
      ],
      "text/plain": [
       "<circuitsvis.utils.render.RenderedHTML at 0x74026fd2da80>"
      ]
     },
     "metadata": {},
     "output_type": "display_data"
    }
   ],
   "source": [
    "if IN_GITHUB:\n",
    "    torch.manual_seed(50)\n",
    "\n",
    "induction_head_layer = 5\n",
    "induction_head_index = 5\n",
    "size = (1, 20)\n",
    "input_tensor = torch.randint(1000, 10000, size)\n",
    "\n",
    "single_random_sequence = input_tensor.to(model.cfg.device)\n",
    "repeated_random_sequence = einops.repeat(single_random_sequence, \"batch seq_len -> batch (2 seq_len)\")\n",
    "def visualize_pattern_hook(\n",
    "    pattern: Float[torch.Tensor, \"batch head_index dest_pos source_pos\"],\n",
    "    hook: HookPoint,\n",
    "):\n",
    "    display(\n",
    "        cv.attention.attention_patterns(\n",
    "            tokens=model.to_str_tokens(repeated_random_sequence),\n",
    "            attention=pattern[0, induction_head_index, :, :][None, :, :] # Add a dummy axis, as CircuitsVis expects 3D patterns.\n",
    "        )\n",
    "    )\n",
    "\n",
    "model.run_with_hooks(\n",
    "    repeated_random_sequence,\n",
    "    return_type=None,\n",
    "    fwd_hooks=[(\n",
    "        utils.get_act_name(\"pattern\", induction_head_layer),\n",
    "        visualize_pattern_hook\n",
    "    )]\n",
    ")"
   ]
  },
  {
   "cell_type": "markdown",
   "metadata": {
    "id": "fJWHH-PhnJT0"
   },
   "source": [
    "## Available Models"
   ]
  },
  {
   "cell_type": "markdown",
   "metadata": {
    "id": "1kLJez9gnJT0"
   },
   "source": [
    "TransformerLens comes with over 40 open source models available, all of which can be loaded into a consistent(-ish) architecture by just changing the name in `from_pretrained`. The open source models available are [documented here](https://dynalist.io/d/n2ZWtnoYHrU1s4vnFSAQ519J#z=jHj79Pj58cgJKdq4t-ygK-4h), and a set of interpretability friendly models I've trained are [documented here](https://dynalist.io/d/n2ZWtnoYHrU1s4vnFSAQ519J#z=NCJ6zH_Okw_mUYAwGnMKsj2m), including a set of toy language models (tiny one to four layer models) and a set of [SoLU models](https://dynalist.io/d/n2ZWtnoYHrU1s4vnFSAQ519J#z=FZ5W6GGcy6OitPEaO733JLqf) up to GPT-2 Medium size (300M parameters). You can see [a table of the official alias and hyper-parameters of available models here](https://github.com/TransformerLensOrg/TransformerLens/blob/main/transformer_lens/model_properties_table.md).\n",
    "\n",
    "**Note:** TransformerLens does not currently support multi-GPU models (which you want for models above eg 7B parameters), but this feature is coming soon!"
   ]
  },
  {
   "cell_type": "markdown",
   "metadata": {
    "id": "X-nnR0F4nJT0"
   },
   "source": [
    "\n",
    "Notably, this means that analysis can be near immediately re-run on a different model by just changing the name - to see this, let's load in DistilGPT-2 (a distilled version of GPT-2, with half as many layers) and copy the code from above to see the induction heads in that model."
   ]
  },
  {
   "cell_type": "code",
   "execution_count": 23,
   "metadata": {
    "id": "X3HTHyARnJT0",
    "outputId": "c740ebdf-a80f-40cf-bd39-4a4b6094cef1"
   },
   "outputs": [
    {
     "name": "stdout",
     "output_type": "stream",
     "text": [
      "Loaded pretrained model distilgpt2 into HookedTransformer\n"
     ]
    }
   ],
   "source": [
    "# NBVAL_IGNORE_OUTPUT\n",
    "distilgpt2 = HookedTransformer.from_pretrained(\"distilgpt2\", device=device)"
   ]
  },
  {
   "cell_type": "code",
   "execution_count": 24,
   "metadata": {
    "id": "opsvIz8EnJT0",
    "outputId": "1a44db92-1666-47c3-d9c8-462fd5c072b7"
   },
   "outputs": [
    {
     "data": {
      "text/html": [
       "<html>\n",
       "<head><meta charset=\"utf-8\" /></head>\n",
       "<body>\n",
       "    <div>            <script src=\"https://cdnjs.cloudflare.com/ajax/libs/mathjax/2.7.5/MathJax.js?config=TeX-AMS-MML_SVG\"></script><script type=\"text/javascript\">if (window.MathJax && window.MathJax.Hub && window.MathJax.Hub.Config) {window.MathJax.Hub.Config({SVG: {font: \"STIX-Web\"}});}</script>                <script type=\"text/javascript\">window.PlotlyConfig = {MathJaxConfig: 'local'};</script>\n",
       "        <script charset=\"utf-8\" src=\"https://cdn.plot.ly/plotly-3.0.0.min.js\"></script>                <div id=\"67828c88-d8d3-4190-b1b6-8f1e287b0494\" class=\"plotly-graph-div\" style=\"height:525px; width:100%;\"></div>            <script type=\"text/javascript\">                window.PLOTLYENV=window.PLOTLYENV || {};                                if (document.getElementById(\"67828c88-d8d3-4190-b1b6-8f1e287b0494\")) {                    Plotly.newPlot(                        \"67828c88-d8d3-4190-b1b6-8f1e287b0494\",                        [{\"coloraxis\":\"coloraxis\",\"name\":\"0\",\"z\":{\"dtype\":\"f4\",\"bdata\":\"NzojPMMoHjnbPzc8J0VcOpNArDrJEWo3xPsLPK0OBDscDQk8NxAbPKahFjye2YI88B5DO58MmzyVdJk6ltMlOTYCKTxE4OM60ROyO\\u002fNbgTy+H6I6mXDCOMzTgDsEcW88h\\u002fftOxWY1zseJWM8OpzuOtoHozxAz407EkQiPGpzozq6X5I8L\\u002fRkPFOZszwQB5stwYoQPC3CXj6G5Vs\\u002fi7uKPLFTiTz+\\u002fGs84FOoPJA7TD4wf3o8tYWPPCwSbj\\u002fgjPg+qIyOPlvidD57hLs9VywjPHenvz2juMc89wMjP0pM0TwFWHs9hhklP\\u002fghhjyANGE9XumzPKL+pT02blw9fHdzPB0iBj0PPkE+yzSdPWt+zT3FHPg7A4HrPsXeOT4I8\\u002f88\",\"shape\":\"6, 12\"},\"type\":\"heatmap\",\"xaxis\":\"x\",\"yaxis\":\"y\",\"hovertemplate\":\"Head: %{x}\\u003cbr\\u003eLayer: %{y}\\u003cbr\\u003ecolor: %{z}\\u003cextra\\u003e\\u003c\\u002fextra\\u003e\"}],                        {\"template\":{\"data\":{\"histogram2dcontour\":[{\"type\":\"histogram2dcontour\",\"colorbar\":{\"outlinewidth\":0,\"ticks\":\"\"},\"colorscale\":[[0.0,\"#0d0887\"],[0.1111111111111111,\"#46039f\"],[0.2222222222222222,\"#7201a8\"],[0.3333333333333333,\"#9c179e\"],[0.4444444444444444,\"#bd3786\"],[0.5555555555555556,\"#d8576b\"],[0.6666666666666666,\"#ed7953\"],[0.7777777777777778,\"#fb9f3a\"],[0.8888888888888888,\"#fdca26\"],[1.0,\"#f0f921\"]]}],\"choropleth\":[{\"type\":\"choropleth\",\"colorbar\":{\"outlinewidth\":0,\"ticks\":\"\"}}],\"histogram2d\":[{\"type\":\"histogram2d\",\"colorbar\":{\"outlinewidth\":0,\"ticks\":\"\"},\"colorscale\":[[0.0,\"#0d0887\"],[0.1111111111111111,\"#46039f\"],[0.2222222222222222,\"#7201a8\"],[0.3333333333333333,\"#9c179e\"],[0.4444444444444444,\"#bd3786\"],[0.5555555555555556,\"#d8576b\"],[0.6666666666666666,\"#ed7953\"],[0.7777777777777778,\"#fb9f3a\"],[0.8888888888888888,\"#fdca26\"],[1.0,\"#f0f921\"]]}],\"heatmap\":[{\"type\":\"heatmap\",\"colorbar\":{\"outlinewidth\":0,\"ticks\":\"\"},\"colorscale\":[[0.0,\"#0d0887\"],[0.1111111111111111,\"#46039f\"],[0.2222222222222222,\"#7201a8\"],[0.3333333333333333,\"#9c179e\"],[0.4444444444444444,\"#bd3786\"],[0.5555555555555556,\"#d8576b\"],[0.6666666666666666,\"#ed7953\"],[0.7777777777777778,\"#fb9f3a\"],[0.8888888888888888,\"#fdca26\"],[1.0,\"#f0f921\"]]}],\"contourcarpet\":[{\"type\":\"contourcarpet\",\"colorbar\":{\"outlinewidth\":0,\"ticks\":\"\"}}],\"contour\":[{\"type\":\"contour\",\"colorbar\":{\"outlinewidth\":0,\"ticks\":\"\"},\"colorscale\":[[0.0,\"#0d0887\"],[0.1111111111111111,\"#46039f\"],[0.2222222222222222,\"#7201a8\"],[0.3333333333333333,\"#9c179e\"],[0.4444444444444444,\"#bd3786\"],[0.5555555555555556,\"#d8576b\"],[0.6666666666666666,\"#ed7953\"],[0.7777777777777778,\"#fb9f3a\"],[0.8888888888888888,\"#fdca26\"],[1.0,\"#f0f921\"]]}],\"surface\":[{\"type\":\"surface\",\"colorbar\":{\"outlinewidth\":0,\"ticks\":\"\"},\"colorscale\":[[0.0,\"#0d0887\"],[0.1111111111111111,\"#46039f\"],[0.2222222222222222,\"#7201a8\"],[0.3333333333333333,\"#9c179e\"],[0.4444444444444444,\"#bd3786\"],[0.5555555555555556,\"#d8576b\"],[0.6666666666666666,\"#ed7953\"],[0.7777777777777778,\"#fb9f3a\"],[0.8888888888888888,\"#fdca26\"],[1.0,\"#f0f921\"]]}],\"mesh3d\":[{\"type\":\"mesh3d\",\"colorbar\":{\"outlinewidth\":0,\"ticks\":\"\"}}],\"scatter\":[{\"fillpattern\":{\"fillmode\":\"overlay\",\"size\":10,\"solidity\":0.2},\"type\":\"scatter\"}],\"parcoords\":[{\"type\":\"parcoords\",\"line\":{\"colorbar\":{\"outlinewidth\":0,\"ticks\":\"\"}}}],\"scatterpolargl\":[{\"type\":\"scatterpolargl\",\"marker\":{\"colorbar\":{\"outlinewidth\":0,\"ticks\":\"\"}}}],\"bar\":[{\"error_x\":{\"color\":\"#2a3f5f\"},\"error_y\":{\"color\":\"#2a3f5f\"},\"marker\":{\"line\":{\"color\":\"#E5ECF6\",\"width\":0.5},\"pattern\":{\"fillmode\":\"overlay\",\"size\":10,\"solidity\":0.2}},\"type\":\"bar\"}],\"scattergeo\":[{\"type\":\"scattergeo\",\"marker\":{\"colorbar\":{\"outlinewidth\":0,\"ticks\":\"\"}}}],\"scatterpolar\":[{\"type\":\"scatterpolar\",\"marker\":{\"colorbar\":{\"outlinewidth\":0,\"ticks\":\"\"}}}],\"histogram\":[{\"marker\":{\"pattern\":{\"fillmode\":\"overlay\",\"size\":10,\"solidity\":0.2}},\"type\":\"histogram\"}],\"scattergl\":[{\"type\":\"scattergl\",\"marker\":{\"colorbar\":{\"outlinewidth\":0,\"ticks\":\"\"}}}],\"scatter3d\":[{\"type\":\"scatter3d\",\"line\":{\"colorbar\":{\"outlinewidth\":0,\"ticks\":\"\"}},\"marker\":{\"colorbar\":{\"outlinewidth\":0,\"ticks\":\"\"}}}],\"scattermap\":[{\"type\":\"scattermap\",\"marker\":{\"colorbar\":{\"outlinewidth\":0,\"ticks\":\"\"}}}],\"scattermapbox\":[{\"type\":\"scattermapbox\",\"marker\":{\"colorbar\":{\"outlinewidth\":0,\"ticks\":\"\"}}}],\"scatterternary\":[{\"type\":\"scatterternary\",\"marker\":{\"colorbar\":{\"outlinewidth\":0,\"ticks\":\"\"}}}],\"scattercarpet\":[{\"type\":\"scattercarpet\",\"marker\":{\"colorbar\":{\"outlinewidth\":0,\"ticks\":\"\"}}}],\"carpet\":[{\"aaxis\":{\"endlinecolor\":\"#2a3f5f\",\"gridcolor\":\"white\",\"linecolor\":\"white\",\"minorgridcolor\":\"white\",\"startlinecolor\":\"#2a3f5f\"},\"baxis\":{\"endlinecolor\":\"#2a3f5f\",\"gridcolor\":\"white\",\"linecolor\":\"white\",\"minorgridcolor\":\"white\",\"startlinecolor\":\"#2a3f5f\"},\"type\":\"carpet\"}],\"table\":[{\"cells\":{\"fill\":{\"color\":\"#EBF0F8\"},\"line\":{\"color\":\"white\"}},\"header\":{\"fill\":{\"color\":\"#C8D4E3\"},\"line\":{\"color\":\"white\"}},\"type\":\"table\"}],\"barpolar\":[{\"marker\":{\"line\":{\"color\":\"#E5ECF6\",\"width\":0.5},\"pattern\":{\"fillmode\":\"overlay\",\"size\":10,\"solidity\":0.2}},\"type\":\"barpolar\"}],\"pie\":[{\"automargin\":true,\"type\":\"pie\"}]},\"layout\":{\"autotypenumbers\":\"strict\",\"colorway\":[\"#636efa\",\"#EF553B\",\"#00cc96\",\"#ab63fa\",\"#FFA15A\",\"#19d3f3\",\"#FF6692\",\"#B6E880\",\"#FF97FF\",\"#FECB52\"],\"font\":{\"color\":\"#2a3f5f\"},\"hovermode\":\"closest\",\"hoverlabel\":{\"align\":\"left\"},\"paper_bgcolor\":\"white\",\"plot_bgcolor\":\"#E5ECF6\",\"polar\":{\"bgcolor\":\"#E5ECF6\",\"angularaxis\":{\"gridcolor\":\"white\",\"linecolor\":\"white\",\"ticks\":\"\"},\"radialaxis\":{\"gridcolor\":\"white\",\"linecolor\":\"white\",\"ticks\":\"\"}},\"ternary\":{\"bgcolor\":\"#E5ECF6\",\"aaxis\":{\"gridcolor\":\"white\",\"linecolor\":\"white\",\"ticks\":\"\"},\"baxis\":{\"gridcolor\":\"white\",\"linecolor\":\"white\",\"ticks\":\"\"},\"caxis\":{\"gridcolor\":\"white\",\"linecolor\":\"white\",\"ticks\":\"\"}},\"coloraxis\":{\"colorbar\":{\"outlinewidth\":0,\"ticks\":\"\"}},\"colorscale\":{\"sequential\":[[0.0,\"#0d0887\"],[0.1111111111111111,\"#46039f\"],[0.2222222222222222,\"#7201a8\"],[0.3333333333333333,\"#9c179e\"],[0.4444444444444444,\"#bd3786\"],[0.5555555555555556,\"#d8576b\"],[0.6666666666666666,\"#ed7953\"],[0.7777777777777778,\"#fb9f3a\"],[0.8888888888888888,\"#fdca26\"],[1.0,\"#f0f921\"]],\"sequentialminus\":[[0.0,\"#0d0887\"],[0.1111111111111111,\"#46039f\"],[0.2222222222222222,\"#7201a8\"],[0.3333333333333333,\"#9c179e\"],[0.4444444444444444,\"#bd3786\"],[0.5555555555555556,\"#d8576b\"],[0.6666666666666666,\"#ed7953\"],[0.7777777777777778,\"#fb9f3a\"],[0.8888888888888888,\"#fdca26\"],[1.0,\"#f0f921\"]],\"diverging\":[[0,\"#8e0152\"],[0.1,\"#c51b7d\"],[0.2,\"#de77ae\"],[0.3,\"#f1b6da\"],[0.4,\"#fde0ef\"],[0.5,\"#f7f7f7\"],[0.6,\"#e6f5d0\"],[0.7,\"#b8e186\"],[0.8,\"#7fbc41\"],[0.9,\"#4d9221\"],[1,\"#276419\"]]},\"xaxis\":{\"gridcolor\":\"white\",\"linecolor\":\"white\",\"ticks\":\"\",\"title\":{\"standoff\":15},\"zerolinecolor\":\"white\",\"automargin\":true,\"zerolinewidth\":2},\"yaxis\":{\"gridcolor\":\"white\",\"linecolor\":\"white\",\"ticks\":\"\",\"title\":{\"standoff\":15},\"zerolinecolor\":\"white\",\"automargin\":true,\"zerolinewidth\":2},\"scene\":{\"xaxis\":{\"backgroundcolor\":\"#E5ECF6\",\"gridcolor\":\"white\",\"linecolor\":\"white\",\"showbackground\":true,\"ticks\":\"\",\"zerolinecolor\":\"white\",\"gridwidth\":2},\"yaxis\":{\"backgroundcolor\":\"#E5ECF6\",\"gridcolor\":\"white\",\"linecolor\":\"white\",\"showbackground\":true,\"ticks\":\"\",\"zerolinecolor\":\"white\",\"gridwidth\":2},\"zaxis\":{\"backgroundcolor\":\"#E5ECF6\",\"gridcolor\":\"white\",\"linecolor\":\"white\",\"showbackground\":true,\"ticks\":\"\",\"zerolinecolor\":\"white\",\"gridwidth\":2}},\"shapedefaults\":{\"line\":{\"color\":\"#2a3f5f\"}},\"annotationdefaults\":{\"arrowcolor\":\"#2a3f5f\",\"arrowhead\":0,\"arrowwidth\":1},\"geo\":{\"bgcolor\":\"white\",\"landcolor\":\"#E5ECF6\",\"subunitcolor\":\"white\",\"showland\":true,\"showlakes\":true,\"lakecolor\":\"white\"},\"title\":{\"x\":0.05},\"mapbox\":{\"style\":\"light\"}}},\"xaxis\":{\"anchor\":\"y\",\"domain\":[0.0,1.0],\"scaleanchor\":\"y\",\"constrain\":\"domain\",\"title\":{\"text\":\"Head\"}},\"yaxis\":{\"anchor\":\"x\",\"domain\":[0.0,1.0],\"autorange\":\"reversed\",\"constrain\":\"domain\",\"title\":{\"text\":\"Layer\"}},\"coloraxis\":{\"colorscale\":[[0.0,\"rgb(103,0,31)\"],[0.1,\"rgb(178,24,43)\"],[0.2,\"rgb(214,96,77)\"],[0.3,\"rgb(244,165,130)\"],[0.4,\"rgb(253,219,199)\"],[0.5,\"rgb(247,247,247)\"],[0.6,\"rgb(209,229,240)\"],[0.7,\"rgb(146,197,222)\"],[0.8,\"rgb(67,147,195)\"],[0.9,\"rgb(33,102,172)\"],[1.0,\"rgb(5,48,97)\"]],\"cmid\":0.0},\"title\":{\"text\":\"Induction Score by Head in Distil GPT-2\"}},                        {\"responsive\": true}                    ).then(function(){\n",
       "                            \n",
       "var gd = document.getElementById('67828c88-d8d3-4190-b1b6-8f1e287b0494');\n",
       "var x = new MutationObserver(function (mutations, observer) {{\n",
       "        var display = window.getComputedStyle(gd).display;\n",
       "        if (!display || display === 'none') {{\n",
       "            console.log([gd, 'removed!']);\n",
       "            Plotly.purge(gd);\n",
       "            observer.disconnect();\n",
       "        }}\n",
       "}});\n",
       "\n",
       "// Listen for the removal of the full notebook cells\n",
       "var notebookContainer = gd.closest('#notebook-container');\n",
       "if (notebookContainer) {{\n",
       "    x.observe(notebookContainer, {childList: true});\n",
       "}}\n",
       "\n",
       "// Listen for the clearing of the current output cell\n",
       "var outputEl = gd.closest('.output');\n",
       "if (outputEl) {{\n",
       "    x.observe(outputEl, {childList: true});\n",
       "}}\n",
       "\n",
       "                        })                };            </script>        </div>\n",
       "</body>\n",
       "</html>"
      ]
     },
     "metadata": {},
     "output_type": "display_data"
    }
   ],
   "source": [
    "\n",
    "# We make a tensor to store the induction score for each head. We put it on the model's device to avoid needing to move things between the GPU and CPU, which can be slow.\n",
    "distilgpt2_induction_score_store = torch.zeros((distilgpt2.cfg.n_layers, distilgpt2.cfg.n_heads), device=distilgpt2.cfg.device)\n",
    "def induction_score_hook(\n",
    "    pattern: Float[torch.Tensor, \"batch head_index dest_pos source_pos\"],\n",
    "    hook: HookPoint,\n",
    "):\n",
    "    # We take the diagonal of attention paid from each destination position to source positions seq_len-1 tokens back\n",
    "    # (This only has entries for tokens with index>=seq_len)\n",
    "    induction_stripe = pattern.diagonal(dim1=-2, dim2=-1, offset=1-seq_len)\n",
    "    # Get an average score per head\n",
    "    induction_score = einops.reduce(induction_stripe, \"batch head_index position -> head_index\", \"mean\")\n",
    "    # Store the result.\n",
    "    distilgpt2_induction_score_store[hook.layer(), :] = induction_score\n",
    "\n",
    "# We make a boolean filter on activation names, that's true only on attention pattern names.\n",
    "pattern_hook_names_filter = lambda name: name.endswith(\"pattern\")\n",
    "\n",
    "distilgpt2.run_with_hooks(\n",
    "    repeated_tokens,\n",
    "    return_type=None, # For efficiency, we don't need to calculate the logits\n",
    "    fwd_hooks=[(\n",
    "        pattern_hook_names_filter,\n",
    "        induction_score_hook\n",
    "    )]\n",
    ")\n",
    "\n",
    "imshow(distilgpt2_induction_score_store, xaxis=\"Head\", yaxis=\"Layer\", title=\"Induction Score by Head in Distil GPT-2\")"
   ]
  },
  {
   "cell_type": "markdown",
   "metadata": {
    "id": "WyizUzdznJT1"
   },
   "source": [
    "\n",
    "### An overview of the important open source models in the library\n",
    "\n",
    "* **GPT-2** - the classic generative pre-trained models from OpenAI\n",
    "    * Sizes Small (85M), Medium (300M), Large (700M) and XL (1.5B).\n",
    "    * Trained on ~22B tokens of internet text. ([Open source replication](https://huggingface.co/datasets/openwebtext))\n",
    "* **GPT-Neo** - Eleuther's replication of GPT-2\n",
    "    * Sizes 125M, 1.3B, 2.7B\n",
    "    * Trained on 300B(ish?) tokens of [the Pile](https://pile.eleuther.ai/) a large and diverse dataset including a bunch of code (and weird stuff)\n",
    "* **[OPT](https://ai.facebook.com/blog/democratizing-access-to-large-scale-language-models-with-opt-175b/)** - Meta AI's series of open source models\n",
    "    * Trained on 180B tokens of diverse text.\n",
    "    * 125M, 1.3B, 2.7B, 6.7B, 13B, 30B, 66B\n",
    "* **GPT-J** - Eleuther's 6B parameter model, trained on the Pile\n",
    "* **GPT-NeoX** - Eleuther's 20B parameter model, trained on the Pile\n",
    "* **StableLM** - Stability AI's 3B and 7B models, with and without chat and instruction fine-tuning\n",
    "* **Stanford CRFM models** - a replication of GPT-2 Small and GPT-2 Medium, trained on 5 different random seeds.\n",
    "    * Notably, 600 checkpoints were taken during training per model, and these are available in the library with eg `HookedTransformer.from_pretrained(\"stanford-gpt2-small-a\", checkpoint_index=265)`.\n",
    "- **BERT** - Google's bidirectional encoder-only transformer.\n",
    "    - Size Base (108M), trained on English Wikipedia and BooksCorpus.\n",
    "\n",
    "</details>"
   ]
  },
  {
   "cell_type": "markdown",
   "metadata": {
    "id": "bp1Oy26DnJT1"
   },
   "source": [
    "\n",
    "### An overview of some interpretability-friendly models I've trained and included\n",
    "\n",
    "(Feel free to [reach out](mailto:neelnanda27@gmail.com) if you want more details on any of these models)\n",
    "\n",
    "Each of these models has about ~200 checkpoints taken during training that can also be loaded from TransformerLens, with the `checkpoint_index` argument to `from_pretrained`.\n",
    "\n",
    "Note that all models are trained with a Beginning of Sequence token, and will likely break if given inputs without that!\n",
    "\n",
    "* **Toy Models**: Inspired by [A Mathematical Framework](https://transformer-circuits.pub/2021/framework/index.html), I've trained 12 tiny language models, of 1-4L and each of width 512. I think that interpreting these is likely to be far more tractable than larger models, and both serve as good practice and will likely contain motifs and circuits that generalise to far larger models (like induction heads):\n",
    "    * Attention-Only models (ie without MLPs): attn-only-1l, attn-only-2l, attn-only-3l, attn-only-4l\n",
    "    * GELU models (ie with MLP, and the standard GELU activations): gelu-1l, gelu-2l, gelu-3l, gelu-4l\n",
    "    * SoLU models (ie with MLP, and [Anthropic's SoLU activation](https://transformer-circuits.pub/2022/solu/index.html), designed to make MLP neurons more interpretable): solu-1l, solu-2l, solu-3l, solu-4l\n",
    "    * All models are trained on 22B tokens of data, 80% from C4 (web text) and 20% from Python Code\n",
    "    * Models of the same layer size were trained with the same weight initialization and data shuffle, to more directly compare the effect of different activation functions.\n",
    "* **SoLU** models: A larger scan of models trained with [Anthropic's SoLU activation](https://transformer-circuits.pub/2022/solu/index.html), in the hopes that it makes the MLP neuron interpretability easier.\n",
    "    * A scan up to GPT-2 Medium size, trained on 30B tokens of the same data as toy models, 80% from C4 and 20% from Python code.\n",
    "        * solu-6l (40M), solu-8l (100M), solu-10l (200M), solu-12l (340M)\n",
    "    * An older scan up to GPT-2 Medium size, trained on 15B tokens of [the Pile](https://pile.eleuther.ai/)\n",
    "        * solu-1l-pile (13M), solu-2l-pile (13M), solu-4l-pile (13M), solu-6l-pile (40M), solu-8l-pile (100M), solu-10l-pile (200M), solu-12l-pile (340M)"
   ]
  },
  {
   "cell_type": "markdown",
   "metadata": {
    "id": "Z2EFnzMgnJT1"
   },
   "source": [
    "## Other Resources:\n",
    "\n",
    "* [Concrete Steps to Get Started in Mechanistic Interpretability](https://neelnanda.io/getting-started): A guide I wrote for how to get involved in mechanistic interpretability, and how to learn the basic skills\n",
    "* [A Comprehensive Mechanistic Interpretability Explainer](https://neelnanda.io/glossary): An overview of concepts in the field and surrounding ideas in ML and transformers, with long digressions to give context and build intuitions.\n",
    "* [Concrete Open Problems in Mechanistic Interpretability](https://neelnanda.io/concrete-open-problems), a doc I wrote giving a long list of open problems in mechanistic interpretability, and thoughts on how to get started on trying to work on them.\n",
    "    * There's a lot of low-hanging fruit in the field, and I expect that many people reading this could use TransformerLens to usefully make progress on some of these!\n",
    "* Other demos:\n",
    "    * **[Exploratory Analysis Demo](https://neelnanda.io/exploratory-analysis-demo)**, a demonstration of my standard toolkit for how to use TransformerLens to explore a mysterious behaviour in a language model.\n",
    "    * [Interpretability in the Wild](https://github.com/redwoodresearch/Easy-Transformer) a codebase from Arthur Conmy and Alex Variengien at Redwood research using this library to do a detailed and rigorous reverse engineering of the Indirect Object Identification circuit, to accompany their paper\n",
    "        * Note - this was based on an earlier version of this library, called EasyTransformer. It's pretty similar, but several breaking changes have been made since.\n",
    "    * A [recorded walkthrough](https://www.youtube.com/watch?v=yo4QvDn-vsU) of me doing research with TransformerLens on whether a tiny model can re-derive positional information, with [an accompanying Colab](https://colab.research.google.com/github/TransformerLensOrg/TransformerLens/blob/main/No_Position_Experiment.ipynb)\n",
    "* [Neuroscope](https://neuroscope.io), a website showing the text in the dataset that most activates each neuron in some selected models. Good to explore to get a sense for what kind of features the model tends to represent, and as a \"wiki\" to get some info\n",
    "    * A tutorial on how to make an [Interactive Neuroscope](https://github.com/TransformerLensOrg/TransformerLens/blob/main/Hacky-Interactive-Lexoscope.ipynb), where you type in text and see the neuron activations over the text update live."
   ]
  },
  {
   "cell_type": "markdown",
   "metadata": {
    "id": "tQnd7b_znJT1"
   },
   "source": [
    "## Transformer architecture\n",
    "\n",
    "HookedTransformer is a somewhat adapted GPT-2 architecture, but is computationally identical. The most significant changes are to the internal structure of the attention heads:\n",
    "* The weights (W_K, W_Q, W_V) mapping the residual stream to queries, keys and values are 3 separate matrices, rather than big concatenated one.\n",
    "* The weight matrices (W_K, W_Q, W_V, W_O) and activations (keys, queries, values, z (values mixed by attention pattern)) have separate head_index and d_head axes, rather than flattening them into one big axis.\n",
    "    * The activations all have shape `[batch, position, head_index, d_head]`\n",
    "    * W_K, W_Q, W_V have shape `[head_index, d_model, d_head]` and W_O has shape `[head_index, d_head, d_model]`\n",
    "\n",
    "The actual code is a bit of a mess, as there's a variety of Boolean flags to make it consistent with the various different model families in TransformerLens - to understand it and the internal structure, I instead recommend reading the code in [CleanTransformerDemo](https://colab.research.google.com/github/TransformerLensOrg/TransformerLens/blob/clean-transformer-demo/Clean_Transformer_Demo.ipynb)"
   ]
  },
  {
   "cell_type": "markdown",
   "metadata": {
    "id": "-nArIHTZnJT1"
   },
   "source": [
    "### Parameter Names\n",
    "\n",
    "Here is a list of the parameters and shapes in the model. By convention, all weight matrices multiply on the right (ie `new_activation = old_activation @ weights + bias`).\n",
    "\n",
    "Reminder of the key hyper-params:\n",
    "* `n_layers`: 12. The number of transformer blocks in the model (a block contains an attention layer and an MLP layer)\n",
    "* `n_heads`: 12. The number of attention heads per attention layer\n",
    "* `d_model`: 768. The residual stream width.\n",
    "* `d_head`: 64. The internal dimension of an attention head activation.\n",
    "* `d_mlp`: 3072. The internal dimension of the MLP layers (ie the number of neurons).\n",
    "* `d_vocab`: 50267. The number of tokens in the vocabulary.\n",
    "* `n_ctx`: 1024. The maximum number of tokens in an input prompt.\n"
   ]
  },
  {
   "cell_type": "markdown",
   "metadata": {
    "id": "tj7xMnDunJT1"
   },
   "source": [
    "**Transformer Block parameters:**\n",
    "Replace 0 with the relevant layer index."
   ]
  },
  {
   "cell_type": "code",
   "execution_count": 25,
   "metadata": {
    "id": "WzVLI4cOnJT1",
    "outputId": "3f23bf04-50b8-4c41-ebc5-5348270d83ef"
   },
   "outputs": [
    {
     "name": "stdout",
     "output_type": "stream",
     "text": [
      "blocks.0.attn.W_Q torch.Size([12, 768, 64])\n",
      "blocks.0.attn.W_O torch.Size([12, 64, 768])\n",
      "blocks.0.attn.b_Q torch.Size([12, 64])\n",
      "blocks.0.attn.b_O torch.Size([768])\n",
      "blocks.0.attn.W_K torch.Size([12, 768, 64])\n",
      "blocks.0.attn.W_V torch.Size([12, 768, 64])\n",
      "blocks.0.attn.b_K torch.Size([12, 64])\n",
      "blocks.0.attn.b_V torch.Size([12, 64])\n",
      "blocks.0.mlp.W_in torch.Size([768, 3072])\n",
      "blocks.0.mlp.b_in torch.Size([3072])\n",
      "blocks.0.mlp.W_out torch.Size([3072, 768])\n",
      "blocks.0.mlp.b_out torch.Size([768])\n"
     ]
    }
   ],
   "source": [
    "for name, param in model.named_parameters():\n",
    "    if name.startswith(\"blocks.0.\"):\n",
    "        print(name, param.shape)"
   ]
  },
  {
   "cell_type": "markdown",
   "metadata": {
    "id": "W_vZj0wVnJT2"
   },
   "source": [
    "**Embedding & Unembedding parameters:**"
   ]
  },
  {
   "cell_type": "code",
   "execution_count": 26,
   "metadata": {
    "id": "vfICtp7NnJT2",
    "outputId": "4b1c869b-8699-4e62-8539-b184e887eb85"
   },
   "outputs": [
    {
     "name": "stdout",
     "output_type": "stream",
     "text": [
      "embed.W_E torch.Size([50257, 768])\n",
      "pos_embed.W_pos torch.Size([1024, 768])\n",
      "unembed.W_U torch.Size([768, 50257])\n",
      "unembed.b_U torch.Size([50257])\n"
     ]
    }
   ],
   "source": [
    "for name, param in model.named_parameters():\n",
    "    if not name.startswith(\"blocks\"):\n",
    "        print(name, param.shape)"
   ]
  },
  {
   "cell_type": "markdown",
   "metadata": {
    "id": "u3-J1qYynJT2"
   },
   "source": [
    "### Activation + Hook Names\n",
    "\n",
    "Lets get out a list of the activation/hook names in the model and their shapes. In practice, I recommend using the `utils.get_act_name` function to get the names, but this is a useful fallback, and necessary to eg write a name filter function.\n",
    "\n",
    "Let's do this by entering in a short, 10 token prompt, and add a hook function to each activations to print its name and shape. To avoid spam, let's just add this to activations in the first block or not in a block.\n",
    "\n",
    "Note 1: Each LayerNorm has a hook for the scale factor (ie the standard deviation of the input activations for each token position & batch element) and for the normalized output (ie the input activation with mean 0 and standard deviation 1, but *before* applying scaling or translating with learned weights). LayerNorm is applied every time a layer reads from the residual stream: `ln1` is the LayerNorm before the attention layer in a block, `ln2` the one before the MLP layer, and `ln_final` is the LayerNorm before the unembed.\n",
    "\n",
    "Note 2: *Every* activation apart from the attention pattern and attention scores has shape beginning with `[batch, position]`. The attention pattern and scores have shape `[batch, head_index, dest_position, source_position]` (the numbers are the same, unless we're using caching)."
   ]
  },
  {
   "cell_type": "code",
   "execution_count": 27,
   "metadata": {
    "id": "u8HPjIPVnJT2",
    "outputId": "11aa2a71-5677-4893-bddc-75258e0c080c"
   },
   "outputs": [
    {
     "name": "stdout",
     "output_type": "stream",
     "text": [
      "Num tokens: 10\n",
      "hook_embed torch.Size([1, 10, 768])\n",
      "hook_pos_embed torch.Size([1, 10, 768])\n",
      "blocks.0.hook_resid_pre torch.Size([1, 10, 768])\n",
      "blocks.0.ln1.hook_scale torch.Size([1, 10, 1])\n",
      "blocks.0.ln1.hook_normalized torch.Size([1, 10, 768])\n",
      "blocks.0.ln1.hook_scale torch.Size([1, 10, 1])\n",
      "blocks.0.ln1.hook_normalized torch.Size([1, 10, 768])\n",
      "blocks.0.ln1.hook_scale torch.Size([1, 10, 1])\n",
      "blocks.0.ln1.hook_normalized torch.Size([1, 10, 768])\n",
      "blocks.0.attn.hook_q torch.Size([1, 10, 12, 64])\n",
      "blocks.0.attn.hook_k torch.Size([1, 10, 12, 64])\n",
      "blocks.0.attn.hook_v torch.Size([1, 10, 12, 64])\n",
      "blocks.0.attn.hook_attn_scores torch.Size([1, 12, 10, 10])\n",
      "blocks.0.attn.hook_pattern torch.Size([1, 12, 10, 10])\n",
      "blocks.0.attn.hook_z torch.Size([1, 10, 12, 64])\n",
      "blocks.0.hook_attn_out torch.Size([1, 10, 768])\n",
      "blocks.0.hook_resid_mid torch.Size([1, 10, 768])\n",
      "blocks.0.ln2.hook_scale torch.Size([1, 10, 1])\n",
      "blocks.0.ln2.hook_normalized torch.Size([1, 10, 768])\n",
      "blocks.0.mlp.hook_pre torch.Size([1, 10, 3072])\n",
      "blocks.0.mlp.hook_post torch.Size([1, 10, 3072])\n",
      "blocks.0.hook_mlp_out torch.Size([1, 10, 768])\n",
      "blocks.0.hook_resid_post torch.Size([1, 10, 768])\n",
      "ln_final.hook_scale torch.Size([1, 10, 1])\n",
      "ln_final.hook_normalized torch.Size([1, 10, 768])\n"
     ]
    }
   ],
   "source": [
    "test_prompt = \"The quick brown fox jumped over the lazy dog\"\n",
    "print(\"Num tokens:\", len(model.to_tokens(test_prompt)[0]))\n",
    "\n",
    "def print_name_shape_hook_function(activation, hook):\n",
    "    print(hook.name, activation.shape)\n",
    "\n",
    "not_in_late_block_filter = lambda name: name.startswith(\"blocks.0.\") or not name.startswith(\"blocks\")\n",
    "\n",
    "model.run_with_hooks(\n",
    "    test_prompt,\n",
    "    return_type=None,\n",
    "    fwd_hooks=[(not_in_late_block_filter, print_name_shape_hook_function)],\n",
    ")"
   ]
  },
  {
   "cell_type": "markdown",
   "metadata": {
    "id": "MKke92UGnJT2"
   },
   "source": [
    "### Folding LayerNorm (For the Curious)"
   ]
  },
  {
   "cell_type": "markdown",
   "metadata": {
    "id": "fGYU8m_1nJT2"
   },
   "source": [
    "(For the curious - this is an important technical detail that's worth understanding, especially if you have preconceptions about how transformers work, but not necessary to use TransformerLens)\n",
    "\n",
    "LayerNorm is a normalization technique used by transformers, analogous to BatchNorm but more friendly to massive parallelisation. No one *really* knows why it works, but it seems to improve model numerical stability. Unlike BatchNorm, LayerNorm actually changes the functional form of the model, which makes it a massive pain for interpretability!\n",
    "\n",
    "Folding LayerNorm is a technique to make it lower overhead to deal with, and the flags `center_writing_weights` and `fold_ln` in `HookedTransformer.from_pretrained` apply this automatically (they default to True). These simplify the internal structure without changing the weights.\n",
    "\n",
    "Intuitively, LayerNorm acts on each residual stream vector (ie for each batch element and token position) independently, sets their mean to 0 (centering) and standard deviation to 1 (normalizing) (*across* the residual stream dimension - very weird!), and then applies a learned elementwise scaling and translation to each vector.\n",
    "\n",
    "Mathematically, centering is a linear map, normalizing is *not* a linear map, and scaling and translation are linear maps.\n",
    "* **Centering:** LayerNorm is applied every time a layer reads from the residual stream, so the mean of any residual stream vector can never matter - `center_writing_weights` set every weight matrix writing to the residual to have zero mean.\n",
    "* **Normalizing:** Normalizing is not a linear map, and cannot be factored out. The `hook_scale` hook point lets you access and control for this.\n",
    "* **Scaling and Translation:** Scaling and translation are linear maps, and are always followed by another linear map. The composition of two linear maps is another linear map, so we can *fold* the scaling and translation weights into the weights of the subsequent layer, and simplify things without changing the underlying computation.\n",
    "\n",
    "[See the docs for more details](https://github.com/TransformerLensOrg/TransformerLens/blob/main/further_comments.md#what-is-layernorm-folding-fold_ln)"
   ]
  },
  {
   "cell_type": "markdown",
   "metadata": {
    "id": "LKGJN3tAnJT2"
   },
   "source": [
    "A fun consequence of LayerNorm folding is that it creates a bias across the unembed, a `d_vocab` length vector that is added to the output logits - GPT-2 is not trained with this, but it *is* trained with a final LayerNorm that contains a bias.\n",
    "\n",
    "Turns out, this LayerNorm bias learns structure of the data that we can only see after folding! In particular, it essentially learns **unigram statistics** - rare tokens get suppressed, common tokens get boosted, by pretty dramatic degrees! Let's list the top and bottom 20 - at the top we see common punctuation and words like \" the\" and \" and\", at the bottom we see weird-ass tokens like \" RandomRedditor\":"
   ]
  },
  {
   "cell_type": "code",
   "execution_count": 28,
   "metadata": {
    "id": "UR7-kvLNnJT2"
   },
   "outputs": [],
   "source": [
    "unembed_bias = model.unembed.b_U\n",
    "bias_values, bias_indices = unembed_bias.sort(descending=True)"
   ]
  },
  {
   "cell_type": "code",
   "execution_count": 29,
   "metadata": {
    "id": "Jmc5m3XPnJT2",
    "outputId": "093cc5ee-30b0-4b2b-810e-87100a4437fd"
   },
   "outputs": [
    {
     "name": "stdout",
     "output_type": "stream",
     "text": [
      "Top 20 values\n",
      "7.03 ','\n",
      "6.98 ' the'\n",
      "6.68 ' and'\n",
      "6.49 '.'\n",
      "6.48 '\\n'\n",
      "6.47 ' a'\n",
      "6.41 ' in'\n",
      "6.25 ' to'\n",
      "6.16 ' of'\n",
      "6.04 '-'\n",
      "6.03 ' ('\n",
      "5.88 ' \"'\n",
      "5.80 ' for'\n",
      "5.72 ' that'\n",
      "5.64 ' on'\n",
      "5.59 ' is'\n",
      "5.52 ' as'\n",
      "5.49 ' at'\n",
      "5.45 ' with'\n",
      "5.44 ' or'\n",
      "...\n",
      "Bottom 20 values\n",
      "-3.82 ' サーティ'\n",
      "-3.83 '\\x18'\n",
      "-3.83 '\\x14'\n",
      "-3.83 ' RandomRedditor'\n",
      "-3.83 '龍�'\n",
      "-3.83 '�'\n",
      "-3.83 '\\x1b'\n",
      "-3.83 '�'\n",
      "-3.83 '\\x05'\n",
      "-3.83 '\\x00'\n",
      "-3.83 '\\x06'\n",
      "-3.83 '\\x07'\n",
      "-3.83 '\\x0c'\n",
      "-3.83 '\\x02'\n",
      "-3.83 'oreAndOnline'\n",
      "-3.84 '\\x11'\n",
      "-3.84 '�'\n",
      "-3.84 '\\x10'\n",
      "-3.84 '�'\n",
      "-3.84 '�'\n"
     ]
    }
   ],
   "source": [
    "top_k = 20\n",
    "print(f\"Top {top_k} values\")\n",
    "for i in range(top_k):\n",
    "    print(f\"{bias_values[i].item():.2f} {repr(model.to_string(bias_indices[i]))}\")\n",
    "\n",
    "print(\"...\")\n",
    "print(f\"Bottom {top_k} values\")\n",
    "for i in range(top_k, 0, -1):\n",
    "    print(f\"{bias_values[-i].item():.2f} {repr(model.to_string(bias_indices[-i]))}\")"
   ]
  },
  {
   "cell_type": "markdown",
   "metadata": {
    "id": "SvsTgpMRnJT2"
   },
   "source": [
    "This can have real consequences for interpretability - for example, this bias favours \" John\" over \" Mary\" by about 1.2, about 1/3 of the effect size of the Indirect Object Identification Circuit! All other things being the same, this makes the John token 3.6x times more likely than the Mary token."
   ]
  },
  {
   "cell_type": "code",
   "execution_count": 30,
   "metadata": {
    "id": "x4JvIPp5nJT2",
    "outputId": "bfe183e6-e098-4145-818b-49078894f260"
   },
   "outputs": [
    {
     "name": "stdout",
     "output_type": "stream",
     "text": [
      "John bias: 2.8995\n",
      "Mary bias: 1.6034\n",
      "Prob ratio bias: 3.6550x\n"
     ]
    }
   ],
   "source": [
    "john_bias = model.unembed.b_U[model.to_single_token(' John')]\n",
    "mary_bias = model.unembed.b_U[model.to_single_token(' Mary')]\n",
    "\n",
    "print(f\"John bias: {john_bias.item():.4f}\")\n",
    "print(f\"Mary bias: {mary_bias.item():.4f}\")\n",
    "print(f\"Prob ratio bias: {torch.exp(john_bias - mary_bias).item():.4f}x\")"
   ]
  },
  {
   "cell_type": "markdown",
   "metadata": {
    "id": "hj6pg0G9nJT2"
   },
   "source": [
    "# Features\n",
    "\n",
    "An overview of some other important features of the library. I recommend checking out the [Exploratory Analysis Demo](https://colab.research.google.com/github/TransformerLensOrg/Easy-Transformer/blob/main/Exploratory_Analysis_Demo.ipynb) for some other important features not mentioned here, and for a demo of what using the library in practice looks like."
   ]
  },
  {
   "cell_type": "markdown",
   "metadata": {
    "id": "gclNfNuSnJT3"
   },
   "source": [
    "## Dealing with tokens\n",
    "\n",
    "**Tokenization** is one of the most annoying features of studying language models. We want language models to be able to take in arbitrary text as input, but the transformer architecture needs the inputs to be elements of a fixed, finite vocabulary. The solution to this is **tokens**, a fixed vocabulary of \"sub-words\", that any natural language can be broken down into with a **tokenizer**. This is invertible, and we can recover the original text, called **de-tokenization**.\n",
    "\n",
    "TransformerLens comes with a range of utility functions to deal with tokenization. Different models can have different tokenizers, so these are all methods on the model.\n",
    "\n",
    "get_token_position, to_tokens, to_string, to_str_tokens, prepend_bos, to_single_token"
   ]
  },
  {
   "cell_type": "markdown",
   "metadata": {
    "id": "u1UaIUZdnJT3"
   },
   "source": [
    "The first thing you need to figure out is *how* things are tokenized. `model.to_str_tokens` splits a string into the tokens *as a list of substrings*, and so lets you explore what the text looks like. To demonstrate this, let's use it on this paragraph.\n",
    "\n",
    "Some observations - there are a lot of arbitrary-ish details in here!\n",
    "* The tokenizer splits on spaces, so no token contains two words.\n",
    "* Tokens include the preceding space, and whether the first token is a capital letter. `how` and ` how` are different tokens!\n",
    "* Common words are single tokens, even if fairly long (` paragraph`) while uncommon words are split into multiple tokens (` token|ized`).\n",
    "* Tokens *mostly* split on punctuation characters (eg `*` and `.`), but eg `'s` is a single token."
   ]
  },
  {
   "cell_type": "code",
   "execution_count": 31,
   "metadata": {
    "id": "mbVedKnnnJT3",
    "outputId": "0d1603c9-f026-4f6e-caa0-e8614fc5b337"
   },
   "outputs": [
    {
     "name": "stdout",
     "output_type": "stream",
     "text": [
      "['<|endoftext|>', 'The', ' first', ' thing', ' you', ' need', ' to', ' figure', ' out', ' is', ' *', 'how', '*', ' things', ' are', ' token', 'ized', '.', ' `', 'model', '.', 'to', '_', 'str', '_', 't', 'ok', 'ens', '`', ' splits', ' a', ' string', ' into', ' the', ' tokens', ' *', 'as', ' a', ' list', ' of', ' sub', 'strings', '*,', ' and', ' so', ' lets', ' you', ' explore', ' what', ' the', ' text', ' looks', ' like', '.', ' To', ' demonstrate', ' this', ',', ' let', \"'s\", ' use', ' it', ' on', ' this', ' paragraph', '.']\n"
     ]
    }
   ],
   "source": [
    "example_text = \"The first thing you need to figure out is *how* things are tokenized. `model.to_str_tokens` splits a string into the tokens *as a list of substrings*, and so lets you explore what the text looks like. To demonstrate this, let's use it on this paragraph.\"\n",
    "example_text_str_tokens = model.to_str_tokens(example_text)\n",
    "print(example_text_str_tokens)"
   ]
  },
  {
   "cell_type": "markdown",
   "metadata": {
    "id": "DvuNuXEXnJT3"
   },
   "source": [
    "The transformer needs to take in a sequence of integers, not strings, so we need to convert these tokens into integers. `model.to_tokens` does this, and returns a tensor of integers on the model's device (shape `[batch, position]`). It maps a string to a batch of size 1."
   ]
  },
  {
   "cell_type": "code",
   "execution_count": 32,
   "metadata": {
    "id": "dZqER5VunJT3",
    "outputId": "19f1507c-ce35-45bc-ab37-bc9ccaf3a276"
   },
   "outputs": [
    {
     "name": "stdout",
     "output_type": "stream",
     "text": [
      "tensor([[50256,   464,   717,  1517,   345,   761,   284,  3785,   503,   318,\n",
      "          1635,  4919,     9,  1243,   389, 11241,  1143,    13,  4600, 19849,\n",
      "            13,  1462,    62,  2536,    62,    83,   482,   641,    63, 30778,\n",
      "           257,  4731,   656,   262, 16326,  1635,   292,   257,  1351,   286,\n",
      "           850, 37336, 25666,   290,   523,  8781,   345,  7301,   644,   262,\n",
      "          2420,  3073,   588,    13,  1675, 10176,   428,    11,  1309,   338,\n",
      "           779,   340,   319,   428,  7322,    13]], device='cuda:0')\n"
     ]
    }
   ],
   "source": [
    "example_text_tokens = model.to_tokens(example_text)\n",
    "print(example_text_tokens)"
   ]
  },
  {
   "cell_type": "markdown",
   "metadata": {
    "id": "JIMRJe6unJT3"
   },
   "source": [
    "`to_tokens` can also take in a list of strings, and return a batch of size `len(strings)`. If the strings are different numbers of tokens, it adds a PAD token to the end of the shorter strings to make them the same length.\n",
    "\n",
    "(Note: In GPT-2, 50256 signifies both the beginning of sequence, end of sequence and padding token - see the `prepend_bos` section for details)"
   ]
  },
  {
   "cell_type": "code",
   "execution_count": 33,
   "metadata": {
    "id": "PK1cbsOUnJT3",
    "outputId": "c2f8573e-fdb1-4861-f6cd-eb4d0168ae91"
   },
   "outputs": [
    {
     "name": "stdout",
     "output_type": "stream",
     "text": [
      "tensor([[50256,   464,  3797,  3332,   319,   262,  2603,    13, 50256, 50256],\n",
      "        [50256,   464,  3797,  3332,   319,   262,  2603,  1107,  1327,    13]],\n",
      "       device='cuda:0')\n"
     ]
    }
   ],
   "source": [
    "example_multi_text = [\"The cat sat on the mat.\", \"The cat sat on the mat really hard.\"]\n",
    "example_multi_text_tokens = model.to_tokens(example_multi_text)\n",
    "print(example_multi_text_tokens)"
   ]
  },
  {
   "cell_type": "markdown",
   "metadata": {
    "id": "gLChHFOenJT4"
   },
   "source": [
    "`model.to_single_token` is a convenience function that takes in a string corresponding to a *single* token and returns the corresponding integer. This is useful for eg looking up the logit corresponding to a single token.\n",
    "\n",
    "For example, let's input `The cat sat on the mat.` to GPT-2, and look at the log prob predicting that the next token is ` The`.\n",
    "\n",
    "<details><summary>Technical notes</summary>\n",
    "\n",
    "Note that if we input a string to the model, it's implicitly converted to a string with `to_tokens`.\n",
    "\n",
    "Note further that the log probs have shape `[batch, position, d_vocab]==[1, 8, 50257]`, with a vector of log probs predicting the next token for *every* token position. GPT-2 uses causal attention which means heads can only look backwards (equivalently, information can only move forwards in the model.), so the log probs at position k are only a function of the first k tokens, and it can't just cheat and look at the k+1 th token. This structure lets it generate text more efficiently, and lets it treat every *token* as a training example, rather than every *sequence*.\n",
    "</details>"
   ]
  },
  {
   "cell_type": "code",
   "execution_count": 34,
   "metadata": {
    "id": "zZGGYpnsnJT4",
    "outputId": "b8f31202-487c-4c49-fe97-3ada42994a2b"
   },
   "outputs": [
    {
     "name": "stdout",
     "output_type": "stream",
     "text": [
      "Probability tensor shape [batch, position, d_vocab] == torch.Size([1, 8, 50257])\n",
      "| The| probability: 11.98%\n"
     ]
    }
   ],
   "source": [
    "cat_text = \"The cat sat on the mat.\"\n",
    "cat_logits = model(cat_text)\n",
    "cat_probs = cat_logits.softmax(dim=-1)\n",
    "print(f\"Probability tensor shape [batch, position, d_vocab] == {cat_probs.shape}\")\n",
    "\n",
    "capital_the_token_index = model.to_single_token(\" The\")\n",
    "print(f\"| The| probability: {cat_probs[0, -1, capital_the_token_index].item():.2%}\")"
   ]
  },
  {
   "cell_type": "markdown",
   "metadata": {
    "id": "9oMQzLgRnJT4"
   },
   "source": [
    "`model.to_string` is the inverse of `to_tokens` and maps a tensor of integers to a string or list of strings. It also works on integers and lists of integers.\n",
    "\n",
    "For example, let's look up token 256 (due to technical details of tokenization, this will be the most common pair of ASCII characters!), and also verify that our tokens above map back to a string."
   ]
  },
  {
   "cell_type": "code",
   "execution_count": 35,
   "metadata": {
    "id": "OsoUjRYenJT4",
    "outputId": "c7aea4e9-f536-4a83-abae-4fac8d05e301"
   },
   "outputs": [
    {
     "name": "stdout",
     "output_type": "stream",
     "text": [
      "Token 256 - the most common pair of ASCII characters: | t|\n",
      "De-Tokenizing the example tokens: <|endoftext|>The first thing you need to figure out is *how* things are tokenized. `model.to_str_tokens` splits a string into the tokens *as a list of substrings*, and so lets you explore what the text looks like. To demonstrate this, let's use it on this paragraph.\n"
     ]
    }
   ],
   "source": [
    "print(f\"Token 256 - the most common pair of ASCII characters: |{model.to_string(256)}|\")\n",
    "# Squeeze means to remove dimensions of length 1.\n",
    "# Here, that removes the dummy batch dimension so it's a rank 1 tensor and returns a string\n",
    "# Rank 2 tensors map to a list of strings\n",
    "print(f\"De-Tokenizing the example tokens: {model.to_string(example_text_tokens.squeeze())}\")"
   ]
  },
  {
   "cell_type": "markdown",
   "metadata": {
    "id": "_RXkfSjsnJT4"
   },
   "source": [
    "A related annoyance of tokenization is that it's hard to figure out how many tokens a string will break into. `model.get_token_position(single_token, tokens)` returns the position of `single_token` in `tokens`. `tokens` can be either a string or a tensor of tokens.\n",
    "\n",
    "Note that position is zero-indexed, it's two (ie third) because there's a beginning of sequence token automatically prepended (see the next section for details)"
   ]
  },
  {
   "cell_type": "code",
   "execution_count": 36,
   "metadata": {
    "id": "80EgNQT0nJT4",
    "outputId": "7cff7c27-023d-4b66-cb91-f60a4c542879"
   },
   "outputs": [
    {
     "name": "stdout",
     "output_type": "stream",
     "text": [
      "With BOS: 2\n",
      "Without BOS: 1\n"
     ]
    }
   ],
   "source": [
    "print(\"With BOS:\", model.get_token_position(\" cat\", \"The cat sat on the mat\"))\n",
    "print(\"Without BOS:\", model.get_token_position(\" cat\", \"The cat sat on the mat\", prepend_bos=False))"
   ]
  },
  {
   "cell_type": "markdown",
   "metadata": {
    "id": "4EoTKXpinJT5"
   },
   "source": [
    "If there are multiple copies of the token, we can set `mode=\"first\"` to find the first occurrence's position and `mode=\"last\"` to find the last"
   ]
  },
  {
   "cell_type": "code",
   "execution_count": 37,
   "metadata": {
    "id": "NrWyg_alnJT5",
    "outputId": "a9974a6c-6bb8-494c-d10b-c9ceff49b771"
   },
   "outputs": [
    {
     "name": "stdout",
     "output_type": "stream",
     "text": [
      "First occurrence 2\n",
      "Final occurrence 13\n"
     ]
    }
   ],
   "source": [
    "print(\"First occurrence\", model.get_token_position(\n",
    "    \" cat\",\n",
    "    \"The cat sat on the mat. The mat sat on the cat.\",\n",
    "    mode=\"first\"))\n",
    "print(\"Final occurrence\", model.get_token_position(\n",
    "    \" cat\",\n",
    "    \"The cat sat on the mat. The mat sat on the cat.\",\n",
    "    mode=\"last\"))"
   ]
  },
  {
   "cell_type": "markdown",
   "metadata": {
    "id": "sPghxQl_nJT5"
   },
   "source": [
    "In general, tokenization is a pain, and full of gotchas. I highly recommend just playing around with different inputs and their tokenization and getting a feel for it. As another \"fun\" example, let's look at the tokenization of arithmetic expressions - tokens do *not* contain consistent numbers of digits. (This makes it even more impressive that GPT-3 can do arithmetic!)"
   ]
  },
  {
   "cell_type": "code",
   "execution_count": 38,
   "metadata": {
    "id": "-DII0ZyBnJT5",
    "outputId": "752afe5b-e646-43f6-9993-ff75942f0ba7"
   },
   "outputs": [
    {
     "name": "stdout",
     "output_type": "stream",
     "text": [
      "['<|endoftext|>', '23', '42', '+', '2017', '=', '214', '45']\n",
      "['<|endoftext|>', '1000', '+', '1', '000000', '=', '9999', '99']\n"
     ]
    }
   ],
   "source": [
    "print(model.to_str_tokens(\"2342+2017=21445\"))\n",
    "print(model.to_str_tokens(\"1000+1000000=999999\"))"
   ]
  },
  {
   "cell_type": "markdown",
   "metadata": {
    "id": "NUOo2S9YnJT5"
   },
   "source": [
    "I also *highly* recommend investigating prompts with easy tokenization when starting out - ideally key words should form a single token, be in the same position in different prompts, have the same total length, etc. Eg study Indirect Object Identification with common English names like ` Tim` rather than ` Ne|el`. Transformers need to spend some parameters in early layers converting multi-token words to a single feature, and then de-converting this in the late layers, and unless this is what you're explicitly investigating, this will make the behaviour you're investigating be messier."
   ]
  },
  {
   "cell_type": "markdown",
   "metadata": {
    "id": "_HBuhrI-nJT5"
   },
   "source": [
    "### Gotcha: `prepend_bos`\n",
    "\n",
    "Key Takeaway: **If you get weird off-by-one errors, check whether there's an unexpected `prepend_bos`!**"
   ]
  },
  {
   "cell_type": "markdown",
   "metadata": {
    "id": "ua3L8g1PnJT6"
   },
   "source": [
    "A weirdness you may have noticed in the above is that `to_tokens` and `to_str_tokens` added a weird `<|endoftext|>` to the start of each prompt. TransformerLens does this by default, and it can easily trip up new users. Notably, **this includes `model.forward`** (which is what's implicitly used when you do eg `model(\"Hello World\")`). This is called a **Beginning of Sequence (BOS)** token, and it's a special token used to mark the beginning of the sequence. Confusingly, in GPT-2, the End of Sequence (EOS), Beginning of Sequence (BOS) and Padding (PAD) tokens are all the same, `<|endoftext|>` with index `50256`.\n",
    "\n",
    "**Gotcha:** You only want to prepend a BOS token at the *start* of a prompt. If you, eg, want to input a question followed by an answer, and want to tokenize these separately, you do *not* want to prepend_bos on the answer."
   ]
  },
  {
   "cell_type": "code",
   "execution_count": 39,
   "metadata": {
    "id": "BjQofbpynJT6",
    "outputId": "99be7b34-117c-4c60-89ed-6c0839fbd67c"
   },
   "outputs": [
    {
     "name": "stdout",
     "output_type": "stream",
     "text": [
      "Logits shape by default (with BOS) torch.Size([1, 3, 50257])\n",
      "Logits shape with BOS torch.Size([1, 3, 50257])\n",
      "Logits shape without BOS - only 2 positions! torch.Size([1, 2, 50257])\n"
     ]
    }
   ],
   "source": [
    "print(\"Logits shape by default (with BOS)\", model(\"Hello World\").shape)\n",
    "print(\"Logits shape with BOS\", model(\"Hello World\", prepend_bos=True).shape)\n",
    "print(\"Logits shape without BOS - only 2 positions!\", model(\"Hello World\", prepend_bos=False).shape)"
   ]
  },
  {
   "cell_type": "markdown",
   "metadata": {
    "id": "9dFNSeCLnJT6"
   },
   "source": [
    "`prepend_bos` is a bit of a hack, and I've gone back and forth on what the correct default here is. The reason I do this is that transformers tend to treat the first token weirdly - this doesn't really matter in training (where all inputs are >1000 tokens), but this can be a big issue when investigating short prompts! The reason for this is that attention patterns are a probability distribution and so need to add up to one, so to simulate being \"off\" they normally look at the first token. Giving them a BOS token lets the heads rest by looking at that, preserving the information in the first \"real\" token.\n",
    "\n",
    "Further, *some* models are trained to need a BOS token (OPT and my interpretability-friendly models are, GPT-2 and GPT-Neo are not). But despite GPT-2 not being trained with this, empirically it seems to make interpretability easier.\n",
    "\n",
    "(However, if you want to change the default behaviour to *not* prepending a BOS token, pass `default_prepend_bos=False` when you instantiate the model, e.g., `model = HookedTransformer.from_pretrained('gpt2', default_prepend_bos=False)`.)\n",
    "\n",
    "For example, the model can get much worse at Indirect Object Identification without a BOS (and with a name as the first token):"
   ]
  },
  {
   "cell_type": "code",
   "execution_count": 40,
   "metadata": {
    "id": "6vu8XlemnJT6",
    "outputId": "da049353-5223-4ad6-c930-a1dbc5862982"
   },
   "outputs": [
    {
     "name": "stdout",
     "output_type": "stream",
     "text": [
      "Logit difference with BOS: 6.754\n",
      "Logit difference without BOS: 2.782\n"
     ]
    }
   ],
   "source": [
    "ioi_logits_with_bos = model(\"Claire and Mary went to the shops, then Mary gave a bottle of milk to\", prepend_bos=True)\n",
    "mary_logit_with_bos = ioi_logits_with_bos[0, -1, model.to_single_token(\" Mary\")].item()\n",
    "claire_logit_with_bos = ioi_logits_with_bos[0, -1, model.to_single_token(\" Claire\")].item()\n",
    "print(f\"Logit difference with BOS: {(claire_logit_with_bos - mary_logit_with_bos):.3f}\")\n",
    "\n",
    "ioi_logits_without_bos = model(\"Claire and Mary went to the shops, then Mary gave a bottle of milk to\", prepend_bos=False)\n",
    "mary_logit_without_bos = ioi_logits_without_bos[0, -1, model.to_single_token(\" Mary\")].item()\n",
    "claire_logit_without_bos = ioi_logits_without_bos[0, -1, model.to_single_token(\" Claire\")].item()\n",
    "print(f\"Logit difference without BOS: {(claire_logit_without_bos - mary_logit_without_bos):.3f}\")"
   ]
  },
  {
   "cell_type": "markdown",
   "metadata": {
    "id": "lI0eZxudnJT6"
   },
   "source": [
    "Though, note that this also illustrates another gotcha - when `Claire` is at the start of a sentence (no preceding space), it's actually *two* tokens, not one, which probably confuses the relevant circuit. (Note - in this test we put `prepend_bos=False`, because we want to analyse the tokenization of a specific string, not to give an input to the model!)"
   ]
  },
  {
   "cell_type": "code",
   "execution_count": 41,
   "metadata": {
    "id": "0b7r3aznnJT7",
    "outputId": "ea3d435c-b8a8-427c-af69-33b92a0fd247"
   },
   "outputs": [
    {
     "name": "stdout",
     "output_type": "stream",
     "text": [
      "| Claire| -> [' Claire']\n",
      "|Claire| -> ['Cl', 'aire']\n"
     ]
    }
   ],
   "source": [
    "print(f\"| Claire| -> {model.to_str_tokens(' Claire', prepend_bos=False)}\")\n",
    "print(f\"|Claire| -> {model.to_str_tokens('Claire', prepend_bos=False)}\")"
   ]
  },
  {
   "cell_type": "markdown",
   "metadata": {
    "id": "jiCRcIAXnJT7"
   },
   "source": [
    "## Factored Matrix Class\n",
    "\n",
    "In transformer interpretability, we often need to analyse low rank factorized matrices - a matrix $M = AB$, where M is `[large, large]`, but A is `[large, small]` and B is `[small, large]`. This is a common structure in transformers, and the `FactoredMatrix` class is a convenient way to work with these. It implements efficient algorithms for various operations on these, such as computing the trace, eigenvalues, Frobenius norm, singular value decomposition, and products with other matrices. It can (approximately) act as a drop-in replacement for the original matrix, and supports leading batch dimensions to the factored matrix.\n",
    "\n",
    "<details><summary>Why are low-rank factorized matrices useful for transformer interpretability?</summary>\n",
    "\n",
    "As argued in [A Mathematical Framework](https://transformer-circuits.pub/2021/framework/index.html), an unexpected fact about transformer attention heads is that rather than being best understood as keys, queries and values (and the requisite weight matrices), they're actually best understood as two low rank factorized matrices.\n",
    "* **Where to move information from:** $W_QK = W_Q W_K^T$, used for determining the attention pattern - what source positions to move information from and what destination positions to move them to.\n",
    "    * Intuitively, residual stream -> query and residual stream -> key are linear maps, *and* `attention_score = query @ key.T` is a linear map, so the whole thing can be factored into one big bilinear form `residual @ W_QK @ residual.T`\n",
    "* **What information to move:** $W_OV = W_V W_O$, used to determine what information to copy from the source position to the destination position (weighted by the attention pattern weight from that destination to that source).\n",
    "    * Intuitively, the residual stream is a `[position, d_model]` tensor (ignoring batch). The attention pattern acts on the *position* dimension (where to move information from and to) and the value and output weights act on the *d_model* dimension - ie *what* information is contained at that source position. So we can factor it all into `attention_pattern @ residual @ W_V @ W_O`, and so only need to care about `W_OV = W_V @ W_O`\n",
    "* Note - the internal head dimension is smaller than the residual stream dimension, so the factorization is low rank. (here, `d_model=768` and `d_head=64`)\n",
    "</details>"
   ]
  },
  {
   "cell_type": "markdown",
   "metadata": {
    "id": "PQI_US3PnJT7"
   },
   "source": [
    "### Basic Examples"
   ]
  },
  {
   "cell_type": "markdown",
   "metadata": {
    "id": "kIEP26RInJT8"
   },
   "source": [
    "We can use the basic class directly - let's make a factored matrix directly and look at the basic operations:"
   ]
  },
  {
   "cell_type": "code",
   "execution_count": 42,
   "metadata": {
    "id": "SkuDoao4nJT8",
    "outputId": "e2d517ed-d53f-4625-f2b7-6a55ce9463d1"
   },
   "outputs": [
    {
     "name": "stdout",
     "output_type": "stream",
     "text": [
      "Norms:\n",
      "tensor(11.0466)\n",
      "tensor(11.0466)\n",
      "Right dimension: 5, Left dimension: 5, Hidden dimension: 2\n"
     ]
    }
   ],
   "source": [
    "if IN_GITHUB:\n",
    "    torch.manual_seed(50)\n",
    "A = torch.randn(5, 2)\n",
    "B = torch.randn(2, 5)\n",
    "\n",
    "AB = A @ B\n",
    "AB_factor = FactoredMatrix(A, B)\n",
    "print(\"Norms:\")\n",
    "print(AB.norm())\n",
    "print(AB_factor.norm())\n",
    "\n",
    "print(f\"Right dimension: {AB_factor.rdim}, Left dimension: {AB_factor.ldim}, Hidden dimension: {AB_factor.mdim}\")"
   ]
  },
  {
   "cell_type": "markdown",
   "metadata": {
    "id": "LHKOPvgznJT8"
   },
   "source": [
    "We can also look at the eigenvalues and singular values of the matrix. Note that, because the matrix is rank 2 but 5 by 5, the final 3 eigenvalues and singular values are zero - the factored class omits the zeros."
   ]
  },
  {
   "cell_type": "code",
   "execution_count": 43,
   "metadata": {
    "id": "P42ulAgcnJT8",
    "outputId": "1e495647-774a-487b-fc79-d77808553042"
   },
   "outputs": [
    {
     "name": "stdout",
     "output_type": "stream",
     "text": [
      "Eigenvalues:\n",
      "tensor([-9.3194e+00+0.j,  2.6738e-01+0.j, -2.2571e-07+0.j, -2.5113e-07+0.j,\n",
      "        -1.0826e-06+0.j])\n",
      "tensor([ 0.2674+0.j, -9.3194+0.j])\n",
      "\n",
      "Singular Values:\n",
      "tensor([1.0809e+01, 2.2781e+00, 4.8279e-07, 7.7657e-08, 1.8609e-08])\n",
      "tensor([10.8091,  2.2781])\n"
     ]
    }
   ],
   "source": [
    "# NBVAL_IGNORE_OUTPUT\n",
    "print(\"Eigenvalues:\")\n",
    "print(torch.linalg.eig(AB).eigenvalues)\n",
    "print(AB_factor.eigenvalues)\n",
    "print()\n",
    "print(\"Singular Values:\")\n",
    "print(torch.linalg.svd(AB).S)\n",
    "print(AB_factor.S)"
   ]
  },
  {
   "cell_type": "markdown",
   "metadata": {
    "id": "kTH9ZhWYnJT8"
   },
   "source": [
    "We can multiply with other matrices - it automatically chooses the smallest possible dimension to factor along (here it's 2, rather than 5)"
   ]
  },
  {
   "cell_type": "code",
   "execution_count": 44,
   "metadata": {
    "id": "SRYr0gBxnJT8",
    "outputId": "3ddedc71-0525-439c-9207-531bfe3ddfae"
   },
   "outputs": [
    {
     "name": "stdout",
     "output_type": "stream",
     "text": [
      "Unfactored: torch.Size([5, 300]) tensor(192.5040)\n",
      "Factored: torch.Size([5, 300]) tensor(192.5040)\n",
      "Right dimension: 300, Left dimension: 5, Hidden dimension: 2\n"
     ]
    }
   ],
   "source": [
    "if IN_GITHUB:\n",
    "    torch.manual_seed(50)\n",
    "\n",
    "C = torch.randn(5, 300)\n",
    "\n",
    "ABC = AB @ C\n",
    "ABC_factor = AB_factor @ C\n",
    "print(\"Unfactored:\", ABC.shape, ABC.norm().round(decimals=3))\n",
    "print(\"Factored:\", ABC_factor.shape, ABC_factor.norm().round(decimals=3))\n",
    "print(f\"Right dimension: {ABC_factor.rdim}, Left dimension: {ABC_factor.ldim}, Hidden dimension: {ABC_factor.mdim}\")"
   ]
  },
  {
   "cell_type": "markdown",
   "metadata": {
    "id": "THdWckZbnJT9"
   },
   "source": [
    "If we want to collapse this back to an unfactored matrix, we can use the AB property to get the product:"
   ]
  },
  {
   "cell_type": "code",
   "execution_count": 45,
   "metadata": {
    "id": "DxF-i3RpnJT9",
    "outputId": "37fe2615-aeea-4a0c-bc9c-191c42b44d84"
   },
   "outputs": [
    {
     "name": "stdout",
     "output_type": "stream",
     "text": [
      "tensor(True)\n"
     ]
    }
   ],
   "source": [
    "AB_unfactored = AB_factor.AB\n",
    "print(torch.isclose(AB_unfactored, AB).all())"
   ]
  },
  {
   "cell_type": "markdown",
   "metadata": {
    "id": "Pz8eI_f5nJT9"
   },
   "source": [
    "### Medium Example: Eigenvalue Copying Scores\n",
    "\n",
    "(This is a more involved example of how to use the factored matrix class, skip it if you aren't following)\n",
    "\n",
    "For a more involved example, let's look at the eigenvalue copying score from [A Mathematical Framework](https://transformer-circuits.pub/2021/framework/index.html) of the OV circuit for various heads. The OV Circuit for a head (the factorised matrix $W_OV = W_V W_O$) is a linear map that determines what information is moved from the source position to the destination position. Because this is low rank, it can be thought of as *reading in* some low rank subspace of the source residual stream and *writing to* some low rank subspace of the destination residual stream (with maybe some processing happening in the middle).\n",
    "\n",
    "A common operation for this will just be to *copy*, ie to have the same reading and writing subspace, and to do minimal processing in the middle. Empirically, this tends to coincide with the OV Circuit having (approximately) positive real eigenvalues. I mostly assert this as an empirical fact, but intuitively, operations that involve mapping eigenvectors to different directions (eg rotations) tend to have complex eigenvalues. And operations that preserve eigenvector direction but negate it tend to have negative real eigenvalues. And \"what happens to the eigenvectors\" is a decent proxy for what happens to an arbitrary vector.\n",
    "\n",
    "We can get a score for \"how positive real the OV circuit eigenvalues are\" with $\\frac{\\sum \\lambda_i}{\\sum |\\lambda_i|}$, where $\\lambda_i$ are the eigenvalues of the OV circuit. This is a bit of a hack, but it seems to work well in practice."
   ]
  },
  {
   "cell_type": "markdown",
   "metadata": {
    "id": "MuAjDi1KnJT9"
   },
   "source": [
    "Let's use FactoredMatrix to compute this for every head in the model! We use the helper `model.OV` to get the concatenated OV circuits for all heads across all layers in the model. This has the shape `[n_layers, n_heads, d_model, d_model]`, where `n_layers` and `n_heads` are batch dimensions and the final two dimensions are factorised as `[n_layers, n_heads, d_model, d_head]` and `[n_layers, n_heads, d_head, d_model]` matrices.\n",
    "\n",
    "We can then get the eigenvalues for this, where there are separate eigenvalues for each element of the batch (a `[n_layers, n_heads, d_head]` tensor of complex numbers), and calculate the copying score."
   ]
  },
  {
   "cell_type": "code",
   "execution_count": 46,
   "metadata": {
    "id": "Juhmk1-UnJT9",
    "outputId": "db43ef22-7693-4dd4-8f40-55fa1579ccb7"
   },
   "outputs": [
    {
     "name": "stdout",
     "output_type": "stream",
     "text": [
      "FactoredMatrix: Shape(torch.Size([12, 12, 768, 768])), Hidden Dim(64)\n"
     ]
    }
   ],
   "source": [
    "OV_circuit_all_heads = model.OV\n",
    "print(OV_circuit_all_heads)"
   ]
  },
  {
   "cell_type": "code",
   "execution_count": 47,
   "metadata": {
    "id": "q_fMbz4wnJT9",
    "outputId": "1ecc87fe-b7b5-4900-9946-4efb217d8642"
   },
   "outputs": [
    {
     "name": "stdout",
     "output_type": "stream",
     "text": [
      "torch.Size([12, 12, 64])\n",
      "torch.complex64\n"
     ]
    }
   ],
   "source": [
    "OV_circuit_all_heads_eigenvalues = OV_circuit_all_heads.eigenvalues\n",
    "print(OV_circuit_all_heads_eigenvalues.shape)\n",
    "print(OV_circuit_all_heads_eigenvalues.dtype)"
   ]
  },
  {
   "cell_type": "code",
   "execution_count": 48,
   "metadata": {
    "id": "Q8ZCSFdmnJT9",
    "outputId": "02416bf2-d956-434c-c9fa-bd1b84bcd354"
   },
   "outputs": [
    {
     "data": {
      "text/html": [
       "<html>\n",
       "<head><meta charset=\"utf-8\" /></head>\n",
       "<body>\n",
       "    <div>            <script src=\"https://cdnjs.cloudflare.com/ajax/libs/mathjax/2.7.5/MathJax.js?config=TeX-AMS-MML_SVG\"></script><script type=\"text/javascript\">if (window.MathJax && window.MathJax.Hub && window.MathJax.Hub.Config) {window.MathJax.Hub.Config({SVG: {font: \"STIX-Web\"}});}</script>                <script type=\"text/javascript\">window.PlotlyConfig = {MathJaxConfig: 'local'};</script>\n",
       "        <script charset=\"utf-8\" src=\"https://cdn.plot.ly/plotly-3.0.0.min.js\"></script>                <div id=\"5e91e8e8-2708-49ec-8c38-e6ed5c19cc4b\" class=\"plotly-graph-div\" style=\"height:525px; width:100%;\"></div>            <script type=\"text/javascript\">                window.PLOTLYENV=window.PLOTLYENV || {};                                if (document.getElementById(\"5e91e8e8-2708-49ec-8c38-e6ed5c19cc4b\")) {                    Plotly.newPlot(                        \"5e91e8e8-2708-49ec-8c38-e6ed5c19cc4b\",                        [{\"coloraxis\":\"coloraxis\",\"name\":\"0\",\"z\":{\"dtype\":\"f4\",\"bdata\":\"UApHP56YtD6\\u002f7IQ+M8IqPxOjVj8e9g4\\u002ffi9YP2jc0z5SxHo+K6vmPIeBtz69yiY+xIvovpkmJ7+qZwy\\u002fsI1Mv28NRr+XLVq\\u002fAzl6P8uhKT9m9jq\\u002fNmEzv2fVMb+H6n+\\u002foKFIvxqTZT+2P\\u002fM+dM0qv\\u002fbDST+K0lq\\u002ffslnvykvE7+SvKS+UT7qvDC9bL8gTXi\\u002fjB4WP2TtQr8a4Bg\\u002fjxJJP9T+YL+zIMg+4j83PZ3a4T3UJlG\\u002fRZtiPgd0fr8d0xM\\u002f0IUGPwocnD6pu9u9Gn1xPwpzbr9FAQc\\u002falravvWZf7\\u002fSmAc\\u002fG0VcP5y2Y7+OqHQ\\u002fDrUpP4nw2z55Q3k\\u002fANInP+rk+T3yiD4\\u002fvvgAP2TZcz9glSa\\u002fLX9uv6apej9YTH+\\u002f+Bd2P6gLQD+o5sK+PpokP8qtdD\\u002fVYHG\\u002fvat+v1oJST8ZOnc\\u002fuBE1P0LJvD66E1A\\u002fY0h3P1IXeT\\u002fGVKM+aBabvv6lej8WkG8\\u002fjxYOv4cis7t3nXw\\u002fXzBTP4wBET9r6Mw9eEpyv6Rqgr63+CY\\u002fDOwQPrUIfT9Sbnw\\u002fv+YxP4N8fT+jp3o\\u002fR55xvgJpe789kiY\\u002fD1Z9P15klb7VrXg\\u002f0sJ+P45YQD4zM3K\\u002f8r70PqXkfr76lnE\\u002fJgXzPe9+fj\\u002fzAsO+1Nl0P87kDT\\u002fypNc+brIpP4GvXT\\u002flY34\\u002fGStoPy3Vyz4HrNO+8kd\\u002fP5UisT78bX4\\u002fAdEWP4Vubj9lRW0\\u002f0dV\\u002fP9BsHz9TrVg\\u002fLY8oP8yhVz+9f5g+QnRfP3gOfz\\u002fSm3w\\u002f\",\"shape\":\"12, 12\"},\"type\":\"heatmap\",\"xaxis\":\"x\",\"yaxis\":\"y\",\"hovertemplate\":\"Head: %{x}\\u003cbr\\u003eLayer: %{y}\\u003cbr\\u003ecolor: %{z}\\u003cextra\\u003e\\u003c\\u002fextra\\u003e\"}],                        {\"template\":{\"data\":{\"histogram2dcontour\":[{\"type\":\"histogram2dcontour\",\"colorbar\":{\"outlinewidth\":0,\"ticks\":\"\"},\"colorscale\":[[0.0,\"#0d0887\"],[0.1111111111111111,\"#46039f\"],[0.2222222222222222,\"#7201a8\"],[0.3333333333333333,\"#9c179e\"],[0.4444444444444444,\"#bd3786\"],[0.5555555555555556,\"#d8576b\"],[0.6666666666666666,\"#ed7953\"],[0.7777777777777778,\"#fb9f3a\"],[0.8888888888888888,\"#fdca26\"],[1.0,\"#f0f921\"]]}],\"choropleth\":[{\"type\":\"choropleth\",\"colorbar\":{\"outlinewidth\":0,\"ticks\":\"\"}}],\"histogram2d\":[{\"type\":\"histogram2d\",\"colorbar\":{\"outlinewidth\":0,\"ticks\":\"\"},\"colorscale\":[[0.0,\"#0d0887\"],[0.1111111111111111,\"#46039f\"],[0.2222222222222222,\"#7201a8\"],[0.3333333333333333,\"#9c179e\"],[0.4444444444444444,\"#bd3786\"],[0.5555555555555556,\"#d8576b\"],[0.6666666666666666,\"#ed7953\"],[0.7777777777777778,\"#fb9f3a\"],[0.8888888888888888,\"#fdca26\"],[1.0,\"#f0f921\"]]}],\"heatmap\":[{\"type\":\"heatmap\",\"colorbar\":{\"outlinewidth\":0,\"ticks\":\"\"},\"colorscale\":[[0.0,\"#0d0887\"],[0.1111111111111111,\"#46039f\"],[0.2222222222222222,\"#7201a8\"],[0.3333333333333333,\"#9c179e\"],[0.4444444444444444,\"#bd3786\"],[0.5555555555555556,\"#d8576b\"],[0.6666666666666666,\"#ed7953\"],[0.7777777777777778,\"#fb9f3a\"],[0.8888888888888888,\"#fdca26\"],[1.0,\"#f0f921\"]]}],\"contourcarpet\":[{\"type\":\"contourcarpet\",\"colorbar\":{\"outlinewidth\":0,\"ticks\":\"\"}}],\"contour\":[{\"type\":\"contour\",\"colorbar\":{\"outlinewidth\":0,\"ticks\":\"\"},\"colorscale\":[[0.0,\"#0d0887\"],[0.1111111111111111,\"#46039f\"],[0.2222222222222222,\"#7201a8\"],[0.3333333333333333,\"#9c179e\"],[0.4444444444444444,\"#bd3786\"],[0.5555555555555556,\"#d8576b\"],[0.6666666666666666,\"#ed7953\"],[0.7777777777777778,\"#fb9f3a\"],[0.8888888888888888,\"#fdca26\"],[1.0,\"#f0f921\"]]}],\"surface\":[{\"type\":\"surface\",\"colorbar\":{\"outlinewidth\":0,\"ticks\":\"\"},\"colorscale\":[[0.0,\"#0d0887\"],[0.1111111111111111,\"#46039f\"],[0.2222222222222222,\"#7201a8\"],[0.3333333333333333,\"#9c179e\"],[0.4444444444444444,\"#bd3786\"],[0.5555555555555556,\"#d8576b\"],[0.6666666666666666,\"#ed7953\"],[0.7777777777777778,\"#fb9f3a\"],[0.8888888888888888,\"#fdca26\"],[1.0,\"#f0f921\"]]}],\"mesh3d\":[{\"type\":\"mesh3d\",\"colorbar\":{\"outlinewidth\":0,\"ticks\":\"\"}}],\"scatter\":[{\"fillpattern\":{\"fillmode\":\"overlay\",\"size\":10,\"solidity\":0.2},\"type\":\"scatter\"}],\"parcoords\":[{\"type\":\"parcoords\",\"line\":{\"colorbar\":{\"outlinewidth\":0,\"ticks\":\"\"}}}],\"scatterpolargl\":[{\"type\":\"scatterpolargl\",\"marker\":{\"colorbar\":{\"outlinewidth\":0,\"ticks\":\"\"}}}],\"bar\":[{\"error_x\":{\"color\":\"#2a3f5f\"},\"error_y\":{\"color\":\"#2a3f5f\"},\"marker\":{\"line\":{\"color\":\"#E5ECF6\",\"width\":0.5},\"pattern\":{\"fillmode\":\"overlay\",\"size\":10,\"solidity\":0.2}},\"type\":\"bar\"}],\"scattergeo\":[{\"type\":\"scattergeo\",\"marker\":{\"colorbar\":{\"outlinewidth\":0,\"ticks\":\"\"}}}],\"scatterpolar\":[{\"type\":\"scatterpolar\",\"marker\":{\"colorbar\":{\"outlinewidth\":0,\"ticks\":\"\"}}}],\"histogram\":[{\"marker\":{\"pattern\":{\"fillmode\":\"overlay\",\"size\":10,\"solidity\":0.2}},\"type\":\"histogram\"}],\"scattergl\":[{\"type\":\"scattergl\",\"marker\":{\"colorbar\":{\"outlinewidth\":0,\"ticks\":\"\"}}}],\"scatter3d\":[{\"type\":\"scatter3d\",\"line\":{\"colorbar\":{\"outlinewidth\":0,\"ticks\":\"\"}},\"marker\":{\"colorbar\":{\"outlinewidth\":0,\"ticks\":\"\"}}}],\"scattermap\":[{\"type\":\"scattermap\",\"marker\":{\"colorbar\":{\"outlinewidth\":0,\"ticks\":\"\"}}}],\"scattermapbox\":[{\"type\":\"scattermapbox\",\"marker\":{\"colorbar\":{\"outlinewidth\":0,\"ticks\":\"\"}}}],\"scatterternary\":[{\"type\":\"scatterternary\",\"marker\":{\"colorbar\":{\"outlinewidth\":0,\"ticks\":\"\"}}}],\"scattercarpet\":[{\"type\":\"scattercarpet\",\"marker\":{\"colorbar\":{\"outlinewidth\":0,\"ticks\":\"\"}}}],\"carpet\":[{\"aaxis\":{\"endlinecolor\":\"#2a3f5f\",\"gridcolor\":\"white\",\"linecolor\":\"white\",\"minorgridcolor\":\"white\",\"startlinecolor\":\"#2a3f5f\"},\"baxis\":{\"endlinecolor\":\"#2a3f5f\",\"gridcolor\":\"white\",\"linecolor\":\"white\",\"minorgridcolor\":\"white\",\"startlinecolor\":\"#2a3f5f\"},\"type\":\"carpet\"}],\"table\":[{\"cells\":{\"fill\":{\"color\":\"#EBF0F8\"},\"line\":{\"color\":\"white\"}},\"header\":{\"fill\":{\"color\":\"#C8D4E3\"},\"line\":{\"color\":\"white\"}},\"type\":\"table\"}],\"barpolar\":[{\"marker\":{\"line\":{\"color\":\"#E5ECF6\",\"width\":0.5},\"pattern\":{\"fillmode\":\"overlay\",\"size\":10,\"solidity\":0.2}},\"type\":\"barpolar\"}],\"pie\":[{\"automargin\":true,\"type\":\"pie\"}]},\"layout\":{\"autotypenumbers\":\"strict\",\"colorway\":[\"#636efa\",\"#EF553B\",\"#00cc96\",\"#ab63fa\",\"#FFA15A\",\"#19d3f3\",\"#FF6692\",\"#B6E880\",\"#FF97FF\",\"#FECB52\"],\"font\":{\"color\":\"#2a3f5f\"},\"hovermode\":\"closest\",\"hoverlabel\":{\"align\":\"left\"},\"paper_bgcolor\":\"white\",\"plot_bgcolor\":\"#E5ECF6\",\"polar\":{\"bgcolor\":\"#E5ECF6\",\"angularaxis\":{\"gridcolor\":\"white\",\"linecolor\":\"white\",\"ticks\":\"\"},\"radialaxis\":{\"gridcolor\":\"white\",\"linecolor\":\"white\",\"ticks\":\"\"}},\"ternary\":{\"bgcolor\":\"#E5ECF6\",\"aaxis\":{\"gridcolor\":\"white\",\"linecolor\":\"white\",\"ticks\":\"\"},\"baxis\":{\"gridcolor\":\"white\",\"linecolor\":\"white\",\"ticks\":\"\"},\"caxis\":{\"gridcolor\":\"white\",\"linecolor\":\"white\",\"ticks\":\"\"}},\"coloraxis\":{\"colorbar\":{\"outlinewidth\":0,\"ticks\":\"\"}},\"colorscale\":{\"sequential\":[[0.0,\"#0d0887\"],[0.1111111111111111,\"#46039f\"],[0.2222222222222222,\"#7201a8\"],[0.3333333333333333,\"#9c179e\"],[0.4444444444444444,\"#bd3786\"],[0.5555555555555556,\"#d8576b\"],[0.6666666666666666,\"#ed7953\"],[0.7777777777777778,\"#fb9f3a\"],[0.8888888888888888,\"#fdca26\"],[1.0,\"#f0f921\"]],\"sequentialminus\":[[0.0,\"#0d0887\"],[0.1111111111111111,\"#46039f\"],[0.2222222222222222,\"#7201a8\"],[0.3333333333333333,\"#9c179e\"],[0.4444444444444444,\"#bd3786\"],[0.5555555555555556,\"#d8576b\"],[0.6666666666666666,\"#ed7953\"],[0.7777777777777778,\"#fb9f3a\"],[0.8888888888888888,\"#fdca26\"],[1.0,\"#f0f921\"]],\"diverging\":[[0,\"#8e0152\"],[0.1,\"#c51b7d\"],[0.2,\"#de77ae\"],[0.3,\"#f1b6da\"],[0.4,\"#fde0ef\"],[0.5,\"#f7f7f7\"],[0.6,\"#e6f5d0\"],[0.7,\"#b8e186\"],[0.8,\"#7fbc41\"],[0.9,\"#4d9221\"],[1,\"#276419\"]]},\"xaxis\":{\"gridcolor\":\"white\",\"linecolor\":\"white\",\"ticks\":\"\",\"title\":{\"standoff\":15},\"zerolinecolor\":\"white\",\"automargin\":true,\"zerolinewidth\":2},\"yaxis\":{\"gridcolor\":\"white\",\"linecolor\":\"white\",\"ticks\":\"\",\"title\":{\"standoff\":15},\"zerolinecolor\":\"white\",\"automargin\":true,\"zerolinewidth\":2},\"scene\":{\"xaxis\":{\"backgroundcolor\":\"#E5ECF6\",\"gridcolor\":\"white\",\"linecolor\":\"white\",\"showbackground\":true,\"ticks\":\"\",\"zerolinecolor\":\"white\",\"gridwidth\":2},\"yaxis\":{\"backgroundcolor\":\"#E5ECF6\",\"gridcolor\":\"white\",\"linecolor\":\"white\",\"showbackground\":true,\"ticks\":\"\",\"zerolinecolor\":\"white\",\"gridwidth\":2},\"zaxis\":{\"backgroundcolor\":\"#E5ECF6\",\"gridcolor\":\"white\",\"linecolor\":\"white\",\"showbackground\":true,\"ticks\":\"\",\"zerolinecolor\":\"white\",\"gridwidth\":2}},\"shapedefaults\":{\"line\":{\"color\":\"#2a3f5f\"}},\"annotationdefaults\":{\"arrowcolor\":\"#2a3f5f\",\"arrowhead\":0,\"arrowwidth\":1},\"geo\":{\"bgcolor\":\"white\",\"landcolor\":\"#E5ECF6\",\"subunitcolor\":\"white\",\"showland\":true,\"showlakes\":true,\"lakecolor\":\"white\"},\"title\":{\"x\":0.05},\"mapbox\":{\"style\":\"light\"}}},\"xaxis\":{\"anchor\":\"y\",\"domain\":[0.0,1.0],\"scaleanchor\":\"y\",\"constrain\":\"domain\",\"title\":{\"text\":\"Head\"}},\"yaxis\":{\"anchor\":\"x\",\"domain\":[0.0,1.0],\"autorange\":\"reversed\",\"constrain\":\"domain\",\"title\":{\"text\":\"Layer\"}},\"coloraxis\":{\"colorscale\":[[0.0,\"rgb(103,0,31)\"],[0.1,\"rgb(178,24,43)\"],[0.2,\"rgb(214,96,77)\"],[0.3,\"rgb(244,165,130)\"],[0.4,\"rgb(253,219,199)\"],[0.5,\"rgb(247,247,247)\"],[0.6,\"rgb(209,229,240)\"],[0.7,\"rgb(146,197,222)\"],[0.8,\"rgb(67,147,195)\"],[0.9,\"rgb(33,102,172)\"],[1.0,\"rgb(5,48,97)\"]],\"cmid\":0.0,\"cmin\":-1.0,\"cmax\":1.0},\"title\":{\"text\":\"OV Copying Score for each head in GPT-2 Small\"}},                        {\"responsive\": true}                    ).then(function(){\n",
       "                            \n",
       "var gd = document.getElementById('5e91e8e8-2708-49ec-8c38-e6ed5c19cc4b');\n",
       "var x = new MutationObserver(function (mutations, observer) {{\n",
       "        var display = window.getComputedStyle(gd).display;\n",
       "        if (!display || display === 'none') {{\n",
       "            console.log([gd, 'removed!']);\n",
       "            Plotly.purge(gd);\n",
       "            observer.disconnect();\n",
       "        }}\n",
       "}});\n",
       "\n",
       "// Listen for the removal of the full notebook cells\n",
       "var notebookContainer = gd.closest('#notebook-container');\n",
       "if (notebookContainer) {{\n",
       "    x.observe(notebookContainer, {childList: true});\n",
       "}}\n",
       "\n",
       "// Listen for the clearing of the current output cell\n",
       "var outputEl = gd.closest('.output');\n",
       "if (outputEl) {{\n",
       "    x.observe(outputEl, {childList: true});\n",
       "}}\n",
       "\n",
       "                        })                };            </script>        </div>\n",
       "</body>\n",
       "</html>"
      ]
     },
     "metadata": {},
     "output_type": "display_data"
    }
   ],
   "source": [
    "OV_copying_score = OV_circuit_all_heads_eigenvalues.sum(dim=-1).real / OV_circuit_all_heads_eigenvalues.abs().sum(dim=-1)\n",
    "imshow(utils.to_numpy(OV_copying_score), xaxis=\"Head\", yaxis=\"Layer\", title=\"OV Copying Score for each head in GPT-2 Small\", zmax=1.0, zmin=-1.0)"
   ]
  },
  {
   "cell_type": "markdown",
   "metadata": {
    "id": "vTL6fnQenJT-"
   },
   "source": [
    "Head 11 in Layer 11 (L11H11) has a high copying score, and if we plot the eigenvalues they look approximately as expected."
   ]
  },
  {
   "cell_type": "code",
   "execution_count": 49,
   "metadata": {
    "id": "IDRbCWrWnJT-",
    "outputId": "1c40d67f-51b8-4191-beae-31f777de37eb"
   },
   "outputs": [
    {
     "data": {
      "text/html": [
       "<html>\n",
       "<head><meta charset=\"utf-8\" /></head>\n",
       "<body>\n",
       "    <div>            <script src=\"https://cdnjs.cloudflare.com/ajax/libs/mathjax/2.7.5/MathJax.js?config=TeX-AMS-MML_SVG\"></script><script type=\"text/javascript\">if (window.MathJax && window.MathJax.Hub && window.MathJax.Hub.Config) {window.MathJax.Hub.Config({SVG: {font: \"STIX-Web\"}});}</script>                <script type=\"text/javascript\">window.PlotlyConfig = {MathJaxConfig: 'local'};</script>\n",
       "        <script charset=\"utf-8\" src=\"https://cdn.plot.ly/plotly-3.0.0.min.js\"></script>                <div id=\"c79fe9fb-d719-430f-b4be-eac113c6f1b4\" class=\"plotly-graph-div\" style=\"height:525px; width:100%;\"></div>            <script type=\"text/javascript\">                window.PLOTLYENV=window.PLOTLYENV || {};                                if (document.getElementById(\"c79fe9fb-d719-430f-b4be-eac113c6f1b4\")) {                    Plotly.newPlot(                        \"c79fe9fb-d719-430f-b4be-eac113c6f1b4\",                        [{\"hovertemplate\":\"Real=%{x}\\u003cbr\\u003eImaginary=%{y}\\u003cextra\\u003e\\u003c\\u002fextra\\u003e\",\"legendgroup\":\"\",\"marker\":{\"color\":\"#636efa\",\"symbol\":\"circle\"},\"mode\":\"markers\",\"name\":\"\",\"orientation\":\"v\",\"showlegend\":false,\"x\":{\"dtype\":\"f4\",\"bdata\":\"QvEIwG0ntT\\u002fscVxAo+KAQGEfDkGwvJtAsLybQMb\\u002fmkDG\\u002f5pAD6QHQRd4A0EXeANBE4SiQPZf+0D2X\\u002ftAXLSrQFy0q0CkB7JApAeyQN9+rUDLnPhAy5z4QGRa4UBkWuFAzJq1QMyatUDztvVA87b1QMFY0kDBWNJApoj1QMCC5UDAguVATI7tQEyO7UDyEO9A2tnCQNrZwkCM0clAjNHJQEpg0EBKYNBAXJG+QFyRvkBWe7tAVnu7QGa75EBmu+RAXvHlQF7x5UCoddVAqHXVQC6N10AujddA1crEQNXKxEC4PclAuD3JQIwIy0C0BNRAtATUQCHG3EAhxtxAtGfbQA==\"},\"xaxis\":\"x\",\"y\":{\"dtype\":\"f4\",\"bdata\":\"AAAAAAAAAAAAAAAAAAAAAAAAAAARSNY+EUjWvvvyuT378rm9AAAAAAc\\u002f0T4HP9G+AAAAANZiMz\\u002fWYjO\\u002fL63tPi+t7b6QSg4\\u002fkEoOvwAAAAAF7vA+Be7wvrjSgz+40oO\\u002fEA73PhAO977A2qs+wNqrvg62fz8Otn+\\u002fAAAAAFrQQD9a0EC\\u002fyP3ZPsj92b4AAAAAjMQkP4zEJL+9KUU\\u002fvSlFvyJ8QT8ifEG\\u002fK6uEPiurhL5dc1U8XXNVvC2mzT4tps2+OlmQPjpZkL4qWB0\\u002fKlgdv1AECj9QBAq\\u002fAo6QPgKOkL5jp7Q+Y6e0vgAAAADDpX4+w6V+vm8wHz5vMB++AAAAAA==\"},\"yaxis\":\"y\",\"type\":\"scatter\"}],                        {\"template\":{\"data\":{\"histogram2dcontour\":[{\"type\":\"histogram2dcontour\",\"colorbar\":{\"outlinewidth\":0,\"ticks\":\"\"},\"colorscale\":[[0.0,\"#0d0887\"],[0.1111111111111111,\"#46039f\"],[0.2222222222222222,\"#7201a8\"],[0.3333333333333333,\"#9c179e\"],[0.4444444444444444,\"#bd3786\"],[0.5555555555555556,\"#d8576b\"],[0.6666666666666666,\"#ed7953\"],[0.7777777777777778,\"#fb9f3a\"],[0.8888888888888888,\"#fdca26\"],[1.0,\"#f0f921\"]]}],\"choropleth\":[{\"type\":\"choropleth\",\"colorbar\":{\"outlinewidth\":0,\"ticks\":\"\"}}],\"histogram2d\":[{\"type\":\"histogram2d\",\"colorbar\":{\"outlinewidth\":0,\"ticks\":\"\"},\"colorscale\":[[0.0,\"#0d0887\"],[0.1111111111111111,\"#46039f\"],[0.2222222222222222,\"#7201a8\"],[0.3333333333333333,\"#9c179e\"],[0.4444444444444444,\"#bd3786\"],[0.5555555555555556,\"#d8576b\"],[0.6666666666666666,\"#ed7953\"],[0.7777777777777778,\"#fb9f3a\"],[0.8888888888888888,\"#fdca26\"],[1.0,\"#f0f921\"]]}],\"heatmap\":[{\"type\":\"heatmap\",\"colorbar\":{\"outlinewidth\":0,\"ticks\":\"\"},\"colorscale\":[[0.0,\"#0d0887\"],[0.1111111111111111,\"#46039f\"],[0.2222222222222222,\"#7201a8\"],[0.3333333333333333,\"#9c179e\"],[0.4444444444444444,\"#bd3786\"],[0.5555555555555556,\"#d8576b\"],[0.6666666666666666,\"#ed7953\"],[0.7777777777777778,\"#fb9f3a\"],[0.8888888888888888,\"#fdca26\"],[1.0,\"#f0f921\"]]}],\"contourcarpet\":[{\"type\":\"contourcarpet\",\"colorbar\":{\"outlinewidth\":0,\"ticks\":\"\"}}],\"contour\":[{\"type\":\"contour\",\"colorbar\":{\"outlinewidth\":0,\"ticks\":\"\"},\"colorscale\":[[0.0,\"#0d0887\"],[0.1111111111111111,\"#46039f\"],[0.2222222222222222,\"#7201a8\"],[0.3333333333333333,\"#9c179e\"],[0.4444444444444444,\"#bd3786\"],[0.5555555555555556,\"#d8576b\"],[0.6666666666666666,\"#ed7953\"],[0.7777777777777778,\"#fb9f3a\"],[0.8888888888888888,\"#fdca26\"],[1.0,\"#f0f921\"]]}],\"surface\":[{\"type\":\"surface\",\"colorbar\":{\"outlinewidth\":0,\"ticks\":\"\"},\"colorscale\":[[0.0,\"#0d0887\"],[0.1111111111111111,\"#46039f\"],[0.2222222222222222,\"#7201a8\"],[0.3333333333333333,\"#9c179e\"],[0.4444444444444444,\"#bd3786\"],[0.5555555555555556,\"#d8576b\"],[0.6666666666666666,\"#ed7953\"],[0.7777777777777778,\"#fb9f3a\"],[0.8888888888888888,\"#fdca26\"],[1.0,\"#f0f921\"]]}],\"mesh3d\":[{\"type\":\"mesh3d\",\"colorbar\":{\"outlinewidth\":0,\"ticks\":\"\"}}],\"scatter\":[{\"fillpattern\":{\"fillmode\":\"overlay\",\"size\":10,\"solidity\":0.2},\"type\":\"scatter\"}],\"parcoords\":[{\"type\":\"parcoords\",\"line\":{\"colorbar\":{\"outlinewidth\":0,\"ticks\":\"\"}}}],\"scatterpolargl\":[{\"type\":\"scatterpolargl\",\"marker\":{\"colorbar\":{\"outlinewidth\":0,\"ticks\":\"\"}}}],\"bar\":[{\"error_x\":{\"color\":\"#2a3f5f\"},\"error_y\":{\"color\":\"#2a3f5f\"},\"marker\":{\"line\":{\"color\":\"#E5ECF6\",\"width\":0.5},\"pattern\":{\"fillmode\":\"overlay\",\"size\":10,\"solidity\":0.2}},\"type\":\"bar\"}],\"scattergeo\":[{\"type\":\"scattergeo\",\"marker\":{\"colorbar\":{\"outlinewidth\":0,\"ticks\":\"\"}}}],\"scatterpolar\":[{\"type\":\"scatterpolar\",\"marker\":{\"colorbar\":{\"outlinewidth\":0,\"ticks\":\"\"}}}],\"histogram\":[{\"marker\":{\"pattern\":{\"fillmode\":\"overlay\",\"size\":10,\"solidity\":0.2}},\"type\":\"histogram\"}],\"scattergl\":[{\"type\":\"scattergl\",\"marker\":{\"colorbar\":{\"outlinewidth\":0,\"ticks\":\"\"}}}],\"scatter3d\":[{\"type\":\"scatter3d\",\"line\":{\"colorbar\":{\"outlinewidth\":0,\"ticks\":\"\"}},\"marker\":{\"colorbar\":{\"outlinewidth\":0,\"ticks\":\"\"}}}],\"scattermap\":[{\"type\":\"scattermap\",\"marker\":{\"colorbar\":{\"outlinewidth\":0,\"ticks\":\"\"}}}],\"scattermapbox\":[{\"type\":\"scattermapbox\",\"marker\":{\"colorbar\":{\"outlinewidth\":0,\"ticks\":\"\"}}}],\"scatterternary\":[{\"type\":\"scatterternary\",\"marker\":{\"colorbar\":{\"outlinewidth\":0,\"ticks\":\"\"}}}],\"scattercarpet\":[{\"type\":\"scattercarpet\",\"marker\":{\"colorbar\":{\"outlinewidth\":0,\"ticks\":\"\"}}}],\"carpet\":[{\"aaxis\":{\"endlinecolor\":\"#2a3f5f\",\"gridcolor\":\"white\",\"linecolor\":\"white\",\"minorgridcolor\":\"white\",\"startlinecolor\":\"#2a3f5f\"},\"baxis\":{\"endlinecolor\":\"#2a3f5f\",\"gridcolor\":\"white\",\"linecolor\":\"white\",\"minorgridcolor\":\"white\",\"startlinecolor\":\"#2a3f5f\"},\"type\":\"carpet\"}],\"table\":[{\"cells\":{\"fill\":{\"color\":\"#EBF0F8\"},\"line\":{\"color\":\"white\"}},\"header\":{\"fill\":{\"color\":\"#C8D4E3\"},\"line\":{\"color\":\"white\"}},\"type\":\"table\"}],\"barpolar\":[{\"marker\":{\"line\":{\"color\":\"#E5ECF6\",\"width\":0.5},\"pattern\":{\"fillmode\":\"overlay\",\"size\":10,\"solidity\":0.2}},\"type\":\"barpolar\"}],\"pie\":[{\"automargin\":true,\"type\":\"pie\"}]},\"layout\":{\"autotypenumbers\":\"strict\",\"colorway\":[\"#636efa\",\"#EF553B\",\"#00cc96\",\"#ab63fa\",\"#FFA15A\",\"#19d3f3\",\"#FF6692\",\"#B6E880\",\"#FF97FF\",\"#FECB52\"],\"font\":{\"color\":\"#2a3f5f\"},\"hovermode\":\"closest\",\"hoverlabel\":{\"align\":\"left\"},\"paper_bgcolor\":\"white\",\"plot_bgcolor\":\"#E5ECF6\",\"polar\":{\"bgcolor\":\"#E5ECF6\",\"angularaxis\":{\"gridcolor\":\"white\",\"linecolor\":\"white\",\"ticks\":\"\"},\"radialaxis\":{\"gridcolor\":\"white\",\"linecolor\":\"white\",\"ticks\":\"\"}},\"ternary\":{\"bgcolor\":\"#E5ECF6\",\"aaxis\":{\"gridcolor\":\"white\",\"linecolor\":\"white\",\"ticks\":\"\"},\"baxis\":{\"gridcolor\":\"white\",\"linecolor\":\"white\",\"ticks\":\"\"},\"caxis\":{\"gridcolor\":\"white\",\"linecolor\":\"white\",\"ticks\":\"\"}},\"coloraxis\":{\"colorbar\":{\"outlinewidth\":0,\"ticks\":\"\"}},\"colorscale\":{\"sequential\":[[0.0,\"#0d0887\"],[0.1111111111111111,\"#46039f\"],[0.2222222222222222,\"#7201a8\"],[0.3333333333333333,\"#9c179e\"],[0.4444444444444444,\"#bd3786\"],[0.5555555555555556,\"#d8576b\"],[0.6666666666666666,\"#ed7953\"],[0.7777777777777778,\"#fb9f3a\"],[0.8888888888888888,\"#fdca26\"],[1.0,\"#f0f921\"]],\"sequentialminus\":[[0.0,\"#0d0887\"],[0.1111111111111111,\"#46039f\"],[0.2222222222222222,\"#7201a8\"],[0.3333333333333333,\"#9c179e\"],[0.4444444444444444,\"#bd3786\"],[0.5555555555555556,\"#d8576b\"],[0.6666666666666666,\"#ed7953\"],[0.7777777777777778,\"#fb9f3a\"],[0.8888888888888888,\"#fdca26\"],[1.0,\"#f0f921\"]],\"diverging\":[[0,\"#8e0152\"],[0.1,\"#c51b7d\"],[0.2,\"#de77ae\"],[0.3,\"#f1b6da\"],[0.4,\"#fde0ef\"],[0.5,\"#f7f7f7\"],[0.6,\"#e6f5d0\"],[0.7,\"#b8e186\"],[0.8,\"#7fbc41\"],[0.9,\"#4d9221\"],[1,\"#276419\"]]},\"xaxis\":{\"gridcolor\":\"white\",\"linecolor\":\"white\",\"ticks\":\"\",\"title\":{\"standoff\":15},\"zerolinecolor\":\"white\",\"automargin\":true,\"zerolinewidth\":2},\"yaxis\":{\"gridcolor\":\"white\",\"linecolor\":\"white\",\"ticks\":\"\",\"title\":{\"standoff\":15},\"zerolinecolor\":\"white\",\"automargin\":true,\"zerolinewidth\":2},\"scene\":{\"xaxis\":{\"backgroundcolor\":\"#E5ECF6\",\"gridcolor\":\"white\",\"linecolor\":\"white\",\"showbackground\":true,\"ticks\":\"\",\"zerolinecolor\":\"white\",\"gridwidth\":2},\"yaxis\":{\"backgroundcolor\":\"#E5ECF6\",\"gridcolor\":\"white\",\"linecolor\":\"white\",\"showbackground\":true,\"ticks\":\"\",\"zerolinecolor\":\"white\",\"gridwidth\":2},\"zaxis\":{\"backgroundcolor\":\"#E5ECF6\",\"gridcolor\":\"white\",\"linecolor\":\"white\",\"showbackground\":true,\"ticks\":\"\",\"zerolinecolor\":\"white\",\"gridwidth\":2}},\"shapedefaults\":{\"line\":{\"color\":\"#2a3f5f\"}},\"annotationdefaults\":{\"arrowcolor\":\"#2a3f5f\",\"arrowhead\":0,\"arrowwidth\":1},\"geo\":{\"bgcolor\":\"white\",\"landcolor\":\"#E5ECF6\",\"subunitcolor\":\"white\",\"showland\":true,\"showlakes\":true,\"lakecolor\":\"white\"},\"title\":{\"x\":0.05},\"mapbox\":{\"style\":\"light\"}}},\"xaxis\":{\"anchor\":\"y\",\"domain\":[0.0,1.0],\"title\":{\"text\":\"Real\"}},\"yaxis\":{\"anchor\":\"x\",\"domain\":[0.0,1.0],\"title\":{\"text\":\"Imaginary\"}},\"legend\":{\"tracegroupgap\":0},\"title\":{\"text\":\"Eigenvalues of Head L11H11 of GPT-2 Small\"}},                        {\"responsive\": true}                    ).then(function(){\n",
       "                            \n",
       "var gd = document.getElementById('c79fe9fb-d719-430f-b4be-eac113c6f1b4');\n",
       "var x = new MutationObserver(function (mutations, observer) {{\n",
       "        var display = window.getComputedStyle(gd).display;\n",
       "        if (!display || display === 'none') {{\n",
       "            console.log([gd, 'removed!']);\n",
       "            Plotly.purge(gd);\n",
       "            observer.disconnect();\n",
       "        }}\n",
       "}});\n",
       "\n",
       "// Listen for the removal of the full notebook cells\n",
       "var notebookContainer = gd.closest('#notebook-container');\n",
       "if (notebookContainer) {{\n",
       "    x.observe(notebookContainer, {childList: true});\n",
       "}}\n",
       "\n",
       "// Listen for the clearing of the current output cell\n",
       "var outputEl = gd.closest('.output');\n",
       "if (outputEl) {{\n",
       "    x.observe(outputEl, {childList: true});\n",
       "}}\n",
       "\n",
       "                        })                };            </script>        </div>\n",
       "</body>\n",
       "</html>"
      ]
     },
     "metadata": {},
     "output_type": "display_data"
    }
   ],
   "source": [
    "scatter(x=OV_circuit_all_heads_eigenvalues[-1, -1, :].real, y=OV_circuit_all_heads_eigenvalues[-1, -1, :].imag, title=\"Eigenvalues of Head L11H11 of GPT-2 Small\", xaxis=\"Real\", yaxis=\"Imaginary\")"
   ]
  },
  {
   "cell_type": "markdown",
   "metadata": {
    "id": "Vj9k18A6nJT_"
   },
   "source": [
    "We can even look at the full OV circuit, from the input tokens to output tokens: $W_E W_V W_O W_U$. This is a `[d_vocab, d_vocab]==[50257, 50257]` matrix, so absolutely enormous, even for a single head. But with the FactoredMatrix class, we can compute the full eigenvalue copying score of every head in a few seconds."
   ]
  },
  {
   "cell_type": "code",
   "execution_count": 50,
   "metadata": {
    "id": "B6SHw7MOnJT_",
    "outputId": "b06854f3-9033-43e7-dbf7-b84b7d408577"
   },
   "outputs": [
    {
     "name": "stdout",
     "output_type": "stream",
     "text": [
      "FactoredMatrix: Shape(torch.Size([12, 12, 50257, 50257])), Hidden Dim(64)\n"
     ]
    }
   ],
   "source": [
    "full_OV_circuit = model.embed.W_E @ OV_circuit_all_heads @ model.unembed.W_U\n",
    "print(full_OV_circuit)"
   ]
  },
  {
   "cell_type": "code",
   "execution_count": 51,
   "metadata": {
    "id": "XAISLa8lnJT_",
    "outputId": "95c4594e-a3cf-45f2-f78b-3ea55012d0d5"
   },
   "outputs": [
    {
     "name": "stdout",
     "output_type": "stream",
     "text": [
      "torch.Size([12, 12, 64])\n",
      "torch.complex64\n"
     ]
    }
   ],
   "source": [
    "full_OV_circuit_eigenvalues = full_OV_circuit.eigenvalues\n",
    "print(full_OV_circuit_eigenvalues.shape)\n",
    "print(full_OV_circuit_eigenvalues.dtype)"
   ]
  },
  {
   "cell_type": "code",
   "execution_count": 52,
   "metadata": {
    "id": "mjLVcbANnJT_",
    "outputId": "be6505d2-5dbb-4b62-c5cb-8772ab3e7b6c"
   },
   "outputs": [
    {
     "data": {
      "text/html": [
       "<html>\n",
       "<head><meta charset=\"utf-8\" /></head>\n",
       "<body>\n",
       "    <div>            <script src=\"https://cdnjs.cloudflare.com/ajax/libs/mathjax/2.7.5/MathJax.js?config=TeX-AMS-MML_SVG\"></script><script type=\"text/javascript\">if (window.MathJax && window.MathJax.Hub && window.MathJax.Hub.Config) {window.MathJax.Hub.Config({SVG: {font: \"STIX-Web\"}});}</script>                <script type=\"text/javascript\">window.PlotlyConfig = {MathJaxConfig: 'local'};</script>\n",
       "        <script charset=\"utf-8\" src=\"https://cdn.plot.ly/plotly-3.0.0.min.js\"></script>                <div id=\"04cef6ae-9dd6-4c52-9c8c-fe603fcb3543\" class=\"plotly-graph-div\" style=\"height:525px; width:100%;\"></div>            <script type=\"text/javascript\">                window.PLOTLYENV=window.PLOTLYENV || {};                                if (document.getElementById(\"04cef6ae-9dd6-4c52-9c8c-fe603fcb3543\")) {                    Plotly.newPlot(                        \"04cef6ae-9dd6-4c52-9c8c-fe603fcb3543\",                        [{\"coloraxis\":\"coloraxis\",\"name\":\"0\",\"z\":{\"dtype\":\"f4\",\"bdata\":\"SuxVP8HZFT+ltQI\\u002fV8pIP1lKXT9s4TM\\u002fUKFlP+49Fj\\u002fph9k+2Esnvhnl7D7wVo0+ycJYva2tor48Tfa+jKdIv0TSIr9Nn0a\\u002fqdp3P3DZTz+WREC\\u002flRYwv92aJL9Mo3+\\u002f0Ooov9dNaj930As\\u002ft5H5vnelRT8bDUG\\u002fC+VYv+LkMb9GfR++90l6Pishab9upHG\\u002fhBAmP7QtD7+E8xc\\u002fIMhIPximUL\\u002fh7Rw\\u002fLuMrPvIztD6yCC+\\u002foLZjPiIwfr8kUSc\\u002f5vcSP+9fuj4Xy8Q9PptvP7VBbL\\u002fXfR4\\u002fTeSrvmebf7\\u002fBFSU\\u002fNMxYP9p5Qb+F6nM\\u002fPI87P3ZMCD8JKHk\\u002fIlM5P2jCgj732lA\\u002fZWMqP++\\u002fbT886BC\\u002fWhBkv6PBez+qhH+\\u002fWkl4P6N0Pj8zeba+PTAaPx6HeD8dhm2\\u002fCQl\\u002fvyqjVT\\u002fTr3g\\u002f1NtQPx8bFz8651E\\u002f1mV7PxhmfD8k5wM\\u002fE6EPv85jdz97E3M\\u002fQz4Fv6P2nj5\\u002fZHw\\u002fa51HP6mBLD\\u002fbsMg+\\u002f\\u002fxnv\\u002feo8D0ry04\\u002f7HfVPmufez+8f30\\u002fx+JIP62bfj8Wn3w\\u002fGT2Jvr+qfb9H7D4\\u002fNpl9P72vOr72zHk\\u002fKql\\u002fPwlFgj73U3S\\u002frEAWP3cHcb4tfnQ\\u002fE5+CPmM0fj+ZZbk9loF4P3UTMj\\u002fJxCA\\u002fN1BKP8ozbz8SVX0\\u002foZFxP57m3b1KrK++56h\\u002fP284Aj8btX4\\u002fXAxUP2t4cT8+\\u002fXI\\u002fjeF\\u002fP0Q8Ej\\u002fRNk4\\u002fpJ0tPyPHUz\\u002fc21Q\\u002fzbtgP0mXfj+7VH8\\u002f\",\"shape\":\"12, 12\"},\"type\":\"heatmap\",\"xaxis\":\"x\",\"yaxis\":\"y\",\"hovertemplate\":\"Head: %{x}\\u003cbr\\u003eLayer: %{y}\\u003cbr\\u003ecolor: %{z}\\u003cextra\\u003e\\u003c\\u002fextra\\u003e\"}],                        {\"template\":{\"data\":{\"histogram2dcontour\":[{\"type\":\"histogram2dcontour\",\"colorbar\":{\"outlinewidth\":0,\"ticks\":\"\"},\"colorscale\":[[0.0,\"#0d0887\"],[0.1111111111111111,\"#46039f\"],[0.2222222222222222,\"#7201a8\"],[0.3333333333333333,\"#9c179e\"],[0.4444444444444444,\"#bd3786\"],[0.5555555555555556,\"#d8576b\"],[0.6666666666666666,\"#ed7953\"],[0.7777777777777778,\"#fb9f3a\"],[0.8888888888888888,\"#fdca26\"],[1.0,\"#f0f921\"]]}],\"choropleth\":[{\"type\":\"choropleth\",\"colorbar\":{\"outlinewidth\":0,\"ticks\":\"\"}}],\"histogram2d\":[{\"type\":\"histogram2d\",\"colorbar\":{\"outlinewidth\":0,\"ticks\":\"\"},\"colorscale\":[[0.0,\"#0d0887\"],[0.1111111111111111,\"#46039f\"],[0.2222222222222222,\"#7201a8\"],[0.3333333333333333,\"#9c179e\"],[0.4444444444444444,\"#bd3786\"],[0.5555555555555556,\"#d8576b\"],[0.6666666666666666,\"#ed7953\"],[0.7777777777777778,\"#fb9f3a\"],[0.8888888888888888,\"#fdca26\"],[1.0,\"#f0f921\"]]}],\"heatmap\":[{\"type\":\"heatmap\",\"colorbar\":{\"outlinewidth\":0,\"ticks\":\"\"},\"colorscale\":[[0.0,\"#0d0887\"],[0.1111111111111111,\"#46039f\"],[0.2222222222222222,\"#7201a8\"],[0.3333333333333333,\"#9c179e\"],[0.4444444444444444,\"#bd3786\"],[0.5555555555555556,\"#d8576b\"],[0.6666666666666666,\"#ed7953\"],[0.7777777777777778,\"#fb9f3a\"],[0.8888888888888888,\"#fdca26\"],[1.0,\"#f0f921\"]]}],\"contourcarpet\":[{\"type\":\"contourcarpet\",\"colorbar\":{\"outlinewidth\":0,\"ticks\":\"\"}}],\"contour\":[{\"type\":\"contour\",\"colorbar\":{\"outlinewidth\":0,\"ticks\":\"\"},\"colorscale\":[[0.0,\"#0d0887\"],[0.1111111111111111,\"#46039f\"],[0.2222222222222222,\"#7201a8\"],[0.3333333333333333,\"#9c179e\"],[0.4444444444444444,\"#bd3786\"],[0.5555555555555556,\"#d8576b\"],[0.6666666666666666,\"#ed7953\"],[0.7777777777777778,\"#fb9f3a\"],[0.8888888888888888,\"#fdca26\"],[1.0,\"#f0f921\"]]}],\"surface\":[{\"type\":\"surface\",\"colorbar\":{\"outlinewidth\":0,\"ticks\":\"\"},\"colorscale\":[[0.0,\"#0d0887\"],[0.1111111111111111,\"#46039f\"],[0.2222222222222222,\"#7201a8\"],[0.3333333333333333,\"#9c179e\"],[0.4444444444444444,\"#bd3786\"],[0.5555555555555556,\"#d8576b\"],[0.6666666666666666,\"#ed7953\"],[0.7777777777777778,\"#fb9f3a\"],[0.8888888888888888,\"#fdca26\"],[1.0,\"#f0f921\"]]}],\"mesh3d\":[{\"type\":\"mesh3d\",\"colorbar\":{\"outlinewidth\":0,\"ticks\":\"\"}}],\"scatter\":[{\"fillpattern\":{\"fillmode\":\"overlay\",\"size\":10,\"solidity\":0.2},\"type\":\"scatter\"}],\"parcoords\":[{\"type\":\"parcoords\",\"line\":{\"colorbar\":{\"outlinewidth\":0,\"ticks\":\"\"}}}],\"scatterpolargl\":[{\"type\":\"scatterpolargl\",\"marker\":{\"colorbar\":{\"outlinewidth\":0,\"ticks\":\"\"}}}],\"bar\":[{\"error_x\":{\"color\":\"#2a3f5f\"},\"error_y\":{\"color\":\"#2a3f5f\"},\"marker\":{\"line\":{\"color\":\"#E5ECF6\",\"width\":0.5},\"pattern\":{\"fillmode\":\"overlay\",\"size\":10,\"solidity\":0.2}},\"type\":\"bar\"}],\"scattergeo\":[{\"type\":\"scattergeo\",\"marker\":{\"colorbar\":{\"outlinewidth\":0,\"ticks\":\"\"}}}],\"scatterpolar\":[{\"type\":\"scatterpolar\",\"marker\":{\"colorbar\":{\"outlinewidth\":0,\"ticks\":\"\"}}}],\"histogram\":[{\"marker\":{\"pattern\":{\"fillmode\":\"overlay\",\"size\":10,\"solidity\":0.2}},\"type\":\"histogram\"}],\"scattergl\":[{\"type\":\"scattergl\",\"marker\":{\"colorbar\":{\"outlinewidth\":0,\"ticks\":\"\"}}}],\"scatter3d\":[{\"type\":\"scatter3d\",\"line\":{\"colorbar\":{\"outlinewidth\":0,\"ticks\":\"\"}},\"marker\":{\"colorbar\":{\"outlinewidth\":0,\"ticks\":\"\"}}}],\"scattermap\":[{\"type\":\"scattermap\",\"marker\":{\"colorbar\":{\"outlinewidth\":0,\"ticks\":\"\"}}}],\"scattermapbox\":[{\"type\":\"scattermapbox\",\"marker\":{\"colorbar\":{\"outlinewidth\":0,\"ticks\":\"\"}}}],\"scatterternary\":[{\"type\":\"scatterternary\",\"marker\":{\"colorbar\":{\"outlinewidth\":0,\"ticks\":\"\"}}}],\"scattercarpet\":[{\"type\":\"scattercarpet\",\"marker\":{\"colorbar\":{\"outlinewidth\":0,\"ticks\":\"\"}}}],\"carpet\":[{\"aaxis\":{\"endlinecolor\":\"#2a3f5f\",\"gridcolor\":\"white\",\"linecolor\":\"white\",\"minorgridcolor\":\"white\",\"startlinecolor\":\"#2a3f5f\"},\"baxis\":{\"endlinecolor\":\"#2a3f5f\",\"gridcolor\":\"white\",\"linecolor\":\"white\",\"minorgridcolor\":\"white\",\"startlinecolor\":\"#2a3f5f\"},\"type\":\"carpet\"}],\"table\":[{\"cells\":{\"fill\":{\"color\":\"#EBF0F8\"},\"line\":{\"color\":\"white\"}},\"header\":{\"fill\":{\"color\":\"#C8D4E3\"},\"line\":{\"color\":\"white\"}},\"type\":\"table\"}],\"barpolar\":[{\"marker\":{\"line\":{\"color\":\"#E5ECF6\",\"width\":0.5},\"pattern\":{\"fillmode\":\"overlay\",\"size\":10,\"solidity\":0.2}},\"type\":\"barpolar\"}],\"pie\":[{\"automargin\":true,\"type\":\"pie\"}]},\"layout\":{\"autotypenumbers\":\"strict\",\"colorway\":[\"#636efa\",\"#EF553B\",\"#00cc96\",\"#ab63fa\",\"#FFA15A\",\"#19d3f3\",\"#FF6692\",\"#B6E880\",\"#FF97FF\",\"#FECB52\"],\"font\":{\"color\":\"#2a3f5f\"},\"hovermode\":\"closest\",\"hoverlabel\":{\"align\":\"left\"},\"paper_bgcolor\":\"white\",\"plot_bgcolor\":\"#E5ECF6\",\"polar\":{\"bgcolor\":\"#E5ECF6\",\"angularaxis\":{\"gridcolor\":\"white\",\"linecolor\":\"white\",\"ticks\":\"\"},\"radialaxis\":{\"gridcolor\":\"white\",\"linecolor\":\"white\",\"ticks\":\"\"}},\"ternary\":{\"bgcolor\":\"#E5ECF6\",\"aaxis\":{\"gridcolor\":\"white\",\"linecolor\":\"white\",\"ticks\":\"\"},\"baxis\":{\"gridcolor\":\"white\",\"linecolor\":\"white\",\"ticks\":\"\"},\"caxis\":{\"gridcolor\":\"white\",\"linecolor\":\"white\",\"ticks\":\"\"}},\"coloraxis\":{\"colorbar\":{\"outlinewidth\":0,\"ticks\":\"\"}},\"colorscale\":{\"sequential\":[[0.0,\"#0d0887\"],[0.1111111111111111,\"#46039f\"],[0.2222222222222222,\"#7201a8\"],[0.3333333333333333,\"#9c179e\"],[0.4444444444444444,\"#bd3786\"],[0.5555555555555556,\"#d8576b\"],[0.6666666666666666,\"#ed7953\"],[0.7777777777777778,\"#fb9f3a\"],[0.8888888888888888,\"#fdca26\"],[1.0,\"#f0f921\"]],\"sequentialminus\":[[0.0,\"#0d0887\"],[0.1111111111111111,\"#46039f\"],[0.2222222222222222,\"#7201a8\"],[0.3333333333333333,\"#9c179e\"],[0.4444444444444444,\"#bd3786\"],[0.5555555555555556,\"#d8576b\"],[0.6666666666666666,\"#ed7953\"],[0.7777777777777778,\"#fb9f3a\"],[0.8888888888888888,\"#fdca26\"],[1.0,\"#f0f921\"]],\"diverging\":[[0,\"#8e0152\"],[0.1,\"#c51b7d\"],[0.2,\"#de77ae\"],[0.3,\"#f1b6da\"],[0.4,\"#fde0ef\"],[0.5,\"#f7f7f7\"],[0.6,\"#e6f5d0\"],[0.7,\"#b8e186\"],[0.8,\"#7fbc41\"],[0.9,\"#4d9221\"],[1,\"#276419\"]]},\"xaxis\":{\"gridcolor\":\"white\",\"linecolor\":\"white\",\"ticks\":\"\",\"title\":{\"standoff\":15},\"zerolinecolor\":\"white\",\"automargin\":true,\"zerolinewidth\":2},\"yaxis\":{\"gridcolor\":\"white\",\"linecolor\":\"white\",\"ticks\":\"\",\"title\":{\"standoff\":15},\"zerolinecolor\":\"white\",\"automargin\":true,\"zerolinewidth\":2},\"scene\":{\"xaxis\":{\"backgroundcolor\":\"#E5ECF6\",\"gridcolor\":\"white\",\"linecolor\":\"white\",\"showbackground\":true,\"ticks\":\"\",\"zerolinecolor\":\"white\",\"gridwidth\":2},\"yaxis\":{\"backgroundcolor\":\"#E5ECF6\",\"gridcolor\":\"white\",\"linecolor\":\"white\",\"showbackground\":true,\"ticks\":\"\",\"zerolinecolor\":\"white\",\"gridwidth\":2},\"zaxis\":{\"backgroundcolor\":\"#E5ECF6\",\"gridcolor\":\"white\",\"linecolor\":\"white\",\"showbackground\":true,\"ticks\":\"\",\"zerolinecolor\":\"white\",\"gridwidth\":2}},\"shapedefaults\":{\"line\":{\"color\":\"#2a3f5f\"}},\"annotationdefaults\":{\"arrowcolor\":\"#2a3f5f\",\"arrowhead\":0,\"arrowwidth\":1},\"geo\":{\"bgcolor\":\"white\",\"landcolor\":\"#E5ECF6\",\"subunitcolor\":\"white\",\"showland\":true,\"showlakes\":true,\"lakecolor\":\"white\"},\"title\":{\"x\":0.05},\"mapbox\":{\"style\":\"light\"}}},\"xaxis\":{\"anchor\":\"y\",\"domain\":[0.0,1.0],\"scaleanchor\":\"y\",\"constrain\":\"domain\",\"title\":{\"text\":\"Head\"}},\"yaxis\":{\"anchor\":\"x\",\"domain\":[0.0,1.0],\"autorange\":\"reversed\",\"constrain\":\"domain\",\"title\":{\"text\":\"Layer\"}},\"coloraxis\":{\"colorscale\":[[0.0,\"rgb(103,0,31)\"],[0.1,\"rgb(178,24,43)\"],[0.2,\"rgb(214,96,77)\"],[0.3,\"rgb(244,165,130)\"],[0.4,\"rgb(253,219,199)\"],[0.5,\"rgb(247,247,247)\"],[0.6,\"rgb(209,229,240)\"],[0.7,\"rgb(146,197,222)\"],[0.8,\"rgb(67,147,195)\"],[0.9,\"rgb(33,102,172)\"],[1.0,\"rgb(5,48,97)\"]],\"cmid\":0.0,\"cmin\":-1.0,\"cmax\":1.0},\"title\":{\"text\":\"OV Copying Score for each head in GPT-2 Small\"}},                        {\"responsive\": true}                    ).then(function(){\n",
       "                            \n",
       "var gd = document.getElementById('04cef6ae-9dd6-4c52-9c8c-fe603fcb3543');\n",
       "var x = new MutationObserver(function (mutations, observer) {{\n",
       "        var display = window.getComputedStyle(gd).display;\n",
       "        if (!display || display === 'none') {{\n",
       "            console.log([gd, 'removed!']);\n",
       "            Plotly.purge(gd);\n",
       "            observer.disconnect();\n",
       "        }}\n",
       "}});\n",
       "\n",
       "// Listen for the removal of the full notebook cells\n",
       "var notebookContainer = gd.closest('#notebook-container');\n",
       "if (notebookContainer) {{\n",
       "    x.observe(notebookContainer, {childList: true});\n",
       "}}\n",
       "\n",
       "// Listen for the clearing of the current output cell\n",
       "var outputEl = gd.closest('.output');\n",
       "if (outputEl) {{\n",
       "    x.observe(outputEl, {childList: true});\n",
       "}}\n",
       "\n",
       "                        })                };            </script>        </div>\n",
       "</body>\n",
       "</html>"
      ]
     },
     "metadata": {},
     "output_type": "display_data"
    }
   ],
   "source": [
    "full_OV_copying_score = full_OV_circuit_eigenvalues.sum(dim=-1).real / full_OV_circuit_eigenvalues.abs().sum(dim=-1)\n",
    "imshow(utils.to_numpy(full_OV_copying_score), xaxis=\"Head\", yaxis=\"Layer\", title=\"OV Copying Score for each head in GPT-2 Small\", zmax=1.0, zmin=-1.0)"
   ]
  },
  {
   "cell_type": "markdown",
   "metadata": {
    "id": "fnroiwNcnJT_"
   },
   "source": [
    "Interestingly, these are highly (but not perfectly!) correlated. I'm not sure what to read from this, or what's up with the weird outlier heads!"
   ]
  },
  {
   "cell_type": "code",
   "execution_count": 53,
   "metadata": {
    "id": "KxZrNcD8nJT_",
    "outputId": "763b98fb-6c76-4e80-d5d0-d8032a2f1624"
   },
   "outputs": [
    {
     "data": {
      "text/html": [
       "<html>\n",
       "<head><meta charset=\"utf-8\" /></head>\n",
       "<body>\n",
       "    <div>            <script src=\"https://cdnjs.cloudflare.com/ajax/libs/mathjax/2.7.5/MathJax.js?config=TeX-AMS-MML_SVG\"></script><script type=\"text/javascript\">if (window.MathJax && window.MathJax.Hub && window.MathJax.Hub.Config) {window.MathJax.Hub.Config({SVG: {font: \"STIX-Web\"}});}</script>                <script type=\"text/javascript\">window.PlotlyConfig = {MathJaxConfig: 'local'};</script>\n",
       "        <script charset=\"utf-8\" src=\"https://cdn.plot.ly/plotly-3.0.0.min.js\"></script>                <div id=\"30075a03-d0db-4473-bc36-5c459285a0ac\" class=\"plotly-graph-div\" style=\"height:525px; width:100%;\"></div>            <script type=\"text/javascript\">                window.PLOTLYENV=window.PLOTLYENV || {};                                if (document.getElementById(\"30075a03-d0db-4473-bc36-5c459285a0ac\")) {                    Plotly.newPlot(                        \"30075a03-d0db-4473-bc36-5c459285a0ac\",                        [{\"hovertemplate\":\"\\u003cb\\u003e%{hovertext}\\u003c\\u002fb\\u003e\\u003cbr\\u003e\\u003cbr\\u003eFull OV Copying Score=%{x}\\u003cbr\\u003eOV Copying Score=%{y}\\u003cextra\\u003e\\u003c\\u002fextra\\u003e\",\"hovertext\":[\"L0H0\",\"L0H1\",\"L0H2\",\"L0H3\",\"L0H4\",\"L0H5\",\"L0H6\",\"L0H7\",\"L0H8\",\"L0H9\",\"L0H10\",\"L0H11\",\"L1H0\",\"L1H1\",\"L1H2\",\"L1H3\",\"L1H4\",\"L1H5\",\"L1H6\",\"L1H7\",\"L1H8\",\"L1H9\",\"L1H10\",\"L1H11\",\"L2H0\",\"L2H1\",\"L2H2\",\"L2H3\",\"L2H4\",\"L2H5\",\"L2H6\",\"L2H7\",\"L2H8\",\"L2H9\",\"L2H10\",\"L2H11\",\"L3H0\",\"L3H1\",\"L3H2\",\"L3H3\",\"L3H4\",\"L3H5\",\"L3H6\",\"L3H7\",\"L3H8\",\"L3H9\",\"L3H10\",\"L3H11\",\"L4H0\",\"L4H1\",\"L4H2\",\"L4H3\",\"L4H4\",\"L4H5\",\"L4H6\",\"L4H7\",\"L4H8\",\"L4H9\",\"L4H10\",\"L4H11\",\"L5H0\",\"L5H1\",\"L5H2\",\"L5H3\",\"L5H4\",\"L5H5\",\"L5H6\",\"L5H7\",\"L5H8\",\"L5H9\",\"L5H10\",\"L5H11\",\"L6H0\",\"L6H1\",\"L6H2\",\"L6H3\",\"L6H4\",\"L6H5\",\"L6H6\",\"L6H7\",\"L6H8\",\"L6H9\",\"L6H10\",\"L6H11\",\"L7H0\",\"L7H1\",\"L7H2\",\"L7H3\",\"L7H4\",\"L7H5\",\"L7H6\",\"L7H7\",\"L7H8\",\"L7H9\",\"L7H10\",\"L7H11\",\"L8H0\",\"L8H1\",\"L8H2\",\"L8H3\",\"L8H4\",\"L8H5\",\"L8H6\",\"L8H7\",\"L8H8\",\"L8H9\",\"L8H10\",\"L8H11\",\"L9H0\",\"L9H1\",\"L9H2\",\"L9H3\",\"L9H4\",\"L9H5\",\"L9H6\",\"L9H7\",\"L9H8\",\"L9H9\",\"L9H10\",\"L9H11\",\"L10H0\",\"L10H1\",\"L10H2\",\"L10H3\",\"L10H4\",\"L10H5\",\"L10H6\",\"L10H7\",\"L10H8\",\"L10H9\",\"L10H10\",\"L10H11\",\"L11H0\",\"L11H1\",\"L11H2\",\"L11H3\",\"L11H4\",\"L11H5\",\"L11H6\",\"L11H7\",\"L11H8\",\"L11H9\",\"L11H10\",\"L11H11\"],\"legendgroup\":\"\",\"marker\":{\"color\":\"#636efa\",\"symbol\":\"circle\"},\"mode\":\"markers\",\"name\":\"\",\"orientation\":\"v\",\"showlegend\":false,\"x\":{\"dtype\":\"f4\",\"bdata\":\"SuxVP8HZFT+ltQI\\u002fV8pIP1lKXT9s4TM\\u002fUKFlP+49Fj\\u002fph9k+2Esnvhnl7D7wVo0+ycJYva2tor48Tfa+jKdIv0TSIr9Nn0a\\u002fqdp3P3DZTz+WREC\\u002flRYwv92aJL9Mo3+\\u002f0Ooov9dNaj930As\\u002ft5H5vnelRT8bDUG\\u002fC+VYv+LkMb9GfR++90l6Pishab9upHG\\u002fhBAmP7QtD7+E8xc\\u002fIMhIPximUL\\u002fh7Rw\\u002fLuMrPvIztD6yCC+\\u002foLZjPiIwfr8kUSc\\u002f5vcSP+9fuj4Xy8Q9PptvP7VBbL\\u002fXfR4\\u002fTeSrvmebf7\\u002fBFSU\\u002fNMxYP9p5Qb+F6nM\\u002fPI87P3ZMCD8JKHk\\u002fIlM5P2jCgj732lA\\u002fZWMqP++\\u002fbT886BC\\u002fWhBkv6PBez+qhH+\\u002fWkl4P6N0Pj8zeba+PTAaPx6HeD8dhm2\\u002fCQl\\u002fvyqjVT\\u002fTr3g\\u002f1NtQPx8bFz8651E\\u002f1mV7PxhmfD8k5wM\\u002fE6EPv85jdz97E3M\\u002fQz4Fv6P2nj5\\u002fZHw\\u002fa51HP6mBLD\\u002fbsMg+\\u002f\\u002fxnv\\u002feo8D0ry04\\u002f7HfVPmufez+8f30\\u002fx+JIP62bfj8Wn3w\\u002fGT2Jvr+qfb9H7D4\\u002fNpl9P72vOr72zHk\\u002fKql\\u002fPwlFgj73U3S\\u002frEAWP3cHcb4tfnQ\\u002fE5+CPmM0fj+ZZbk9loF4P3UTMj\\u002fJxCA\\u002fN1BKP8ozbz8SVX0\\u002foZFxP57m3b1KrK++56h\\u002fP284Aj8btX4\\u002fXAxUP2t4cT8+\\u002fXI\\u002fjeF\\u002fP0Q8Ej\\u002fRNk4\\u002fpJ0tPyPHUz\\u002fc21Q\\u002fzbtgP0mXfj+7VH8\\u002f\"},\"xaxis\":\"x\",\"y\":{\"dtype\":\"f4\",\"bdata\":\"UApHP56YtD6\\u002f7IQ+M8IqPxOjVj8e9g4\\u002ffi9YP2jc0z5SxHo+K6vmPIeBtz69yiY+xIvovpkmJ7+qZwy\\u002fsI1Mv28NRr+XLVq\\u002fAzl6P8uhKT9m9jq\\u002fNmEzv2fVMb+H6n+\\u002foKFIvxqTZT+2P\\u002fM+dM0qv\\u002fbDST+K0lq\\u002ffslnvykvE7+SvKS+UT7qvDC9bL8gTXi\\u002fjB4WP2TtQr8a4Bg\\u002fjxJJP9T+YL+zIMg+4j83PZ3a4T3UJlG\\u002fRZtiPgd0fr8d0xM\\u002f0IUGPwocnD6pu9u9Gn1xPwpzbr9FAQc\\u002falravvWZf7\\u002fSmAc\\u002fG0VcP5y2Y7+OqHQ\\u002fDrUpP4nw2z55Q3k\\u002fANInP+rk+T3yiD4\\u002fvvgAP2TZcz9glSa\\u002fLX9uv6apej9YTH+\\u002f+Bd2P6gLQD+o5sK+PpokP8qtdD\\u002fVYHG\\u002fvat+v1oJST8ZOnc\\u002fuBE1P0LJvD66E1A\\u002fY0h3P1IXeT\\u002fGVKM+aBabvv6lej8WkG8\\u002fjxYOv4cis7t3nXw\\u002fXzBTP4wBET9r6Mw9eEpyv6Rqgr63+CY\\u002fDOwQPrUIfT9Sbnw\\u002fv+YxP4N8fT+jp3o\\u002fR55xvgJpe789kiY\\u002fD1Z9P15klb7VrXg\\u002f0sJ+P45YQD4zM3K\\u002f8r70PqXkfr76lnE\\u002fJgXzPe9+fj\\u002fzAsO+1Nl0P87kDT\\u002fypNc+brIpP4GvXT\\u002flY34\\u002fGStoPy3Vyz4HrNO+8kd\\u002fP5UisT78bX4\\u002fAdEWP4Vubj9lRW0\\u002f0dV\\u002fP9BsHz9TrVg\\u002fLY8oP8yhVz+9f5g+QnRfP3gOfz\\u002fSm3w\\u002f\"},\"yaxis\":\"y\",\"type\":\"scatter\"}],                        {\"template\":{\"data\":{\"histogram2dcontour\":[{\"type\":\"histogram2dcontour\",\"colorbar\":{\"outlinewidth\":0,\"ticks\":\"\"},\"colorscale\":[[0.0,\"#0d0887\"],[0.1111111111111111,\"#46039f\"],[0.2222222222222222,\"#7201a8\"],[0.3333333333333333,\"#9c179e\"],[0.4444444444444444,\"#bd3786\"],[0.5555555555555556,\"#d8576b\"],[0.6666666666666666,\"#ed7953\"],[0.7777777777777778,\"#fb9f3a\"],[0.8888888888888888,\"#fdca26\"],[1.0,\"#f0f921\"]]}],\"choropleth\":[{\"type\":\"choropleth\",\"colorbar\":{\"outlinewidth\":0,\"ticks\":\"\"}}],\"histogram2d\":[{\"type\":\"histogram2d\",\"colorbar\":{\"outlinewidth\":0,\"ticks\":\"\"},\"colorscale\":[[0.0,\"#0d0887\"],[0.1111111111111111,\"#46039f\"],[0.2222222222222222,\"#7201a8\"],[0.3333333333333333,\"#9c179e\"],[0.4444444444444444,\"#bd3786\"],[0.5555555555555556,\"#d8576b\"],[0.6666666666666666,\"#ed7953\"],[0.7777777777777778,\"#fb9f3a\"],[0.8888888888888888,\"#fdca26\"],[1.0,\"#f0f921\"]]}],\"heatmap\":[{\"type\":\"heatmap\",\"colorbar\":{\"outlinewidth\":0,\"ticks\":\"\"},\"colorscale\":[[0.0,\"#0d0887\"],[0.1111111111111111,\"#46039f\"],[0.2222222222222222,\"#7201a8\"],[0.3333333333333333,\"#9c179e\"],[0.4444444444444444,\"#bd3786\"],[0.5555555555555556,\"#d8576b\"],[0.6666666666666666,\"#ed7953\"],[0.7777777777777778,\"#fb9f3a\"],[0.8888888888888888,\"#fdca26\"],[1.0,\"#f0f921\"]]}],\"contourcarpet\":[{\"type\":\"contourcarpet\",\"colorbar\":{\"outlinewidth\":0,\"ticks\":\"\"}}],\"contour\":[{\"type\":\"contour\",\"colorbar\":{\"outlinewidth\":0,\"ticks\":\"\"},\"colorscale\":[[0.0,\"#0d0887\"],[0.1111111111111111,\"#46039f\"],[0.2222222222222222,\"#7201a8\"],[0.3333333333333333,\"#9c179e\"],[0.4444444444444444,\"#bd3786\"],[0.5555555555555556,\"#d8576b\"],[0.6666666666666666,\"#ed7953\"],[0.7777777777777778,\"#fb9f3a\"],[0.8888888888888888,\"#fdca26\"],[1.0,\"#f0f921\"]]}],\"surface\":[{\"type\":\"surface\",\"colorbar\":{\"outlinewidth\":0,\"ticks\":\"\"},\"colorscale\":[[0.0,\"#0d0887\"],[0.1111111111111111,\"#46039f\"],[0.2222222222222222,\"#7201a8\"],[0.3333333333333333,\"#9c179e\"],[0.4444444444444444,\"#bd3786\"],[0.5555555555555556,\"#d8576b\"],[0.6666666666666666,\"#ed7953\"],[0.7777777777777778,\"#fb9f3a\"],[0.8888888888888888,\"#fdca26\"],[1.0,\"#f0f921\"]]}],\"mesh3d\":[{\"type\":\"mesh3d\",\"colorbar\":{\"outlinewidth\":0,\"ticks\":\"\"}}],\"scatter\":[{\"fillpattern\":{\"fillmode\":\"overlay\",\"size\":10,\"solidity\":0.2},\"type\":\"scatter\"}],\"parcoords\":[{\"type\":\"parcoords\",\"line\":{\"colorbar\":{\"outlinewidth\":0,\"ticks\":\"\"}}}],\"scatterpolargl\":[{\"type\":\"scatterpolargl\",\"marker\":{\"colorbar\":{\"outlinewidth\":0,\"ticks\":\"\"}}}],\"bar\":[{\"error_x\":{\"color\":\"#2a3f5f\"},\"error_y\":{\"color\":\"#2a3f5f\"},\"marker\":{\"line\":{\"color\":\"#E5ECF6\",\"width\":0.5},\"pattern\":{\"fillmode\":\"overlay\",\"size\":10,\"solidity\":0.2}},\"type\":\"bar\"}],\"scattergeo\":[{\"type\":\"scattergeo\",\"marker\":{\"colorbar\":{\"outlinewidth\":0,\"ticks\":\"\"}}}],\"scatterpolar\":[{\"type\":\"scatterpolar\",\"marker\":{\"colorbar\":{\"outlinewidth\":0,\"ticks\":\"\"}}}],\"histogram\":[{\"marker\":{\"pattern\":{\"fillmode\":\"overlay\",\"size\":10,\"solidity\":0.2}},\"type\":\"histogram\"}],\"scattergl\":[{\"type\":\"scattergl\",\"marker\":{\"colorbar\":{\"outlinewidth\":0,\"ticks\":\"\"}}}],\"scatter3d\":[{\"type\":\"scatter3d\",\"line\":{\"colorbar\":{\"outlinewidth\":0,\"ticks\":\"\"}},\"marker\":{\"colorbar\":{\"outlinewidth\":0,\"ticks\":\"\"}}}],\"scattermap\":[{\"type\":\"scattermap\",\"marker\":{\"colorbar\":{\"outlinewidth\":0,\"ticks\":\"\"}}}],\"scattermapbox\":[{\"type\":\"scattermapbox\",\"marker\":{\"colorbar\":{\"outlinewidth\":0,\"ticks\":\"\"}}}],\"scatterternary\":[{\"type\":\"scatterternary\",\"marker\":{\"colorbar\":{\"outlinewidth\":0,\"ticks\":\"\"}}}],\"scattercarpet\":[{\"type\":\"scattercarpet\",\"marker\":{\"colorbar\":{\"outlinewidth\":0,\"ticks\":\"\"}}}],\"carpet\":[{\"aaxis\":{\"endlinecolor\":\"#2a3f5f\",\"gridcolor\":\"white\",\"linecolor\":\"white\",\"minorgridcolor\":\"white\",\"startlinecolor\":\"#2a3f5f\"},\"baxis\":{\"endlinecolor\":\"#2a3f5f\",\"gridcolor\":\"white\",\"linecolor\":\"white\",\"minorgridcolor\":\"white\",\"startlinecolor\":\"#2a3f5f\"},\"type\":\"carpet\"}],\"table\":[{\"cells\":{\"fill\":{\"color\":\"#EBF0F8\"},\"line\":{\"color\":\"white\"}},\"header\":{\"fill\":{\"color\":\"#C8D4E3\"},\"line\":{\"color\":\"white\"}},\"type\":\"table\"}],\"barpolar\":[{\"marker\":{\"line\":{\"color\":\"#E5ECF6\",\"width\":0.5},\"pattern\":{\"fillmode\":\"overlay\",\"size\":10,\"solidity\":0.2}},\"type\":\"barpolar\"}],\"pie\":[{\"automargin\":true,\"type\":\"pie\"}]},\"layout\":{\"autotypenumbers\":\"strict\",\"colorway\":[\"#636efa\",\"#EF553B\",\"#00cc96\",\"#ab63fa\",\"#FFA15A\",\"#19d3f3\",\"#FF6692\",\"#B6E880\",\"#FF97FF\",\"#FECB52\"],\"font\":{\"color\":\"#2a3f5f\"},\"hovermode\":\"closest\",\"hoverlabel\":{\"align\":\"left\"},\"paper_bgcolor\":\"white\",\"plot_bgcolor\":\"#E5ECF6\",\"polar\":{\"bgcolor\":\"#E5ECF6\",\"angularaxis\":{\"gridcolor\":\"white\",\"linecolor\":\"white\",\"ticks\":\"\"},\"radialaxis\":{\"gridcolor\":\"white\",\"linecolor\":\"white\",\"ticks\":\"\"}},\"ternary\":{\"bgcolor\":\"#E5ECF6\",\"aaxis\":{\"gridcolor\":\"white\",\"linecolor\":\"white\",\"ticks\":\"\"},\"baxis\":{\"gridcolor\":\"white\",\"linecolor\":\"white\",\"ticks\":\"\"},\"caxis\":{\"gridcolor\":\"white\",\"linecolor\":\"white\",\"ticks\":\"\"}},\"coloraxis\":{\"colorbar\":{\"outlinewidth\":0,\"ticks\":\"\"}},\"colorscale\":{\"sequential\":[[0.0,\"#0d0887\"],[0.1111111111111111,\"#46039f\"],[0.2222222222222222,\"#7201a8\"],[0.3333333333333333,\"#9c179e\"],[0.4444444444444444,\"#bd3786\"],[0.5555555555555556,\"#d8576b\"],[0.6666666666666666,\"#ed7953\"],[0.7777777777777778,\"#fb9f3a\"],[0.8888888888888888,\"#fdca26\"],[1.0,\"#f0f921\"]],\"sequentialminus\":[[0.0,\"#0d0887\"],[0.1111111111111111,\"#46039f\"],[0.2222222222222222,\"#7201a8\"],[0.3333333333333333,\"#9c179e\"],[0.4444444444444444,\"#bd3786\"],[0.5555555555555556,\"#d8576b\"],[0.6666666666666666,\"#ed7953\"],[0.7777777777777778,\"#fb9f3a\"],[0.8888888888888888,\"#fdca26\"],[1.0,\"#f0f921\"]],\"diverging\":[[0,\"#8e0152\"],[0.1,\"#c51b7d\"],[0.2,\"#de77ae\"],[0.3,\"#f1b6da\"],[0.4,\"#fde0ef\"],[0.5,\"#f7f7f7\"],[0.6,\"#e6f5d0\"],[0.7,\"#b8e186\"],[0.8,\"#7fbc41\"],[0.9,\"#4d9221\"],[1,\"#276419\"]]},\"xaxis\":{\"gridcolor\":\"white\",\"linecolor\":\"white\",\"ticks\":\"\",\"title\":{\"standoff\":15},\"zerolinecolor\":\"white\",\"automargin\":true,\"zerolinewidth\":2},\"yaxis\":{\"gridcolor\":\"white\",\"linecolor\":\"white\",\"ticks\":\"\",\"title\":{\"standoff\":15},\"zerolinecolor\":\"white\",\"automargin\":true,\"zerolinewidth\":2},\"scene\":{\"xaxis\":{\"backgroundcolor\":\"#E5ECF6\",\"gridcolor\":\"white\",\"linecolor\":\"white\",\"showbackground\":true,\"ticks\":\"\",\"zerolinecolor\":\"white\",\"gridwidth\":2},\"yaxis\":{\"backgroundcolor\":\"#E5ECF6\",\"gridcolor\":\"white\",\"linecolor\":\"white\",\"showbackground\":true,\"ticks\":\"\",\"zerolinecolor\":\"white\",\"gridwidth\":2},\"zaxis\":{\"backgroundcolor\":\"#E5ECF6\",\"gridcolor\":\"white\",\"linecolor\":\"white\",\"showbackground\":true,\"ticks\":\"\",\"zerolinecolor\":\"white\",\"gridwidth\":2}},\"shapedefaults\":{\"line\":{\"color\":\"#2a3f5f\"}},\"annotationdefaults\":{\"arrowcolor\":\"#2a3f5f\",\"arrowhead\":0,\"arrowwidth\":1},\"geo\":{\"bgcolor\":\"white\",\"landcolor\":\"#E5ECF6\",\"subunitcolor\":\"white\",\"showland\":true,\"showlakes\":true,\"lakecolor\":\"white\"},\"title\":{\"x\":0.05},\"mapbox\":{\"style\":\"light\"}}},\"xaxis\":{\"anchor\":\"y\",\"domain\":[0.0,1.0],\"title\":{\"text\":\"Full OV Copying Score\"}},\"yaxis\":{\"anchor\":\"x\",\"domain\":[0.0,1.0],\"title\":{\"text\":\"OV Copying Score\"}},\"legend\":{\"tracegroupgap\":0},\"title\":{\"text\":\"OV Copying Score for each head in GPT-2 Small\"}},                        {\"responsive\": true}                    ).then(function(){\n",
       "                            \n",
       "var gd = document.getElementById('30075a03-d0db-4473-bc36-5c459285a0ac');\n",
       "var x = new MutationObserver(function (mutations, observer) {{\n",
       "        var display = window.getComputedStyle(gd).display;\n",
       "        if (!display || display === 'none') {{\n",
       "            console.log([gd, 'removed!']);\n",
       "            Plotly.purge(gd);\n",
       "            observer.disconnect();\n",
       "        }}\n",
       "}});\n",
       "\n",
       "// Listen for the removal of the full notebook cells\n",
       "var notebookContainer = gd.closest('#notebook-container');\n",
       "if (notebookContainer) {{\n",
       "    x.observe(notebookContainer, {childList: true});\n",
       "}}\n",
       "\n",
       "// Listen for the clearing of the current output cell\n",
       "var outputEl = gd.closest('.output');\n",
       "if (outputEl) {{\n",
       "    x.observe(outputEl, {childList: true});\n",
       "}}\n",
       "\n",
       "                        })                };            </script>        </div>\n",
       "</body>\n",
       "</html>"
      ]
     },
     "metadata": {},
     "output_type": "display_data"
    }
   ],
   "source": [
    "scatter(x=full_OV_copying_score.flatten(), y=OV_copying_score.flatten(), hover_name=[f\"L{layer}H{head}\" for layer in range(12) for head in range(12)], title=\"OV Copying Score for each head in GPT-2 Small\", xaxis=\"Full OV Copying Score\", yaxis=\"OV Copying Score\")"
   ]
  },
  {
   "cell_type": "code",
   "execution_count": 54,
   "metadata": {
    "id": "GDbKGtj8nJT_",
    "outputId": "c7f458c6-bd80-4bf6-df5e-162af2301d60"
   },
   "outputs": [
    {
     "name": "stdout",
     "output_type": "stream",
     "text": [
      "Token 256 - the most common pair of ASCII characters: | t|\n",
      "De-Tokenizing the example tokens: <|endoftext|>The first thing you need to figure out is *how* things are tokenized. `model.to_str_tokens` splits a string into the tokens *as a list of substrings*, and so lets you explore what the text looks like. To demonstrate this, let's use it on this paragraph.\n"
     ]
    }
   ],
   "source": [
    "print(f\"Token 256 - the most common pair of ASCII characters: |{model.to_string(256)}|\")\n",
    "# Squeeze means to remove dimensions of length 1.\n",
    "# Here, that removes the dummy batch dimension so it's a rank 1 tensor and returns a string\n",
    "# Rank 2 tensors map to a list of strings\n",
    "print(f\"De-Tokenizing the example tokens: {model.to_string(example_text_tokens.squeeze())}\")"
   ]
  },
  {
   "cell_type": "markdown",
   "metadata": {
    "id": "4FoCH-IDnJUA"
   },
   "source": [
    "## Generating Text"
   ]
  },
  {
   "cell_type": "markdown",
   "metadata": {
    "id": "KGZIlgj7nJUA"
   },
   "source": [
    "TransformerLens also has basic text generation functionality, which can be useful for generally exploring what the model is capable of (thanks to Ansh Radhakrishnan for adding this!). This is pretty rough functionality, and where possible I recommend using more established libraries like HuggingFace for this."
   ]
  },
  {
   "cell_type": "code",
   "execution_count": 55,
   "metadata": {
    "colab": {
     "referenced_widgets": [
      "f16e699caef243e3bd730cd876600c4a"
     ]
    },
    "id": "2-rB40-PnJUA",
    "outputId": "c3eee821-9fbb-40db-828e-70b5159e7430"
   },
   "outputs": [
    {
     "name": "stderr",
     "output_type": "stream",
     "text": [
      "100%|██████████| 50/50 [00:01<00:00, 41.31it/s]\n"
     ]
    },
    {
     "data": {
      "text/plain": [
       "'(CNN) President Barack Obama caught in embarrassing new scandal\\n\\nObama\\'s personal email account was hacked\\n\\nThe FBI immediately stepped up its investigation into his use of a personal email account, using the same password and then told the White House it was \"strongly considering\" stepping in.\\n\\nThe FBI'"
      ]
     },
     "execution_count": 55,
     "metadata": {},
     "output_type": "execute_result"
    }
   ],
   "source": [
    "# NBVAL_IGNORE_OUTPUT\n",
    "model.generate(\"(CNN) President Barack Obama caught in embarrassing new scandal\\n\", max_new_tokens=50, temperature=0.7, prepend_bos=True)"
   ]
  },
  {
   "cell_type": "markdown",
   "metadata": {
    "id": "CrSk_YYanJUA"
   },
   "source": [
    "## Hook Points\n",
    "\n",
    "The key part of TransformerLens that lets us access and edit intermediate activations are the HookPoints around every model activation. Importantly, this technique will work for *any* model architecture, not just transformers, so long as you're able to edit the model code to add in HookPoints! This is essentially a lightweight library bundled with TransformerLens that should let you take an arbitrary model and make it easier to study."
   ]
  },
  {
   "cell_type": "markdown",
   "metadata": {
    "id": "7ZX_AOnmnJUA"
   },
   "source": [
    "This is implemented by having a HookPoint layer. Each transformer component has a HookPoint for every activation, which wraps around that activation. The HookPoint acts as an identity function, but has a variety of helper functions that allows us to put PyTorch hooks in to edit and access the relevant activation.\n",
    "\n",
    "There is also a `HookedRootModule` class - this is a utility class that the root module should inherit from (root module = the model we run) - it has several utility functions for using hooks well, notably `reset_hooks`, `run_with_cache` and `run_with_hooks`.\n",
    "\n",
    "The default interface is the `run_with_hooks` function on the root module, which lets us run a forwards pass on the model, and pass on a list of hooks paired with layer names to run on that pass.\n",
    "\n",
    "The syntax for a hook is `function(activation, hook)` where `activation` is the activation the hook is wrapped around, and `hook` is the `HookPoint` class the function is attached to. If the function returns a new activation or edits the activation in-place, that replaces the old one, if it returns None then the activation remains as is.\n"
   ]
  },
  {
   "cell_type": "markdown",
   "metadata": {
    "id": "6p5WJzj9nJUA"
   },
   "source": [
    "### Toy Example"
   ]
  },
  {
   "cell_type": "markdown",
   "metadata": {
    "id": "WPJkOSX6nJUA"
   },
   "source": [
    "\n",
    "Here's a simple example of defining a small network with HookPoints:\n",
    "\n",
    "We define a basic network with two layers that each take a scalar input $x$, square it, and add a constant:\n",
    "$x_0=x$, $x_1=x_0^2+3$, $x_2=x_1^2-4$.\n",
    "\n",
    "We wrap the input, each layer's output, and the intermediate value of each layer (the square) in a hook point.\n",
    "\n"
   ]
  },
  {
   "cell_type": "code",
   "execution_count": 56,
   "metadata": {
    "id": "yYKa88eZnJUA"
   },
   "outputs": [],
   "source": [
    "\n",
    "from transformer_lens.hook_points import HookedRootModule, HookPoint\n",
    "\n",
    "\n",
    "class SquareThenAdd(nn.Module):\n",
    "    def __init__(self, offset):\n",
    "        super().__init__()\n",
    "        self.offset = nn.Parameter(torch.tensor(offset))\n",
    "        self.hook_square = HookPoint()\n",
    "\n",
    "    def forward(self, x):\n",
    "        # The hook_square doesn't change the value, but lets us access it\n",
    "        square = self.hook_square(x * x)\n",
    "        return self.offset + square\n",
    "\n",
    "\n",
    "class TwoLayerModel(HookedRootModule):\n",
    "    def __init__(self):\n",
    "        super().__init__()\n",
    "        self.layer1 = SquareThenAdd(3.0)\n",
    "        self.layer2 = SquareThenAdd(-4.0)\n",
    "        self.hook_in = HookPoint()\n",
    "        self.hook_mid = HookPoint()\n",
    "        self.hook_out = HookPoint()\n",
    "\n",
    "        # We need to call the setup function of HookedRootModule to build an\n",
    "        # internal dictionary of modules and hooks, and to give each hook a name\n",
    "        super().setup()\n",
    "\n",
    "    def forward(self, x):\n",
    "        # We wrap the input and each layer's output in a hook - they leave the\n",
    "        # value unchanged (unless there's a hook added to explicitly change it),\n",
    "        # but allow us to access it.\n",
    "        x_in = self.hook_in(x)\n",
    "        x_mid = self.hook_mid(self.layer1(x_in))\n",
    "        x_out = self.hook_out(self.layer2(x_mid))\n",
    "        return x_out\n",
    "\n",
    "\n",
    "model = TwoLayerModel()\n"
   ]
  },
  {
   "cell_type": "markdown",
   "metadata": {
    "id": "foU5fqzDnJUB"
   },
   "source": [
    "\n",
    "We can add a cache, to save the activation at each hook point\n",
    "\n",
    "(There's a custom `run_with_cache` function on the root module as a convenience, which is a wrapper around model.forward that return model_out, cache_object - we could also manually add hooks with `run_with_hooks` that store activations in a global caching dictionary. This is often useful if we only want to store, eg, subsets or functions of some activations.)\n"
   ]
  },
  {
   "cell_type": "code",
   "execution_count": 57,
   "metadata": {
    "id": "pmLOfDDenJUB",
    "outputId": "5ce37508-3c03-42e2-a1bf-43f596ea8416"
   },
   "outputs": [
    {
     "name": "stdout",
     "output_type": "stream",
     "text": [
      "Model output: 780.0\n",
      "Value cached at hook hook_in 5.0\n",
      "Value cached at hook layer1.hook_square 25.0\n",
      "Value cached at hook hook_mid 28.0\n",
      "Value cached at hook layer2.hook_square 784.0\n",
      "Value cached at hook hook_out 780.0\n"
     ]
    }
   ],
   "source": [
    "\n",
    "out, cache = model.run_with_cache(torch.tensor(5.0))\n",
    "print(\"Model output:\", out.item())\n",
    "for key in cache:\n",
    "    print(f\"Value cached at hook {key}\", cache[key].item())\n",
    "\n"
   ]
  },
  {
   "cell_type": "markdown",
   "metadata": {
    "id": "KslBgkXYnJUB"
   },
   "source": [
    "\n",
    "We can also use hooks to intervene on activations - eg, we can set the intermediate value in layer 2 to zero to change the output to -5\n"
   ]
  },
  {
   "cell_type": "code",
   "execution_count": 58,
   "metadata": {
    "id": "WvthRE6onJUB",
    "outputId": "b7608eb5-5fde-4536-e825-d56502cac232"
   },
   "outputs": [
    {
     "name": "stdout",
     "output_type": "stream",
     "text": [
      "layer2.hook_square\n",
      "Output after intervening on layer2.hook_scaled -4.0\n"
     ]
    }
   ],
   "source": [
    "\n",
    "def set_to_zero_hook(tensor, hook):\n",
    "    print(hook.name)\n",
    "    return torch.tensor(0.0)\n",
    "\n",
    "\n",
    "print(\n",
    "    \"Output after intervening on layer2.hook_scaled\",\n",
    "    model.run_with_hooks(\n",
    "        torch.tensor(5.0), fwd_hooks=[(\"layer2.hook_square\", set_to_zero_hook)]\n",
    "    ).item(),\n",
    ")"
   ]
  },
  {
   "cell_type": "markdown",
   "metadata": {
    "id": "IuCfW0KHnJUB"
   },
   "source": [
    "## Loading Pre-Trained Checkpoints\n",
    "\n",
    "There are a lot of interesting questions combining mechanistic interpretability and training dynamics - analysing model capabilities and the underlying circuits that make them possible, and how these change as we train the model.\n",
    "\n",
    "TransformerLens supports these by having several model families with checkpoints throughout training. `HookedTransformer.from_pretrained` can load a checkpoint of a model with the `checkpoint_index` (the label 0 to `num_checkpoints-1`) or `checkpoint_value` (the step or token number, depending on how the checkpoints were labelled)."
   ]
  },
  {
   "cell_type": "markdown",
   "metadata": {
    "id": "RoKKvCeznJUB"
   },
   "source": [
    "\n",
    "Available models:\n",
    "* All of my interpretability-friendly models have checkpoints available, including:\n",
    "    * The toy models - `attn-only`, `solu`, `gelu` 1L to 4L\n",
    "        * These have ~200 checkpoints, taken on a piecewise linear schedule (more checkpoints near the start of training), up to 22B tokens. Labelled by number of tokens seen.\n",
    "    * The SoLU models trained on 80% Web Text and 20% Python Code (`solu-6l` to `solu-12l`)\n",
    "        * Same checkpoint schedule as the toy models, this time up to 30B tokens\n",
    "    * The SoLU models trained on the pile (`solu-1l-pile` to `solu-12l-pile`)\n",
    "        * These have ~100 checkpoints, taken on a linear schedule, up to 15B tokens. Labelled by number of steps.\n",
    "        * The 12L training crashed around 11B tokens, so is truncated.\n",
    "* The Stanford Centre for Research of Foundation Models trained 5 GPT-2 Small sized and 5 GPT-2 Medium sized models (`stanford-gpt2-small-a` to `e` and `stanford-gpt2-medium-a` to `e`)\n",
    "    * 600 checkpoints, taken on a piecewise linear schedule, labelled by the number of steps."
   ]
  },
  {
   "cell_type": "markdown",
   "metadata": {
    "id": "9O3TPYV5nJUB"
   },
   "source": [
    "The checkpoint structure and labels is somewhat messy and ad-hoc, so I mostly recommend using the `checkpoint_index` syntax (where you can just count from 0 to the number of checkpoints) rather than `checkpoint_value` syntax (where you need to know the checkpoint schedule, and whether it was labelled with the number of tokens or steps). The helper function `get_checkpoint_labels` tells you the checkpoint schedule for a given model - ie what point was each checkpoint taken at, and what type of label was used.\n",
    "\n",
    "Here are graphs of the schedules for several checkpointed models: (note that the first 3 use a log scale, latter 2 use a linear scale)"
   ]
  },
  {
   "cell_type": "code",
   "execution_count": 59,
   "metadata": {
    "id": "WHD85uGInJUB",
    "outputId": "7702c3ad-a43a-4a26-f6d9-921d20444743"
   },
   "outputs": [
    {
     "data": {
      "text/html": [
       "<html>\n",
       "<head><meta charset=\"utf-8\" /></head>\n",
       "<body>\n",
       "    <div>            <script src=\"https://cdnjs.cloudflare.com/ajax/libs/mathjax/2.7.5/MathJax.js?config=TeX-AMS-MML_SVG\"></script><script type=\"text/javascript\">if (window.MathJax && window.MathJax.Hub && window.MathJax.Hub.Config) {window.MathJax.Hub.Config({SVG: {font: \"STIX-Web\"}});}</script>                <script type=\"text/javascript\">window.PlotlyConfig = {MathJaxConfig: 'local'};</script>\n",
       "        <script charset=\"utf-8\" src=\"https://cdn.plot.ly/plotly-3.0.0.min.js\"></script>                <div id=\"da0e7c25-b6b9-4bd2-88d4-5f9f6983871c\" class=\"plotly-graph-div\" style=\"height:525px; width:100%;\"></div>            <script type=\"text/javascript\">                window.PLOTLYENV=window.PLOTLYENV || {};                                if (document.getElementById(\"da0e7c25-b6b9-4bd2-88d4-5f9f6983871c\")) {                    Plotly.newPlot(                        \"da0e7c25-b6b9-4bd2-88d4-5f9f6983871c\",                        [{\"hovertemplate\":\"variable=0\\u003cbr\\u003eindex=%{x}\\u003cbr\\u003evalue=%{y}\\u003cextra\\u003e\\u003c\\u002fextra\\u003e\",\"legendgroup\":\"0\",\"line\":{\"color\":\"#636efa\",\"dash\":\"solid\"},\"marker\":{\"symbol\":\"circle\"},\"mode\":\"lines+markers\",\"name\":\"0\",\"orientation\":\"v\",\"showlegend\":true,\"x\":{\"dtype\":\"i2\",\"bdata\":\"AAABAAIAAwAEAAUABgAHAAgACQAKAAsADAANAA4ADwAQABEAEgATABQAFQAWABcAGAAZABoAGwAcAB0AHgAfACAAIQAiACMAJAAlACYAJwAoACkAKgArACwALQAuAC8AMAAxADIAMwA0ADUANgA3ADgAOQA6ADsAPAA9AD4APwBAAEEAQgBDAEQARQBGAEcASABJAEoASwBMAE0ATgBPAFAAUQBSAFMAVABVAFYAVwBYAFkAWgBbAFwAXQBeAF8AYABhAGIAYwBkAGUAZgBnAGgAaQBqAGsAbABtAG4AbwBwAHEAcgBzAHQAdQB2AHcAeAB5AHoAewB8AH0AfgB\\u002fAIAAgQCCAIMAhACFAIYAhwCIAIkAigCLAIwAjQCOAI8AkACRAJIAkwCUAJUAlgCXAJgAmQCaAJsAnACdAJ4AnwCgAKEAogA=\"},\"xaxis\":\"x\",\"y\":[262144,2621440,4718592,7077888,9175040,11272192,13631488,15728640,18087936,20185088,22282240,33292288,44302336,55312384,66322432,77332480,88342528,99352576,110362624,121372672,132382720,143392768,154402816,165412864,176422912,187432960,198443008,209453056,220463104,264503296,308281344,352321536,396361728,440401920,484442112,528482304,572522496,616300544,660340736,704380928,748421120,792461312,836501504,880279552,924319744,968359936,1012400128,1056440320,1100480512,1144520704,1188298752,1232338944,1276379136,1320419328,1364459520,1408499712,1452277760,1496317952,1540358144,1584398336,1628438528,1672478720,1716518912,1760296960,1804337152,1848377344,1892417536,1936457728,1980497920,2024275968,2068316160,2112356352,2156396544,2200436736,2420375552,2640314368,2860515328,3080454144,3300392960,3520331776,3740270592,3960471552,4180410368,4400349184,4620288000,4840488960,5060427776,5280366592,5500305408,5720506368,5940445184,6160384000,6380322816,6600523776,6820462592,7040401408,7260340224,7480279040,7700480000,7920418816,8140357632,8360296448,8580497408,8800436224,9020375040,9240313856,9460514816,9680453632,9900392448,10120331264,10340270080,10560471040,10780409856,11000348672,11220287488,11440488448,11660427264,11880366080,12100304896,12320505856,12540444672,12760383488,12980322304,13200523264,13420462080,13640400896,13860339712,14080278528,14300479488,14520418304,14740357120,14960295936,15180496896,15400435712,15620374528,15840313344,16060514304,16280453120,16500391936,16720330752,16940269568,17160470528,17380409344,17600348160,17820286976,18040487936,18260426752,18480365568,18700304384,18920505344,19140444160,19360382976,19580321792,19800522752,20020461568,20240400384,20460339200,20680278016,20900478976,21120417792,21340356608,21560295424,21780496384],\"yaxis\":\"y\",\"type\":\"scatter\"}],                        {\"template\":{\"data\":{\"histogram2dcontour\":[{\"type\":\"histogram2dcontour\",\"colorbar\":{\"outlinewidth\":0,\"ticks\":\"\"},\"colorscale\":[[0.0,\"#0d0887\"],[0.1111111111111111,\"#46039f\"],[0.2222222222222222,\"#7201a8\"],[0.3333333333333333,\"#9c179e\"],[0.4444444444444444,\"#bd3786\"],[0.5555555555555556,\"#d8576b\"],[0.6666666666666666,\"#ed7953\"],[0.7777777777777778,\"#fb9f3a\"],[0.8888888888888888,\"#fdca26\"],[1.0,\"#f0f921\"]]}],\"choropleth\":[{\"type\":\"choropleth\",\"colorbar\":{\"outlinewidth\":0,\"ticks\":\"\"}}],\"histogram2d\":[{\"type\":\"histogram2d\",\"colorbar\":{\"outlinewidth\":0,\"ticks\":\"\"},\"colorscale\":[[0.0,\"#0d0887\"],[0.1111111111111111,\"#46039f\"],[0.2222222222222222,\"#7201a8\"],[0.3333333333333333,\"#9c179e\"],[0.4444444444444444,\"#bd3786\"],[0.5555555555555556,\"#d8576b\"],[0.6666666666666666,\"#ed7953\"],[0.7777777777777778,\"#fb9f3a\"],[0.8888888888888888,\"#fdca26\"],[1.0,\"#f0f921\"]]}],\"heatmap\":[{\"type\":\"heatmap\",\"colorbar\":{\"outlinewidth\":0,\"ticks\":\"\"},\"colorscale\":[[0.0,\"#0d0887\"],[0.1111111111111111,\"#46039f\"],[0.2222222222222222,\"#7201a8\"],[0.3333333333333333,\"#9c179e\"],[0.4444444444444444,\"#bd3786\"],[0.5555555555555556,\"#d8576b\"],[0.6666666666666666,\"#ed7953\"],[0.7777777777777778,\"#fb9f3a\"],[0.8888888888888888,\"#fdca26\"],[1.0,\"#f0f921\"]]}],\"contourcarpet\":[{\"type\":\"contourcarpet\",\"colorbar\":{\"outlinewidth\":0,\"ticks\":\"\"}}],\"contour\":[{\"type\":\"contour\",\"colorbar\":{\"outlinewidth\":0,\"ticks\":\"\"},\"colorscale\":[[0.0,\"#0d0887\"],[0.1111111111111111,\"#46039f\"],[0.2222222222222222,\"#7201a8\"],[0.3333333333333333,\"#9c179e\"],[0.4444444444444444,\"#bd3786\"],[0.5555555555555556,\"#d8576b\"],[0.6666666666666666,\"#ed7953\"],[0.7777777777777778,\"#fb9f3a\"],[0.8888888888888888,\"#fdca26\"],[1.0,\"#f0f921\"]]}],\"surface\":[{\"type\":\"surface\",\"colorbar\":{\"outlinewidth\":0,\"ticks\":\"\"},\"colorscale\":[[0.0,\"#0d0887\"],[0.1111111111111111,\"#46039f\"],[0.2222222222222222,\"#7201a8\"],[0.3333333333333333,\"#9c179e\"],[0.4444444444444444,\"#bd3786\"],[0.5555555555555556,\"#d8576b\"],[0.6666666666666666,\"#ed7953\"],[0.7777777777777778,\"#fb9f3a\"],[0.8888888888888888,\"#fdca26\"],[1.0,\"#f0f921\"]]}],\"mesh3d\":[{\"type\":\"mesh3d\",\"colorbar\":{\"outlinewidth\":0,\"ticks\":\"\"}}],\"scatter\":[{\"fillpattern\":{\"fillmode\":\"overlay\",\"size\":10,\"solidity\":0.2},\"type\":\"scatter\"}],\"parcoords\":[{\"type\":\"parcoords\",\"line\":{\"colorbar\":{\"outlinewidth\":0,\"ticks\":\"\"}}}],\"scatterpolargl\":[{\"type\":\"scatterpolargl\",\"marker\":{\"colorbar\":{\"outlinewidth\":0,\"ticks\":\"\"}}}],\"bar\":[{\"error_x\":{\"color\":\"#2a3f5f\"},\"error_y\":{\"color\":\"#2a3f5f\"},\"marker\":{\"line\":{\"color\":\"#E5ECF6\",\"width\":0.5},\"pattern\":{\"fillmode\":\"overlay\",\"size\":10,\"solidity\":0.2}},\"type\":\"bar\"}],\"scattergeo\":[{\"type\":\"scattergeo\",\"marker\":{\"colorbar\":{\"outlinewidth\":0,\"ticks\":\"\"}}}],\"scatterpolar\":[{\"type\":\"scatterpolar\",\"marker\":{\"colorbar\":{\"outlinewidth\":0,\"ticks\":\"\"}}}],\"histogram\":[{\"marker\":{\"pattern\":{\"fillmode\":\"overlay\",\"size\":10,\"solidity\":0.2}},\"type\":\"histogram\"}],\"scattergl\":[{\"type\":\"scattergl\",\"marker\":{\"colorbar\":{\"outlinewidth\":0,\"ticks\":\"\"}}}],\"scatter3d\":[{\"type\":\"scatter3d\",\"line\":{\"colorbar\":{\"outlinewidth\":0,\"ticks\":\"\"}},\"marker\":{\"colorbar\":{\"outlinewidth\":0,\"ticks\":\"\"}}}],\"scattermap\":[{\"type\":\"scattermap\",\"marker\":{\"colorbar\":{\"outlinewidth\":0,\"ticks\":\"\"}}}],\"scattermapbox\":[{\"type\":\"scattermapbox\",\"marker\":{\"colorbar\":{\"outlinewidth\":0,\"ticks\":\"\"}}}],\"scatterternary\":[{\"type\":\"scatterternary\",\"marker\":{\"colorbar\":{\"outlinewidth\":0,\"ticks\":\"\"}}}],\"scattercarpet\":[{\"type\":\"scattercarpet\",\"marker\":{\"colorbar\":{\"outlinewidth\":0,\"ticks\":\"\"}}}],\"carpet\":[{\"aaxis\":{\"endlinecolor\":\"#2a3f5f\",\"gridcolor\":\"white\",\"linecolor\":\"white\",\"minorgridcolor\":\"white\",\"startlinecolor\":\"#2a3f5f\"},\"baxis\":{\"endlinecolor\":\"#2a3f5f\",\"gridcolor\":\"white\",\"linecolor\":\"white\",\"minorgridcolor\":\"white\",\"startlinecolor\":\"#2a3f5f\"},\"type\":\"carpet\"}],\"table\":[{\"cells\":{\"fill\":{\"color\":\"#EBF0F8\"},\"line\":{\"color\":\"white\"}},\"header\":{\"fill\":{\"color\":\"#C8D4E3\"},\"line\":{\"color\":\"white\"}},\"type\":\"table\"}],\"barpolar\":[{\"marker\":{\"line\":{\"color\":\"#E5ECF6\",\"width\":0.5},\"pattern\":{\"fillmode\":\"overlay\",\"size\":10,\"solidity\":0.2}},\"type\":\"barpolar\"}],\"pie\":[{\"automargin\":true,\"type\":\"pie\"}]},\"layout\":{\"autotypenumbers\":\"strict\",\"colorway\":[\"#636efa\",\"#EF553B\",\"#00cc96\",\"#ab63fa\",\"#FFA15A\",\"#19d3f3\",\"#FF6692\",\"#B6E880\",\"#FF97FF\",\"#FECB52\"],\"font\":{\"color\":\"#2a3f5f\"},\"hovermode\":\"closest\",\"hoverlabel\":{\"align\":\"left\"},\"paper_bgcolor\":\"white\",\"plot_bgcolor\":\"#E5ECF6\",\"polar\":{\"bgcolor\":\"#E5ECF6\",\"angularaxis\":{\"gridcolor\":\"white\",\"linecolor\":\"white\",\"ticks\":\"\"},\"radialaxis\":{\"gridcolor\":\"white\",\"linecolor\":\"white\",\"ticks\":\"\"}},\"ternary\":{\"bgcolor\":\"#E5ECF6\",\"aaxis\":{\"gridcolor\":\"white\",\"linecolor\":\"white\",\"ticks\":\"\"},\"baxis\":{\"gridcolor\":\"white\",\"linecolor\":\"white\",\"ticks\":\"\"},\"caxis\":{\"gridcolor\":\"white\",\"linecolor\":\"white\",\"ticks\":\"\"}},\"coloraxis\":{\"colorbar\":{\"outlinewidth\":0,\"ticks\":\"\"}},\"colorscale\":{\"sequential\":[[0.0,\"#0d0887\"],[0.1111111111111111,\"#46039f\"],[0.2222222222222222,\"#7201a8\"],[0.3333333333333333,\"#9c179e\"],[0.4444444444444444,\"#bd3786\"],[0.5555555555555556,\"#d8576b\"],[0.6666666666666666,\"#ed7953\"],[0.7777777777777778,\"#fb9f3a\"],[0.8888888888888888,\"#fdca26\"],[1.0,\"#f0f921\"]],\"sequentialminus\":[[0.0,\"#0d0887\"],[0.1111111111111111,\"#46039f\"],[0.2222222222222222,\"#7201a8\"],[0.3333333333333333,\"#9c179e\"],[0.4444444444444444,\"#bd3786\"],[0.5555555555555556,\"#d8576b\"],[0.6666666666666666,\"#ed7953\"],[0.7777777777777778,\"#fb9f3a\"],[0.8888888888888888,\"#fdca26\"],[1.0,\"#f0f921\"]],\"diverging\":[[0,\"#8e0152\"],[0.1,\"#c51b7d\"],[0.2,\"#de77ae\"],[0.3,\"#f1b6da\"],[0.4,\"#fde0ef\"],[0.5,\"#f7f7f7\"],[0.6,\"#e6f5d0\"],[0.7,\"#b8e186\"],[0.8,\"#7fbc41\"],[0.9,\"#4d9221\"],[1,\"#276419\"]]},\"xaxis\":{\"gridcolor\":\"white\",\"linecolor\":\"white\",\"ticks\":\"\",\"title\":{\"standoff\":15},\"zerolinecolor\":\"white\",\"automargin\":true,\"zerolinewidth\":2},\"yaxis\":{\"gridcolor\":\"white\",\"linecolor\":\"white\",\"ticks\":\"\",\"title\":{\"standoff\":15},\"zerolinecolor\":\"white\",\"automargin\":true,\"zerolinewidth\":2},\"scene\":{\"xaxis\":{\"backgroundcolor\":\"#E5ECF6\",\"gridcolor\":\"white\",\"linecolor\":\"white\",\"showbackground\":true,\"ticks\":\"\",\"zerolinecolor\":\"white\",\"gridwidth\":2},\"yaxis\":{\"backgroundcolor\":\"#E5ECF6\",\"gridcolor\":\"white\",\"linecolor\":\"white\",\"showbackground\":true,\"ticks\":\"\",\"zerolinecolor\":\"white\",\"gridwidth\":2},\"zaxis\":{\"backgroundcolor\":\"#E5ECF6\",\"gridcolor\":\"white\",\"linecolor\":\"white\",\"showbackground\":true,\"ticks\":\"\",\"zerolinecolor\":\"white\",\"gridwidth\":2}},\"shapedefaults\":{\"line\":{\"color\":\"#2a3f5f\"}},\"annotationdefaults\":{\"arrowcolor\":\"#2a3f5f\",\"arrowhead\":0,\"arrowwidth\":1},\"geo\":{\"bgcolor\":\"white\",\"landcolor\":\"#E5ECF6\",\"subunitcolor\":\"white\",\"showland\":true,\"showlakes\":true,\"lakecolor\":\"white\"},\"title\":{\"x\":0.05},\"mapbox\":{\"style\":\"light\"}}},\"xaxis\":{\"anchor\":\"y\",\"domain\":[0.0,1.0],\"title\":{\"text\":\"index\"}},\"yaxis\":{\"anchor\":\"x\",\"domain\":[0.0,1.0],\"title\":{\"text\":\"value\"},\"type\":\"log\"},\"legend\":{\"title\":{\"text\":\"variable\"},\"tracegroupgap\":0},\"title\":{\"text\":\"Checkpoint Values for attn-only-2l (Log scale)\"}},                        {\"responsive\": true}                    ).then(function(){\n",
       "                            \n",
       "var gd = document.getElementById('da0e7c25-b6b9-4bd2-88d4-5f9f6983871c');\n",
       "var x = new MutationObserver(function (mutations, observer) {{\n",
       "        var display = window.getComputedStyle(gd).display;\n",
       "        if (!display || display === 'none') {{\n",
       "            console.log([gd, 'removed!']);\n",
       "            Plotly.purge(gd);\n",
       "            observer.disconnect();\n",
       "        }}\n",
       "}});\n",
       "\n",
       "// Listen for the removal of the full notebook cells\n",
       "var notebookContainer = gd.closest('#notebook-container');\n",
       "if (notebookContainer) {{\n",
       "    x.observe(notebookContainer, {childList: true});\n",
       "}}\n",
       "\n",
       "// Listen for the clearing of the current output cell\n",
       "var outputEl = gd.closest('.output');\n",
       "if (outputEl) {{\n",
       "    x.observe(outputEl, {childList: true});\n",
       "}}\n",
       "\n",
       "                        })                };            </script>        </div>\n",
       "</body>\n",
       "</html>"
      ]
     },
     "metadata": {},
     "output_type": "display_data"
    },
    {
     "data": {
      "text/html": [
       "<html>\n",
       "<head><meta charset=\"utf-8\" /></head>\n",
       "<body>\n",
       "    <div>            <script src=\"https://cdnjs.cloudflare.com/ajax/libs/mathjax/2.7.5/MathJax.js?config=TeX-AMS-MML_SVG\"></script><script type=\"text/javascript\">if (window.MathJax && window.MathJax.Hub && window.MathJax.Hub.Config) {window.MathJax.Hub.Config({SVG: {font: \"STIX-Web\"}});}</script>                <script type=\"text/javascript\">window.PlotlyConfig = {MathJaxConfig: 'local'};</script>\n",
       "        <script charset=\"utf-8\" src=\"https://cdn.plot.ly/plotly-3.0.0.min.js\"></script>                <div id=\"7d80f7d8-bc78-4acd-9b1a-1efe636faa6a\" class=\"plotly-graph-div\" style=\"height:525px; width:100%;\"></div>            <script type=\"text/javascript\">                window.PLOTLYENV=window.PLOTLYENV || {};                                if (document.getElementById(\"7d80f7d8-bc78-4acd-9b1a-1efe636faa6a\")) {                    Plotly.newPlot(                        \"7d80f7d8-bc78-4acd-9b1a-1efe636faa6a\",                        [{\"hovertemplate\":\"variable=0\\u003cbr\\u003eindex=%{x}\\u003cbr\\u003evalue=%{y}\\u003cextra\\u003e\\u003c\\u002fextra\\u003e\",\"legendgroup\":\"0\",\"line\":{\"color\":\"#636efa\",\"dash\":\"solid\"},\"marker\":{\"symbol\":\"circle\"},\"mode\":\"lines+markers\",\"name\":\"0\",\"orientation\":\"v\",\"showlegend\":true,\"x\":{\"dtype\":\"i2\",\"bdata\":\"AAABAAIAAwAEAAUABgAHAAgACQAKAAsADAANAA4ADwAQABEAEgATABQAFQAWABcAGAAZABoAGwAcAB0AHgAfACAAIQAiACMAJAAlACYAJwAoACkAKgArACwALQAuAC8AMAAxADIAMwA0ADUANgA3ADgAOQA6ADsAPAA9AD4APwBAAEEAQgBDAEQARQBGAEcASABJAEoASwBMAE0ATgBPAFAAUQBSAFMAVABVAFYAVwBYAFkAWgBbAFwAXQBeAF8AYABhAGIAYwBkAGUAZgBnAGgAaQBqAGsAbABtAG4AbwBwAHEAcgBzAHQAdQB2AHcAeAB5AHoAewB8AH0AfgB\\u002fAIAAgQCCAIMAhACFAIYAhwCIAIkAigCLAIwAjQCOAI8AkACRAJIAkwCUAJUAlgCXAJgAmQCaAJsAnACdAJ4AnwCgAKEAogA=\"},\"xaxis\":\"x\",\"y\":[196608,3342336,6291456,9240576,12386304,15335424,18284544,21233664,24379392,27328512,30277632,45219840,60358656,75300864,90243072,105381888,120324096,135266304,150208512,165347328,180289536,195231744,210370560,225312768,240254976,255197184,270336000,285278208,300220416,360382464,420347904,480313344,540278784,600244224,660209664,720371712,780337152,840302592,900268032,960233472,1020198912,1080360960,1140326400,1200291840,1260257280,1320222720,1380384768,1440350208,1500315648,1560281088,1620246528,1680211968,1740374016,1800339456,1860304896,1920270336,1980235776,2040201216,2100363264,2160328704,2220294144,2280259584,2340225024,2400387072,2460352512,2520317952,2580283392,2640248832,2700214272,2760376320,2820341760,2880307200,2940272640,3000238080,3300261888,3600285696,3900309504,4200333312,4500357120,4800380928,5100208128,5400231936,5700255744,6000279552,6300303360,6600327168,6900350976,7200374784,7500201984,7800225792,8100249600,8400273408,8700297216,9000321024,9300344832,9600368640,9900392448,10200219648,10500243456,10800267264,11100291072,11400314880,11700338688,12000362496,12300386304,12600213504,12900237312,13200261120,13500284928,13800308736,14100332544,14400356352,14700380160,15000207360,15300231168,15600254976,15900278784,16200302592,16500326400,16800350208,17100374016,17400201216,17700225024,18000248832,18300272640,18600296448,18900320256,19200344064,19500367872,19800391680,20100218880,20400242688,20700266496,21000290304,21300314112,21600337920,21900361728,22200385536,22500212736,22800236544,23100260352,23400284160,23700307968,24000331776,24300355584,24600379392,24900206592,25200230400,25500254208,25800278016,26100301824,26400325632,26700349440,27000373248,27300200448,27600224256,27900248064,28200271872,28500295680,28800319488,29100343296,29400367104,29700390912],\"yaxis\":\"y\",\"type\":\"scatter\"}],                        {\"template\":{\"data\":{\"histogram2dcontour\":[{\"type\":\"histogram2dcontour\",\"colorbar\":{\"outlinewidth\":0,\"ticks\":\"\"},\"colorscale\":[[0.0,\"#0d0887\"],[0.1111111111111111,\"#46039f\"],[0.2222222222222222,\"#7201a8\"],[0.3333333333333333,\"#9c179e\"],[0.4444444444444444,\"#bd3786\"],[0.5555555555555556,\"#d8576b\"],[0.6666666666666666,\"#ed7953\"],[0.7777777777777778,\"#fb9f3a\"],[0.8888888888888888,\"#fdca26\"],[1.0,\"#f0f921\"]]}],\"choropleth\":[{\"type\":\"choropleth\",\"colorbar\":{\"outlinewidth\":0,\"ticks\":\"\"}}],\"histogram2d\":[{\"type\":\"histogram2d\",\"colorbar\":{\"outlinewidth\":0,\"ticks\":\"\"},\"colorscale\":[[0.0,\"#0d0887\"],[0.1111111111111111,\"#46039f\"],[0.2222222222222222,\"#7201a8\"],[0.3333333333333333,\"#9c179e\"],[0.4444444444444444,\"#bd3786\"],[0.5555555555555556,\"#d8576b\"],[0.6666666666666666,\"#ed7953\"],[0.7777777777777778,\"#fb9f3a\"],[0.8888888888888888,\"#fdca26\"],[1.0,\"#f0f921\"]]}],\"heatmap\":[{\"type\":\"heatmap\",\"colorbar\":{\"outlinewidth\":0,\"ticks\":\"\"},\"colorscale\":[[0.0,\"#0d0887\"],[0.1111111111111111,\"#46039f\"],[0.2222222222222222,\"#7201a8\"],[0.3333333333333333,\"#9c179e\"],[0.4444444444444444,\"#bd3786\"],[0.5555555555555556,\"#d8576b\"],[0.6666666666666666,\"#ed7953\"],[0.7777777777777778,\"#fb9f3a\"],[0.8888888888888888,\"#fdca26\"],[1.0,\"#f0f921\"]]}],\"contourcarpet\":[{\"type\":\"contourcarpet\",\"colorbar\":{\"outlinewidth\":0,\"ticks\":\"\"}}],\"contour\":[{\"type\":\"contour\",\"colorbar\":{\"outlinewidth\":0,\"ticks\":\"\"},\"colorscale\":[[0.0,\"#0d0887\"],[0.1111111111111111,\"#46039f\"],[0.2222222222222222,\"#7201a8\"],[0.3333333333333333,\"#9c179e\"],[0.4444444444444444,\"#bd3786\"],[0.5555555555555556,\"#d8576b\"],[0.6666666666666666,\"#ed7953\"],[0.7777777777777778,\"#fb9f3a\"],[0.8888888888888888,\"#fdca26\"],[1.0,\"#f0f921\"]]}],\"surface\":[{\"type\":\"surface\",\"colorbar\":{\"outlinewidth\":0,\"ticks\":\"\"},\"colorscale\":[[0.0,\"#0d0887\"],[0.1111111111111111,\"#46039f\"],[0.2222222222222222,\"#7201a8\"],[0.3333333333333333,\"#9c179e\"],[0.4444444444444444,\"#bd3786\"],[0.5555555555555556,\"#d8576b\"],[0.6666666666666666,\"#ed7953\"],[0.7777777777777778,\"#fb9f3a\"],[0.8888888888888888,\"#fdca26\"],[1.0,\"#f0f921\"]]}],\"mesh3d\":[{\"type\":\"mesh3d\",\"colorbar\":{\"outlinewidth\":0,\"ticks\":\"\"}}],\"scatter\":[{\"fillpattern\":{\"fillmode\":\"overlay\",\"size\":10,\"solidity\":0.2},\"type\":\"scatter\"}],\"parcoords\":[{\"type\":\"parcoords\",\"line\":{\"colorbar\":{\"outlinewidth\":0,\"ticks\":\"\"}}}],\"scatterpolargl\":[{\"type\":\"scatterpolargl\",\"marker\":{\"colorbar\":{\"outlinewidth\":0,\"ticks\":\"\"}}}],\"bar\":[{\"error_x\":{\"color\":\"#2a3f5f\"},\"error_y\":{\"color\":\"#2a3f5f\"},\"marker\":{\"line\":{\"color\":\"#E5ECF6\",\"width\":0.5},\"pattern\":{\"fillmode\":\"overlay\",\"size\":10,\"solidity\":0.2}},\"type\":\"bar\"}],\"scattergeo\":[{\"type\":\"scattergeo\",\"marker\":{\"colorbar\":{\"outlinewidth\":0,\"ticks\":\"\"}}}],\"scatterpolar\":[{\"type\":\"scatterpolar\",\"marker\":{\"colorbar\":{\"outlinewidth\":0,\"ticks\":\"\"}}}],\"histogram\":[{\"marker\":{\"pattern\":{\"fillmode\":\"overlay\",\"size\":10,\"solidity\":0.2}},\"type\":\"histogram\"}],\"scattergl\":[{\"type\":\"scattergl\",\"marker\":{\"colorbar\":{\"outlinewidth\":0,\"ticks\":\"\"}}}],\"scatter3d\":[{\"type\":\"scatter3d\",\"line\":{\"colorbar\":{\"outlinewidth\":0,\"ticks\":\"\"}},\"marker\":{\"colorbar\":{\"outlinewidth\":0,\"ticks\":\"\"}}}],\"scattermap\":[{\"type\":\"scattermap\",\"marker\":{\"colorbar\":{\"outlinewidth\":0,\"ticks\":\"\"}}}],\"scattermapbox\":[{\"type\":\"scattermapbox\",\"marker\":{\"colorbar\":{\"outlinewidth\":0,\"ticks\":\"\"}}}],\"scatterternary\":[{\"type\":\"scatterternary\",\"marker\":{\"colorbar\":{\"outlinewidth\":0,\"ticks\":\"\"}}}],\"scattercarpet\":[{\"type\":\"scattercarpet\",\"marker\":{\"colorbar\":{\"outlinewidth\":0,\"ticks\":\"\"}}}],\"carpet\":[{\"aaxis\":{\"endlinecolor\":\"#2a3f5f\",\"gridcolor\":\"white\",\"linecolor\":\"white\",\"minorgridcolor\":\"white\",\"startlinecolor\":\"#2a3f5f\"},\"baxis\":{\"endlinecolor\":\"#2a3f5f\",\"gridcolor\":\"white\",\"linecolor\":\"white\",\"minorgridcolor\":\"white\",\"startlinecolor\":\"#2a3f5f\"},\"type\":\"carpet\"}],\"table\":[{\"cells\":{\"fill\":{\"color\":\"#EBF0F8\"},\"line\":{\"color\":\"white\"}},\"header\":{\"fill\":{\"color\":\"#C8D4E3\"},\"line\":{\"color\":\"white\"}},\"type\":\"table\"}],\"barpolar\":[{\"marker\":{\"line\":{\"color\":\"#E5ECF6\",\"width\":0.5},\"pattern\":{\"fillmode\":\"overlay\",\"size\":10,\"solidity\":0.2}},\"type\":\"barpolar\"}],\"pie\":[{\"automargin\":true,\"type\":\"pie\"}]},\"layout\":{\"autotypenumbers\":\"strict\",\"colorway\":[\"#636efa\",\"#EF553B\",\"#00cc96\",\"#ab63fa\",\"#FFA15A\",\"#19d3f3\",\"#FF6692\",\"#B6E880\",\"#FF97FF\",\"#FECB52\"],\"font\":{\"color\":\"#2a3f5f\"},\"hovermode\":\"closest\",\"hoverlabel\":{\"align\":\"left\"},\"paper_bgcolor\":\"white\",\"plot_bgcolor\":\"#E5ECF6\",\"polar\":{\"bgcolor\":\"#E5ECF6\",\"angularaxis\":{\"gridcolor\":\"white\",\"linecolor\":\"white\",\"ticks\":\"\"},\"radialaxis\":{\"gridcolor\":\"white\",\"linecolor\":\"white\",\"ticks\":\"\"}},\"ternary\":{\"bgcolor\":\"#E5ECF6\",\"aaxis\":{\"gridcolor\":\"white\",\"linecolor\":\"white\",\"ticks\":\"\"},\"baxis\":{\"gridcolor\":\"white\",\"linecolor\":\"white\",\"ticks\":\"\"},\"caxis\":{\"gridcolor\":\"white\",\"linecolor\":\"white\",\"ticks\":\"\"}},\"coloraxis\":{\"colorbar\":{\"outlinewidth\":0,\"ticks\":\"\"}},\"colorscale\":{\"sequential\":[[0.0,\"#0d0887\"],[0.1111111111111111,\"#46039f\"],[0.2222222222222222,\"#7201a8\"],[0.3333333333333333,\"#9c179e\"],[0.4444444444444444,\"#bd3786\"],[0.5555555555555556,\"#d8576b\"],[0.6666666666666666,\"#ed7953\"],[0.7777777777777778,\"#fb9f3a\"],[0.8888888888888888,\"#fdca26\"],[1.0,\"#f0f921\"]],\"sequentialminus\":[[0.0,\"#0d0887\"],[0.1111111111111111,\"#46039f\"],[0.2222222222222222,\"#7201a8\"],[0.3333333333333333,\"#9c179e\"],[0.4444444444444444,\"#bd3786\"],[0.5555555555555556,\"#d8576b\"],[0.6666666666666666,\"#ed7953\"],[0.7777777777777778,\"#fb9f3a\"],[0.8888888888888888,\"#fdca26\"],[1.0,\"#f0f921\"]],\"diverging\":[[0,\"#8e0152\"],[0.1,\"#c51b7d\"],[0.2,\"#de77ae\"],[0.3,\"#f1b6da\"],[0.4,\"#fde0ef\"],[0.5,\"#f7f7f7\"],[0.6,\"#e6f5d0\"],[0.7,\"#b8e186\"],[0.8,\"#7fbc41\"],[0.9,\"#4d9221\"],[1,\"#276419\"]]},\"xaxis\":{\"gridcolor\":\"white\",\"linecolor\":\"white\",\"ticks\":\"\",\"title\":{\"standoff\":15},\"zerolinecolor\":\"white\",\"automargin\":true,\"zerolinewidth\":2},\"yaxis\":{\"gridcolor\":\"white\",\"linecolor\":\"white\",\"ticks\":\"\",\"title\":{\"standoff\":15},\"zerolinecolor\":\"white\",\"automargin\":true,\"zerolinewidth\":2},\"scene\":{\"xaxis\":{\"backgroundcolor\":\"#E5ECF6\",\"gridcolor\":\"white\",\"linecolor\":\"white\",\"showbackground\":true,\"ticks\":\"\",\"zerolinecolor\":\"white\",\"gridwidth\":2},\"yaxis\":{\"backgroundcolor\":\"#E5ECF6\",\"gridcolor\":\"white\",\"linecolor\":\"white\",\"showbackground\":true,\"ticks\":\"\",\"zerolinecolor\":\"white\",\"gridwidth\":2},\"zaxis\":{\"backgroundcolor\":\"#E5ECF6\",\"gridcolor\":\"white\",\"linecolor\":\"white\",\"showbackground\":true,\"ticks\":\"\",\"zerolinecolor\":\"white\",\"gridwidth\":2}},\"shapedefaults\":{\"line\":{\"color\":\"#2a3f5f\"}},\"annotationdefaults\":{\"arrowcolor\":\"#2a3f5f\",\"arrowhead\":0,\"arrowwidth\":1},\"geo\":{\"bgcolor\":\"white\",\"landcolor\":\"#E5ECF6\",\"subunitcolor\":\"white\",\"showland\":true,\"showlakes\":true,\"lakecolor\":\"white\"},\"title\":{\"x\":0.05},\"mapbox\":{\"style\":\"light\"}}},\"xaxis\":{\"anchor\":\"y\",\"domain\":[0.0,1.0],\"title\":{\"text\":\"index\"}},\"yaxis\":{\"anchor\":\"x\",\"domain\":[0.0,1.0],\"title\":{\"text\":\"value\"},\"type\":\"log\"},\"legend\":{\"title\":{\"text\":\"variable\"},\"tracegroupgap\":0},\"title\":{\"text\":\"Checkpoint Values for solu-12l (Log scale)\"}},                        {\"responsive\": true}                    ).then(function(){\n",
       "                            \n",
       "var gd = document.getElementById('7d80f7d8-bc78-4acd-9b1a-1efe636faa6a');\n",
       "var x = new MutationObserver(function (mutations, observer) {{\n",
       "        var display = window.getComputedStyle(gd).display;\n",
       "        if (!display || display === 'none') {{\n",
       "            console.log([gd, 'removed!']);\n",
       "            Plotly.purge(gd);\n",
       "            observer.disconnect();\n",
       "        }}\n",
       "}});\n",
       "\n",
       "// Listen for the removal of the full notebook cells\n",
       "var notebookContainer = gd.closest('#notebook-container');\n",
       "if (notebookContainer) {{\n",
       "    x.observe(notebookContainer, {childList: true});\n",
       "}}\n",
       "\n",
       "// Listen for the clearing of the current output cell\n",
       "var outputEl = gd.closest('.output');\n",
       "if (outputEl) {{\n",
       "    x.observe(outputEl, {childList: true});\n",
       "}}\n",
       "\n",
       "                        })                };            </script>        </div>\n",
       "</body>\n",
       "</html>"
      ]
     },
     "metadata": {},
     "output_type": "display_data"
    },
    {
     "data": {
      "text/html": [
       "<html>\n",
       "<head><meta charset=\"utf-8\" /></head>\n",
       "<body>\n",
       "    <div>            <script src=\"https://cdnjs.cloudflare.com/ajax/libs/mathjax/2.7.5/MathJax.js?config=TeX-AMS-MML_SVG\"></script><script type=\"text/javascript\">if (window.MathJax && window.MathJax.Hub && window.MathJax.Hub.Config) {window.MathJax.Hub.Config({SVG: {font: \"STIX-Web\"}});}</script>                <script type=\"text/javascript\">window.PlotlyConfig = {MathJaxConfig: 'local'};</script>\n",
       "        <script charset=\"utf-8\" src=\"https://cdn.plot.ly/plotly-3.0.0.min.js\"></script>                <div id=\"6cd2952e-e7ae-4e22-8d85-b900338b60ac\" class=\"plotly-graph-div\" style=\"height:525px; width:100%;\"></div>            <script type=\"text/javascript\">                window.PLOTLYENV=window.PLOTLYENV || {};                                if (document.getElementById(\"6cd2952e-e7ae-4e22-8d85-b900338b60ac\")) {                    Plotly.newPlot(                        \"6cd2952e-e7ae-4e22-8d85-b900338b60ac\",                        [{\"hovertemplate\":\"variable=0\\u003cbr\\u003eindex=%{x}\\u003cbr\\u003evalue=%{y}\\u003cextra\\u003e\\u003c\\u002fextra\\u003e\",\"legendgroup\":\"0\",\"line\":{\"color\":\"#636efa\",\"dash\":\"solid\"},\"marker\":{\"symbol\":\"circle\"},\"mode\":\"lines+markers\",\"name\":\"0\",\"orientation\":\"v\",\"showlegend\":true,\"x\":{\"dtype\":\"i2\",\"bdata\":\"AAABAAIAAwAEAAUABgAHAAgACQAKAAsADAANAA4ADwAQABEAEgATABQAFQAWABcAGAAZABoAGwAcAB0AHgAfACAAIQAiACMAJAAlACYAJwAoACkAKgArACwALQAuAC8AMAAxADIAMwA0ADUANgA3ADgAOQA6ADsAPAA9AD4APwBAAEEAQgBDAEQARQBGAEcASABJAEoASwBMAE0ATgBPAFAAUQBSAFMAVABVAFYAVwBYAFkAWgBbAFwAXQBeAF8AYABhAGIAYwBkAGUAZgBnAGgAaQBqAGsAbABtAG4AbwBwAHEAcgBzAHQAdQB2AHcAeAB5AHoAewB8AH0AfgB\\u002fAIAAgQCCAIMAhACFAIYAhwCIAIkAigCLAIwAjQCOAI8AkACRAJIAkwCUAJUAlgCXAJgAmQCaAJsAnACdAJ4AnwCgAKEAogCjAKQApQCmAKcAqACpAKoAqwCsAK0ArgCvALAAsQCyALMAtAC1ALYAtwC4ALkAugC7ALwAvQC+AL8AwADBAMIAwwDEAMUAxgDHAMgAyQDKAMsAzADNAM4AzwDQANEA0gDTANQA1QDWANcA2ADZANoA2wDcAN0A3gDfAOAA4QDiAOMA5ADlAOYA5wDoAOkA6gDrAOwA7QDuAO8A8ADxAPIA8wD0APUA9gD3APgA+QD6APsA\\u002fAD9AP4A\\u002fwAAAQEBAgEDAQQBBQEGAQcBCAEJAQoBCwEMAQ0BDgEPARABEQESARMBFAEVARYBFwEYARkBGgEbARwBHQEeAR8BIAEhASIBIwEkASUBJgEnASgBKQEqASsBLAEtAS4BLwEwATEBMgEzATQBNQE2ATcBOAE5AToBOwE8AT0BPgE\\u002fAUABQQFCAUMBRAFFAUYBRwFIAUkBSgFLAUwBTQFOAU8BUAFRAVIBUwFUAVUBVgFXAVgBWQFaAVsBXAFdAV4BXwFgAWEBYgFjAWQBZQFmAWcBaAFpAWoBawFsAW0BbgFvAXABcQFyAXMBdAF1AXYBdwF4AXkBegF7AXwBfQF+AX8BgAGBAYIBgwGEAYUBhgGHAYgBiQGKAYsBjAGNAY4BjwGQAZEBkgGTAZQBlQGWAZcBmAGZAZoBmwGcAZ0BngGfAaABoQGiAaMBpAGlAaYBpwGoAakBqgGrAawBrQGuAa8BsAGxAbIBswG0AbUBtgG3AbgBuQG6AbsBvAG9Ab4BvwHAAcEBwgHDAcQBxQHGAccByAHJAcoBywHMAc0BzgHPAdAB0QHSAdMB1AHVAdYB1wHYAdkB2gHbAdwB3QHeAd8B4AHhAeIB4wHkAeUB5gHnAegB6QHqAesB7AHtAe4B7wHwAfEB8gHzAfQB9QH2AfcB+AH5AfoB+wH8Af0B\\u002fgH\\u002fAQACAQICAgMCBAIFAgYCBwIIAgkCCgILAgwCDQIOAg8CEAIRAhICEwIUAhUCFgIXAhgCGQIaAhsCHAIdAh4CHwIgAiECIgIjAiQCJQImAicCKAIpAioCKwIsAi0CLgIvAjACMQIyAjMCNAI1AjYCNwI4AjkCOgI7AjwCPQI+Aj8CQAJBAkICQwJEAkUCRgJHAkgCSQJKAksCTAJNAk4CTwJQAlECUgJTAlQCVQJWAlcCWAJZAloCWwJcAl0CXgJfAmAC\"},\"xaxis\":\"x\",\"y\":{\"dtype\":\"i4\",\"bdata\":\"AAAAAAoAAAAUAAAAHgAAACgAAAAyAAAAPAAAAEYAAABQAAAAWgAAAGQAAACWAAAAyAAAAPoAAAAsAQAAXgEAAJABAADCAQAA9AEAACYCAABYAgAAigIAALwCAADuAgAAIAMAAFIDAACEAwAAtgMAAOgDAAAaBAAATAQAAH4EAACwBAAA4gQAABQFAABGBQAAeAUAAKoFAADcBQAADgYAAEAGAAByBgAApAYAANYGAAAIBwAAOgcAAGwHAACeBwAA0AcAADQIAACYCAAA\\u002fAgAAGAJAADECQAAKAoAAIwKAADwCgAAVAsAALgLAAAcDAAAgAwAAOQMAABIDQAArA0AABAOAAB0DgAA2A4AADwPAACgDwAABBAAAGgQAADMEAAAMBEAAJQRAAD4EQAAXBIAAMASAAAkEwAAiBMAAOwTAABQFAAAtBQAABgVAAB8FQAA4BUAAEQWAACoFgAADBcAAHAXAADUFwAAOBgAAJwYAAAAGQAAZBkAAMgZAAAsGgAAkBoAAPQaAABYGwAAvBsAACAcAACEHAAA6BwAAEwdAACwHQAAFB4AAHgeAADcHgAAQB8AAKQfAAAIIAAAbCAAANAgAAA0IQAAmCEAAPwhAABgIgAAxCIAACgjAACMIwAA8CMAAFQkAAC4JAAAHCUAAIAlAADkJQAASCYAAKwmAAAQJwAAdCcAANgnAAA8KAAAoCgAAAQpAABoKQAAzCkAADAqAACUKgAA+CoAAFwrAADAKwAAJCwAAIgsAADsLAAAUC0AALQtAAAYLgAAfC4AAOAuAABELwAAqC8AAAwwAABwMAAA1DAAADgxAACcMQAAADIAAGQyAADIMgAALDMAAJAzAAD0MwAAWDQAALw0AAAgNQAAhDUAAOg1AABMNgAAsDYAABQ3AAB4NwAA3DcAAEA4AACkOAAACDkAAGw5AADQOQAANDoAAJg6AAD8OgAAYDsAAMQ7AAAoPAAAjDwAAPA8AABUPQAAuD0AABw+AACAPgAA5D4AAEg\\u002fAACsPwAAEEAAAHRAAADYQAAAPEEAAKBBAAAEQgAAaEIAAMxCAAAwQwAAlEMAAPhDAABcRAAAwEQAACRFAACIRQAA7EUAAFBGAAC0RgAAGEcAAHxHAADgRwAAREgAAKhIAAAMSQAAcEkAANRJAAA4SgAAnEoAAABLAABkSwAAyEsAACxMAACQTAAA9EwAAFhNAAC8TQAAIE4AAAhSAADwVQAA2FkAAMBdAACoYQAAkGUAAHhpAABgbQAASHEAADB1AAAYeQAAAH0AAOiAAADQhAAAuIgAAKCMAACIkAAAcJQAAFiYAABAnAAAKKAAABCkAAD4pwAA4KsAAMivAACwswAAmLcAAIC7AABovwAAUMMAADjHAAAgywAACM8AAPDSAADY1gAAwNoAAKjeAACQ4gAAeOYAAGDqAABI7gAAMPIAABj2AAAA+gAA6P0AANABAQC4BQEAoAkBAIgNAQBwEQEAWBUBAEAZAQAoHQEAECEBAPgkAQDgKAEAyCwBALAwAQCYNAEAgDgBAGg8AQBQQAEAOEQBACBIAQAITAEA8E8BANhTAQDAVwEAqFsBAJBfAQB4YwEAYGcBAEhrAQAwbwEAGHMBAAB3AQDoegEA0H4BALiCAQCghgEAiIoBAHCOAQBYkgEAQJYBACiaAQAQngEA+KEBAOClAQDIqQEAsK0BAJixAQCAtQEAaLkBAFC9AQA4wQEAIMUBAAjJAQDwzAEA2NABAMDUAQCo2AEAkNwBAHjgAQBg5AEASOgBADDsAQAY8AEAAPQBAOj3AQDQ+wEAuP8BAKADAgCIBwIAcAsCAFgPAgBAEwIAKBcCABAbAgD4HgIA4CICAMgmAgCwKgIAmC4CAIAyAgBoNgIAUDoCADg+AgAgQgIACEYCAPBJAgDYTQIAwFECAKhVAgCQWQIAeF0CAGBhAgBIZQIAMGkCABhtAgAAcQIA6HQCANB4AgC4fAIAoIACAIiEAgBwiAIAWIwCAECQAgAolAIAEJgCAPibAgDgnwIAyKMCALCnAgCYqwIAgK8CAGizAgBQtwIAOLsCACC\\u002fAgAIwwIA8MYCANjKAgDAzgIAqNICAJDWAgB42gIAYN4CAEjiAgAw5gIAGOoCAADuAgDo8QIA0PUCALj5AgCg\\u002fQIAiAEDAHAFAwBYCQMAQA0DACgRAwAQFQMA+BgDAOAcAwDIIAMAsCQDAJgoAwCALAMAaDADAFA0AwA4OAMAIDwDAAhAAwDwQwMA2EcDAMBLAwCoTwMAkFMDAHhXAwBgWwMASF8DADBjAwAYZwMAAGsDAOhuAwDQcgMAuHYDAKB6AwCIfgMAcIIDAFiGAwBAigMAKI4DABCSAwD4lQMA4JkDAMidAwCwoQMAmKUDAICpAwBorQMAULEDADi1AwAguQMACL0DAPDAAwDYxAMAwMgDAKjMAwCQ0AMAeNQDAGDYAwBI3AMAMOADABjkAwAA6AMA6OsDANDvAwC48wMAoPcDAIj7AwBw\\u002fwMAWAMEAEAHBAAoCwQAEA8EAPgSBADgFgQAyBoEALAeBACYIgQAgCYEAGgqBABQLgQAODIEACA2BAAIOgQA8D0EANhBBADARQQAqEkEAJBNBAB4UQQAYFUEAEhZBAAwXQQAGGEEAABlBADoaAQA0GwEALhwBACgdAQAiHgEAHB8BABYgAQAQIQEACiIBAAQjAQA+I8EAOCTBADIlwQAsJsEAJifBACAowQAaKcEAFCrBAA4rwQAILMEAAi3BADwugQA2L4EAMDCBACoxgQAkMoEAHjOBABg0gQASNYEADDaBAAY3gQAAOIEAOjlBADQ6QQAuO0EAKDxBACI9QQAcPkEAFj9BABAAQUAKAUFABAJBQD4DAUA4BAFAMgUBQCwGAUAmBwFAIAgBQBoJAUAUCgFADgsBQAgMAUACDQFAPA3BQDYOwUAwD8FAKhDBQCQRwUAeEsFAGBPBQBIUwUAMFcFABhbBQAAXwUA6GIFANBmBQC4agUAoG4FAIhyBQBwdgUAWHoFAEB+BQAoggUAEIYFAPiJBQDgjQUAyJEFALCVBQCYmQUAgJ0FAGihBQBQpQUAOKkFACCtBQAIsQUA8LQFANi4BQDAvAUAqMAFAJDEBQB4yAUAYMwFAEjQBQAw1AUAGNgFAADcBQDo3wUA0OMFALjnBQCg6wUAiO8FAHDzBQBY9wUAQPsFACj\\u002fBQAQAwYA+AYGAOAKBgDIDgYAsBIGAJgWBgCAGgYA\"},\"yaxis\":\"y\",\"type\":\"scatter\"}],                        {\"template\":{\"data\":{\"histogram2dcontour\":[{\"type\":\"histogram2dcontour\",\"colorbar\":{\"outlinewidth\":0,\"ticks\":\"\"},\"colorscale\":[[0.0,\"#0d0887\"],[0.1111111111111111,\"#46039f\"],[0.2222222222222222,\"#7201a8\"],[0.3333333333333333,\"#9c179e\"],[0.4444444444444444,\"#bd3786\"],[0.5555555555555556,\"#d8576b\"],[0.6666666666666666,\"#ed7953\"],[0.7777777777777778,\"#fb9f3a\"],[0.8888888888888888,\"#fdca26\"],[1.0,\"#f0f921\"]]}],\"choropleth\":[{\"type\":\"choropleth\",\"colorbar\":{\"outlinewidth\":0,\"ticks\":\"\"}}],\"histogram2d\":[{\"type\":\"histogram2d\",\"colorbar\":{\"outlinewidth\":0,\"ticks\":\"\"},\"colorscale\":[[0.0,\"#0d0887\"],[0.1111111111111111,\"#46039f\"],[0.2222222222222222,\"#7201a8\"],[0.3333333333333333,\"#9c179e\"],[0.4444444444444444,\"#bd3786\"],[0.5555555555555556,\"#d8576b\"],[0.6666666666666666,\"#ed7953\"],[0.7777777777777778,\"#fb9f3a\"],[0.8888888888888888,\"#fdca26\"],[1.0,\"#f0f921\"]]}],\"heatmap\":[{\"type\":\"heatmap\",\"colorbar\":{\"outlinewidth\":0,\"ticks\":\"\"},\"colorscale\":[[0.0,\"#0d0887\"],[0.1111111111111111,\"#46039f\"],[0.2222222222222222,\"#7201a8\"],[0.3333333333333333,\"#9c179e\"],[0.4444444444444444,\"#bd3786\"],[0.5555555555555556,\"#d8576b\"],[0.6666666666666666,\"#ed7953\"],[0.7777777777777778,\"#fb9f3a\"],[0.8888888888888888,\"#fdca26\"],[1.0,\"#f0f921\"]]}],\"contourcarpet\":[{\"type\":\"contourcarpet\",\"colorbar\":{\"outlinewidth\":0,\"ticks\":\"\"}}],\"contour\":[{\"type\":\"contour\",\"colorbar\":{\"outlinewidth\":0,\"ticks\":\"\"},\"colorscale\":[[0.0,\"#0d0887\"],[0.1111111111111111,\"#46039f\"],[0.2222222222222222,\"#7201a8\"],[0.3333333333333333,\"#9c179e\"],[0.4444444444444444,\"#bd3786\"],[0.5555555555555556,\"#d8576b\"],[0.6666666666666666,\"#ed7953\"],[0.7777777777777778,\"#fb9f3a\"],[0.8888888888888888,\"#fdca26\"],[1.0,\"#f0f921\"]]}],\"surface\":[{\"type\":\"surface\",\"colorbar\":{\"outlinewidth\":0,\"ticks\":\"\"},\"colorscale\":[[0.0,\"#0d0887\"],[0.1111111111111111,\"#46039f\"],[0.2222222222222222,\"#7201a8\"],[0.3333333333333333,\"#9c179e\"],[0.4444444444444444,\"#bd3786\"],[0.5555555555555556,\"#d8576b\"],[0.6666666666666666,\"#ed7953\"],[0.7777777777777778,\"#fb9f3a\"],[0.8888888888888888,\"#fdca26\"],[1.0,\"#f0f921\"]]}],\"mesh3d\":[{\"type\":\"mesh3d\",\"colorbar\":{\"outlinewidth\":0,\"ticks\":\"\"}}],\"scatter\":[{\"fillpattern\":{\"fillmode\":\"overlay\",\"size\":10,\"solidity\":0.2},\"type\":\"scatter\"}],\"parcoords\":[{\"type\":\"parcoords\",\"line\":{\"colorbar\":{\"outlinewidth\":0,\"ticks\":\"\"}}}],\"scatterpolargl\":[{\"type\":\"scatterpolargl\",\"marker\":{\"colorbar\":{\"outlinewidth\":0,\"ticks\":\"\"}}}],\"bar\":[{\"error_x\":{\"color\":\"#2a3f5f\"},\"error_y\":{\"color\":\"#2a3f5f\"},\"marker\":{\"line\":{\"color\":\"#E5ECF6\",\"width\":0.5},\"pattern\":{\"fillmode\":\"overlay\",\"size\":10,\"solidity\":0.2}},\"type\":\"bar\"}],\"scattergeo\":[{\"type\":\"scattergeo\",\"marker\":{\"colorbar\":{\"outlinewidth\":0,\"ticks\":\"\"}}}],\"scatterpolar\":[{\"type\":\"scatterpolar\",\"marker\":{\"colorbar\":{\"outlinewidth\":0,\"ticks\":\"\"}}}],\"histogram\":[{\"marker\":{\"pattern\":{\"fillmode\":\"overlay\",\"size\":10,\"solidity\":0.2}},\"type\":\"histogram\"}],\"scattergl\":[{\"type\":\"scattergl\",\"marker\":{\"colorbar\":{\"outlinewidth\":0,\"ticks\":\"\"}}}],\"scatter3d\":[{\"type\":\"scatter3d\",\"line\":{\"colorbar\":{\"outlinewidth\":0,\"ticks\":\"\"}},\"marker\":{\"colorbar\":{\"outlinewidth\":0,\"ticks\":\"\"}}}],\"scattermap\":[{\"type\":\"scattermap\",\"marker\":{\"colorbar\":{\"outlinewidth\":0,\"ticks\":\"\"}}}],\"scattermapbox\":[{\"type\":\"scattermapbox\",\"marker\":{\"colorbar\":{\"outlinewidth\":0,\"ticks\":\"\"}}}],\"scatterternary\":[{\"type\":\"scatterternary\",\"marker\":{\"colorbar\":{\"outlinewidth\":0,\"ticks\":\"\"}}}],\"scattercarpet\":[{\"type\":\"scattercarpet\",\"marker\":{\"colorbar\":{\"outlinewidth\":0,\"ticks\":\"\"}}}],\"carpet\":[{\"aaxis\":{\"endlinecolor\":\"#2a3f5f\",\"gridcolor\":\"white\",\"linecolor\":\"white\",\"minorgridcolor\":\"white\",\"startlinecolor\":\"#2a3f5f\"},\"baxis\":{\"endlinecolor\":\"#2a3f5f\",\"gridcolor\":\"white\",\"linecolor\":\"white\",\"minorgridcolor\":\"white\",\"startlinecolor\":\"#2a3f5f\"},\"type\":\"carpet\"}],\"table\":[{\"cells\":{\"fill\":{\"color\":\"#EBF0F8\"},\"line\":{\"color\":\"white\"}},\"header\":{\"fill\":{\"color\":\"#C8D4E3\"},\"line\":{\"color\":\"white\"}},\"type\":\"table\"}],\"barpolar\":[{\"marker\":{\"line\":{\"color\":\"#E5ECF6\",\"width\":0.5},\"pattern\":{\"fillmode\":\"overlay\",\"size\":10,\"solidity\":0.2}},\"type\":\"barpolar\"}],\"pie\":[{\"automargin\":true,\"type\":\"pie\"}]},\"layout\":{\"autotypenumbers\":\"strict\",\"colorway\":[\"#636efa\",\"#EF553B\",\"#00cc96\",\"#ab63fa\",\"#FFA15A\",\"#19d3f3\",\"#FF6692\",\"#B6E880\",\"#FF97FF\",\"#FECB52\"],\"font\":{\"color\":\"#2a3f5f\"},\"hovermode\":\"closest\",\"hoverlabel\":{\"align\":\"left\"},\"paper_bgcolor\":\"white\",\"plot_bgcolor\":\"#E5ECF6\",\"polar\":{\"bgcolor\":\"#E5ECF6\",\"angularaxis\":{\"gridcolor\":\"white\",\"linecolor\":\"white\",\"ticks\":\"\"},\"radialaxis\":{\"gridcolor\":\"white\",\"linecolor\":\"white\",\"ticks\":\"\"}},\"ternary\":{\"bgcolor\":\"#E5ECF6\",\"aaxis\":{\"gridcolor\":\"white\",\"linecolor\":\"white\",\"ticks\":\"\"},\"baxis\":{\"gridcolor\":\"white\",\"linecolor\":\"white\",\"ticks\":\"\"},\"caxis\":{\"gridcolor\":\"white\",\"linecolor\":\"white\",\"ticks\":\"\"}},\"coloraxis\":{\"colorbar\":{\"outlinewidth\":0,\"ticks\":\"\"}},\"colorscale\":{\"sequential\":[[0.0,\"#0d0887\"],[0.1111111111111111,\"#46039f\"],[0.2222222222222222,\"#7201a8\"],[0.3333333333333333,\"#9c179e\"],[0.4444444444444444,\"#bd3786\"],[0.5555555555555556,\"#d8576b\"],[0.6666666666666666,\"#ed7953\"],[0.7777777777777778,\"#fb9f3a\"],[0.8888888888888888,\"#fdca26\"],[1.0,\"#f0f921\"]],\"sequentialminus\":[[0.0,\"#0d0887\"],[0.1111111111111111,\"#46039f\"],[0.2222222222222222,\"#7201a8\"],[0.3333333333333333,\"#9c179e\"],[0.4444444444444444,\"#bd3786\"],[0.5555555555555556,\"#d8576b\"],[0.6666666666666666,\"#ed7953\"],[0.7777777777777778,\"#fb9f3a\"],[0.8888888888888888,\"#fdca26\"],[1.0,\"#f0f921\"]],\"diverging\":[[0,\"#8e0152\"],[0.1,\"#c51b7d\"],[0.2,\"#de77ae\"],[0.3,\"#f1b6da\"],[0.4,\"#fde0ef\"],[0.5,\"#f7f7f7\"],[0.6,\"#e6f5d0\"],[0.7,\"#b8e186\"],[0.8,\"#7fbc41\"],[0.9,\"#4d9221\"],[1,\"#276419\"]]},\"xaxis\":{\"gridcolor\":\"white\",\"linecolor\":\"white\",\"ticks\":\"\",\"title\":{\"standoff\":15},\"zerolinecolor\":\"white\",\"automargin\":true,\"zerolinewidth\":2},\"yaxis\":{\"gridcolor\":\"white\",\"linecolor\":\"white\",\"ticks\":\"\",\"title\":{\"standoff\":15},\"zerolinecolor\":\"white\",\"automargin\":true,\"zerolinewidth\":2},\"scene\":{\"xaxis\":{\"backgroundcolor\":\"#E5ECF6\",\"gridcolor\":\"white\",\"linecolor\":\"white\",\"showbackground\":true,\"ticks\":\"\",\"zerolinecolor\":\"white\",\"gridwidth\":2},\"yaxis\":{\"backgroundcolor\":\"#E5ECF6\",\"gridcolor\":\"white\",\"linecolor\":\"white\",\"showbackground\":true,\"ticks\":\"\",\"zerolinecolor\":\"white\",\"gridwidth\":2},\"zaxis\":{\"backgroundcolor\":\"#E5ECF6\",\"gridcolor\":\"white\",\"linecolor\":\"white\",\"showbackground\":true,\"ticks\":\"\",\"zerolinecolor\":\"white\",\"gridwidth\":2}},\"shapedefaults\":{\"line\":{\"color\":\"#2a3f5f\"}},\"annotationdefaults\":{\"arrowcolor\":\"#2a3f5f\",\"arrowhead\":0,\"arrowwidth\":1},\"geo\":{\"bgcolor\":\"white\",\"landcolor\":\"#E5ECF6\",\"subunitcolor\":\"white\",\"showland\":true,\"showlakes\":true,\"lakecolor\":\"white\"},\"title\":{\"x\":0.05},\"mapbox\":{\"style\":\"light\"}}},\"xaxis\":{\"anchor\":\"y\",\"domain\":[0.0,1.0],\"title\":{\"text\":\"index\"}},\"yaxis\":{\"anchor\":\"x\",\"domain\":[0.0,1.0],\"title\":{\"text\":\"value\"},\"type\":\"log\"},\"legend\":{\"title\":{\"text\":\"variable\"},\"tracegroupgap\":0},\"title\":{\"text\":\"Checkpoint Values for stanford-gpt2-small-a (Log scale)\"}},                        {\"responsive\": true}                    ).then(function(){\n",
       "                            \n",
       "var gd = document.getElementById('6cd2952e-e7ae-4e22-8d85-b900338b60ac');\n",
       "var x = new MutationObserver(function (mutations, observer) {{\n",
       "        var display = window.getComputedStyle(gd).display;\n",
       "        if (!display || display === 'none') {{\n",
       "            console.log([gd, 'removed!']);\n",
       "            Plotly.purge(gd);\n",
       "            observer.disconnect();\n",
       "        }}\n",
       "}});\n",
       "\n",
       "// Listen for the removal of the full notebook cells\n",
       "var notebookContainer = gd.closest('#notebook-container');\n",
       "if (notebookContainer) {{\n",
       "    x.observe(notebookContainer, {childList: true});\n",
       "}}\n",
       "\n",
       "// Listen for the clearing of the current output cell\n",
       "var outputEl = gd.closest('.output');\n",
       "if (outputEl) {{\n",
       "    x.observe(outputEl, {childList: true});\n",
       "}}\n",
       "\n",
       "                        })                };            </script>        </div>\n",
       "</body>\n",
       "</html>"
      ]
     },
     "metadata": {},
     "output_type": "display_data"
    },
    {
     "data": {
      "text/html": [
       "<html>\n",
       "<head><meta charset=\"utf-8\" /></head>\n",
       "<body>\n",
       "    <div>            <script src=\"https://cdnjs.cloudflare.com/ajax/libs/mathjax/2.7.5/MathJax.js?config=TeX-AMS-MML_SVG\"></script><script type=\"text/javascript\">if (window.MathJax && window.MathJax.Hub && window.MathJax.Hub.Config) {window.MathJax.Hub.Config({SVG: {font: \"STIX-Web\"}});}</script>                <script type=\"text/javascript\">window.PlotlyConfig = {MathJaxConfig: 'local'};</script>\n",
       "        <script charset=\"utf-8\" src=\"https://cdn.plot.ly/plotly-3.0.0.min.js\"></script>                <div id=\"2de15893-4edc-4647-b9c8-aedc2ece4519\" class=\"plotly-graph-div\" style=\"height:525px; width:100%;\"></div>            <script type=\"text/javascript\">                window.PLOTLYENV=window.PLOTLYENV || {};                                if (document.getElementById(\"2de15893-4edc-4647-b9c8-aedc2ece4519\")) {                    Plotly.newPlot(                        \"2de15893-4edc-4647-b9c8-aedc2ece4519\",                        [{\"hovertemplate\":\"variable=0\\u003cbr\\u003eindex=%{x}\\u003cbr\\u003evalue=%{y}\\u003cextra\\u003e\\u003c\\u002fextra\\u003e\",\"legendgroup\":\"0\",\"line\":{\"color\":\"#636efa\",\"dash\":\"solid\"},\"marker\":{\"symbol\":\"circle\"},\"mode\":\"lines+markers\",\"name\":\"0\",\"orientation\":\"v\",\"showlegend\":true,\"x\":{\"dtype\":\"i1\",\"bdata\":\"AAECAwQFBgcICQoLDA0ODxAREhMUFRYXGBkaGxwdHh8gISIjJCUmJygpKissLS4vMDE=\"},\"xaxis\":\"x\",\"y\":{\"dtype\":\"i4\",\"bdata\":\"QAMAAIAGAADACQAAAA0AAEAQAACAEwAAwBYAAAAaAABAHQAAgCAAAMAjAAAAJwAAQCoAAIAtAADAMAAAADQAAEA3AACAOgAAwD0AAABBAABARAAAgEcAAMBKAAAATgAAQFEAAIBUAADAVwAAAFsAAEBeAACAYQAAwGQAAABoAABAawAAgG4AAMBxAAAAdQAAQHgAAIB7AADAfgAAAIIAAECFAACAiAAAwIsAAACPAABAkgAAgJUAAMCYAAAAnAAAQJ8AAICiAAA=\"},\"yaxis\":\"y\",\"type\":\"scatter\"}],                        {\"template\":{\"data\":{\"histogram2dcontour\":[{\"type\":\"histogram2dcontour\",\"colorbar\":{\"outlinewidth\":0,\"ticks\":\"\"},\"colorscale\":[[0.0,\"#0d0887\"],[0.1111111111111111,\"#46039f\"],[0.2222222222222222,\"#7201a8\"],[0.3333333333333333,\"#9c179e\"],[0.4444444444444444,\"#bd3786\"],[0.5555555555555556,\"#d8576b\"],[0.6666666666666666,\"#ed7953\"],[0.7777777777777778,\"#fb9f3a\"],[0.8888888888888888,\"#fdca26\"],[1.0,\"#f0f921\"]]}],\"choropleth\":[{\"type\":\"choropleth\",\"colorbar\":{\"outlinewidth\":0,\"ticks\":\"\"}}],\"histogram2d\":[{\"type\":\"histogram2d\",\"colorbar\":{\"outlinewidth\":0,\"ticks\":\"\"},\"colorscale\":[[0.0,\"#0d0887\"],[0.1111111111111111,\"#46039f\"],[0.2222222222222222,\"#7201a8\"],[0.3333333333333333,\"#9c179e\"],[0.4444444444444444,\"#bd3786\"],[0.5555555555555556,\"#d8576b\"],[0.6666666666666666,\"#ed7953\"],[0.7777777777777778,\"#fb9f3a\"],[0.8888888888888888,\"#fdca26\"],[1.0,\"#f0f921\"]]}],\"heatmap\":[{\"type\":\"heatmap\",\"colorbar\":{\"outlinewidth\":0,\"ticks\":\"\"},\"colorscale\":[[0.0,\"#0d0887\"],[0.1111111111111111,\"#46039f\"],[0.2222222222222222,\"#7201a8\"],[0.3333333333333333,\"#9c179e\"],[0.4444444444444444,\"#bd3786\"],[0.5555555555555556,\"#d8576b\"],[0.6666666666666666,\"#ed7953\"],[0.7777777777777778,\"#fb9f3a\"],[0.8888888888888888,\"#fdca26\"],[1.0,\"#f0f921\"]]}],\"contourcarpet\":[{\"type\":\"contourcarpet\",\"colorbar\":{\"outlinewidth\":0,\"ticks\":\"\"}}],\"contour\":[{\"type\":\"contour\",\"colorbar\":{\"outlinewidth\":0,\"ticks\":\"\"},\"colorscale\":[[0.0,\"#0d0887\"],[0.1111111111111111,\"#46039f\"],[0.2222222222222222,\"#7201a8\"],[0.3333333333333333,\"#9c179e\"],[0.4444444444444444,\"#bd3786\"],[0.5555555555555556,\"#d8576b\"],[0.6666666666666666,\"#ed7953\"],[0.7777777777777778,\"#fb9f3a\"],[0.8888888888888888,\"#fdca26\"],[1.0,\"#f0f921\"]]}],\"surface\":[{\"type\":\"surface\",\"colorbar\":{\"outlinewidth\":0,\"ticks\":\"\"},\"colorscale\":[[0.0,\"#0d0887\"],[0.1111111111111111,\"#46039f\"],[0.2222222222222222,\"#7201a8\"],[0.3333333333333333,\"#9c179e\"],[0.4444444444444444,\"#bd3786\"],[0.5555555555555556,\"#d8576b\"],[0.6666666666666666,\"#ed7953\"],[0.7777777777777778,\"#fb9f3a\"],[0.8888888888888888,\"#fdca26\"],[1.0,\"#f0f921\"]]}],\"mesh3d\":[{\"type\":\"mesh3d\",\"colorbar\":{\"outlinewidth\":0,\"ticks\":\"\"}}],\"scatter\":[{\"fillpattern\":{\"fillmode\":\"overlay\",\"size\":10,\"solidity\":0.2},\"type\":\"scatter\"}],\"parcoords\":[{\"type\":\"parcoords\",\"line\":{\"colorbar\":{\"outlinewidth\":0,\"ticks\":\"\"}}}],\"scatterpolargl\":[{\"type\":\"scatterpolargl\",\"marker\":{\"colorbar\":{\"outlinewidth\":0,\"ticks\":\"\"}}}],\"bar\":[{\"error_x\":{\"color\":\"#2a3f5f\"},\"error_y\":{\"color\":\"#2a3f5f\"},\"marker\":{\"line\":{\"color\":\"#E5ECF6\",\"width\":0.5},\"pattern\":{\"fillmode\":\"overlay\",\"size\":10,\"solidity\":0.2}},\"type\":\"bar\"}],\"scattergeo\":[{\"type\":\"scattergeo\",\"marker\":{\"colorbar\":{\"outlinewidth\":0,\"ticks\":\"\"}}}],\"scatterpolar\":[{\"type\":\"scatterpolar\",\"marker\":{\"colorbar\":{\"outlinewidth\":0,\"ticks\":\"\"}}}],\"histogram\":[{\"marker\":{\"pattern\":{\"fillmode\":\"overlay\",\"size\":10,\"solidity\":0.2}},\"type\":\"histogram\"}],\"scattergl\":[{\"type\":\"scattergl\",\"marker\":{\"colorbar\":{\"outlinewidth\":0,\"ticks\":\"\"}}}],\"scatter3d\":[{\"type\":\"scatter3d\",\"line\":{\"colorbar\":{\"outlinewidth\":0,\"ticks\":\"\"}},\"marker\":{\"colorbar\":{\"outlinewidth\":0,\"ticks\":\"\"}}}],\"scattermap\":[{\"type\":\"scattermap\",\"marker\":{\"colorbar\":{\"outlinewidth\":0,\"ticks\":\"\"}}}],\"scattermapbox\":[{\"type\":\"scattermapbox\",\"marker\":{\"colorbar\":{\"outlinewidth\":0,\"ticks\":\"\"}}}],\"scatterternary\":[{\"type\":\"scatterternary\",\"marker\":{\"colorbar\":{\"outlinewidth\":0,\"ticks\":\"\"}}}],\"scattercarpet\":[{\"type\":\"scattercarpet\",\"marker\":{\"colorbar\":{\"outlinewidth\":0,\"ticks\":\"\"}}}],\"carpet\":[{\"aaxis\":{\"endlinecolor\":\"#2a3f5f\",\"gridcolor\":\"white\",\"linecolor\":\"white\",\"minorgridcolor\":\"white\",\"startlinecolor\":\"#2a3f5f\"},\"baxis\":{\"endlinecolor\":\"#2a3f5f\",\"gridcolor\":\"white\",\"linecolor\":\"white\",\"minorgridcolor\":\"white\",\"startlinecolor\":\"#2a3f5f\"},\"type\":\"carpet\"}],\"table\":[{\"cells\":{\"fill\":{\"color\":\"#EBF0F8\"},\"line\":{\"color\":\"white\"}},\"header\":{\"fill\":{\"color\":\"#C8D4E3\"},\"line\":{\"color\":\"white\"}},\"type\":\"table\"}],\"barpolar\":[{\"marker\":{\"line\":{\"color\":\"#E5ECF6\",\"width\":0.5},\"pattern\":{\"fillmode\":\"overlay\",\"size\":10,\"solidity\":0.2}},\"type\":\"barpolar\"}],\"pie\":[{\"automargin\":true,\"type\":\"pie\"}]},\"layout\":{\"autotypenumbers\":\"strict\",\"colorway\":[\"#636efa\",\"#EF553B\",\"#00cc96\",\"#ab63fa\",\"#FFA15A\",\"#19d3f3\",\"#FF6692\",\"#B6E880\",\"#FF97FF\",\"#FECB52\"],\"font\":{\"color\":\"#2a3f5f\"},\"hovermode\":\"closest\",\"hoverlabel\":{\"align\":\"left\"},\"paper_bgcolor\":\"white\",\"plot_bgcolor\":\"#E5ECF6\",\"polar\":{\"bgcolor\":\"#E5ECF6\",\"angularaxis\":{\"gridcolor\":\"white\",\"linecolor\":\"white\",\"ticks\":\"\"},\"radialaxis\":{\"gridcolor\":\"white\",\"linecolor\":\"white\",\"ticks\":\"\"}},\"ternary\":{\"bgcolor\":\"#E5ECF6\",\"aaxis\":{\"gridcolor\":\"white\",\"linecolor\":\"white\",\"ticks\":\"\"},\"baxis\":{\"gridcolor\":\"white\",\"linecolor\":\"white\",\"ticks\":\"\"},\"caxis\":{\"gridcolor\":\"white\",\"linecolor\":\"white\",\"ticks\":\"\"}},\"coloraxis\":{\"colorbar\":{\"outlinewidth\":0,\"ticks\":\"\"}},\"colorscale\":{\"sequential\":[[0.0,\"#0d0887\"],[0.1111111111111111,\"#46039f\"],[0.2222222222222222,\"#7201a8\"],[0.3333333333333333,\"#9c179e\"],[0.4444444444444444,\"#bd3786\"],[0.5555555555555556,\"#d8576b\"],[0.6666666666666666,\"#ed7953\"],[0.7777777777777778,\"#fb9f3a\"],[0.8888888888888888,\"#fdca26\"],[1.0,\"#f0f921\"]],\"sequentialminus\":[[0.0,\"#0d0887\"],[0.1111111111111111,\"#46039f\"],[0.2222222222222222,\"#7201a8\"],[0.3333333333333333,\"#9c179e\"],[0.4444444444444444,\"#bd3786\"],[0.5555555555555556,\"#d8576b\"],[0.6666666666666666,\"#ed7953\"],[0.7777777777777778,\"#fb9f3a\"],[0.8888888888888888,\"#fdca26\"],[1.0,\"#f0f921\"]],\"diverging\":[[0,\"#8e0152\"],[0.1,\"#c51b7d\"],[0.2,\"#de77ae\"],[0.3,\"#f1b6da\"],[0.4,\"#fde0ef\"],[0.5,\"#f7f7f7\"],[0.6,\"#e6f5d0\"],[0.7,\"#b8e186\"],[0.8,\"#7fbc41\"],[0.9,\"#4d9221\"],[1,\"#276419\"]]},\"xaxis\":{\"gridcolor\":\"white\",\"linecolor\":\"white\",\"ticks\":\"\",\"title\":{\"standoff\":15},\"zerolinecolor\":\"white\",\"automargin\":true,\"zerolinewidth\":2},\"yaxis\":{\"gridcolor\":\"white\",\"linecolor\":\"white\",\"ticks\":\"\",\"title\":{\"standoff\":15},\"zerolinecolor\":\"white\",\"automargin\":true,\"zerolinewidth\":2},\"scene\":{\"xaxis\":{\"backgroundcolor\":\"#E5ECF6\",\"gridcolor\":\"white\",\"linecolor\":\"white\",\"showbackground\":true,\"ticks\":\"\",\"zerolinecolor\":\"white\",\"gridwidth\":2},\"yaxis\":{\"backgroundcolor\":\"#E5ECF6\",\"gridcolor\":\"white\",\"linecolor\":\"white\",\"showbackground\":true,\"ticks\":\"\",\"zerolinecolor\":\"white\",\"gridwidth\":2},\"zaxis\":{\"backgroundcolor\":\"#E5ECF6\",\"gridcolor\":\"white\",\"linecolor\":\"white\",\"showbackground\":true,\"ticks\":\"\",\"zerolinecolor\":\"white\",\"gridwidth\":2}},\"shapedefaults\":{\"line\":{\"color\":\"#2a3f5f\"}},\"annotationdefaults\":{\"arrowcolor\":\"#2a3f5f\",\"arrowhead\":0,\"arrowwidth\":1},\"geo\":{\"bgcolor\":\"white\",\"landcolor\":\"#E5ECF6\",\"subunitcolor\":\"white\",\"showland\":true,\"showlakes\":true,\"lakecolor\":\"white\"},\"title\":{\"x\":0.05},\"mapbox\":{\"style\":\"light\"}}},\"xaxis\":{\"anchor\":\"y\",\"domain\":[0.0,1.0],\"title\":{\"text\":\"index\"}},\"yaxis\":{\"anchor\":\"x\",\"domain\":[0.0,1.0],\"title\":{\"text\":\"value\"}},\"legend\":{\"title\":{\"text\":\"variable\"},\"tracegroupgap\":0},\"title\":{\"text\":\"Checkpoint Values for solu-1l-pile (Linear scale)\"}},                        {\"responsive\": true}                    ).then(function(){\n",
       "                            \n",
       "var gd = document.getElementById('2de15893-4edc-4647-b9c8-aedc2ece4519');\n",
       "var x = new MutationObserver(function (mutations, observer) {{\n",
       "        var display = window.getComputedStyle(gd).display;\n",
       "        if (!display || display === 'none') {{\n",
       "            console.log([gd, 'removed!']);\n",
       "            Plotly.purge(gd);\n",
       "            observer.disconnect();\n",
       "        }}\n",
       "}});\n",
       "\n",
       "// Listen for the removal of the full notebook cells\n",
       "var notebookContainer = gd.closest('#notebook-container');\n",
       "if (notebookContainer) {{\n",
       "    x.observe(notebookContainer, {childList: true});\n",
       "}}\n",
       "\n",
       "// Listen for the clearing of the current output cell\n",
       "var outputEl = gd.closest('.output');\n",
       "if (outputEl) {{\n",
       "    x.observe(outputEl, {childList: true});\n",
       "}}\n",
       "\n",
       "                        })                };            </script>        </div>\n",
       "</body>\n",
       "</html>"
      ]
     },
     "metadata": {},
     "output_type": "display_data"
    },
    {
     "data": {
      "text/html": [
       "<html>\n",
       "<head><meta charset=\"utf-8\" /></head>\n",
       "<body>\n",
       "    <div>            <script src=\"https://cdnjs.cloudflare.com/ajax/libs/mathjax/2.7.5/MathJax.js?config=TeX-AMS-MML_SVG\"></script><script type=\"text/javascript\">if (window.MathJax && window.MathJax.Hub && window.MathJax.Hub.Config) {window.MathJax.Hub.Config({SVG: {font: \"STIX-Web\"}});}</script>                <script type=\"text/javascript\">window.PlotlyConfig = {MathJaxConfig: 'local'};</script>\n",
       "        <script charset=\"utf-8\" src=\"https://cdn.plot.ly/plotly-3.0.0.min.js\"></script>                <div id=\"fe324b2d-a0e9-4503-8371-b66824d10492\" class=\"plotly-graph-div\" style=\"height:525px; width:100%;\"></div>            <script type=\"text/javascript\">                window.PLOTLYENV=window.PLOTLYENV || {};                                if (document.getElementById(\"fe324b2d-a0e9-4503-8371-b66824d10492\")) {                    Plotly.newPlot(                        \"fe324b2d-a0e9-4503-8371-b66824d10492\",                        [{\"hovertemplate\":\"variable=0\\u003cbr\\u003eindex=%{x}\\u003cbr\\u003evalue=%{y}\\u003cextra\\u003e\\u003c\\u002fextra\\u003e\",\"legendgroup\":\"0\",\"line\":{\"color\":\"#636efa\",\"dash\":\"solid\"},\"marker\":{\"symbol\":\"circle\"},\"mode\":\"lines+markers\",\"name\":\"0\",\"orientation\":\"v\",\"showlegend\":true,\"x\":{\"dtype\":\"i1\",\"bdata\":\"AAECAwQFBgcICQoLDA0ODxAREhMUFRYXGBkaGxwdHh8gISIjJCUmJygpKissLS4vMDEyMzQ1Njc4OTo7PD0+P0BBQkNERUZHSElKS0xNTk9QUVJTVFVWV1hZWltcXV5fYGFiYw==\"},\"xaxis\":\"x\",\"y\":{\"dtype\":\"i2\",\"bdata\":\"RgGMAtIDGAVeBqQH6ggwCnYLvAwCDkgPjhDUERoTYBSmFewWMhh4Gb4aBBxKHZAe1h8cIWIiqCPuJDQmeifAKAYqTCuSLNgtHi9kMKox8DI2NHw1wjYIOE45lDraOyA9Zj6sP\\u002fJAOEJ+Q8RECkZQR5ZI3EkiS2hMrk30TjpQgFHGUgxUUlWYVt5XJFlqWrBb9lw8XoJfyGAOYlRjmmTgZSZnbGiyafhqPmyEbcpuEHBWcZxy4nModW52tHf6eEB6hnvMfBJ+WH8=\"},\"yaxis\":\"y\",\"type\":\"scatter\"}],                        {\"template\":{\"data\":{\"histogram2dcontour\":[{\"type\":\"histogram2dcontour\",\"colorbar\":{\"outlinewidth\":0,\"ticks\":\"\"},\"colorscale\":[[0.0,\"#0d0887\"],[0.1111111111111111,\"#46039f\"],[0.2222222222222222,\"#7201a8\"],[0.3333333333333333,\"#9c179e\"],[0.4444444444444444,\"#bd3786\"],[0.5555555555555556,\"#d8576b\"],[0.6666666666666666,\"#ed7953\"],[0.7777777777777778,\"#fb9f3a\"],[0.8888888888888888,\"#fdca26\"],[1.0,\"#f0f921\"]]}],\"choropleth\":[{\"type\":\"choropleth\",\"colorbar\":{\"outlinewidth\":0,\"ticks\":\"\"}}],\"histogram2d\":[{\"type\":\"histogram2d\",\"colorbar\":{\"outlinewidth\":0,\"ticks\":\"\"},\"colorscale\":[[0.0,\"#0d0887\"],[0.1111111111111111,\"#46039f\"],[0.2222222222222222,\"#7201a8\"],[0.3333333333333333,\"#9c179e\"],[0.4444444444444444,\"#bd3786\"],[0.5555555555555556,\"#d8576b\"],[0.6666666666666666,\"#ed7953\"],[0.7777777777777778,\"#fb9f3a\"],[0.8888888888888888,\"#fdca26\"],[1.0,\"#f0f921\"]]}],\"heatmap\":[{\"type\":\"heatmap\",\"colorbar\":{\"outlinewidth\":0,\"ticks\":\"\"},\"colorscale\":[[0.0,\"#0d0887\"],[0.1111111111111111,\"#46039f\"],[0.2222222222222222,\"#7201a8\"],[0.3333333333333333,\"#9c179e\"],[0.4444444444444444,\"#bd3786\"],[0.5555555555555556,\"#d8576b\"],[0.6666666666666666,\"#ed7953\"],[0.7777777777777778,\"#fb9f3a\"],[0.8888888888888888,\"#fdca26\"],[1.0,\"#f0f921\"]]}],\"contourcarpet\":[{\"type\":\"contourcarpet\",\"colorbar\":{\"outlinewidth\":0,\"ticks\":\"\"}}],\"contour\":[{\"type\":\"contour\",\"colorbar\":{\"outlinewidth\":0,\"ticks\":\"\"},\"colorscale\":[[0.0,\"#0d0887\"],[0.1111111111111111,\"#46039f\"],[0.2222222222222222,\"#7201a8\"],[0.3333333333333333,\"#9c179e\"],[0.4444444444444444,\"#bd3786\"],[0.5555555555555556,\"#d8576b\"],[0.6666666666666666,\"#ed7953\"],[0.7777777777777778,\"#fb9f3a\"],[0.8888888888888888,\"#fdca26\"],[1.0,\"#f0f921\"]]}],\"surface\":[{\"type\":\"surface\",\"colorbar\":{\"outlinewidth\":0,\"ticks\":\"\"},\"colorscale\":[[0.0,\"#0d0887\"],[0.1111111111111111,\"#46039f\"],[0.2222222222222222,\"#7201a8\"],[0.3333333333333333,\"#9c179e\"],[0.4444444444444444,\"#bd3786\"],[0.5555555555555556,\"#d8576b\"],[0.6666666666666666,\"#ed7953\"],[0.7777777777777778,\"#fb9f3a\"],[0.8888888888888888,\"#fdca26\"],[1.0,\"#f0f921\"]]}],\"mesh3d\":[{\"type\":\"mesh3d\",\"colorbar\":{\"outlinewidth\":0,\"ticks\":\"\"}}],\"scatter\":[{\"fillpattern\":{\"fillmode\":\"overlay\",\"size\":10,\"solidity\":0.2},\"type\":\"scatter\"}],\"parcoords\":[{\"type\":\"parcoords\",\"line\":{\"colorbar\":{\"outlinewidth\":0,\"ticks\":\"\"}}}],\"scatterpolargl\":[{\"type\":\"scatterpolargl\",\"marker\":{\"colorbar\":{\"outlinewidth\":0,\"ticks\":\"\"}}}],\"bar\":[{\"error_x\":{\"color\":\"#2a3f5f\"},\"error_y\":{\"color\":\"#2a3f5f\"},\"marker\":{\"line\":{\"color\":\"#E5ECF6\",\"width\":0.5},\"pattern\":{\"fillmode\":\"overlay\",\"size\":10,\"solidity\":0.2}},\"type\":\"bar\"}],\"scattergeo\":[{\"type\":\"scattergeo\",\"marker\":{\"colorbar\":{\"outlinewidth\":0,\"ticks\":\"\"}}}],\"scatterpolar\":[{\"type\":\"scatterpolar\",\"marker\":{\"colorbar\":{\"outlinewidth\":0,\"ticks\":\"\"}}}],\"histogram\":[{\"marker\":{\"pattern\":{\"fillmode\":\"overlay\",\"size\":10,\"solidity\":0.2}},\"type\":\"histogram\"}],\"scattergl\":[{\"type\":\"scattergl\",\"marker\":{\"colorbar\":{\"outlinewidth\":0,\"ticks\":\"\"}}}],\"scatter3d\":[{\"type\":\"scatter3d\",\"line\":{\"colorbar\":{\"outlinewidth\":0,\"ticks\":\"\"}},\"marker\":{\"colorbar\":{\"outlinewidth\":0,\"ticks\":\"\"}}}],\"scattermap\":[{\"type\":\"scattermap\",\"marker\":{\"colorbar\":{\"outlinewidth\":0,\"ticks\":\"\"}}}],\"scattermapbox\":[{\"type\":\"scattermapbox\",\"marker\":{\"colorbar\":{\"outlinewidth\":0,\"ticks\":\"\"}}}],\"scatterternary\":[{\"type\":\"scatterternary\",\"marker\":{\"colorbar\":{\"outlinewidth\":0,\"ticks\":\"\"}}}],\"scattercarpet\":[{\"type\":\"scattercarpet\",\"marker\":{\"colorbar\":{\"outlinewidth\":0,\"ticks\":\"\"}}}],\"carpet\":[{\"aaxis\":{\"endlinecolor\":\"#2a3f5f\",\"gridcolor\":\"white\",\"linecolor\":\"white\",\"minorgridcolor\":\"white\",\"startlinecolor\":\"#2a3f5f\"},\"baxis\":{\"endlinecolor\":\"#2a3f5f\",\"gridcolor\":\"white\",\"linecolor\":\"white\",\"minorgridcolor\":\"white\",\"startlinecolor\":\"#2a3f5f\"},\"type\":\"carpet\"}],\"table\":[{\"cells\":{\"fill\":{\"color\":\"#EBF0F8\"},\"line\":{\"color\":\"white\"}},\"header\":{\"fill\":{\"color\":\"#C8D4E3\"},\"line\":{\"color\":\"white\"}},\"type\":\"table\"}],\"barpolar\":[{\"marker\":{\"line\":{\"color\":\"#E5ECF6\",\"width\":0.5},\"pattern\":{\"fillmode\":\"overlay\",\"size\":10,\"solidity\":0.2}},\"type\":\"barpolar\"}],\"pie\":[{\"automargin\":true,\"type\":\"pie\"}]},\"layout\":{\"autotypenumbers\":\"strict\",\"colorway\":[\"#636efa\",\"#EF553B\",\"#00cc96\",\"#ab63fa\",\"#FFA15A\",\"#19d3f3\",\"#FF6692\",\"#B6E880\",\"#FF97FF\",\"#FECB52\"],\"font\":{\"color\":\"#2a3f5f\"},\"hovermode\":\"closest\",\"hoverlabel\":{\"align\":\"left\"},\"paper_bgcolor\":\"white\",\"plot_bgcolor\":\"#E5ECF6\",\"polar\":{\"bgcolor\":\"#E5ECF6\",\"angularaxis\":{\"gridcolor\":\"white\",\"linecolor\":\"white\",\"ticks\":\"\"},\"radialaxis\":{\"gridcolor\":\"white\",\"linecolor\":\"white\",\"ticks\":\"\"}},\"ternary\":{\"bgcolor\":\"#E5ECF6\",\"aaxis\":{\"gridcolor\":\"white\",\"linecolor\":\"white\",\"ticks\":\"\"},\"baxis\":{\"gridcolor\":\"white\",\"linecolor\":\"white\",\"ticks\":\"\"},\"caxis\":{\"gridcolor\":\"white\",\"linecolor\":\"white\",\"ticks\":\"\"}},\"coloraxis\":{\"colorbar\":{\"outlinewidth\":0,\"ticks\":\"\"}},\"colorscale\":{\"sequential\":[[0.0,\"#0d0887\"],[0.1111111111111111,\"#46039f\"],[0.2222222222222222,\"#7201a8\"],[0.3333333333333333,\"#9c179e\"],[0.4444444444444444,\"#bd3786\"],[0.5555555555555556,\"#d8576b\"],[0.6666666666666666,\"#ed7953\"],[0.7777777777777778,\"#fb9f3a\"],[0.8888888888888888,\"#fdca26\"],[1.0,\"#f0f921\"]],\"sequentialminus\":[[0.0,\"#0d0887\"],[0.1111111111111111,\"#46039f\"],[0.2222222222222222,\"#7201a8\"],[0.3333333333333333,\"#9c179e\"],[0.4444444444444444,\"#bd3786\"],[0.5555555555555556,\"#d8576b\"],[0.6666666666666666,\"#ed7953\"],[0.7777777777777778,\"#fb9f3a\"],[0.8888888888888888,\"#fdca26\"],[1.0,\"#f0f921\"]],\"diverging\":[[0,\"#8e0152\"],[0.1,\"#c51b7d\"],[0.2,\"#de77ae\"],[0.3,\"#f1b6da\"],[0.4,\"#fde0ef\"],[0.5,\"#f7f7f7\"],[0.6,\"#e6f5d0\"],[0.7,\"#b8e186\"],[0.8,\"#7fbc41\"],[0.9,\"#4d9221\"],[1,\"#276419\"]]},\"xaxis\":{\"gridcolor\":\"white\",\"linecolor\":\"white\",\"ticks\":\"\",\"title\":{\"standoff\":15},\"zerolinecolor\":\"white\",\"automargin\":true,\"zerolinewidth\":2},\"yaxis\":{\"gridcolor\":\"white\",\"linecolor\":\"white\",\"ticks\":\"\",\"title\":{\"standoff\":15},\"zerolinecolor\":\"white\",\"automargin\":true,\"zerolinewidth\":2},\"scene\":{\"xaxis\":{\"backgroundcolor\":\"#E5ECF6\",\"gridcolor\":\"white\",\"linecolor\":\"white\",\"showbackground\":true,\"ticks\":\"\",\"zerolinecolor\":\"white\",\"gridwidth\":2},\"yaxis\":{\"backgroundcolor\":\"#E5ECF6\",\"gridcolor\":\"white\",\"linecolor\":\"white\",\"showbackground\":true,\"ticks\":\"\",\"zerolinecolor\":\"white\",\"gridwidth\":2},\"zaxis\":{\"backgroundcolor\":\"#E5ECF6\",\"gridcolor\":\"white\",\"linecolor\":\"white\",\"showbackground\":true,\"ticks\":\"\",\"zerolinecolor\":\"white\",\"gridwidth\":2}},\"shapedefaults\":{\"line\":{\"color\":\"#2a3f5f\"}},\"annotationdefaults\":{\"arrowcolor\":\"#2a3f5f\",\"arrowhead\":0,\"arrowwidth\":1},\"geo\":{\"bgcolor\":\"white\",\"landcolor\":\"#E5ECF6\",\"subunitcolor\":\"white\",\"showland\":true,\"showlakes\":true,\"lakecolor\":\"white\"},\"title\":{\"x\":0.05},\"mapbox\":{\"style\":\"light\"}}},\"xaxis\":{\"anchor\":\"y\",\"domain\":[0.0,1.0],\"title\":{\"text\":\"index\"}},\"yaxis\":{\"anchor\":\"x\",\"domain\":[0.0,1.0],\"title\":{\"text\":\"value\"}},\"legend\":{\"title\":{\"text\":\"variable\"},\"tracegroupgap\":0},\"title\":{\"text\":\"Checkpoint Values for solu-6l-pile (Linear scale)\"}},                        {\"responsive\": true}                    ).then(function(){\n",
       "                            \n",
       "var gd = document.getElementById('fe324b2d-a0e9-4503-8371-b66824d10492');\n",
       "var x = new MutationObserver(function (mutations, observer) {{\n",
       "        var display = window.getComputedStyle(gd).display;\n",
       "        if (!display || display === 'none') {{\n",
       "            console.log([gd, 'removed!']);\n",
       "            Plotly.purge(gd);\n",
       "            observer.disconnect();\n",
       "        }}\n",
       "}});\n",
       "\n",
       "// Listen for the removal of the full notebook cells\n",
       "var notebookContainer = gd.closest('#notebook-container');\n",
       "if (notebookContainer) {{\n",
       "    x.observe(notebookContainer, {childList: true});\n",
       "}}\n",
       "\n",
       "// Listen for the clearing of the current output cell\n",
       "var outputEl = gd.closest('.output');\n",
       "if (outputEl) {{\n",
       "    x.observe(outputEl, {childList: true});\n",
       "}}\n",
       "\n",
       "                        })                };            </script>        </div>\n",
       "</body>\n",
       "</html>"
      ]
     },
     "metadata": {},
     "output_type": "display_data"
    }
   ],
   "source": [
    "from transformer_lens.loading_from_pretrained import get_checkpoint_labels\n",
    "for model_name in [\"attn-only-2l\", \"solu-12l\", \"stanford-gpt2-small-a\"]:\n",
    "    checkpoint_labels, checkpoint_label_type = get_checkpoint_labels(model_name)\n",
    "    line(checkpoint_labels, xaxis=\"Checkpoint Index\", yaxis=f\"Checkpoint Value ({checkpoint_label_type})\", title=f\"Checkpoint Values for {model_name} (Log scale)\", log_y=True, markers=True)\n",
    "for model_name in [\"solu-1l-pile\", \"solu-6l-pile\"]:\n",
    "    checkpoint_labels, checkpoint_label_type = get_checkpoint_labels(model_name)\n",
    "    line(checkpoint_labels, xaxis=\"Checkpoint Index\", yaxis=f\"Checkpoint Value ({checkpoint_label_type})\", title=f\"Checkpoint Values for {model_name} (Linear scale)\", log_y=False, markers=True)"
   ]
  },
  {
   "cell_type": "markdown",
   "metadata": {
    "id": "exfz10eSnJUB"
   },
   "source": [
    "### Example: Induction Head Phase Transition"
   ]
  },
  {
   "cell_type": "markdown",
   "metadata": {
    "id": "eALtwZRfnJUB"
   },
   "source": [
    "One of the more interesting results analysing circuit formation during training is the [induction head phase transition](https://transformer-circuits.pub/2022/in-context-learning-and-induction-heads/index.html). They find a pretty dramatic shift in models during training - there's a brief period where models go from not having induction heads to having them, which leads to the models suddenly becoming much better at in-context learning (using far back tokens to predict the next token, eg over 500 words back). This is enough of a big deal that it leads to a visible *bump* in the loss curve, where the model's rate of improvement briefly increases."
   ]
  },
  {
   "cell_type": "markdown",
   "metadata": {
    "id": "yCYuNA0ynJUB"
   },
   "source": [
    "As a brief demonstration of the existence of the phase transition, let's load some checkpoints of a two layer model, and see whether they have induction heads. An easy test, as we used above, is to give the model a repeated sequence of random tokens, and to check how good its loss is on the second half. `evals.induction_loss` is a rough util that runs this test on a model.\n",
    "(Note - this is deliberately a rough, non-rigorous test for the purposes of demonstration, eg `evals.induction_loss` by default just runs it on 4 sequences of 384 tokens repeated twice. These results totally don't do the paper justice - go check it out if you want to see the full results!)"
   ]
  },
  {
   "cell_type": "markdown",
   "metadata": {
    "id": "lNFjNvxRnJUB"
   },
   "source": [
    "In the interests of time and memory, let's look at a handful of checkpoints (chosen to be around the phase change), indices `[10, 25, 35, 60, -1]`. These are roughly 22M, 200M, 500M, 1.6B and 21.8B tokens through training, respectively. (I generally recommend looking things up based on indices, rather than checkpoint value!)."
   ]
  },
  {
   "cell_type": "code",
   "execution_count": 60,
   "metadata": {
    "id": "Kspt2OtUnJUC"
   },
   "outputs": [],
   "source": [
    "from transformer_lens import evals\n",
    "# We use the two layer model with SoLU activations, chosen fairly arbitrarily as being both small (so fast to download and keep in memory) and pretty good at the induction task.\n",
    "model_name = \"solu-2l\"\n",
    "# We can load a model from a checkpoint by specifying the checkpoint_index, -1 means the final checkpoint\n",
    "checkpoint_indices = [10, 25, 35, 60, -1]\n",
    "checkpointed_models = []\n",
    "tokens_trained_on = []\n",
    "induction_losses = []"
   ]
  },
  {
   "cell_type": "markdown",
   "metadata": {
    "id": "636b048MnJUC"
   },
   "source": [
    "We load the models, cache them in a list, and"
   ]
  },
  {
   "cell_type": "code",
   "execution_count": 61,
   "metadata": {
    "id": "ZDgznYiYnJUC"
   },
   "outputs": [
    {
     "name": "stdout",
     "output_type": "stream",
     "text": [
      "Loaded pretrained model solu-2l into HookedTransformer\n",
      "Loaded pretrained model solu-2l into HookedTransformer\n",
      "Loaded pretrained model solu-2l into HookedTransformer\n",
      "Loaded pretrained model solu-2l into HookedTransformer\n",
      "Loaded pretrained model solu-2l into HookedTransformer\n"
     ]
    }
   ],
   "source": [
    "if not IN_GITHUB:\n",
    "    for index in checkpoint_indices:\n",
    "        # Load the model from the relevant checkpoint by index\n",
    "        model_for_this_checkpoint = HookedTransformer.from_pretrained(model_name, checkpoint_index=index, device=device)\n",
    "        checkpointed_models.append(model_for_this_checkpoint)\n",
    "\n",
    "        tokens_seen_for_this_checkpoint = model_for_this_checkpoint.cfg.checkpoint_value\n",
    "        tokens_trained_on.append(tokens_seen_for_this_checkpoint)\n",
    "\n",
    "        induction_loss_for_this_checkpoint = evals.induction_loss(model_for_this_checkpoint, device=device).item()\n",
    "        induction_losses.append(induction_loss_for_this_checkpoint)"
   ]
  },
  {
   "cell_type": "markdown",
   "metadata": {
    "id": "Foc7e0klnJUC"
   },
   "source": [
    "We can plot this, and see there's a sharp shift from ~200-500M tokens trained on (note the log scale on the x axis). Interestingly, this is notably earlier than the phase transition in the paper, I'm not sure what's up with that.\n",
    "\n",
    "(To contextualise the numbers, the tokens in the random sequence are uniformly chosen from the first 20,000 tokens (out of ~48,000 total), so random performance is at least $\\ln(20000)\\approx 10$. A naive strategy like \"randomly choose a token that's already appeared in the first half of the sequence (384 elements)\" would get $\\ln(384)\\approx 5.95$, so the model is doing pretty well here.)"
   ]
  },
  {
   "cell_type": "code",
   "execution_count": 62,
   "metadata": {
    "id": "IEYYJ1gsnJUC",
    "outputId": "c2ead6c1-718d-4bf4-ccd0-ea1cb751c4c3"
   },
   "outputs": [
    {
     "data": {
      "text/html": [
       "<html>\n",
       "<head><meta charset=\"utf-8\" /></head>\n",
       "<body>\n",
       "    <div>            <script src=\"https://cdnjs.cloudflare.com/ajax/libs/mathjax/2.7.5/MathJax.js?config=TeX-AMS-MML_SVG\"></script><script type=\"text/javascript\">if (window.MathJax && window.MathJax.Hub && window.MathJax.Hub.Config) {window.MathJax.Hub.Config({SVG: {font: \"STIX-Web\"}});}</script>                <script type=\"text/javascript\">window.PlotlyConfig = {MathJaxConfig: 'local'};</script>\n",
       "        <script charset=\"utf-8\" src=\"https://cdn.plot.ly/plotly-3.0.0.min.js\"></script>                <div id=\"c7622994-9da6-4c1f-9055-691420d37744\" class=\"plotly-graph-div\" style=\"height:525px; width:100%;\"></div>            <script type=\"text/javascript\">                window.PLOTLYENV=window.PLOTLYENV || {};                                if (document.getElementById(\"c7622994-9da6-4c1f-9055-691420d37744\")) {                    Plotly.newPlot(                        \"c7622994-9da6-4c1f-9055-691420d37744\",                        [{\"hovertemplate\":\"Tokens Trained On=%{x}\\u003cbr\\u003eindex=%{y}\\u003cextra\\u003e\\u003c\\u002fextra\\u003e\",\"legendgroup\":\"\",\"line\":{\"color\":\"#636efa\",\"dash\":\"solid\"},\"marker\":{\"symbol\":\"circle\"},\"mode\":\"lines+markers\",\"name\":\"\",\"orientation\":\"h\",\"showlegend\":false,\"x\":[22282240,187432960,528482304,1628438528,21780496384],\"xaxis\":\"x\",\"y\":{\"dtype\":\"i1\",\"bdata\":\"AAECAwQ=\"},\"yaxis\":\"y\",\"type\":\"scatter\"}],                        {\"template\":{\"data\":{\"histogram2dcontour\":[{\"type\":\"histogram2dcontour\",\"colorbar\":{\"outlinewidth\":0,\"ticks\":\"\"},\"colorscale\":[[0.0,\"#0d0887\"],[0.1111111111111111,\"#46039f\"],[0.2222222222222222,\"#7201a8\"],[0.3333333333333333,\"#9c179e\"],[0.4444444444444444,\"#bd3786\"],[0.5555555555555556,\"#d8576b\"],[0.6666666666666666,\"#ed7953\"],[0.7777777777777778,\"#fb9f3a\"],[0.8888888888888888,\"#fdca26\"],[1.0,\"#f0f921\"]]}],\"choropleth\":[{\"type\":\"choropleth\",\"colorbar\":{\"outlinewidth\":0,\"ticks\":\"\"}}],\"histogram2d\":[{\"type\":\"histogram2d\",\"colorbar\":{\"outlinewidth\":0,\"ticks\":\"\"},\"colorscale\":[[0.0,\"#0d0887\"],[0.1111111111111111,\"#46039f\"],[0.2222222222222222,\"#7201a8\"],[0.3333333333333333,\"#9c179e\"],[0.4444444444444444,\"#bd3786\"],[0.5555555555555556,\"#d8576b\"],[0.6666666666666666,\"#ed7953\"],[0.7777777777777778,\"#fb9f3a\"],[0.8888888888888888,\"#fdca26\"],[1.0,\"#f0f921\"]]}],\"heatmap\":[{\"type\":\"heatmap\",\"colorbar\":{\"outlinewidth\":0,\"ticks\":\"\"},\"colorscale\":[[0.0,\"#0d0887\"],[0.1111111111111111,\"#46039f\"],[0.2222222222222222,\"#7201a8\"],[0.3333333333333333,\"#9c179e\"],[0.4444444444444444,\"#bd3786\"],[0.5555555555555556,\"#d8576b\"],[0.6666666666666666,\"#ed7953\"],[0.7777777777777778,\"#fb9f3a\"],[0.8888888888888888,\"#fdca26\"],[1.0,\"#f0f921\"]]}],\"contourcarpet\":[{\"type\":\"contourcarpet\",\"colorbar\":{\"outlinewidth\":0,\"ticks\":\"\"}}],\"contour\":[{\"type\":\"contour\",\"colorbar\":{\"outlinewidth\":0,\"ticks\":\"\"},\"colorscale\":[[0.0,\"#0d0887\"],[0.1111111111111111,\"#46039f\"],[0.2222222222222222,\"#7201a8\"],[0.3333333333333333,\"#9c179e\"],[0.4444444444444444,\"#bd3786\"],[0.5555555555555556,\"#d8576b\"],[0.6666666666666666,\"#ed7953\"],[0.7777777777777778,\"#fb9f3a\"],[0.8888888888888888,\"#fdca26\"],[1.0,\"#f0f921\"]]}],\"surface\":[{\"type\":\"surface\",\"colorbar\":{\"outlinewidth\":0,\"ticks\":\"\"},\"colorscale\":[[0.0,\"#0d0887\"],[0.1111111111111111,\"#46039f\"],[0.2222222222222222,\"#7201a8\"],[0.3333333333333333,\"#9c179e\"],[0.4444444444444444,\"#bd3786\"],[0.5555555555555556,\"#d8576b\"],[0.6666666666666666,\"#ed7953\"],[0.7777777777777778,\"#fb9f3a\"],[0.8888888888888888,\"#fdca26\"],[1.0,\"#f0f921\"]]}],\"mesh3d\":[{\"type\":\"mesh3d\",\"colorbar\":{\"outlinewidth\":0,\"ticks\":\"\"}}],\"scatter\":[{\"fillpattern\":{\"fillmode\":\"overlay\",\"size\":10,\"solidity\":0.2},\"type\":\"scatter\"}],\"parcoords\":[{\"type\":\"parcoords\",\"line\":{\"colorbar\":{\"outlinewidth\":0,\"ticks\":\"\"}}}],\"scatterpolargl\":[{\"type\":\"scatterpolargl\",\"marker\":{\"colorbar\":{\"outlinewidth\":0,\"ticks\":\"\"}}}],\"bar\":[{\"error_x\":{\"color\":\"#2a3f5f\"},\"error_y\":{\"color\":\"#2a3f5f\"},\"marker\":{\"line\":{\"color\":\"#E5ECF6\",\"width\":0.5},\"pattern\":{\"fillmode\":\"overlay\",\"size\":10,\"solidity\":0.2}},\"type\":\"bar\"}],\"scattergeo\":[{\"type\":\"scattergeo\",\"marker\":{\"colorbar\":{\"outlinewidth\":0,\"ticks\":\"\"}}}],\"scatterpolar\":[{\"type\":\"scatterpolar\",\"marker\":{\"colorbar\":{\"outlinewidth\":0,\"ticks\":\"\"}}}],\"histogram\":[{\"marker\":{\"pattern\":{\"fillmode\":\"overlay\",\"size\":10,\"solidity\":0.2}},\"type\":\"histogram\"}],\"scattergl\":[{\"type\":\"scattergl\",\"marker\":{\"colorbar\":{\"outlinewidth\":0,\"ticks\":\"\"}}}],\"scatter3d\":[{\"type\":\"scatter3d\",\"line\":{\"colorbar\":{\"outlinewidth\":0,\"ticks\":\"\"}},\"marker\":{\"colorbar\":{\"outlinewidth\":0,\"ticks\":\"\"}}}],\"scattermap\":[{\"type\":\"scattermap\",\"marker\":{\"colorbar\":{\"outlinewidth\":0,\"ticks\":\"\"}}}],\"scattermapbox\":[{\"type\":\"scattermapbox\",\"marker\":{\"colorbar\":{\"outlinewidth\":0,\"ticks\":\"\"}}}],\"scatterternary\":[{\"type\":\"scatterternary\",\"marker\":{\"colorbar\":{\"outlinewidth\":0,\"ticks\":\"\"}}}],\"scattercarpet\":[{\"type\":\"scattercarpet\",\"marker\":{\"colorbar\":{\"outlinewidth\":0,\"ticks\":\"\"}}}],\"carpet\":[{\"aaxis\":{\"endlinecolor\":\"#2a3f5f\",\"gridcolor\":\"white\",\"linecolor\":\"white\",\"minorgridcolor\":\"white\",\"startlinecolor\":\"#2a3f5f\"},\"baxis\":{\"endlinecolor\":\"#2a3f5f\",\"gridcolor\":\"white\",\"linecolor\":\"white\",\"minorgridcolor\":\"white\",\"startlinecolor\":\"#2a3f5f\"},\"type\":\"carpet\"}],\"table\":[{\"cells\":{\"fill\":{\"color\":\"#EBF0F8\"},\"line\":{\"color\":\"white\"}},\"header\":{\"fill\":{\"color\":\"#C8D4E3\"},\"line\":{\"color\":\"white\"}},\"type\":\"table\"}],\"barpolar\":[{\"marker\":{\"line\":{\"color\":\"#E5ECF6\",\"width\":0.5},\"pattern\":{\"fillmode\":\"overlay\",\"size\":10,\"solidity\":0.2}},\"type\":\"barpolar\"}],\"pie\":[{\"automargin\":true,\"type\":\"pie\"}]},\"layout\":{\"autotypenumbers\":\"strict\",\"colorway\":[\"#636efa\",\"#EF553B\",\"#00cc96\",\"#ab63fa\",\"#FFA15A\",\"#19d3f3\",\"#FF6692\",\"#B6E880\",\"#FF97FF\",\"#FECB52\"],\"font\":{\"color\":\"#2a3f5f\"},\"hovermode\":\"closest\",\"hoverlabel\":{\"align\":\"left\"},\"paper_bgcolor\":\"white\",\"plot_bgcolor\":\"#E5ECF6\",\"polar\":{\"bgcolor\":\"#E5ECF6\",\"angularaxis\":{\"gridcolor\":\"white\",\"linecolor\":\"white\",\"ticks\":\"\"},\"radialaxis\":{\"gridcolor\":\"white\",\"linecolor\":\"white\",\"ticks\":\"\"}},\"ternary\":{\"bgcolor\":\"#E5ECF6\",\"aaxis\":{\"gridcolor\":\"white\",\"linecolor\":\"white\",\"ticks\":\"\"},\"baxis\":{\"gridcolor\":\"white\",\"linecolor\":\"white\",\"ticks\":\"\"},\"caxis\":{\"gridcolor\":\"white\",\"linecolor\":\"white\",\"ticks\":\"\"}},\"coloraxis\":{\"colorbar\":{\"outlinewidth\":0,\"ticks\":\"\"}},\"colorscale\":{\"sequential\":[[0.0,\"#0d0887\"],[0.1111111111111111,\"#46039f\"],[0.2222222222222222,\"#7201a8\"],[0.3333333333333333,\"#9c179e\"],[0.4444444444444444,\"#bd3786\"],[0.5555555555555556,\"#d8576b\"],[0.6666666666666666,\"#ed7953\"],[0.7777777777777778,\"#fb9f3a\"],[0.8888888888888888,\"#fdca26\"],[1.0,\"#f0f921\"]],\"sequentialminus\":[[0.0,\"#0d0887\"],[0.1111111111111111,\"#46039f\"],[0.2222222222222222,\"#7201a8\"],[0.3333333333333333,\"#9c179e\"],[0.4444444444444444,\"#bd3786\"],[0.5555555555555556,\"#d8576b\"],[0.6666666666666666,\"#ed7953\"],[0.7777777777777778,\"#fb9f3a\"],[0.8888888888888888,\"#fdca26\"],[1.0,\"#f0f921\"]],\"diverging\":[[0,\"#8e0152\"],[0.1,\"#c51b7d\"],[0.2,\"#de77ae\"],[0.3,\"#f1b6da\"],[0.4,\"#fde0ef\"],[0.5,\"#f7f7f7\"],[0.6,\"#e6f5d0\"],[0.7,\"#b8e186\"],[0.8,\"#7fbc41\"],[0.9,\"#4d9221\"],[1,\"#276419\"]]},\"xaxis\":{\"gridcolor\":\"white\",\"linecolor\":\"white\",\"ticks\":\"\",\"title\":{\"standoff\":15},\"zerolinecolor\":\"white\",\"automargin\":true,\"zerolinewidth\":2},\"yaxis\":{\"gridcolor\":\"white\",\"linecolor\":\"white\",\"ticks\":\"\",\"title\":{\"standoff\":15},\"zerolinecolor\":\"white\",\"automargin\":true,\"zerolinewidth\":2},\"scene\":{\"xaxis\":{\"backgroundcolor\":\"#E5ECF6\",\"gridcolor\":\"white\",\"linecolor\":\"white\",\"showbackground\":true,\"ticks\":\"\",\"zerolinecolor\":\"white\",\"gridwidth\":2},\"yaxis\":{\"backgroundcolor\":\"#E5ECF6\",\"gridcolor\":\"white\",\"linecolor\":\"white\",\"showbackground\":true,\"ticks\":\"\",\"zerolinecolor\":\"white\",\"gridwidth\":2},\"zaxis\":{\"backgroundcolor\":\"#E5ECF6\",\"gridcolor\":\"white\",\"linecolor\":\"white\",\"showbackground\":true,\"ticks\":\"\",\"zerolinecolor\":\"white\",\"gridwidth\":2}},\"shapedefaults\":{\"line\":{\"color\":\"#2a3f5f\"}},\"annotationdefaults\":{\"arrowcolor\":\"#2a3f5f\",\"arrowhead\":0,\"arrowwidth\":1},\"geo\":{\"bgcolor\":\"white\",\"landcolor\":\"#E5ECF6\",\"subunitcolor\":\"white\",\"showland\":true,\"showlakes\":true,\"lakecolor\":\"white\"},\"title\":{\"x\":0.05},\"mapbox\":{\"style\":\"light\"}}},\"xaxis\":{\"anchor\":\"y\",\"domain\":[0.0,1.0],\"title\":{\"text\":\"Tokens Trained On\"},\"type\":\"log\"},\"yaxis\":{\"anchor\":\"x\",\"domain\":[0.0,1.0],\"title\":{\"text\":\"index\"}},\"legend\":{\"tracegroupgap\":0},\"title\":{\"text\":\"Induction Loss over training: solu-2l\"}},                        {\"responsive\": true}                    ).then(function(){\n",
       "                            \n",
       "var gd = document.getElementById('c7622994-9da6-4c1f-9055-691420d37744');\n",
       "var x = new MutationObserver(function (mutations, observer) {{\n",
       "        var display = window.getComputedStyle(gd).display;\n",
       "        if (!display || display === 'none') {{\n",
       "            console.log([gd, 'removed!']);\n",
       "            Plotly.purge(gd);\n",
       "            observer.disconnect();\n",
       "        }}\n",
       "}});\n",
       "\n",
       "// Listen for the removal of the full notebook cells\n",
       "var notebookContainer = gd.closest('#notebook-container');\n",
       "if (notebookContainer) {{\n",
       "    x.observe(notebookContainer, {childList: true});\n",
       "}}\n",
       "\n",
       "// Listen for the clearing of the current output cell\n",
       "var outputEl = gd.closest('.output');\n",
       "if (outputEl) {{\n",
       "    x.observe(outputEl, {childList: true});\n",
       "}}\n",
       "\n",
       "                        })                };            </script>        </div>\n",
       "</body>\n",
       "</html>"
      ]
     },
     "metadata": {},
     "output_type": "display_data"
    }
   ],
   "source": [
    "line(induction_losses, x=tokens_trained_on, xaxis=\"Tokens Trained On\", yaxis=\"Induction Loss\", title=\"Induction Loss over training: solu-2l\", markers=True, log_x=True)"
   ]
  }
 ],
 "metadata": {
  "colab": {
   "provenance": []
  },
  "kernelspec": {
   "display_name": "mech_interp",
   "language": "python",
   "name": "mech_interp"
  },
  "language_info": {
   "codemirror_mode": {
    "name": "ipython",
    "version": 3
   },
   "file_extension": ".py",
   "mimetype": "text/x-python",
   "name": "python",
   "nbconvert_exporter": "python",
   "pygments_lexer": "ipython3",
   "version": "3.10.12"
  },
  "vscode": {
   "interpreter": {
    "hash": "eb812820b5094695c8a581672e17220e30dd2c15d704c018326e3cc2e1a566f1"
   }
  }
 },
 "nbformat": 4,
 "nbformat_minor": 1
}
