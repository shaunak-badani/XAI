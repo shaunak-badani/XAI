{
  "cells": [
    {
      "cell_type": "markdown",
      "metadata": {
        "id": "4KRXOfTEosn7"
      },
      "source": [
        "# AIPI 590 - XAI | Assignment #10\n",
        "### XAI in LLMs\n",
        "### Shaunak Badani\n",
        "\n",
        "#### Include the button below. Change the link to the location in your github repository:\n",
        "#### Example: https://colab.research.google.com/github/yourGHName/yourREPOName/blob/yourBranchName/yourFileName.ipynb\n",
        "\n",
        "\n",
        "[![Open In Collab](https://colab.research.google.com/assets/colab-badge.svg)](https://colab.research.google.com/github/shaunak-badani/XAI/blob/main/Assignment10/XAI_in_LLMs.ipynb)\n",
        "\n",
        "> This repository contains:\n",
        "1. XAI in prompting with saliency scores\n",
        "2. Embedding vectors mapped to 2 dimensions using t-SNE and UMAP."
      ]
    },
    {
      "cell_type": "markdown",
      "source": [
        "# XAI in prompting with Saliency scores"
      ],
      "metadata": {
        "id": "K-WF_Dhbpk0y"
      }
    },
    {
      "cell_type": "code",
      "source": [],
      "metadata": {
        "id": "lgfHdO5-pkVU"
      },
      "execution_count": null,
      "outputs": []
    },
    {
      "cell_type": "code",
      "source": [],
      "metadata": {
        "id": "yrt1N7qjpjjZ"
      },
      "execution_count": null,
      "outputs": []
    },
    {
      "cell_type": "markdown",
      "source": [
        "# AI Usage\n",
        "\n",
        "- None of the code in this repository was written using AI.\n",
        "- AI was used in helping understand some of the concepts, like saliency scores,U-MAP, and t-SNE, in more depth."
      ],
      "metadata": {
        "id": "9EI7hEpwpWNX"
      }
    }
  ],
  "metadata": {
    "language_info": {
      "name": "python"
    },
    "colab": {
      "provenance": []
    }
  },
  "nbformat": 4,
  "nbformat_minor": 0
}