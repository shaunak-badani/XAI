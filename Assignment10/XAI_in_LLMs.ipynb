{
  "cells": [
    {
      "cell_type": "markdown",
      "metadata": {
        "id": "4KRXOfTEosn7"
      },
      "source": [
        "# AIPI 590 - XAI | Assignment #10\n",
        "### XAI in LLMs\n",
        "### Shaunak Badani\n",
        "\n",
        "[![Open In Collab](https://colab.research.google.com/assets/colab-badge.svg)](https://colab.research.google.com/github/AIPI-590-XAI/Duke-AI-XAI/blob/dev/templates/template.ipynb)\n",
        "\n",
        "> This repository contains:\n",
        "1. XAI in prompting with saliency scores\n",
        "2. Embedding vectors mapped to 2 dimensions using t-SNE and UMAP."
      ]
    },
    {
      "cell_type": "markdown",
      "source": [
        "# 1. XAI in prompting with Saliency methods"
      ],
      "metadata": {
        "id": "K-WF_Dhbpk0y"
      }
    },
    {
      "cell_type": "markdown",
      "source": [
        "- In this notebook I will use the method of vanilla gradients to help generate explanations for a model prompt from a sentiment analysis model"
      ],
      "metadata": {
        "id": "-JahBCZVrDEL"
      }
    },
    {
      "cell_type": "code",
      "source": [
        "from transformers import AutoTokenizer, AutoModelForSequenceClassification\n",
        "import torch\n",
        "from IPython.display import display, HTML\n",
        "import numpy as np"
      ],
      "metadata": {
        "id": "lgfHdO5-pkVU"
      },
      "execution_count": 10,
      "outputs": []
    },
    {
      "cell_type": "code",
      "source": [
        "MODEL_NAME = \"finiteautomata/bertweet-base-sentiment-analysis\"\n",
        "tokenizer = AutoTokenizer.from_pretrained(MODEL_NAME)\n",
        "model = AutoModelForSequenceClassification.from_pretrained(MODEL_NAME)"
      ],
      "metadata": {
        "id": "yrt1N7qjpjjZ",
        "outputId": "bb5abe55-5588-496e-e518-d3f385cffde3",
        "colab": {
          "base_uri": "https://localhost:8080/"
        }
      },
      "execution_count": 2,
      "outputs": [
        {
          "output_type": "stream",
          "name": "stderr",
          "text": [
            "/usr/local/lib/python3.11/dist-packages/huggingface_hub/utils/_auth.py:94: UserWarning: \n",
            "The secret `HF_TOKEN` does not exist in your Colab secrets.\n",
            "To authenticate with the Hugging Face Hub, create a token in your settings tab (https://huggingface.co/settings/tokens), set it as secret in your Google Colab and restart your session.\n",
            "You will be able to reuse this secret in all of your notebooks.\n",
            "Please note that authentication is recommended but still optional to access public models or datasets.\n",
            "  warnings.warn(\n",
            "emoji is not installed, thus not converting emoticons or emojis into text. Install emoji: pip3 install emoji==0.6.0\n"
          ]
        }
      ]
    },
    {
      "cell_type": "markdown",
      "source": [
        "- We first pass the sentence through the tokenizer, then get the maximum logit of the output to get which of the three logits was the greatest.\n",
        "- Then we use the logit to perform a backward pass, which computes the gradients.\n",
        "- The gradients are within the embedding layer.\n",
        "- We take the gradients of the 768 dimensions, and sum those values to get the effective weight of a single token."
      ],
      "metadata": {
        "id": "0qBVr6Kp2k63"
      }
    },
    {
      "cell_type": "code",
      "source": [
        "sample_text = \"This review is amazing!\"\n",
        "input_ids = tokenizer(sample_text, return_tensors=\"pt\")\n",
        "output_ids = model(**input_ids)\n",
        "predicted_class_index = torch.argmax(output_ids.logits)\n",
        "max_val = torch.max(output_ids.logits)\n",
        "print(max_val)\n",
        "max_val.backward()\n",
        "# predicted_class_index.backward()\n",
        "labels = ['negative', 'neutral', 'positive']\n",
        "predicted_sentiment = labels[predicted_class_index]\n",
        "print(\"Predicted Sentiment:\", predicted_sentiment)"
      ],
      "metadata": {
        "id": "uKLwucnOshZV",
        "outputId": "2f4693dc-930a-46ae-9c90-ec08d29f47d3",
        "colab": {
          "base_uri": "https://localhost:8080/"
        }
      },
      "execution_count": 4,
      "outputs": [
        {
          "output_type": "stream",
          "name": "stdout",
          "text": [
            "tensor(3.8919, grad_fn=<MaxBackward1>)\n",
            "Predicted Sentiment: positive\n"
          ]
        }
      ]
    },
    {
      "cell_type": "code",
      "source": [
        "indices = input_ids['input_ids'][0]\n",
        "print(indices)"
      ],
      "metadata": {
        "id": "ank-aNMwuIpX",
        "outputId": "b7a2b10c-7517-4c89-bfe9-6245dd126f72",
        "colab": {
          "base_uri": "https://localhost:8080/"
        }
      },
      "execution_count": 5,
      "outputs": [
        {
          "output_type": "stream",
          "name": "stdout",
          "text": [
            "tensor([    0,   126,  2274,    17, 36148,    12,     2])\n"
          ]
        }
      ]
    },
    {
      "cell_type": "code",
      "source": [
        "gradients = model.roberta.embeddings.word_embeddings.weight.grad[indices]\n",
        "input_weights = torch.abs(gradients.sum(axis = 1))\n",
        "\n",
        "tokens = np.array(list(map(lambda x: tokenizer.decode(x), input_ids['input_ids'][0])))[1:-1]\n",
        "weights = input_weights.numpy()"
      ],
      "metadata": {
        "id": "2DTrexVAx_BO"
      },
      "execution_count": 11,
      "outputs": []
    },
    {
      "cell_type": "markdown",
      "source": [
        "- Write a function that can color code based onthe weights given to it:"
      ],
      "metadata": {
        "id": "mIoiita_3WHG"
      }
    },
    {
      "cell_type": "code",
      "source": [
        "def visualize_token_attrs(tokens, attrs):\n",
        "    \"\"\"\n",
        "      Visualize attributions for given set of tokens.\n",
        "      Args:\n",
        "      - tokens: An array of tokens\n",
        "      - attrs: An array of attributions, of same size as 'tokens',\n",
        "        with attrs[i] being the attribution to tokens[i]\n",
        "\n",
        "      Returns:\n",
        "      - visualization: An IPython.core.display.HTML object showing\n",
        "        tokens color-coded based on strength of their attribution.\n",
        "    \"\"\"\n",
        "    def get_color(attr):\n",
        "        if attr > 0:\n",
        "            g = int(128*attr) + 127\n",
        "            b = 128 - int(64*attr)\n",
        "            r = 128 - int(64*attr)\n",
        "        else:\n",
        "            g = 128 + int(64*attr)\n",
        "            b = 128 + int(64*attr)\n",
        "            r = int(-128*attr) + 127\n",
        "        return r,g,b\n",
        "\n",
        "    # normalize attributions for visualization.\n",
        "    bound = max(abs(attrs.max()), abs(attrs.min()))\n",
        "    attrs = attrs/bound\n",
        "    html_text = \"\"\n",
        "    for i, tok in enumerate(tokens):\n",
        "        r, g, b = get_color(attrs[i])\n",
        "        html_text += \" <span style='color:rgb(%d,%d,%d)'>%s</span>\" % \\\n",
        "                     (r, g, b, tok)\n",
        "    return HTML(html_text)"
      ],
      "metadata": {
        "id": "YXtPy8pGzza6"
      },
      "execution_count": 7,
      "outputs": []
    },
    {
      "cell_type": "code",
      "source": [
        "display(visualize_token_attrs(tokens, weights))"
      ],
      "metadata": {
        "id": "qmp-4a1a2X0j",
        "outputId": "142c6526-5614-4d71-8da6-2758d819c86f",
        "colab": {
          "base_uri": "https://localhost:8080/",
          "height": 34
        }
      },
      "execution_count": 12,
      "outputs": [
        {
          "output_type": "display_data",
          "data": {
            "text/plain": [
              "<IPython.core.display.HTML object>"
            ],
            "text/html": [
              " <span style='color:rgb(124,136,124)'>This</span> <span style='color:rgb(116,151,116)'>review</span> <span style='color:rgb(64,255,64)'>is</span> <span style='color:rgb(125,134,125)'>amazing@@</span> <span style='color:rgb(121,141,121)'>!</span>"
            ]
          },
          "metadata": {}
        }
      ]
    },
    {
      "cell_type": "markdown",
      "source": [
        "- Encode all of the above logic in a function."
      ],
      "metadata": {
        "id": "oMe4z5DB3fkp"
      }
    },
    {
      "cell_type": "code",
      "source": [
        "def visualize_sentence(sentence):\n",
        "  # zero out gradients before running inference on the next sentence\n",
        "  for param in model.parameters():\n",
        "    if param.grad is not None:\n",
        "        param.grad.zero_()\n",
        "\n",
        "  input_ids = tokenizer(sentence, return_tensors=\"pt\")\n",
        "  output_ids = model(**input_ids)\n",
        "  predicted_class_index = torch.argmax(output_ids.logits)\n",
        "  max_val = torch.max(output_ids.logits)\n",
        "  max_val.backward()\n",
        "  labels = ['negative', 'neutral', 'positive']\n",
        "  predicted_sentiment = labels[predicted_class_index]\n",
        "  print(\"Predicted sentiment: \", predicted_sentiment)\n",
        "  indices = input_ids['input_ids'][0]\n",
        "  gradients = model.roberta.embeddings.word_embeddings.weight.grad[indices]\n",
        "  input_weights = torch.abs(gradients.sum(axis = 1))\n",
        "\n",
        "  tokens = np.array(list(map(lambda x: tokenizer.decode(x), input_ids['input_ids'][0])))[1:-1]\n",
        "  weights = input_weights.numpy()\n",
        "\n",
        "  display(visualize_token_attrs(tokens, weights))\n",
        ""
      ],
      "metadata": {
        "id": "kljIy-IC094u"
      },
      "execution_count": 18,
      "outputs": []
    },
    {
      "cell_type": "code",
      "source": [
        "visualize_sentence(\"I did not like the food!\")"
      ],
      "metadata": {
        "id": "XgPSJXEe1Vzw",
        "outputId": "20e7b124-a304-4921-ca31-4764d9eb0a81",
        "colab": {
          "base_uri": "https://localhost:8080/",
          "height": 52
        }
      },
      "execution_count": 19,
      "outputs": [
        {
          "output_type": "stream",
          "name": "stdout",
          "text": [
            "Predicted sentiment:  negative\n"
          ]
        },
        {
          "output_type": "display_data",
          "data": {
            "text/plain": [
              "<IPython.core.display.HTML object>"
            ],
            "text/html": [
              " <span style='color:rgb(123,138,123)'>I</span> <span style='color:rgb(124,135,124)'>did</span> <span style='color:rgb(115,153,115)'>not</span> <span style='color:rgb(127,128,128)'>like</span> <span style='color:rgb(126,131,126)'>the</span> <span style='color:rgb(126,131,126)'>food@@</span> <span style='color:rgb(64,255,64)'>!</span>"
            ]
          },
          "metadata": {}
        }
      ]
    },
    {
      "cell_type": "markdown",
      "source": [
        "- As can be seen, the word \"not\" had a huge impact on the sentiment of the above sentence being negative."
      ],
      "metadata": {
        "id": "eI9DXDJY3jak"
      }
    },
    {
      "cell_type": "code",
      "source": [
        "# some more examples\n",
        "\n",
        "sentences = [\n",
        "    \"I absolutely love this product!\",\n",
        "    \"The book was okay, not too bad, but not great either.\",\n",
        "    \"The customer service was terrible, they didn’t help at all.\",\n",
        "    \"I didn’t like the food at all, it was tasteless.\",\n",
        "    \"The experience was horrible, I will never visit again.\",\n",
        "    \"I regret buying this phone, it doesn’t meet my expectations.\",\n",
        "    \"I’m waiting for the bus to arrive.\",\n",
        "    \"I went to the store and bought some groceries.\",\n",
        "    \"I hate how slow my internet is today.\",\n",
        "    \"The movie was fantastic, I highly recommend it.\",\n",
        "    \"This phone is amazing, so smooth and fast!\",\n",
        "    \"I had a wonderful day at the beach with my friends.\",\n",
        "    \"The weather is quite average today, not too hot or cold.\",\n",
        "    \"I’m really upset about how my team performed in the game.\",\n",
        "]"
      ],
      "metadata": {
        "id": "Kdogmqtu3qNL"
      },
      "execution_count": 17,
      "outputs": []
    },
    {
      "cell_type": "code",
      "source": [
        "for sentence in sentences:\n",
        "  visualize_sentence(sentence)"
      ],
      "metadata": {
        "id": "1UdYfXXE4IXl",
        "outputId": "9baec99c-779f-4388-8951-e5e15997f786",
        "colab": {
          "base_uri": "https://localhost:8080/",
          "height": 503
        }
      },
      "execution_count": 20,
      "outputs": [
        {
          "output_type": "stream",
          "name": "stdout",
          "text": [
            "Predicted sentiment:  positive\n"
          ]
        },
        {
          "output_type": "display_data",
          "data": {
            "text/plain": [
              "<IPython.core.display.HTML object>"
            ],
            "text/html": [
              " <span style='color:rgb(125,134,125)'>I</span> <span style='color:rgb(122,139,122)'>absolutely</span> <span style='color:rgb(64,255,64)'>love</span> <span style='color:rgb(109,166,109)'>this</span> <span style='color:rgb(109,166,109)'>produc@@</span> <span style='color:rgb(127,128,128)'>t@@</span> <span style='color:rgb(124,136,124)'>!</span>"
            ]
          },
          "metadata": {}
        },
        {
          "output_type": "stream",
          "name": "stdout",
          "text": [
            "Predicted sentiment:  neutral\n"
          ]
        },
        {
          "output_type": "display_data",
          "data": {
            "text/plain": [
              "<IPython.core.display.HTML object>"
            ],
            "text/html": [
              " <span style='color:rgb(128,127,128)'>The</span> <span style='color:rgb(115,153,115)'>book</span> <span style='color:rgb(79,226,79)'>was</span> <span style='color:rgb(114,155,114)'>ok@@</span> <span style='color:rgb(93,198,93)'>ay@@</span> <span style='color:rgb(109,165,109)'>,</span> <span style='color:rgb(111,162,111)'>not</span> <span style='color:rgb(120,144,120)'>too</span> <span style='color:rgb(111,162,111)'>bad@@</span> <span style='color:rgb(111,162,111)'>,</span> <span style='color:rgb(111,162,111)'>but</span> <span style='color:rgb(102,180,102)'>not</span> <span style='color:rgb(120,144,120)'>great</span> <span style='color:rgb(79,226,79)'>ei@@</span> <span style='color:rgb(64,255,64)'>ther@@</span> <span style='color:rgb(96,191,96)'>.</span>"
            ]
          },
          "metadata": {}
        },
        {
          "output_type": "stream",
          "name": "stdout",
          "text": [
            "Predicted sentiment:  negative\n"
          ]
        },
        {
          "output_type": "display_data",
          "data": {
            "text/plain": [
              "<IPython.core.display.HTML object>"
            ],
            "text/html": [
              " <span style='color:rgb(122,140,122)'>The</span> <span style='color:rgb(125,133,125)'>customer</span> <span style='color:rgb(69,246,69)'>service</span> <span style='color:rgb(124,135,124)'>was</span> <span style='color:rgb(102,180,102)'>terri@@</span> <span style='color:rgb(126,131,126)'>ble@@</span> <span style='color:rgb(103,178,103)'>,</span> <span style='color:rgb(123,137,123)'>they</span> <span style='color:rgb(127,129,127)'>di@@</span> <span style='color:rgb(122,139,122)'>dn@@</span> <span style='color:rgb(64,255,64)'><unk></span> <span style='color:rgb(83,218,83)'>t</span> <span style='color:rgb(114,156,114)'>help</span> <span style='color:rgb(103,178,103)'>at</span> <span style='color:rgb(118,147,118)'>all@@</span> <span style='color:rgb(106,171,106)'>.</span>"
            ]
          },
          "metadata": {}
        },
        {
          "output_type": "stream",
          "name": "stdout",
          "text": [
            "Predicted sentiment:  negative\n"
          ]
        },
        {
          "output_type": "display_data",
          "data": {
            "text/plain": [
              "<IPython.core.display.HTML object>"
            ],
            "text/html": [
              " <span style='color:rgb(124,135,124)'>I</span> <span style='color:rgb(123,138,123)'>di@@</span> <span style='color:rgb(115,153,115)'>dn@@</span> <span style='color:rgb(106,171,106)'><unk></span> <span style='color:rgb(126,131,126)'>t</span> <span style='color:rgb(112,159,112)'>like</span> <span style='color:rgb(123,137,123)'>the</span> <span style='color:rgb(117,150,117)'>food</span> <span style='color:rgb(124,135,124)'>at</span> <span style='color:rgb(125,134,125)'>all@@</span> <span style='color:rgb(123,137,123)'>,</span> <span style='color:rgb(127,128,128)'>it</span> <span style='color:rgb(125,134,125)'>was</span> <span style='color:rgb(125,133,125)'>tast@@</span> <span style='color:rgb(64,255,64)'>eless@@</span> <span style='color:rgb(96,191,96)'>.</span>"
            ]
          },
          "metadata": {}
        },
        {
          "output_type": "stream",
          "name": "stdout",
          "text": [
            "Predicted sentiment:  negative\n"
          ]
        },
        {
          "output_type": "display_data",
          "data": {
            "text/plain": [
              "<IPython.core.display.HTML object>"
            ],
            "text/html": [
              " <span style='color:rgb(128,128,128)'>The</span> <span style='color:rgb(126,131,126)'>experience</span> <span style='color:rgb(107,169,107)'>was</span> <span style='color:rgb(118,147,118)'>horri@@</span> <span style='color:rgb(64,255,64)'>ble@@</span> <span style='color:rgb(127,130,127)'>,</span> <span style='color:rgb(128,127,128)'>I</span> <span style='color:rgb(124,136,124)'>will</span> <span style='color:rgb(127,129,127)'>never</span> <span style='color:rgb(126,131,126)'>visit</span> <span style='color:rgb(102,179,102)'>aga@@</span> <span style='color:rgb(127,129,127)'>in@@</span> <span style='color:rgb(117,150,117)'>.</span>"
            ]
          },
          "metadata": {}
        },
        {
          "output_type": "stream",
          "name": "stdout",
          "text": [
            "Predicted sentiment:  negative\n"
          ]
        },
        {
          "output_type": "display_data",
          "data": {
            "text/plain": [
              "<IPython.core.display.HTML object>"
            ],
            "text/html": [
              " <span style='color:rgb(101,181,101)'>I</span> <span style='color:rgb(127,128,128)'>regret</span> <span style='color:rgb(127,128,128)'>buying</span> <span style='color:rgb(64,255,64)'>this</span> <span style='color:rgb(112,159,112)'>phone@@</span> <span style='color:rgb(101,181,101)'>,</span> <span style='color:rgb(113,157,113)'>it</span> <span style='color:rgb(127,130,127)'>does@@</span> <span style='color:rgb(119,145,119)'>n@@</span> <span style='color:rgb(102,180,102)'><unk></span> <span style='color:rgb(119,145,119)'>t</span> <span style='color:rgb(98,187,98)'>meet</span> <span style='color:rgb(101,181,101)'>my</span> <span style='color:rgb(103,178,103)'>expect@@</span> <span style='color:rgb(80,224,80)'>ation@@</span> <span style='color:rgb(107,169,107)'>s.</span>"
            ]
          },
          "metadata": {}
        },
        {
          "output_type": "stream",
          "name": "stdout",
          "text": [
            "Predicted sentiment:  neutral\n"
          ]
        },
        {
          "output_type": "display_data",
          "data": {
            "text/plain": [
              "<IPython.core.display.HTML object>"
            ],
            "text/html": [
              " <span style='color:rgb(122,139,122)'>I@@</span> <span style='color:rgb(109,165,109)'><unk></span> <span style='color:rgb(122,139,122)'>m</span> <span style='color:rgb(71,242,71)'>waiting</span> <span style='color:rgb(64,255,64)'>for</span> <span style='color:rgb(125,133,125)'>the</span> <span style='color:rgb(119,146,119)'>bus</span> <span style='color:rgb(116,152,116)'>to</span> <span style='color:rgb(122,139,122)'>arri@@</span> <span style='color:rgb(109,165,109)'>ve@@</span> <span style='color:rgb(80,223,80)'>.</span>"
            ]
          },
          "metadata": {}
        },
        {
          "output_type": "stream",
          "name": "stdout",
          "text": [
            "Predicted sentiment:  neutral\n"
          ]
        },
        {
          "output_type": "display_data",
          "data": {
            "text/plain": [
              "<IPython.core.display.HTML object>"
            ],
            "text/html": [
              " <span style='color:rgb(128,128,128)'>I</span> <span style='color:rgb(124,135,124)'>went</span> <span style='color:rgb(120,143,120)'>to</span> <span style='color:rgb(127,129,127)'>the</span> <span style='color:rgb(124,135,124)'>store</span> <span style='color:rgb(121,141,121)'>and</span> <span style='color:rgb(126,131,126)'>bought</span> <span style='color:rgb(116,151,116)'>some</span> <span style='color:rgb(123,137,123)'><unk></span> <span style='color:rgb(128,128,128)'>ies@@</span> <span style='color:rgb(64,255,64)'>.</span>"
            ]
          },
          "metadata": {}
        },
        {
          "output_type": "stream",
          "name": "stdout",
          "text": [
            "Predicted sentiment:  negative\n"
          ]
        },
        {
          "output_type": "display_data",
          "data": {
            "text/plain": [
              "<IPython.core.display.HTML object>"
            ],
            "text/html": [
              " <span style='color:rgb(127,129,127)'>I</span> <span style='color:rgb(96,192,96)'>hate</span> <span style='color:rgb(64,255,64)'>how</span> <span style='color:rgb(127,128,128)'>slow</span> <span style='color:rgb(118,147,118)'>my</span> <span style='color:rgb(106,171,106)'>internet</span> <span style='color:rgb(82,219,82)'>is</span> <span style='color:rgb(108,167,108)'>today@@</span> <span style='color:rgb(127,128,128)'>.</span>"
            ]
          },
          "metadata": {}
        },
        {
          "output_type": "stream",
          "name": "stdout",
          "text": [
            "Predicted sentiment:  positive\n"
          ]
        },
        {
          "output_type": "display_data",
          "data": {
            "text/plain": [
              "<IPython.core.display.HTML object>"
            ],
            "text/html": [
              " <span style='color:rgb(125,134,125)'>The</span> <span style='color:rgb(126,132,126)'>movie</span> <span style='color:rgb(122,140,122)'>was</span> <span style='color:rgb(101,181,101)'>fan@@</span> <span style='color:rgb(119,145,119)'>tastic@@</span> <span style='color:rgb(110,163,110)'>,</span> <span style='color:rgb(111,162,111)'>I</span> <span style='color:rgb(113,157,113)'>highly</span> <span style='color:rgb(106,172,106)'>recommend</span> <span style='color:rgb(64,255,64)'>it@@</span> <span style='color:rgb(124,136,124)'>.</span>"
            ]
          },
          "metadata": {}
        },
        {
          "output_type": "stream",
          "name": "stdout",
          "text": [
            "Predicted sentiment:  positive\n"
          ]
        },
        {
          "output_type": "display_data",
          "data": {
            "text/plain": [
              "<IPython.core.display.HTML object>"
            ],
            "text/html": [
              " <span style='color:rgb(128,127,128)'>This</span> <span style='color:rgb(126,131,126)'>phone</span> <span style='color:rgb(117,149,117)'>is</span> <span style='color:rgb(127,130,127)'>amazing@@</span> <span style='color:rgb(64,255,64)'>,</span> <span style='color:rgb(119,145,119)'>so</span> <span style='color:rgb(127,130,127)'>smooth</span> <span style='color:rgb(84,215,84)'>and</span> <span style='color:rgb(121,141,121)'>fast@@</span> <span style='color:rgb(125,133,125)'>!</span>"
            ]
          },
          "metadata": {}
        },
        {
          "output_type": "stream",
          "name": "stdout",
          "text": [
            "Predicted sentiment:  positive\n"
          ]
        },
        {
          "output_type": "display_data",
          "data": {
            "text/plain": [
              "<IPython.core.display.HTML object>"
            ],
            "text/html": [
              " <span style='color:rgb(127,128,128)'>I</span> <span style='color:rgb(126,131,126)'>had</span> <span style='color:rgb(125,133,125)'>a</span> <span style='color:rgb(117,149,117)'>wonderful</span> <span style='color:rgb(64,255,64)'>day</span> <span style='color:rgb(125,133,125)'>at</span> <span style='color:rgb(112,159,112)'>the</span> <span style='color:rgb(126,131,126)'>beach</span> <span style='color:rgb(64,255,64)'>with</span> <span style='color:rgb(124,135,124)'>my</span> <span style='color:rgb(119,146,119)'>friend@@</span> <span style='color:rgb(122,139,122)'>s.</span>"
            ]
          },
          "metadata": {}
        },
        {
          "output_type": "stream",
          "name": "stdout",
          "text": [
            "Predicted sentiment:  neutral\n"
          ]
        },
        {
          "output_type": "display_data",
          "data": {
            "text/plain": [
              "<IPython.core.display.HTML object>"
            ],
            "text/html": [
              " <span style='color:rgb(120,143,120)'>The</span> <span style='color:rgb(120,143,120)'>weather</span> <span style='color:rgb(122,139,122)'>is</span> <span style='color:rgb(120,143,120)'>quite</span> <span style='color:rgb(64,255,64)'>average</span> <span style='color:rgb(96,191,96)'>today@@</span> <span style='color:rgb(100,183,100)'>,</span> <span style='color:rgb(120,143,120)'>not</span> <span style='color:rgb(113,157,113)'>too</span> <span style='color:rgb(106,171,106)'>hot</span> <span style='color:rgb(116,151,116)'>or</span> <span style='color:rgb(114,155,114)'>cold@@</span> <span style='color:rgb(100,183,100)'>.</span>"
            ]
          },
          "metadata": {}
        },
        {
          "output_type": "stream",
          "name": "stdout",
          "text": [
            "Predicted sentiment:  negative\n"
          ]
        },
        {
          "output_type": "display_data",
          "data": {
            "text/plain": [
              "<IPython.core.display.HTML object>"
            ],
            "text/html": [
              " <span style='color:rgb(126,131,126)'>I@@</span> <span style='color:rgb(127,129,127)'><unk></span> <span style='color:rgb(117,150,117)'>m</span> <span style='color:rgb(126,131,126)'>really</span> <span style='color:rgb(125,134,125)'>upset</span> <span style='color:rgb(64,255,64)'>about</span> <span style='color:rgb(125,133,125)'>how</span> <span style='color:rgb(127,128,128)'>my</span> <span style='color:rgb(124,136,124)'>team</span> <span style='color:rgb(127,128,128)'>performed</span> <span style='color:rgb(120,144,120)'>in</span> <span style='color:rgb(126,131,126)'>the</span> <span style='color:rgb(124,135,124)'>game@@</span> <span style='color:rgb(116,151,116)'>.</span>"
            ]
          },
          "metadata": {}
        }
      ]
    },
    {
      "cell_type": "markdown",
      "source": [
        "# 2. Using U-MAP, t-SNE and PCA to project embedding space into 2 dimensions and visualize the outputs."
      ],
      "metadata": {
        "id": "TVp075W34mPl"
      }
    },
    {
      "cell_type": "code",
      "source": [],
      "metadata": {
        "id": "sWHs3I2L4vth"
      },
      "execution_count": null,
      "outputs": []
    },
    {
      "cell_type": "markdown",
      "source": [
        "# AI Usage\n",
        "\n",
        "- None of the code in this repository was written using AI.\n",
        "- AI was used in helping understand some of the concepts, like saliency scores,U-MAP, and t-SNE, in more depth."
      ],
      "metadata": {
        "id": "9EI7hEpwpWNX"
      }
    }
  ],
  "metadata": {
    "language_info": {
      "name": "python"
    },
    "colab": {
      "provenance": []
    },
    "kernelspec": {
      "name": "python3",
      "display_name": "Python 3"
    }
  },
  "nbformat": 4,
  "nbformat_minor": 0
}