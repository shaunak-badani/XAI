{
  "cells": [
    {
      "cell_type": "markdown",
      "metadata": {
        "id": "4KRXOfTEosn7"
      },
      "source": [
        "# AIPI 590 - XAI | Assignment #10\n",
        "### XAI in LLMs\n",
        "### Shaunak Badani\n",
        "\n",
        "[![Open In Collab](https://colab.research.google.com/assets/colab-badge.svg)](https://colab.research.google.com/github/shaunak-badani/XAI/blob/main/Assignment10/XAI_in_LLMs.ipynb)\n",
        "\n",
        "> This repository contains:\n",
        "1. XAI in prompting with saliency scores\n",
        "2. Embedding vectors mapped to 2 dimensions using t-SNE and UMAP."
      ]
    },
    {
      "cell_type": "markdown",
      "source": [
        "# 1. XAI in prompting with Saliency methods"
      ],
      "metadata": {
        "id": "K-WF_Dhbpk0y"
      }
    },
    {
      "cell_type": "markdown",
      "source": [
        "- In this notebook I will use the method of vanilla gradients to help generate explanations for a model prompt from a sentiment analysis model"
      ],
      "metadata": {
        "id": "-JahBCZVrDEL"
      }
    },
    {
      "cell_type": "code",
      "source": [
        "from transformers import AutoTokenizer, AutoModelForSequenceClassification\n",
        "import torch\n",
        "from IPython.display import display, HTML\n",
        "import numpy as np\n",
        "from sentence_transformers import SentenceTransformer\n",
        "from sklearn.decomposition import PCA\n",
        "import matplotlib.pyplot as plt\n",
        "import umap\n",
        "from sklearn.manifold import TSNE"
      ],
      "metadata": {
        "id": "lgfHdO5-pkVU"
      },
      "execution_count": 1,
      "outputs": []
    },
    {
      "cell_type": "code",
      "source": [
        "MODEL_NAME = \"finiteautomata/bertweet-base-sentiment-analysis\"\n",
        "tokenizer = AutoTokenizer.from_pretrained(MODEL_NAME)\n",
        "model = AutoModelForSequenceClassification.from_pretrained(MODEL_NAME)"
      ],
      "metadata": {
        "id": "yrt1N7qjpjjZ",
        "colab": {
          "base_uri": "https://localhost:8080/"
        },
        "outputId": "272decc9-1917-458a-d70e-debfd92aa635"
      },
      "execution_count": 2,
      "outputs": [
        {
          "output_type": "stream",
          "name": "stderr",
          "text": [
            "/usr/local/lib/python3.11/dist-packages/huggingface_hub/utils/_auth.py:94: UserWarning: \n",
            "The secret `HF_TOKEN` does not exist in your Colab secrets.\n",
            "To authenticate with the Hugging Face Hub, create a token in your settings tab (https://huggingface.co/settings/tokens), set it as secret in your Google Colab and restart your session.\n",
            "You will be able to reuse this secret in all of your notebooks.\n",
            "Please note that authentication is recommended but still optional to access public models or datasets.\n",
            "  warnings.warn(\n",
            "emoji is not installed, thus not converting emoticons or emojis into text. Install emoji: pip3 install emoji==0.6.0\n"
          ]
        }
      ]
    },
    {
      "cell_type": "markdown",
      "source": [
        "- We first pass the sentence through the tokenizer, then get the maximum logit of the output to get which of the three logits was the greatest.\n",
        "- Then we use the logit to perform a backward pass, which computes the gradients.\n",
        "- The gradients are within the embedding layer.\n",
        "- We take the gradients of the 768 dimensions, and sum those values to get the effective weight of a single token."
      ],
      "metadata": {
        "id": "0qBVr6Kp2k63"
      }
    },
    {
      "cell_type": "code",
      "source": [
        "sample_text = \"This review is amazing!\"\n",
        "input_ids = tokenizer(sample_text, return_tensors=\"pt\")\n",
        "output_ids = model(**input_ids)\n",
        "predicted_class_index = torch.argmax(output_ids.logits)\n",
        "max_val = torch.max(output_ids.logits)\n",
        "print(max_val)\n",
        "max_val.backward()\n",
        "# predicted_class_index.backward()\n",
        "labels = ['negative', 'neutral', 'positive']\n",
        "predicted_sentiment = labels[predicted_class_index]\n",
        "print(\"Predicted Sentiment:\", predicted_sentiment)"
      ],
      "metadata": {
        "colab": {
          "base_uri": "https://localhost:8080/"
        },
        "id": "uKLwucnOshZV",
        "outputId": "e3b01492-efea-43c3-afb9-17abf2d68693"
      },
      "execution_count": 3,
      "outputs": [
        {
          "output_type": "stream",
          "name": "stdout",
          "text": [
            "tensor(3.8919, grad_fn=<MaxBackward1>)\n",
            "Predicted Sentiment: positive\n"
          ]
        }
      ]
    },
    {
      "cell_type": "code",
      "source": [
        "indices = input_ids['input_ids'][0]\n",
        "print(indices)"
      ],
      "metadata": {
        "colab": {
          "base_uri": "https://localhost:8080/"
        },
        "id": "ank-aNMwuIpX",
        "outputId": "6d759332-4c9c-4e0c-9e42-699b2adc856a"
      },
      "execution_count": 4,
      "outputs": [
        {
          "output_type": "stream",
          "name": "stdout",
          "text": [
            "tensor([    0,   126,  2274,    17, 36148,    12,     2])\n"
          ]
        }
      ]
    },
    {
      "cell_type": "code",
      "source": [
        "gradients = model.roberta.embeddings.word_embeddings.weight.grad[indices]\n",
        "input_weights = torch.abs(gradients.sum(axis = 1))\n",
        "\n",
        "tokens = np.array(list(map(lambda x: tokenizer.decode(x), input_ids['input_ids'][0])))[1:-1]\n",
        "weights = input_weights.numpy()"
      ],
      "metadata": {
        "id": "2DTrexVAx_BO"
      },
      "execution_count": 5,
      "outputs": []
    },
    {
      "cell_type": "markdown",
      "source": [
        "- Write a function that can color code based onthe weights given to it:"
      ],
      "metadata": {
        "id": "mIoiita_3WHG"
      }
    },
    {
      "cell_type": "code",
      "source": [
        "def visualize_token_attrs(tokens, attrs):\n",
        "    \"\"\"\n",
        "      Visualize attributions for given set of tokens.\n",
        "      Args:\n",
        "      - tokens: An array of tokens\n",
        "      - attrs: An array of attributions, of same size as 'tokens',\n",
        "        with attrs[i] being the attribution to tokens[i]\n",
        "\n",
        "      Returns:\n",
        "      - visualization: An IPython.core.display.HTML object showing\n",
        "        tokens color-coded based on strength of their attribution.\n",
        "    \"\"\"\n",
        "    def get_color(attr):\n",
        "        if attr > 0:\n",
        "            g = int(128*attr) + 127\n",
        "            b = 128 - int(64*attr)\n",
        "            r = 128 - int(64*attr)\n",
        "        else:\n",
        "            g = 128 + int(64*attr)\n",
        "            b = 128 + int(64*attr)\n",
        "            r = int(-128*attr) + 127\n",
        "        return r,g,b\n",
        "\n",
        "    # normalize attributions for visualization.\n",
        "    bound = max(abs(attrs.max()), abs(attrs.min()))\n",
        "    attrs = attrs/bound\n",
        "    html_text = \"\"\n",
        "    for i, tok in enumerate(tokens):\n",
        "        r, g, b = get_color(attrs[i])\n",
        "        html_text += \" <span style='color:rgb(%d,%d,%d)'>%s</span>\" % \\\n",
        "                     (r, g, b, tok)\n",
        "    return HTML(html_text)"
      ],
      "metadata": {
        "id": "YXtPy8pGzza6"
      },
      "execution_count": 6,
      "outputs": []
    },
    {
      "cell_type": "code",
      "source": [
        "display(visualize_token_attrs(tokens, weights))"
      ],
      "metadata": {
        "colab": {
          "base_uri": "https://localhost:8080/",
          "height": 34
        },
        "id": "qmp-4a1a2X0j",
        "outputId": "00f3b36d-cea5-48bc-9c43-85c4524e6e06"
      },
      "execution_count": 7,
      "outputs": [
        {
          "output_type": "display_data",
          "data": {
            "text/plain": [
              "<IPython.core.display.HTML object>"
            ],
            "text/html": [
              " <span style='color:rgb(124,136,124)'>This</span> <span style='color:rgb(116,151,116)'>review</span> <span style='color:rgb(64,255,64)'>is</span> <span style='color:rgb(125,134,125)'>amazing@@</span> <span style='color:rgb(121,141,121)'>!</span>"
            ]
          },
          "metadata": {}
        }
      ]
    },
    {
      "cell_type": "markdown",
      "source": [
        "- Encode all of the above logic in a function."
      ],
      "metadata": {
        "id": "oMe4z5DB3fkp"
      }
    },
    {
      "cell_type": "code",
      "source": [
        "def visualize_sentence(sentence):\n",
        "  # zero out gradients before running inference on the next sentence\n",
        "  for param in model.parameters():\n",
        "    if param.grad is not None:\n",
        "        param.grad.zero_()\n",
        "\n",
        "  input_ids = tokenizer(sentence, return_tensors=\"pt\")\n",
        "  output_ids = model(**input_ids)\n",
        "  predicted_class_index = torch.argmax(output_ids.logits)\n",
        "  max_val = torch.max(output_ids.logits)\n",
        "  max_val.backward()\n",
        "  labels = ['negative', 'neutral', 'positive']\n",
        "  predicted_sentiment = labels[predicted_class_index]\n",
        "  print(\"Predicted sentiment: \", predicted_sentiment)\n",
        "  indices = input_ids['input_ids'][0]\n",
        "  gradients = model.roberta.embeddings.word_embeddings.weight.grad[indices]\n",
        "  input_weights = torch.abs(gradients.sum(axis = 1))\n",
        "\n",
        "  tokens = np.array(list(map(lambda x: tokenizer.decode(x), input_ids['input_ids'][0])))[1:-1]\n",
        "  weights = input_weights.numpy()\n",
        "\n",
        "  display(visualize_token_attrs(tokens, weights))\n"
      ],
      "metadata": {
        "id": "kljIy-IC094u"
      },
      "execution_count": 8,
      "outputs": []
    },
    {
      "cell_type": "code",
      "source": [
        "visualize_sentence(\"I did not like the food!\")"
      ],
      "metadata": {
        "colab": {
          "base_uri": "https://localhost:8080/",
          "height": 52
        },
        "id": "XgPSJXEe1Vzw",
        "outputId": "090ef12e-50ff-4a7b-a811-56fb3f02feed"
      },
      "execution_count": 9,
      "outputs": [
        {
          "output_type": "stream",
          "name": "stdout",
          "text": [
            "Predicted sentiment:  negative\n"
          ]
        },
        {
          "output_type": "display_data",
          "data": {
            "text/plain": [
              "<IPython.core.display.HTML object>"
            ],
            "text/html": [
              " <span style='color:rgb(123,138,123)'>I</span> <span style='color:rgb(124,135,124)'>did</span> <span style='color:rgb(115,153,115)'>not</span> <span style='color:rgb(127,128,128)'>like</span> <span style='color:rgb(126,131,126)'>the</span> <span style='color:rgb(126,131,126)'>food@@</span> <span style='color:rgb(64,255,64)'>!</span>"
            ]
          },
          "metadata": {}
        }
      ]
    },
    {
      "cell_type": "markdown",
      "source": [
        "- As can be seen, the word \"not\" had a huge impact on the sentiment of the above sentence being negative."
      ],
      "metadata": {
        "id": "eI9DXDJY3jak"
      }
    },
    {
      "cell_type": "code",
      "source": [
        "# some more examples\n",
        "\n",
        "sentences = [\n",
        "    \"I absolutely love this product!\",\n",
        "    \"The book was okay, not too bad, but not great either.\",\n",
        "    \"The customer service was terrible, they didn’t help at all.\",\n",
        "    \"I didn’t like the food at all, it was tasteless.\",\n",
        "    \"The experience was horrible, I will never visit again.\",\n",
        "    \"I regret buying this phone, it doesn’t meet my expectations.\",\n",
        "    \"I’m waiting for the bus to arrive.\",\n",
        "    \"I went to the store and bought some groceries.\",\n",
        "    \"I hate how slow my internet is today.\",\n",
        "    \"The movie was fantastic, I highly recommend it.\",\n",
        "    \"This phone is amazing, so smooth and fast!\",\n",
        "    \"I had a wonderful day at the beach with my friends.\",\n",
        "    \"The weather is quite average today, not too hot or cold.\",\n",
        "    \"I’m really upset about how my team performed in the game.\",\n",
        "]"
      ],
      "metadata": {
        "id": "Kdogmqtu3qNL"
      },
      "execution_count": 10,
      "outputs": []
    },
    {
      "cell_type": "code",
      "source": [
        "for sentence in sentences:\n",
        "  visualize_sentence(sentence)"
      ],
      "metadata": {
        "colab": {
          "base_uri": "https://localhost:8080/",
          "height": 503
        },
        "id": "1UdYfXXE4IXl",
        "outputId": "a9c4dd88-e708-424b-b37a-49d87d4f5080"
      },
      "execution_count": 11,
      "outputs": [
        {
          "output_type": "stream",
          "name": "stdout",
          "text": [
            "Predicted sentiment:  positive\n"
          ]
        },
        {
          "output_type": "display_data",
          "data": {
            "text/plain": [
              "<IPython.core.display.HTML object>"
            ],
            "text/html": [
              " <span style='color:rgb(125,134,125)'>I</span> <span style='color:rgb(122,139,122)'>absolutely</span> <span style='color:rgb(64,255,64)'>love</span> <span style='color:rgb(109,166,109)'>this</span> <span style='color:rgb(109,166,109)'>produc@@</span> <span style='color:rgb(127,128,128)'>t@@</span> <span style='color:rgb(124,136,124)'>!</span>"
            ]
          },
          "metadata": {}
        },
        {
          "output_type": "stream",
          "name": "stdout",
          "text": [
            "Predicted sentiment:  neutral\n"
          ]
        },
        {
          "output_type": "display_data",
          "data": {
            "text/plain": [
              "<IPython.core.display.HTML object>"
            ],
            "text/html": [
              " <span style='color:rgb(128,127,128)'>The</span> <span style='color:rgb(115,153,115)'>book</span> <span style='color:rgb(79,226,79)'>was</span> <span style='color:rgb(114,155,114)'>ok@@</span> <span style='color:rgb(93,198,93)'>ay@@</span> <span style='color:rgb(109,165,109)'>,</span> <span style='color:rgb(111,162,111)'>not</span> <span style='color:rgb(120,144,120)'>too</span> <span style='color:rgb(111,162,111)'>bad@@</span> <span style='color:rgb(111,162,111)'>,</span> <span style='color:rgb(111,162,111)'>but</span> <span style='color:rgb(102,180,102)'>not</span> <span style='color:rgb(120,144,120)'>great</span> <span style='color:rgb(79,226,79)'>ei@@</span> <span style='color:rgb(64,255,64)'>ther@@</span> <span style='color:rgb(96,191,96)'>.</span>"
            ]
          },
          "metadata": {}
        },
        {
          "output_type": "stream",
          "name": "stdout",
          "text": [
            "Predicted sentiment:  negative\n"
          ]
        },
        {
          "output_type": "display_data",
          "data": {
            "text/plain": [
              "<IPython.core.display.HTML object>"
            ],
            "text/html": [
              " <span style='color:rgb(122,140,122)'>The</span> <span style='color:rgb(125,133,125)'>customer</span> <span style='color:rgb(69,246,69)'>service</span> <span style='color:rgb(124,135,124)'>was</span> <span style='color:rgb(102,180,102)'>terri@@</span> <span style='color:rgb(126,131,126)'>ble@@</span> <span style='color:rgb(103,178,103)'>,</span> <span style='color:rgb(123,137,123)'>they</span> <span style='color:rgb(127,129,127)'>di@@</span> <span style='color:rgb(122,139,122)'>dn@@</span> <span style='color:rgb(64,255,64)'><unk></span> <span style='color:rgb(83,218,83)'>t</span> <span style='color:rgb(114,156,114)'>help</span> <span style='color:rgb(103,178,103)'>at</span> <span style='color:rgb(118,147,118)'>all@@</span> <span style='color:rgb(106,171,106)'>.</span>"
            ]
          },
          "metadata": {}
        },
        {
          "output_type": "stream",
          "name": "stdout",
          "text": [
            "Predicted sentiment:  negative\n"
          ]
        },
        {
          "output_type": "display_data",
          "data": {
            "text/plain": [
              "<IPython.core.display.HTML object>"
            ],
            "text/html": [
              " <span style='color:rgb(124,135,124)'>I</span> <span style='color:rgb(123,138,123)'>di@@</span> <span style='color:rgb(115,153,115)'>dn@@</span> <span style='color:rgb(106,171,106)'><unk></span> <span style='color:rgb(126,131,126)'>t</span> <span style='color:rgb(112,159,112)'>like</span> <span style='color:rgb(123,137,123)'>the</span> <span style='color:rgb(117,150,117)'>food</span> <span style='color:rgb(124,135,124)'>at</span> <span style='color:rgb(125,134,125)'>all@@</span> <span style='color:rgb(123,137,123)'>,</span> <span style='color:rgb(127,128,128)'>it</span> <span style='color:rgb(125,134,125)'>was</span> <span style='color:rgb(125,133,125)'>tast@@</span> <span style='color:rgb(64,255,64)'>eless@@</span> <span style='color:rgb(96,191,96)'>.</span>"
            ]
          },
          "metadata": {}
        },
        {
          "output_type": "stream",
          "name": "stdout",
          "text": [
            "Predicted sentiment:  negative\n"
          ]
        },
        {
          "output_type": "display_data",
          "data": {
            "text/plain": [
              "<IPython.core.display.HTML object>"
            ],
            "text/html": [
              " <span style='color:rgb(128,128,128)'>The</span> <span style='color:rgb(126,131,126)'>experience</span> <span style='color:rgb(107,169,107)'>was</span> <span style='color:rgb(118,147,118)'>horri@@</span> <span style='color:rgb(64,255,64)'>ble@@</span> <span style='color:rgb(127,130,127)'>,</span> <span style='color:rgb(128,127,128)'>I</span> <span style='color:rgb(124,136,124)'>will</span> <span style='color:rgb(127,129,127)'>never</span> <span style='color:rgb(126,131,126)'>visit</span> <span style='color:rgb(102,179,102)'>aga@@</span> <span style='color:rgb(127,129,127)'>in@@</span> <span style='color:rgb(117,150,117)'>.</span>"
            ]
          },
          "metadata": {}
        },
        {
          "output_type": "stream",
          "name": "stdout",
          "text": [
            "Predicted sentiment:  negative\n"
          ]
        },
        {
          "output_type": "display_data",
          "data": {
            "text/plain": [
              "<IPython.core.display.HTML object>"
            ],
            "text/html": [
              " <span style='color:rgb(101,181,101)'>I</span> <span style='color:rgb(127,128,128)'>regret</span> <span style='color:rgb(127,128,128)'>buying</span> <span style='color:rgb(64,255,64)'>this</span> <span style='color:rgb(112,159,112)'>phone@@</span> <span style='color:rgb(101,181,101)'>,</span> <span style='color:rgb(113,157,113)'>it</span> <span style='color:rgb(127,130,127)'>does@@</span> <span style='color:rgb(119,145,119)'>n@@</span> <span style='color:rgb(102,180,102)'><unk></span> <span style='color:rgb(119,145,119)'>t</span> <span style='color:rgb(98,187,98)'>meet</span> <span style='color:rgb(101,181,101)'>my</span> <span style='color:rgb(103,178,103)'>expect@@</span> <span style='color:rgb(80,224,80)'>ation@@</span> <span style='color:rgb(107,169,107)'>s.</span>"
            ]
          },
          "metadata": {}
        },
        {
          "output_type": "stream",
          "name": "stdout",
          "text": [
            "Predicted sentiment:  neutral\n"
          ]
        },
        {
          "output_type": "display_data",
          "data": {
            "text/plain": [
              "<IPython.core.display.HTML object>"
            ],
            "text/html": [
              " <span style='color:rgb(122,139,122)'>I@@</span> <span style='color:rgb(109,165,109)'><unk></span> <span style='color:rgb(122,139,122)'>m</span> <span style='color:rgb(71,242,71)'>waiting</span> <span style='color:rgb(64,255,64)'>for</span> <span style='color:rgb(125,133,125)'>the</span> <span style='color:rgb(119,146,119)'>bus</span> <span style='color:rgb(116,152,116)'>to</span> <span style='color:rgb(122,139,122)'>arri@@</span> <span style='color:rgb(109,165,109)'>ve@@</span> <span style='color:rgb(80,223,80)'>.</span>"
            ]
          },
          "metadata": {}
        },
        {
          "output_type": "stream",
          "name": "stdout",
          "text": [
            "Predicted sentiment:  neutral\n"
          ]
        },
        {
          "output_type": "display_data",
          "data": {
            "text/plain": [
              "<IPython.core.display.HTML object>"
            ],
            "text/html": [
              " <span style='color:rgb(128,128,128)'>I</span> <span style='color:rgb(124,135,124)'>went</span> <span style='color:rgb(120,143,120)'>to</span> <span style='color:rgb(127,129,127)'>the</span> <span style='color:rgb(124,135,124)'>store</span> <span style='color:rgb(121,141,121)'>and</span> <span style='color:rgb(126,131,126)'>bought</span> <span style='color:rgb(116,151,116)'>some</span> <span style='color:rgb(123,137,123)'><unk></span> <span style='color:rgb(128,128,128)'>ies@@</span> <span style='color:rgb(64,255,64)'>.</span>"
            ]
          },
          "metadata": {}
        },
        {
          "output_type": "stream",
          "name": "stdout",
          "text": [
            "Predicted sentiment:  negative\n"
          ]
        },
        {
          "output_type": "display_data",
          "data": {
            "text/plain": [
              "<IPython.core.display.HTML object>"
            ],
            "text/html": [
              " <span style='color:rgb(127,129,127)'>I</span> <span style='color:rgb(96,192,96)'>hate</span> <span style='color:rgb(64,255,64)'>how</span> <span style='color:rgb(127,128,128)'>slow</span> <span style='color:rgb(118,147,118)'>my</span> <span style='color:rgb(106,171,106)'>internet</span> <span style='color:rgb(82,219,82)'>is</span> <span style='color:rgb(108,167,108)'>today@@</span> <span style='color:rgb(127,128,128)'>.</span>"
            ]
          },
          "metadata": {}
        },
        {
          "output_type": "stream",
          "name": "stdout",
          "text": [
            "Predicted sentiment:  positive\n"
          ]
        },
        {
          "output_type": "display_data",
          "data": {
            "text/plain": [
              "<IPython.core.display.HTML object>"
            ],
            "text/html": [
              " <span style='color:rgb(125,134,125)'>The</span> <span style='color:rgb(126,132,126)'>movie</span> <span style='color:rgb(122,140,122)'>was</span> <span style='color:rgb(101,181,101)'>fan@@</span> <span style='color:rgb(119,145,119)'>tastic@@</span> <span style='color:rgb(110,163,110)'>,</span> <span style='color:rgb(111,162,111)'>I</span> <span style='color:rgb(113,157,113)'>highly</span> <span style='color:rgb(106,172,106)'>recommend</span> <span style='color:rgb(64,255,64)'>it@@</span> <span style='color:rgb(124,136,124)'>.</span>"
            ]
          },
          "metadata": {}
        },
        {
          "output_type": "stream",
          "name": "stdout",
          "text": [
            "Predicted sentiment:  positive\n"
          ]
        },
        {
          "output_type": "display_data",
          "data": {
            "text/plain": [
              "<IPython.core.display.HTML object>"
            ],
            "text/html": [
              " <span style='color:rgb(128,127,128)'>This</span> <span style='color:rgb(126,131,126)'>phone</span> <span style='color:rgb(117,149,117)'>is</span> <span style='color:rgb(127,130,127)'>amazing@@</span> <span style='color:rgb(64,255,64)'>,</span> <span style='color:rgb(119,145,119)'>so</span> <span style='color:rgb(127,130,127)'>smooth</span> <span style='color:rgb(84,215,84)'>and</span> <span style='color:rgb(121,141,121)'>fast@@</span> <span style='color:rgb(125,133,125)'>!</span>"
            ]
          },
          "metadata": {}
        },
        {
          "output_type": "stream",
          "name": "stdout",
          "text": [
            "Predicted sentiment:  positive\n"
          ]
        },
        {
          "output_type": "display_data",
          "data": {
            "text/plain": [
              "<IPython.core.display.HTML object>"
            ],
            "text/html": [
              " <span style='color:rgb(127,128,128)'>I</span> <span style='color:rgb(126,131,126)'>had</span> <span style='color:rgb(125,133,125)'>a</span> <span style='color:rgb(117,149,117)'>wonderful</span> <span style='color:rgb(64,255,64)'>day</span> <span style='color:rgb(125,133,125)'>at</span> <span style='color:rgb(112,159,112)'>the</span> <span style='color:rgb(126,131,126)'>beach</span> <span style='color:rgb(64,255,64)'>with</span> <span style='color:rgb(124,135,124)'>my</span> <span style='color:rgb(119,146,119)'>friend@@</span> <span style='color:rgb(122,139,122)'>s.</span>"
            ]
          },
          "metadata": {}
        },
        {
          "output_type": "stream",
          "name": "stdout",
          "text": [
            "Predicted sentiment:  neutral\n"
          ]
        },
        {
          "output_type": "display_data",
          "data": {
            "text/plain": [
              "<IPython.core.display.HTML object>"
            ],
            "text/html": [
              " <span style='color:rgb(120,143,120)'>The</span> <span style='color:rgb(120,143,120)'>weather</span> <span style='color:rgb(122,139,122)'>is</span> <span style='color:rgb(120,143,120)'>quite</span> <span style='color:rgb(64,255,64)'>average</span> <span style='color:rgb(96,191,96)'>today@@</span> <span style='color:rgb(100,183,100)'>,</span> <span style='color:rgb(120,143,120)'>not</span> <span style='color:rgb(113,157,113)'>too</span> <span style='color:rgb(106,171,106)'>hot</span> <span style='color:rgb(116,151,116)'>or</span> <span style='color:rgb(114,155,114)'>cold@@</span> <span style='color:rgb(100,183,100)'>.</span>"
            ]
          },
          "metadata": {}
        },
        {
          "output_type": "stream",
          "name": "stdout",
          "text": [
            "Predicted sentiment:  negative\n"
          ]
        },
        {
          "output_type": "display_data",
          "data": {
            "text/plain": [
              "<IPython.core.display.HTML object>"
            ],
            "text/html": [
              " <span style='color:rgb(126,131,126)'>I@@</span> <span style='color:rgb(127,129,127)'><unk></span> <span style='color:rgb(117,150,117)'>m</span> <span style='color:rgb(126,131,126)'>really</span> <span style='color:rgb(125,134,125)'>upset</span> <span style='color:rgb(64,255,64)'>about</span> <span style='color:rgb(125,133,125)'>how</span> <span style='color:rgb(127,128,128)'>my</span> <span style='color:rgb(124,136,124)'>team</span> <span style='color:rgb(127,128,128)'>performed</span> <span style='color:rgb(120,144,120)'>in</span> <span style='color:rgb(126,131,126)'>the</span> <span style='color:rgb(124,135,124)'>game@@</span> <span style='color:rgb(116,151,116)'>.</span>"
            ]
          },
          "metadata": {}
        }
      ]
    },
    {
      "cell_type": "markdown",
      "source": [
        "# 2. Using U-MAP, t-SNE and PCA to project embedding space into 2 dimensions and visualize the outputs."
      ],
      "metadata": {
        "id": "TVp075W34mPl"
      }
    },
    {
      "cell_type": "code",
      "source": [
        "MODEL_NAME = \"jinaai/jina-embeddings-v2-base-en\"\n",
        "model = SentenceTransformer(MODEL_NAME)"
      ],
      "metadata": {
        "colab": {
          "base_uri": "https://localhost:8080/"
        },
        "id": "sWHs3I2L4vth",
        "outputId": "e8fa1a75-8c61-4bfc-d504-4c41a8b5e70e"
      },
      "execution_count": 12,
      "outputs": [
        {
          "output_type": "stream",
          "name": "stderr",
          "text": [
            "Some weights of BertModel were not initialized from the model checkpoint at jinaai/jina-embeddings-v2-base-en and are newly initialized: ['embeddings.position_embeddings.weight', 'encoder.layer.0.intermediate.dense.bias', 'encoder.layer.0.intermediate.dense.weight', 'encoder.layer.0.output.LayerNorm.bias', 'encoder.layer.0.output.LayerNorm.weight', 'encoder.layer.0.output.dense.bias', 'encoder.layer.0.output.dense.weight', 'encoder.layer.1.intermediate.dense.bias', 'encoder.layer.1.intermediate.dense.weight', 'encoder.layer.1.output.LayerNorm.bias', 'encoder.layer.1.output.LayerNorm.weight', 'encoder.layer.1.output.dense.bias', 'encoder.layer.1.output.dense.weight', 'encoder.layer.10.intermediate.dense.bias', 'encoder.layer.10.intermediate.dense.weight', 'encoder.layer.10.output.LayerNorm.bias', 'encoder.layer.10.output.LayerNorm.weight', 'encoder.layer.10.output.dense.bias', 'encoder.layer.10.output.dense.weight', 'encoder.layer.11.intermediate.dense.bias', 'encoder.layer.11.intermediate.dense.weight', 'encoder.layer.11.output.LayerNorm.bias', 'encoder.layer.11.output.LayerNorm.weight', 'encoder.layer.11.output.dense.bias', 'encoder.layer.11.output.dense.weight', 'encoder.layer.2.intermediate.dense.bias', 'encoder.layer.2.intermediate.dense.weight', 'encoder.layer.2.output.LayerNorm.bias', 'encoder.layer.2.output.LayerNorm.weight', 'encoder.layer.2.output.dense.bias', 'encoder.layer.2.output.dense.weight', 'encoder.layer.3.intermediate.dense.bias', 'encoder.layer.3.intermediate.dense.weight', 'encoder.layer.3.output.LayerNorm.bias', 'encoder.layer.3.output.LayerNorm.weight', 'encoder.layer.3.output.dense.bias', 'encoder.layer.3.output.dense.weight', 'encoder.layer.4.intermediate.dense.bias', 'encoder.layer.4.intermediate.dense.weight', 'encoder.layer.4.output.LayerNorm.bias', 'encoder.layer.4.output.LayerNorm.weight', 'encoder.layer.4.output.dense.bias', 'encoder.layer.4.output.dense.weight', 'encoder.layer.5.intermediate.dense.bias', 'encoder.layer.5.intermediate.dense.weight', 'encoder.layer.5.output.LayerNorm.bias', 'encoder.layer.5.output.LayerNorm.weight', 'encoder.layer.5.output.dense.bias', 'encoder.layer.5.output.dense.weight', 'encoder.layer.6.intermediate.dense.bias', 'encoder.layer.6.intermediate.dense.weight', 'encoder.layer.6.output.LayerNorm.bias', 'encoder.layer.6.output.LayerNorm.weight', 'encoder.layer.6.output.dense.bias', 'encoder.layer.6.output.dense.weight', 'encoder.layer.7.intermediate.dense.bias', 'encoder.layer.7.intermediate.dense.weight', 'encoder.layer.7.output.LayerNorm.bias', 'encoder.layer.7.output.LayerNorm.weight', 'encoder.layer.7.output.dense.bias', 'encoder.layer.7.output.dense.weight', 'encoder.layer.8.intermediate.dense.bias', 'encoder.layer.8.intermediate.dense.weight', 'encoder.layer.8.output.LayerNorm.bias', 'encoder.layer.8.output.LayerNorm.weight', 'encoder.layer.8.output.dense.bias', 'encoder.layer.8.output.dense.weight', 'encoder.layer.9.intermediate.dense.bias', 'encoder.layer.9.intermediate.dense.weight', 'encoder.layer.9.output.LayerNorm.bias', 'encoder.layer.9.output.LayerNorm.weight', 'encoder.layer.9.output.dense.bias', 'encoder.layer.9.output.dense.weight']\n",
            "You should probably TRAIN this model on a down-stream task to be able to use it for predictions and inference.\n"
          ]
        }
      ]
    },
    {
      "cell_type": "code",
      "source": [
        "tokenizer = AutoTokenizer.from_pretrained(MODEL_NAME, trust_remote_code=True)\n",
        "vocab_dict = tokenizer.get_vocab()\n",
        "input_ids = torch.tensor([np.arange(len(vocab_dict))])\n",
        "words = list(vocab_dict.keys())"
      ],
      "metadata": {
        "id": "7wdhfNQW6vF4"
      },
      "execution_count": 14,
      "outputs": []
    },
    {
      "cell_type": "code",
      "source": [
        "words_interested = {\n",
        "    \"food\": [\"tomato\", \"potato\", \"bread\", \"apple\", \"banana\"],\n",
        "    \"animals\": [\"dog\", \"cat\", \"fish\", \"bird\", \"cow\"],\n",
        "    \"colors\": [\"red\", \"blue\", \"green\", \"black\", \"white\"],\n",
        "    \"emotions\": [\"happy\", \"sad\", \"angry\", \"calm\", \"proud\"],\n",
        "    \"vehicles\": [\"car\", \"bike\", \"bus\", \"train\", \"ship\"],\n",
        "    \"sports\": [\"golf\", \"tennis\", \"chess\", \"boxing\", \"swim\"],\n",
        "    \"tools\": [\"hammer\", \"drill\", \"saw\", \"nail\"],\n",
        "    \"body_parts\": [\"head\", \"hand\", \"leg\", \"eye\", \"ear\"],\n",
        "    \"nature\": [\"tree\", \"rock\", \"river\", \"cloud\", \"wind\"],\n",
        "    \"technology\": [\"phone\", \"laptop\", \"mouse\", \"code\", \"robot\"]\n",
        "}"
      ],
      "metadata": {
        "id": "oXO2LYPjaeIt"
      },
      "execution_count": 19,
      "outputs": []
    },
    {
      "cell_type": "code",
      "source": [
        "embeddings = {}\n",
        "\n",
        "for category, queries in words_interested.items():\n",
        "  embeddings[category] = model.encode(queries, normalize_embeddings = True)"
      ],
      "metadata": {
        "colab": {
          "base_uri": "https://localhost:8080/"
        },
        "id": "BKY-AGeybySE",
        "outputId": "30b28949-e2c5-4173-c4e8-1905fdbdf3b5"
      },
      "execution_count": 21,
      "outputs": [
        {
          "output_type": "stream",
          "name": "stderr",
          "text": [
            "BertSdpaSelfAttention is used but `torch.nn.functional.scaled_dot_product_attention` does not support non-absolute `position_embedding_type` or `output_attentions=True` or `head_mask`. Falling back to the manual attention implementation, but specifying the manual implementation will be required from Transformers version v5.0.0 onwards. This warning can be removed using the argument `attn_implementation=\"eager\"` when loading the model.\n"
          ]
        }
      ]
    },
    {
      "cell_type": "markdown",
      "source": [
        "1. PCA\n",
        "\n",
        "- PCA is a dimensionality reduction technique that uses a data and then finds its eigenvalues and eigenvectors.\n",
        "- Eigenvectors corresponding to top K of these eigenvalues are selected, forming a new lower-dimensional space.\n",
        "- The original data is then projected onto these top K eigenvectors to obtain a reduced-dimensional representation."
      ],
      "metadata": {
        "id": "HSYGmxyEdwC8"
      }
    },
    {
      "cell_type": "code",
      "source": [
        "X = np.vstack(list(embeddings.values()))\n",
        "\n",
        "pca = PCA(n_components = 2, svd_solver = 'full')\n",
        "pca.fit(X)\n",
        "projected_embeddings = {}\n",
        "\n",
        "for category, embedding in embeddings.items():\n",
        "  projected_embeddings[category] = pca.transform(embedding)"
      ],
      "metadata": {
        "id": "p5ZNL_rpdvZA"
      },
      "execution_count": 22,
      "outputs": []
    },
    {
      "cell_type": "code",
      "source": [
        "fig = plt.figure(figsize = (8, 8))\n",
        "markers = ['.', ',', 'o', 'v', '^', '<', '>', 's', '*', 'x', 'D', 'd', 'p', 'h', 'H', '+', '|', '_']\n",
        "for i, (category, projected_embedding) in enumerate(projected_embeddings.items()):\n",
        "  plt.scatter(projected_embedding[:, 0], projected_embedding[:, 1], label = category, marker = markers[i], color = \"black\")\n",
        "plt.legend(loc = 'best')\n",
        "plt.title(\"PCA on projected embeddings for different categories\")"
      ],
      "metadata": {
        "colab": {
          "base_uri": "https://localhost:8080/",
          "height": 716
        },
        "id": "LPuDXYy4f0tB",
        "outputId": "c3efee39-ac48-4c7f-e3b2-6076146a338f"
      },
      "execution_count": 23,
      "outputs": [
        {
          "output_type": "execute_result",
          "data": {
            "text/plain": [
              "Text(0.5, 1.0, 'PCA on projected embeddings for different categories')"
            ]
          },
          "metadata": {},
          "execution_count": 23
        },
        {
          "output_type": "display_data",
          "data": {
            "text/plain": [
              "<Figure size 800x800 with 1 Axes>"
            ],
            "image/png": "[encoded data removed]"
          },
          "metadata": {}
        }
      ]
    },
    {
      "cell_type": "markdown",
      "source": [
        "- As can be seen, there is no distinct categorization with PCA for different categories"
      ],
      "metadata": {
        "id": "Ei11C5pihYSR"
      }
    },
    {
      "cell_type": "markdown",
      "source": [
        "2. UMAP\n",
        "\n"
      ],
      "metadata": {
        "id": "1KUSwSLBhkqv"
      }
    },
    {
      "cell_type": "code",
      "source": [
        "reducer = umap.UMAP(n_neighbors=15, n_components=2, random_state=42)\n",
        "reducer.fit(X)\n",
        "umap_projections = {}\n",
        "for category, embedding in embeddings.items():\n",
        "  umap_projections[category] = reducer.transform(embedding)"
      ],
      "metadata": {
        "colab": {
          "base_uri": "https://localhost:8080/"
        },
        "id": "70vE--D_hXj0",
        "outputId": "4a59d918-391c-4bc0-fc08-b52d0a0ee7ab"
      },
      "execution_count": 24,
      "outputs": [
        {
          "output_type": "stream",
          "name": "stderr",
          "text": [
            "/usr/local/lib/python3.11/dist-packages/sklearn/utils/deprecation.py:151: FutureWarning: 'force_all_finite' was renamed to 'ensure_all_finite' in 1.6 and will be removed in 1.8.\n",
            "  warnings.warn(\n",
            "/usr/local/lib/python3.11/dist-packages/umap/umap_.py:1952: UserWarning: n_jobs value 1 overridden to 1 by setting random_state. Use no seed for parallelism.\n",
            "  warn(\n",
            "/usr/local/lib/python3.11/dist-packages/sklearn/utils/deprecation.py:151: FutureWarning: 'force_all_finite' was renamed to 'ensure_all_finite' in 1.6 and will be removed in 1.8.\n",
            "  warnings.warn(\n",
            "/usr/local/lib/python3.11/dist-packages/sklearn/utils/deprecation.py:151: FutureWarning: 'force_all_finite' was renamed to 'ensure_all_finite' in 1.6 and will be removed in 1.8.\n",
            "  warnings.warn(\n",
            "/usr/local/lib/python3.11/dist-packages/sklearn/utils/deprecation.py:151: FutureWarning: 'force_all_finite' was renamed to 'ensure_all_finite' in 1.6 and will be removed in 1.8.\n",
            "  warnings.warn(\n",
            "/usr/local/lib/python3.11/dist-packages/sklearn/utils/deprecation.py:151: FutureWarning: 'force_all_finite' was renamed to 'ensure_all_finite' in 1.6 and will be removed in 1.8.\n",
            "  warnings.warn(\n",
            "/usr/local/lib/python3.11/dist-packages/sklearn/utils/deprecation.py:151: FutureWarning: 'force_all_finite' was renamed to 'ensure_all_finite' in 1.6 and will be removed in 1.8.\n",
            "  warnings.warn(\n",
            "/usr/local/lib/python3.11/dist-packages/sklearn/utils/deprecation.py:151: FutureWarning: 'force_all_finite' was renamed to 'ensure_all_finite' in 1.6 and will be removed in 1.8.\n",
            "  warnings.warn(\n",
            "/usr/local/lib/python3.11/dist-packages/sklearn/utils/deprecation.py:151: FutureWarning: 'force_all_finite' was renamed to 'ensure_all_finite' in 1.6 and will be removed in 1.8.\n",
            "  warnings.warn(\n",
            "/usr/local/lib/python3.11/dist-packages/sklearn/utils/deprecation.py:151: FutureWarning: 'force_all_finite' was renamed to 'ensure_all_finite' in 1.6 and will be removed in 1.8.\n",
            "  warnings.warn(\n",
            "/usr/local/lib/python3.11/dist-packages/sklearn/utils/deprecation.py:151: FutureWarning: 'force_all_finite' was renamed to 'ensure_all_finite' in 1.6 and will be removed in 1.8.\n",
            "  warnings.warn(\n",
            "/usr/local/lib/python3.11/dist-packages/sklearn/utils/deprecation.py:151: FutureWarning: 'force_all_finite' was renamed to 'ensure_all_finite' in 1.6 and will be removed in 1.8.\n",
            "  warnings.warn(\n"
          ]
        }
      ]
    },
    {
      "cell_type": "code",
      "source": [
        "fig = plt.figure(figsize = (8, 8))\n",
        "markers = ['.', ',', 'o', 'v', '^', '<', '>', 's', '*', 'x', 'D', 'd', 'p', 'h', 'H', '+', '|', '_']\n",
        "for i, (category, projected_embedding) in enumerate(umap_projections.items()):\n",
        "  plt.scatter(projected_embedding[:, 0], projected_embedding[:, 1], label = category, marker = markers[i], color = \"black\")\n",
        "plt.legend(loc = 'best')\n",
        "plt.title(\"UMAP on projected embeddings for different categories\")"
      ],
      "metadata": {
        "colab": {
          "base_uri": "https://localhost:8080/",
          "height": 716
        },
        "id": "Z5AGNXMUhTuB",
        "outputId": "7e1d733e-affb-4a83-da06-5245a41fc067"
      },
      "execution_count": 25,
      "outputs": [
        {
          "output_type": "execute_result",
          "data": {
            "text/plain": [
              "Text(0.5, 1.0, 'UMAP on projected embeddings for different categories')"
            ]
          },
          "metadata": {},
          "execution_count": 25
        },
        {
          "output_type": "display_data",
          "data": {
            "text/plain": [
              "<Figure size 800x800 with 1 Axes>"
            ],
            "image/png": "[encoded data removed]"
          },
          "metadata": {}
        }
      ]
    },
    {
      "cell_type": "markdown",
      "source": [
        "- Slightly more structured projections can be seen above.\n",
        "- Technology vectors are close to each other, and so are some body_parts."
      ],
      "metadata": {
        "id": "Wf4DOjdwkOzK"
      }
    },
    {
      "cell_type": "markdown",
      "source": [
        "3. t-SNE\n",
        "\n"
      ],
      "metadata": {
        "id": "bWANoLxGklqR"
      }
    },
    {
      "cell_type": "code",
      "source": [
        "tsne = TSNE(n_components=2, perplexity=30, random_state=42)\n",
        "\n",
        "X_projected = tsne.fit_transform(X)\n",
        "i = 0\n",
        "tsne_projections = {}\n",
        "\n",
        "for category, word_list in words_interested.items():\n",
        "  n = len(word_list)\n",
        "  tsne_projections[category] = X_projected[i:i+n]\n",
        "  i += n"
      ],
      "metadata": {
        "id": "krUJnlKFklGo"
      },
      "execution_count": 26,
      "outputs": []
    },
    {
      "cell_type": "code",
      "source": [
        "fig = plt.figure(figsize = (8, 8))\n",
        "markers = ['.', ',', 'o', 'v', '^', '<', '>', 's', '*', 'x', 'D', 'd', 'p', 'h', 'H', '+', '|', '_']\n",
        "for i, (category, projected_embedding) in enumerate(tsne_projections.items()):\n",
        "  plt.scatter(projected_embedding[:, 0], projected_embedding[:, 1], label = category, marker = markers[i], color = \"black\")\n",
        "plt.legend(loc = 'best')\n",
        "plt.title(\"t-SNE on projected embeddings for different categories\")"
      ],
      "metadata": {
        "colab": {
          "base_uri": "https://localhost:8080/",
          "height": 716
        },
        "id": "XO-9p30wkMHX",
        "outputId": "5cdd13c2-4dee-44d8-d211-790de64a4883"
      },
      "execution_count": 27,
      "outputs": [
        {
          "output_type": "execute_result",
          "data": {
            "text/plain": [
              "Text(0.5, 1.0, 't-SNE on projected embeddings for different categories')"
            ]
          },
          "metadata": {},
          "execution_count": 27
        },
        {
          "output_type": "display_data",
          "data": {
            "text/plain": [
              "<Figure size 800x800 with 1 Axes>"
            ],
            "image/png": "[encoded data removed]"
          },
          "metadata": {}
        }
      ]
    },
    {
      "cell_type": "markdown",
      "source": [
        "- No clear pattern can be drawn from the t-SNE graph.\n",
        "- A group can be seen around technology on the right hand side of the graph."
      ],
      "metadata": {
        "id": "pVMA7zj0mblB"
      }
    },
    {
      "cell_type": "markdown",
      "source": [
        "# AI Usage\n",
        "\n",
        "- None of the code in this repository was written using AI.\n",
        "- AI was used in helping understand some of the concepts, like saliency scores,U-MAP, and t-SNE, in more depth."
      ],
      "metadata": {
        "id": "9EI7hEpwpWNX"
      }
    }
  ],
  "metadata": {
    "language_info": {
      "name": "python"
    },
    "colab": {
      "provenance": []
    },
    "kernelspec": {
      "name": "python3",
      "display_name": "Python 3"
    }
  },
  "nbformat": 4,
  "nbformat_minor": 0
}