{
  "cells": [
    {
      "cell_type": "markdown",
      "metadata": {
        "id": "8KQJyA3Q1Lvl"
      },
      "source": [
        "# AIPI 590 - XAI | Assignment #04\n",
        "### PDP, ICE And ALE plots\n",
        "### Shaunak Badani\n",
        "\n",
        "\n",
        "[![Open In Collab](https://colab.research.google.com/assets/colab-badge.svg)](https://colab.research.google.com/github/AIPI-590-XAI/Duke-AI-XAI/blob/dev/templates/template.ipynb)\n",
        "\n",
        "> In this notebook we outline the Partial Dependence plots (PDP), Individual Conditional Explanation (ICE) plots and the Accumulated Local Effects plot."
      ]
    },
    {
      "cell_type": "markdown",
      "metadata": {
        "id": "2EUr7Be81Lvn"
      },
      "source": [
        "👉 Make sure to delete the helper markdown below in your own notebook!\n",
        "\n",
        "## DO:\n",
        "* Use markdown and comments effectively\n",
        "* Pull out classes and functions into scripts\n",
        "* Ensure cells are executed in order and avoid skipping cells to maintain reproducibility\n",
        "* Choose the appropriate runtime (i.e. GPU) if needed\n",
        "* If you are using a dataset that is too large to put in your GitHub repository, you must either pull it in via Hugging Face Datasets or put it in an S3 bucket and use boto3 to pull from there.\n",
        "* Use versioning on all installs (ie pandas==1.3.0) to ensure consistency across versions\n",
        "* Implement error handling where appropriate\n",
        "\n",
        "## DON'T:\n",
        "* Absolutely NO sending us Google Drive links or zip files with data (see above).\n",
        "* Load packages throughout the notebook. Please load all packages in the first code cell in your notebook.\n",
        "* Add API keys or tokens directly to your notebook!!!! EVER!!!\n",
        "* Include cells that you used for testing or debugging. Delete these before submission\n",
        "* Have errors rendered in your notebook. Fix errors prior to submission."
      ]
    },
    {
      "cell_type": "code",
      "source": [
        "## Imports\n",
        "from sklearn.datasets import fetch_species_distributions\n",
        "from sklearn.ensemble import GradientBoostingClassifier\n",
        "from sklearn.inspection import PartialDependenceDisplay\n",
        "import matplotlib.pyplot as plt\n",
        "import numpy as np\n",
        "import pandas as pd"
      ],
      "metadata": {
        "id": "xz-7WCIB2Tfa"
      },
      "execution_count": 37,
      "outputs": []
    },
    {
      "cell_type": "markdown",
      "source": [
        "# Exploratory Data Analysis"
      ],
      "metadata": {
        "id": "r4MYqBMb2J6r"
      }
    },
    {
      "cell_type": "code",
      "source": [
        "species = fetch_species_distributions()"
      ],
      "metadata": {
        "id": "4U90EOAg2IN7"
      },
      "execution_count": 15,
      "outputs": []
    },
    {
      "cell_type": "code",
      "source": [
        "\n",
        "species['train']['species'].size"
      ],
      "metadata": {
        "id": "dB8wm-8s3sg4",
        "outputId": "844ec155-d0f0-4dab-83de-1821923c9ebb",
        "colab": {
          "base_uri": "https://localhost:8080/"
        }
      },
      "execution_count": 19,
      "outputs": [
        {
          "output_type": "execute_result",
          "data": {
            "text/plain": [
              "1624"
            ]
          },
          "metadata": {},
          "execution_count": 19
        }
      ]
    },
    {
      "cell_type": "code",
      "source": [
        "species['train']['dd lat'].size\n",
        "species['train']['dd long'].size"
      ],
      "metadata": {
        "id": "QfuDEvwy3yhI",
        "outputId": "90f5cc1a-1397-4ae4-dfe4-6d9e04fa9089",
        "colab": {
          "base_uri": "https://localhost:8080/"
        }
      },
      "execution_count": 22,
      "outputs": [
        {
          "output_type": "execute_result",
          "data": {
            "text/plain": [
              "1624"
            ]
          },
          "metadata": {},
          "execution_count": 22
        }
      ]
    },
    {
      "cell_type": "code",
      "source": [
        "dd_lat = species['train']['dd lat']\n",
        "dd_long = species['train']['dd long']\n",
        "labels = species['train']['species']"
      ],
      "metadata": {
        "id": "G6EnCaMl4C5i"
      },
      "execution_count": 23,
      "outputs": []
    },
    {
      "cell_type": "code",
      "source": [],
      "metadata": {
        "id": "0BxbK6Nh4S0U"
      },
      "execution_count": 38,
      "outputs": []
    },
    {
      "cell_type": "code",
      "source": [
        "def simplify_species(specie):\n",
        "  if \"bradypus_variegatus\" in specie:\n",
        "    return \"bradypus_variegatus\"\n",
        "  return \"microryzomys_minutus\""
      ],
      "metadata": {
        "id": "Lzpyqi6f6yHP"
      },
      "execution_count": 91,
      "outputs": []
    },
    {
      "cell_type": "code",
      "source": [
        "np.apply_along_axis(simplify_species, 0, np.char.decode(labels))\n",
        "\n",
        "species_unique = []\n",
        "for specie in np.char.decode(labels):\n",
        "  species_unique.append(simplify_species(specie))\n",
        "species_unique = np.array(species_unique)"
      ],
      "metadata": {
        "id": "w11zfIFB9A4W"
      },
      "execution_count": 92,
      "outputs": []
    },
    {
      "cell_type": "code",
      "source": [
        "unique_labels = np.unique(species_unique)\n",
        "idxs = {}\n",
        "\n",
        "for i, ul in enumerate(unique_labels):\n",
        "  idxs[ul] = i"
      ],
      "metadata": {
        "id": "JULqzh7v-vMc",
        "outputId": "ae4d8260-9a0e-45db-ee34-b1db90da6ef0",
        "colab": {
          "base_uri": "https://localhost:8080/"
        }
      },
      "execution_count": 103,
      "outputs": [
        {
          "output_type": "stream",
          "name": "stdout",
          "text": [
            "bradypus_variegatus\n",
            "microryzomys_minutus\n"
          ]
        }
      ]
    },
    {
      "cell_type": "code",
      "source": [
        "for ul in unique_labels:\n",
        "  indices = (species_unique == ul)\n",
        "  plt.scatter(dd_lat[indices], dd_long[indices], label = ul)\n",
        "plt.legend()\n",
        "\n",
        "plt.xlabel('Latitude (in degrees)')\n",
        "plt.ylabel('Longitude (in degrees)')\n"
      ],
      "metadata": {
        "id": "HyuxWhH4_QXb",
        "outputId": "b3393c29-ff77-4df0-e9a6-c39379cea23d",
        "colab": {
          "base_uri": "https://localhost:8080/",
          "height": 466
        }
      },
      "execution_count": 105,
      "outputs": [
        {
          "output_type": "execute_result",
          "data": {
            "text/plain": [
              "Text(0, 0.5, 'Longitude (in degrees)')"
            ]
          },
          "metadata": {},
          "execution_count": 105
        },
        {
          "output_type": "display_data",
          "data": {
            "text/plain": [
              "<Figure size 640x480 with 1 Axes>"
            ],
            "image/png": "[encoded data removed]"
          },
          "metadata": {}
        }
      ]
    },
    {
      "cell_type": "code",
      "source": [
        "X = pd.DataFrame({'dd_lat': dd_lat, 'dd_long': dd_long, 'species': species_unique})"
      ],
      "metadata": {
        "id": "0IV64Ftg_0Ib"
      },
      "execution_count": 107,
      "outputs": []
    },
    {
      "cell_type": "markdown",
      "source": [
        "# Partial Dependence Plots"
      ],
      "metadata": {
        "id": "vpqOXbnO2OnE"
      }
    },
    {
      "cell_type": "code",
      "source": [],
      "metadata": {
        "id": "CgL6o3J12RZo"
      },
      "execution_count": null,
      "outputs": []
    },
    {
      "cell_type": "code",
      "execution_count": null,
      "metadata": {
        "id": "PSigy-fT1Lvo"
      },
      "outputs": [],
      "source": []
    },
    {
      "cell_type": "markdown",
      "source": [
        "## AI Usage\n",
        "\n",
        "- No AI was used for the code that was written in the notebook. All code has been referred from blog posts or github repositories."
      ],
      "metadata": {
        "id": "j5MzEhKv1OHh"
      }
    }
  ],
  "metadata": {
    "language_info": {
      "name": "python"
    },
    "colab": {
      "provenance": []
    },
    "kernelspec": {
      "name": "python3",
      "display_name": "Python 3"
    }
  },
  "nbformat": 4,
  "nbformat_minor": 0
}